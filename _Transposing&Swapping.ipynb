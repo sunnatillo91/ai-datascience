{
  "nbformat": 4,
  "nbformat_minor": 0,
  "metadata": {
    "colab": {
      "provenance": [],
      "authorship_tag": "ABX9TyN4FC+S1926BEPl2w7jqo1o",
      "include_colab_link": true
    },
    "kernelspec": {
      "name": "python3",
      "display_name": "Python 3"
    },
    "language_info": {
      "name": "python"
    }
  },
  "cells": [
    {
      "cell_type": "markdown",
      "metadata": {
        "id": "view-in-github",
        "colab_type": "text"
      },
      "source": [
        "<a href=\"https://colab.research.google.com/github/sunnatillo91/ai-datascience/blob/main/_Transposing%26Swapping.ipynb\" target=\"_parent\"><img src=\"https://colab.research.google.com/assets/colab-badge.svg\" alt=\"Open In Colab\"/></a>"
      ]
    },
    {
      "cell_type": "markdown",
      "source": [
        "Data Science va Sun'iy Intellekt Praktikum\n",
        "Ma'lumotlar tahlili.\n",
        "2.1. NumPy kutubxonasi bilan ishlash\n",
        "NumPy kutubxonasini chaqirib olish"
      ],
      "metadata": {
        "id": "oWK6BGkSGLAy"
      }
    },
    {
      "cell_type": "code",
      "execution_count": 1,
      "metadata": {
        "id": "jiyVKCs3DZd1"
      },
      "outputs": [],
      "source": [
        "import numpy as np"
      ]
    },
    {
      "cell_type": "markdown",
      "source": [
        "2.1.1. N-o'lchamli massiv (array)larga ishlov berish\n",
        "Massivlar pozitsiyasini ko'chirish Transpose va o'qlar o'rnini almashtirish Swapping axes"
      ],
      "metadata": {
        "id": "-Q75GNNiGc3I"
      }
    },
    {
      "cell_type": "markdown",
      "source": [
        "reshape metodi"
      ],
      "metadata": {
        "id": "wfau7QxMGhz7"
      }
    },
    {
      "cell_type": "code",
      "source": [
        "A = np.arange(6).reshape(3,2)  # A massiv : Elementlari 0~6 gacha , shape (3, 2)\n",
        "A"
      ],
      "metadata": {
        "colab": {
          "base_uri": "https://localhost:8080/"
        },
        "id": "tG6tKeEXGOM7",
        "outputId": "0f03c146-2cc1-48e1-e1bb-b61b4b966603"
      },
      "execution_count": 5,
      "outputs": [
        {
          "output_type": "execute_result",
          "data": {
            "text/plain": [
              "array([[0, 1],\n",
              "       [2, 3],\n",
              "       [4, 5]])"
            ]
          },
          "metadata": {},
          "execution_count": 5
        }
      ]
    },
    {
      "cell_type": "code",
      "source": [
        "A.T   # A massivning Trasnpose ko'rinishini beradi"
      ],
      "metadata": {
        "colab": {
          "base_uri": "https://localhost:8080/"
        },
        "id": "ojtvYGmgGrp9",
        "outputId": "81514b8d-667f-4eec-c258-853a0b1c9213"
      },
      "execution_count": 6,
      "outputs": [
        {
          "output_type": "execute_result",
          "data": {
            "text/plain": [
              "array([[0, 2, 4],\n",
              "       [1, 3, 5]])"
            ]
          },
          "metadata": {},
          "execution_count": 6
        }
      ]
    },
    {
      "cell_type": "markdown",
      "source": [
        "# `swaping axes`"
      ],
      "metadata": {
        "id": "QR7I1qE1HHmh"
      }
    },
    {
      "cell_type": "code",
      "source": [
        "A"
      ],
      "metadata": {
        "colab": {
          "base_uri": "https://localhost:8080/"
        },
        "id": "77tWm6jvG_4k",
        "outputId": "80645d28-868b-48d5-8b78-53640d7c969b"
      },
      "execution_count": 7,
      "outputs": [
        {
          "output_type": "execute_result",
          "data": {
            "text/plain": [
              "array([[0, 1],\n",
              "       [2, 3],\n",
              "       [4, 5]])"
            ]
          },
          "metadata": {},
          "execution_count": 7
        }
      ]
    },
    {
      "cell_type": "code",
      "source": [
        "A.swapaxes(1, 0) #A massivining Transpose ko'rinishini beradi"
      ],
      "metadata": {
        "colab": {
          "base_uri": "https://localhost:8080/"
        },
        "id": "80sjxalzSEiq",
        "outputId": "65214f35-0e42-4abc-9751-7a7b9c3948ab"
      },
      "execution_count": 8,
      "outputs": [
        {
          "output_type": "execute_result",
          "data": {
            "text/plain": [
              "array([[0, 2, 4],\n",
              "       [1, 3, 5]])"
            ]
          },
          "metadata": {},
          "execution_count": 8
        }
      ]
    },
    {
      "cell_type": "markdown",
      "source": [
        "# Transpose ning ishlatilishiga misol"
      ],
      "metadata": {
        "id": "FMJkw4_4Sauh"
      }
    },
    {
      "cell_type": "code",
      "source": [
        "A"
      ],
      "metadata": {
        "colab": {
          "base_uri": "https://localhost:8080/"
        },
        "id": "wl1utAImSRe5",
        "outputId": "25209f8d-47d2-43ab-a8b9-aa69f3d5d375"
      },
      "execution_count": 10,
      "outputs": [
        {
          "output_type": "execute_result",
          "data": {
            "text/plain": [
              "array([[0, 1],\n",
              "       [2, 3],\n",
              "       [4, 5]])"
            ]
          },
          "metadata": {},
          "execution_count": 10
        }
      ]
    },
    {
      "cell_type": "code",
      "source": [
        "np.dot(A, A.T)  # AA^T  bir turdagi massivni ikkinchi turdagi massivga ko'paytirish"
      ],
      "metadata": {
        "colab": {
          "base_uri": "https://localhost:8080/"
        },
        "id": "qwyFnoSiShe0",
        "outputId": "17da461f-daf3-4d2f-98f1-e66de9996f91"
      },
      "execution_count": 11,
      "outputs": [
        {
          "output_type": "execute_result",
          "data": {
            "text/plain": [
              "array([[ 1,  3,  5],\n",
              "       [ 3, 13, 23],\n",
              "       [ 5, 23, 41]])"
            ]
          },
          "metadata": {},
          "execution_count": 11
        }
      ]
    },
    {
      "cell_type": "code",
      "source": [],
      "metadata": {
        "id": "YUfGVWluTK--"
      },
      "execution_count": null,
      "outputs": []
    }
  ]
}