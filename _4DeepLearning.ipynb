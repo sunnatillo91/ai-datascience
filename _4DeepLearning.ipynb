{
  "nbformat": 4,
  "nbformat_minor": 0,
  "metadata": {
    "colab": {
      "provenance": [],
      "gpuType": "T4",
      "include_colab_link": true
    },
    "kernelspec": {
      "name": "python3",
      "display_name": "Python 3"
    },
    "language_info": {
      "name": "python"
    }
  },
  "cells": [
    {
      "cell_type": "markdown",
      "metadata": {
        "id": "view-in-github",
        "colab_type": "text"
      },
      "source": [
        "<a href=\"https://colab.research.google.com/github/sunnatillo91/ai-datascience/blob/main/_4DeepLearning.ipynb\" target=\"_parent\"><img src=\"https://colab.research.google.com/assets/colab-badge.svg\" alt=\"Open In Colab\"/></a>"
      ]
    },
    {
      "cell_type": "markdown",
      "source": [
        "\n",
        "# Data Science va Sun'iy Intellekt Praktikum\n",
        "\n",
        "## 6-MODUL. Deep Learning\n",
        "\n",
        "## lV-qism\n",
        "\n",
        "### Deep Learning negizida nima turibdi"
      ],
      "metadata": {
        "id": "CKmkvVVnyCNW"
      }
    },
    {
      "cell_type": "markdown",
      "source": [
        "##Kutubxonalarni o'rnatib olamiz\n",
        "### Bizga kerak bo'ladi\n",
        "- `fastai==2.7.15` versiyasi\n",
        "- `torch==2.3.0+cu121` versiyasi"
      ],
      "metadata": {
        "id": "5mBsWSTlud6p"
      }
    },
    {
      "cell_type": "code",
      "execution_count": 1,
      "metadata": {
        "id": "CT8vFRTyezi2",
        "colab": {
          "base_uri": "https://localhost:8080/"
        },
        "outputId": "9447bdc1-a93b-499e-b4e9-eb7f857e5438"
      },
      "outputs": [
        {
          "output_type": "stream",
          "name": "stdout",
          "text": [
            "2.3.0+cu121\n",
            "2.7.15\n"
          ]
        }
      ],
      "source": [
        "# Kutubxonalarni yuklab olish\n",
        "import torch\n",
        "import fastai\n",
        "# !pip install fastai==2.7.15  kerakli versiyani o'rnatish yangi versiya o'rnatgandan keyin restart runtime qilish kerak bo'ladi\n",
        "\n",
        "# versiyalarni tekshirish\n",
        "print(torch.__version__)\n",
        "print(fastai.__version__)"
      ]
    },
    {
      "cell_type": "markdown",
      "source": [
        "## `3` yoki `7`"
      ],
      "metadata": {
        "id": "f5dVucNFgxch"
      }
    },
    {
      "cell_type": "markdown",
      "source": [
        "### MNIST datasetidagi 3 va 7 sonlarini ajratib olingan datasetni yuklab olamiz"
      ],
      "metadata": {
        "id": "xhm-CVpehrQc"
      }
    },
    {
      "cell_type": "code",
      "source": [
        "from fastai.vision.all import *\n",
        "\n",
        "# path\n",
        "path = untar_data(URLs.MNIST_SAMPLE)\n",
        "\n",
        "# path.ls()\n",
        "\n",
        "threes = (path/'train'/'3').ls().sorted()\n",
        "sevens = (path/'train'/'7').ls().sorted()"
      ],
      "metadata": {
        "id": "ZO_WJBWUe8zO",
        "colab": {
          "base_uri": "https://localhost:8080/",
          "height": 37
        },
        "outputId": "93e90564-5ce5-47fa-bad4-1ac83ba481c6"
      },
      "execution_count": 2,
      "outputs": [
        {
          "output_type": "display_data",
          "data": {
            "text/plain": [
              "<IPython.core.display.HTML object>"
            ],
            "text/html": [
              "\n",
              "<style>\n",
              "    /* Turns off some styling */\n",
              "    progress {\n",
              "        /* gets rid of default border in Firefox and Opera. */\n",
              "        border: none;\n",
              "        /* Needs to be in here for Safari polyfill so background images work as expected. */\n",
              "        background-size: auto;\n",
              "    }\n",
              "    progress:not([value]), progress:not([value])::-webkit-progress-bar {\n",
              "        background: repeating-linear-gradient(45deg, #7e7e7e, #7e7e7e 10px, #5c5c5c 10px, #5c5c5c 20px);\n",
              "    }\n",
              "    .progress-bar-interrupted, .progress-bar-interrupted::-webkit-progress-bar {\n",
              "        background: #F44336;\n",
              "    }\n",
              "</style>\n"
            ]
          },
          "metadata": {}
        },
        {
          "output_type": "display_data",
          "data": {
            "text/plain": [
              "<IPython.core.display.HTML object>"
            ],
            "text/html": [
              "\n",
              "    <div>\n",
              "      <progress value='3219456' class='' max='3214948' style='width:300px; height:20px; vertical-align: middle;'></progress>\n",
              "      100.14% [3219456/3214948 00:01&lt;00:00]\n",
              "    </div>\n",
              "    "
            ]
          },
          "metadata": {}
        }
      ]
    },
    {
      "cell_type": "code",
      "source": [
        "im3_sample = threes[8]\n",
        "im3 = Image.open(im3_sample)\n",
        "im3"
      ],
      "metadata": {
        "colab": {
          "base_uri": "https://localhost:8080/",
          "height": 45
        },
        "id": "lKcQD2NyibSi",
        "outputId": "eed3c3db-a103-47a0-e229-8e7027f3c209"
      },
      "execution_count": 3,
      "outputs": [
        {
          "output_type": "execute_result",
          "data": {
            "text/plain": [
              "<PIL.PngImagePlugin.PngImageFile image mode=L size=28x28>"
            ],
            "image/png": "[encoded data removed]"
          },
          "metadata": {},
          "execution_count": 3
        }
      ]
    },
    {
      "cell_type": "code",
      "source": [
        "im7_sample = sevens[8]\n",
        "im7 = Image.open(im7_sample)\n",
        "im7"
      ],
      "metadata": {
        "id": "SH1zM6KFjVcc",
        "colab": {
          "base_uri": "https://localhost:8080/",
          "height": 45
        },
        "outputId": "acba43f5-4d71-44a6-d6ad-83d3cbd3f504"
      },
      "execution_count": 4,
      "outputs": [
        {
          "output_type": "execute_result",
          "data": {
            "text/plain": [
              "<PIL.PngImagePlugin.PngImageFile image mode=L size=28x28>"
            ],
            "image/png": "[encoded data removed]"
          },
          "metadata": {},
          "execution_count": 4
        }
      ]
    },
    {
      "cell_type": "code",
      "source": [
        "array(im3)[4:10, 4:10]  # kompyuter vizual sonlarni piksellar yordamida raqamlar ko'rinishida taniydi"
      ],
      "metadata": {
        "colab": {
          "base_uri": "https://localhost:8080/"
        },
        "id": "nLgCJm1mzO0T",
        "outputId": "da895e19-72dc-4f62-c2a6-16a20508a9e2"
      },
      "execution_count": 5,
      "outputs": [
        {
          "output_type": "execute_result",
          "data": {
            "text/plain": [
              "array([[  0,   0,   0,   0,   0,  51],\n",
              "       [  0,   0,   0,   0,   0, 238],\n",
              "       [  0,   0,   0,   0,   0, 253],\n",
              "       [  0,   0,   0,   0,   0, 146],\n",
              "       [  0,   0,   0,   0,   0,   0],\n",
              "       [  0,   0,   0,   0,   0,   0]], dtype=uint8)"
            ]
          },
          "metadata": {},
          "execution_count": 5
        }
      ]
    },
    {
      "cell_type": "markdown",
      "source": [
        "## Torch tensorni afzalligi bundagi sonlarni hisoblashda GPU dan foydalanish mumkin. numpy arrayni esa va CPU lar yordamida hisoblash mumkin"
      ],
      "metadata": {
        "id": "0O56JfhP0lxX"
      }
    },
    {
      "cell_type": "code",
      "source": [
        "tensor(im3)[4:10, 4:10]"
      ],
      "metadata": {
        "colab": {
          "base_uri": "https://localhost:8080/"
        },
        "id": "2VAM-Rxy0ENQ",
        "outputId": "e5614bfb-fb1c-4df3-a81d-f56622285543"
      },
      "execution_count": 6,
      "outputs": [
        {
          "output_type": "execute_result",
          "data": {
            "text/plain": [
              "tensor([[  0,   0,   0,   0,   0,  51],\n",
              "        [  0,   0,   0,   0,   0, 238],\n",
              "        [  0,   0,   0,   0,   0, 253],\n",
              "        [  0,   0,   0,   0,   0, 146],\n",
              "        [  0,   0,   0,   0,   0,   0],\n",
              "        [  0,   0,   0,   0,   0,   0]], dtype=torch.uint8)"
            ]
          },
          "metadata": {},
          "execution_count": 6
        }
      ]
    },
    {
      "cell_type": "code",
      "source": [
        "import pandas as pd\n",
        "\n",
        "im3_t = tensor(im3)\n",
        "df = pd.DataFrame(im3_t[4:22, 4:22])\n",
        "df.style.set_properties(**{\"font-size\":'6pt'}).background_gradient('Greys')"
      ],
      "metadata": {
        "colab": {
          "base_uri": "https://localhost:8080/",
          "height": 613
        },
        "id": "IADPMtto0XT2",
        "outputId": "b0fbd550-096c-44d5-d0cd-162a69dc6d0f"
      },
      "execution_count": 7,
      "outputs": [
        {
          "output_type": "execute_result",
          "data": {
            "text/plain": [
              "<pandas.io.formats.style.Styler at 0x7991bc5e71f0>"
            ],
            "text/html": [
              "<style type=\"text/css\">\n",
              "#T_5c773_row0_col0, #T_5c773_row0_col1, #T_5c773_row0_col2, #T_5c773_row0_col3, #T_5c773_row0_col4, #T_5c773_row0_col15, #T_5c773_row0_col16, #T_5c773_row0_col17, #T_5c773_row1_col0, #T_5c773_row1_col1, #T_5c773_row1_col2, #T_5c773_row1_col3, #T_5c773_row1_col4, #T_5c773_row1_col17, #T_5c773_row2_col0, #T_5c773_row2_col1, #T_5c773_row2_col2, #T_5c773_row2_col3, #T_5c773_row2_col4, #T_5c773_row2_col17, #T_5c773_row3_col0, #T_5c773_row3_col1, #T_5c773_row3_col2, #T_5c773_row3_col3, #T_5c773_row3_col4, #T_5c773_row3_col7, #T_5c773_row3_col8, #T_5c773_row3_col9, #T_5c773_row3_col10, #T_5c773_row3_col11, #T_5c773_row3_col12, #T_5c773_row3_col17, #T_5c773_row4_col0, #T_5c773_row4_col1, #T_5c773_row4_col2, #T_5c773_row4_col3, #T_5c773_row4_col4, #T_5c773_row4_col5, #T_5c773_row4_col6, #T_5c773_row4_col7, #T_5c773_row4_col8, #T_5c773_row4_col9, #T_5c773_row4_col10, #T_5c773_row4_col11, #T_5c773_row4_col17, #T_5c773_row5_col0, #T_5c773_row5_col1, #T_5c773_row5_col2, #T_5c773_row5_col3, #T_5c773_row5_col4, #T_5c773_row5_col5, #T_5c773_row5_col6, #T_5c773_row5_col7, #T_5c773_row5_col8, #T_5c773_row5_col9, #T_5c773_row5_col10, #T_5c773_row5_col17, #T_5c773_row6_col0, #T_5c773_row6_col1, #T_5c773_row6_col2, #T_5c773_row6_col3, #T_5c773_row6_col4, #T_5c773_row6_col5, #T_5c773_row6_col6, #T_5c773_row6_col7, #T_5c773_row6_col8, #T_5c773_row6_col9, #T_5c773_row6_col16, #T_5c773_row6_col17, #T_5c773_row7_col0, #T_5c773_row7_col1, #T_5c773_row7_col2, #T_5c773_row7_col3, #T_5c773_row7_col4, #T_5c773_row7_col5, #T_5c773_row7_col15, #T_5c773_row7_col16, #T_5c773_row7_col17, #T_5c773_row8_col0, #T_5c773_row8_col1, #T_5c773_row8_col2, #T_5c773_row8_col3, #T_5c773_row8_col4, #T_5c773_row8_col14, #T_5c773_row8_col15, #T_5c773_row8_col16, #T_5c773_row8_col17, #T_5c773_row9_col0, #T_5c773_row9_col1, #T_5c773_row9_col2, #T_5c773_row9_col3, #T_5c773_row9_col4, #T_5c773_row9_col15, #T_5c773_row9_col17, #T_5c773_row10_col0, #T_5c773_row10_col1, #T_5c773_row10_col2, #T_5c773_row10_col3, #T_5c773_row10_col4, #T_5c773_row11_col0, #T_5c773_row11_col1, #T_5c773_row11_col2, #T_5c773_row11_col3, #T_5c773_row11_col4, #T_5c773_row11_col5, #T_5c773_row11_col9, #T_5c773_row11_col10, #T_5c773_row11_col11, #T_5c773_row12_col0, #T_5c773_row12_col1, #T_5c773_row12_col2, #T_5c773_row12_col3, #T_5c773_row12_col4, #T_5c773_row12_col5, #T_5c773_row12_col6, #T_5c773_row12_col7, #T_5c773_row12_col8, #T_5c773_row12_col9, #T_5c773_row12_col10, #T_5c773_row12_col11, #T_5c773_row12_col12, #T_5c773_row12_col13, #T_5c773_row13_col0, #T_5c773_row13_col1, #T_5c773_row13_col2, #T_5c773_row13_col3, #T_5c773_row13_col4, #T_5c773_row13_col5, #T_5c773_row13_col6, #T_5c773_row13_col7, #T_5c773_row13_col8, #T_5c773_row13_col9, #T_5c773_row13_col10, #T_5c773_row13_col11, #T_5c773_row13_col12, #T_5c773_row13_col13, #T_5c773_row13_col14, #T_5c773_row14_col0, #T_5c773_row14_col3, #T_5c773_row14_col4, #T_5c773_row14_col5, #T_5c773_row14_col6, #T_5c773_row14_col7, #T_5c773_row14_col8, #T_5c773_row14_col9, #T_5c773_row14_col10, #T_5c773_row14_col11, #T_5c773_row14_col12, #T_5c773_row14_col13, #T_5c773_row14_col14, #T_5c773_row15_col5, #T_5c773_row15_col6, #T_5c773_row15_col7, #T_5c773_row15_col8, #T_5c773_row15_col9, #T_5c773_row15_col10, #T_5c773_row15_col11, #T_5c773_row16_col8, #T_5c773_row16_col9, #T_5c773_row17_col0, #T_5c773_row17_col17 {\n",
              "  font-size: 6pt;\n",
              "  background-color: #ffffff;\n",
              "  color: #000000;\n",
              "}\n",
              "#T_5c773_row0_col5 {\n",
              "  font-size: 6pt;\n",
              "  background-color: #e2e2e2;\n",
              "  color: #000000;\n",
              "}\n",
              "#T_5c773_row0_col6 {\n",
              "  font-size: 6pt;\n",
              "  background-color: #717171;\n",
              "  color: #f1f1f1;\n",
              "}\n",
              "#T_5c773_row0_col7, #T_5c773_row0_col8, #T_5c773_row0_col9, #T_5c773_row0_col10, #T_5c773_row0_col11, #T_5c773_row0_col12, #T_5c773_row1_col6, #T_5c773_row2_col5, #T_5c773_row5_col13, #T_5c773_row5_col14, #T_5c773_row9_col5, #T_5c773_row9_col6, #T_5c773_row10_col7, #T_5c773_row10_col13, #T_5c773_row10_col14, #T_5c773_row10_col15, #T_5c773_row10_col16, #T_5c773_row12_col17, #T_5c773_row13_col17, #T_5c773_row14_col17, #T_5c773_row15_col0, #T_5c773_row15_col1, #T_5c773_row15_col2, #T_5c773_row15_col14, #T_5c773_row15_col15, #T_5c773_row15_col16, #T_5c773_row16_col3, #T_5c773_row16_col4, #T_5c773_row17_col4, #T_5c773_row17_col5, #T_5c773_row17_col6 {\n",
              "  font-size: 6pt;\n",
              "  background-color: #000000;\n",
              "  color: #f1f1f1;\n",
              "}\n",
              "#T_5c773_row0_col13 {\n",
              "  font-size: 6pt;\n",
              "  background-color: #727272;\n",
              "  color: #f1f1f1;\n",
              "}\n",
              "#T_5c773_row0_col14, #T_5c773_row15_col4 {\n",
              "  font-size: 6pt;\n",
              "  background-color: #a7a7a7;\n",
              "  color: #f1f1f1;\n",
              "}\n",
              "#T_5c773_row1_col5, #T_5c773_row15_col3 {\n",
              "  font-size: 6pt;\n",
              "  background-color: #111111;\n",
              "  color: #f1f1f1;\n",
              "}\n",
              "#T_5c773_row1_col7, #T_5c773_row1_col8, #T_5c773_row1_col9, #T_5c773_row1_col11, #T_5c773_row1_col12, #T_5c773_row1_col13, #T_5c773_row1_col14, #T_5c773_row2_col14, #T_5c773_row3_col14, #T_5c773_row4_col14, #T_5c773_row6_col12, #T_5c773_row6_col13, #T_5c773_row7_col11, #T_5c773_row7_col12, #T_5c773_row8_col7, #T_5c773_row8_col8, #T_5c773_row8_col9, #T_5c773_row8_col11, #T_5c773_row8_col12, #T_5c773_row9_col7, #T_5c773_row9_col8, #T_5c773_row9_col9, #T_5c773_row9_col11, #T_5c773_row9_col12, #T_5c773_row11_col16, #T_5c773_row14_col16, #T_5c773_row16_col2, #T_5c773_row16_col13, #T_5c773_row16_col14, #T_5c773_row17_col11, #T_5c773_row17_col12, #T_5c773_row17_col13, #T_5c773_row17_col14 {\n",
              "  font-size: 6pt;\n",
              "  background-color: #010101;\n",
              "  color: #f1f1f1;\n",
              "}\n",
              "#T_5c773_row1_col10, #T_5c773_row2_col15, #T_5c773_row3_col15, #T_5c773_row4_col15, #T_5c773_row7_col10, #T_5c773_row8_col10, #T_5c773_row9_col10, #T_5c773_row11_col15, #T_5c773_row16_col15, #T_5c773_row17_col10 {\n",
              "  font-size: 6pt;\n",
              "  background-color: #020202;\n",
              "  color: #f1f1f1;\n",
              "}\n",
              "#T_5c773_row1_col15 {\n",
              "  font-size: 6pt;\n",
              "  background-color: #6f6f6f;\n",
              "  color: #f1f1f1;\n",
              "}\n",
              "#T_5c773_row1_col16, #T_5c773_row15_col17 {\n",
              "  font-size: 6pt;\n",
              "  background-color: #8e8e8e;\n",
              "  color: #f1f1f1;\n",
              "}\n",
              "#T_5c773_row2_col6, #T_5c773_row6_col11, #T_5c773_row17_col3 {\n",
              "  font-size: 6pt;\n",
              "  background-color: #161616;\n",
              "  color: #f1f1f1;\n",
              "}\n",
              "#T_5c773_row2_col7, #T_5c773_row2_col12, #T_5c773_row17_col2 {\n",
              "  font-size: 6pt;\n",
              "  background-color: #4a4a4a;\n",
              "  color: #f1f1f1;\n",
              "}\n",
              "#T_5c773_row2_col8 {\n",
              "  font-size: 6pt;\n",
              "  background-color: #b4b4b4;\n",
              "  color: #000000;\n",
              "}\n",
              "#T_5c773_row2_col9, #T_5c773_row2_col10 {\n",
              "  font-size: 6pt;\n",
              "  background-color: #dfdfdf;\n",
              "  color: #000000;\n",
              "}\n",
              "#T_5c773_row2_col11 {\n",
              "  font-size: 6pt;\n",
              "  background-color: #b3b3b3;\n",
              "  color: #000000;\n",
              "}\n",
              "#T_5c773_row2_col13 {\n",
              "  font-size: 6pt;\n",
              "  background-color: #171717;\n",
              "  color: #f1f1f1;\n",
              "}\n",
              "#T_5c773_row2_col16, #T_5c773_row3_col16 {\n",
              "  font-size: 6pt;\n",
              "  background-color: #6a6a6a;\n",
              "  color: #f1f1f1;\n",
              "}\n",
              "#T_5c773_row3_col5, #T_5c773_row6_col10 {\n",
              "  font-size: 6pt;\n",
              "  background-color: #818181;\n",
              "  color: #f1f1f1;\n",
              "}\n",
              "#T_5c773_row3_col6 {\n",
              "  font-size: 6pt;\n",
              "  background-color: #7d7d7d;\n",
              "  color: #f1f1f1;\n",
              "}\n",
              "#T_5c773_row3_col13 {\n",
              "  font-size: 6pt;\n",
              "  background-color: #676767;\n",
              "  color: #f1f1f1;\n",
              "}\n",
              "#T_5c773_row4_col12, #T_5c773_row12_col14 {\n",
              "  font-size: 6pt;\n",
              "  background-color: #f0f0f0;\n",
              "  color: #000000;\n",
              "}\n",
              "#T_5c773_row4_col13 {\n",
              "  font-size: 6pt;\n",
              "  background-color: #2e2e2e;\n",
              "  color: #f1f1f1;\n",
              "}\n",
              "#T_5c773_row4_col16 {\n",
              "  font-size: 6pt;\n",
              "  background-color: #c2c2c2;\n",
              "  color: #000000;\n",
              "}\n",
              "#T_5c773_row5_col11 {\n",
              "  font-size: 6pt;\n",
              "  background-color: #ececec;\n",
              "  color: #000000;\n",
              "}\n",
              "#T_5c773_row5_col12 {\n",
              "  font-size: 6pt;\n",
              "  background-color: #242424;\n",
              "  color: #f1f1f1;\n",
              "}\n",
              "#T_5c773_row5_col15 {\n",
              "  font-size: 6pt;\n",
              "  background-color: #404040;\n",
              "  color: #f1f1f1;\n",
              "}\n",
              "#T_5c773_row5_col16, #T_5c773_row6_col15 {\n",
              "  font-size: 6pt;\n",
              "  background-color: #f8f8f8;\n",
              "  color: #000000;\n",
              "}\n",
              "#T_5c773_row6_col14 {\n",
              "  font-size: 6pt;\n",
              "  background-color: #3d3d3d;\n",
              "  color: #f1f1f1;\n",
              "}\n",
              "#T_5c773_row7_col6, #T_5c773_row16_col7 {\n",
              "  font-size: 6pt;\n",
              "  background-color: #f6f6f6;\n",
              "  color: #000000;\n",
              "}\n",
              "#T_5c773_row7_col7, #T_5c773_row7_col8 {\n",
              "  font-size: 6pt;\n",
              "  background-color: #dedede;\n",
              "  color: #000000;\n",
              "}\n",
              "#T_5c773_row7_col9 {\n",
              "  font-size: 6pt;\n",
              "  background-color: #8d8d8d;\n",
              "  color: #f1f1f1;\n",
              "}\n",
              "#T_5c773_row7_col13 {\n",
              "  font-size: 6pt;\n",
              "  background-color: #9e9e9e;\n",
              "  color: #f1f1f1;\n",
              "}\n",
              "#T_5c773_row7_col14, #T_5c773_row15_col12, #T_5c773_row16_col0 {\n",
              "  font-size: 6pt;\n",
              "  background-color: #f3f3f3;\n",
              "  color: #000000;\n",
              "}\n",
              "#T_5c773_row8_col5 {\n",
              "  font-size: 6pt;\n",
              "  background-color: #bfbfbf;\n",
              "  color: #000000;\n",
              "}\n",
              "#T_5c773_row8_col6, #T_5c773_row17_col8, #T_5c773_row17_col9 {\n",
              "  font-size: 6pt;\n",
              "  background-color: #474747;\n",
              "  color: #f1f1f1;\n",
              "}\n",
              "#T_5c773_row8_col13 {\n",
              "  font-size: 6pt;\n",
              "  background-color: #b8b8b8;\n",
              "  color: #000000;\n",
              "}\n",
              "#T_5c773_row9_col13 {\n",
              "  font-size: 6pt;\n",
              "  background-color: #101010;\n",
              "  color: #f1f1f1;\n",
              "}\n",
              "#T_5c773_row9_col14, #T_5c773_row10_col9, #T_5c773_row10_col10, #T_5c773_row10_col11 {\n",
              "  font-size: 6pt;\n",
              "  background-color: #878787;\n",
              "  color: #f1f1f1;\n",
              "}\n",
              "#T_5c773_row9_col16 {\n",
              "  font-size: 6pt;\n",
              "  background-color: #cccccc;\n",
              "  color: #000000;\n",
              "}\n",
              "#T_5c773_row10_col5 {\n",
              "  font-size: 6pt;\n",
              "  background-color: #dadada;\n",
              "  color: #000000;\n",
              "}\n",
              "#T_5c773_row10_col6 {\n",
              "  font-size: 6pt;\n",
              "  background-color: #0d0d0d;\n",
              "  color: #f1f1f1;\n",
              "}\n",
              "#T_5c773_row10_col8 {\n",
              "  font-size: 6pt;\n",
              "  background-color: #5e5e5e;\n",
              "  color: #f1f1f1;\n",
              "}\n",
              "#T_5c773_row10_col12 {\n",
              "  font-size: 6pt;\n",
              "  background-color: #1c1c1c;\n",
              "  color: #f1f1f1;\n",
              "}\n",
              "#T_5c773_row10_col17 {\n",
              "  font-size: 6pt;\n",
              "  background-color: #9f9f9f;\n",
              "  color: #f1f1f1;\n",
              "}\n",
              "#T_5c773_row11_col6 {\n",
              "  font-size: 6pt;\n",
              "  background-color: #f4f4f4;\n",
              "  color: #000000;\n",
              "}\n",
              "#T_5c773_row11_col7 {\n",
              "  font-size: 6pt;\n",
              "  background-color: #f2f2f2;\n",
              "  color: #000000;\n",
              "}\n",
              "#T_5c773_row11_col8 {\n",
              "  font-size: 6pt;\n",
              "  background-color: #fbfbfb;\n",
              "  color: #000000;\n",
              "}\n",
              "#T_5c773_row11_col12 {\n",
              "  font-size: 6pt;\n",
              "  background-color: #f5f5f5;\n",
              "  color: #000000;\n",
              "}\n",
              "#T_5c773_row11_col13 {\n",
              "  font-size: 6pt;\n",
              "  background-color: #9c9c9c;\n",
              "  color: #f1f1f1;\n",
              "}\n",
              "#T_5c773_row11_col14 {\n",
              "  font-size: 6pt;\n",
              "  background-color: #2f2f2f;\n",
              "  color: #f1f1f1;\n",
              "}\n",
              "#T_5c773_row11_col17 {\n",
              "  font-size: 6pt;\n",
              "  background-color: #070707;\n",
              "  color: #f1f1f1;\n",
              "}\n",
              "#T_5c773_row12_col15 {\n",
              "  font-size: 6pt;\n",
              "  background-color: #4b4b4b;\n",
              "  color: #f1f1f1;\n",
              "}\n",
              "#T_5c773_row12_col16 {\n",
              "  font-size: 6pt;\n",
              "  background-color: #080808;\n",
              "  color: #f1f1f1;\n",
              "}\n",
              "#T_5c773_row13_col15 {\n",
              "  font-size: 6pt;\n",
              "  background-color: #f9f9f9;\n",
              "  color: #000000;\n",
              "}\n",
              "#T_5c773_row13_col16 {\n",
              "  font-size: 6pt;\n",
              "  background-color: #1d1d1d;\n",
              "  color: #f1f1f1;\n",
              "}\n",
              "#T_5c773_row14_col1 {\n",
              "  font-size: 6pt;\n",
              "  background-color: #979797;\n",
              "  color: #f1f1f1;\n",
              "}\n",
              "#T_5c773_row14_col2 {\n",
              "  font-size: 6pt;\n",
              "  background-color: #aaaaaa;\n",
              "  color: #f1f1f1;\n",
              "}\n",
              "#T_5c773_row14_col15 {\n",
              "  font-size: 6pt;\n",
              "  background-color: #525252;\n",
              "  color: #f1f1f1;\n",
              "}\n",
              "#T_5c773_row15_col13 {\n",
              "  font-size: 6pt;\n",
              "  background-color: #949494;\n",
              "  color: #f1f1f1;\n",
              "}\n",
              "#T_5c773_row16_col1 {\n",
              "  font-size: 6pt;\n",
              "  background-color: #5b5b5b;\n",
              "  color: #f1f1f1;\n",
              "}\n",
              "#T_5c773_row16_col5 {\n",
              "  font-size: 6pt;\n",
              "  background-color: #6e6e6e;\n",
              "  color: #f1f1f1;\n",
              "}\n",
              "#T_5c773_row16_col6 {\n",
              "  font-size: 6pt;\n",
              "  background-color: #c5c5c5;\n",
              "  color: #000000;\n",
              "}\n",
              "#T_5c773_row16_col10 {\n",
              "  font-size: 6pt;\n",
              "  background-color: #c6c6c6;\n",
              "  color: #000000;\n",
              "}\n",
              "#T_5c773_row16_col11 {\n",
              "  font-size: 6pt;\n",
              "  background-color: #919191;\n",
              "  color: #f1f1f1;\n",
              "}\n",
              "#T_5c773_row16_col12 {\n",
              "  font-size: 6pt;\n",
              "  background-color: #1a1a1a;\n",
              "  color: #f1f1f1;\n",
              "}\n",
              "#T_5c773_row16_col16 {\n",
              "  font-size: 6pt;\n",
              "  background-color: #939393;\n",
              "  color: #f1f1f1;\n",
              "}\n",
              "#T_5c773_row16_col17, #T_5c773_row17_col16 {\n",
              "  font-size: 6pt;\n",
              "  background-color: #fcfcfc;\n",
              "  color: #000000;\n",
              "}\n",
              "#T_5c773_row17_col1 {\n",
              "  font-size: 6pt;\n",
              "  background-color: #d7d7d7;\n",
              "  color: #000000;\n",
              "}\n",
              "#T_5c773_row17_col7 {\n",
              "  font-size: 6pt;\n",
              "  background-color: #363636;\n",
              "  color: #f1f1f1;\n",
              "}\n",
              "#T_5c773_row17_col15 {\n",
              "  font-size: 6pt;\n",
              "  background-color: #909090;\n",
              "  color: #f1f1f1;\n",
              "}\n",
              "</style>\n",
              "<table id=\"T_5c773\" class=\"dataframe\">\n",
              "  <thead>\n",
              "    <tr>\n",
              "      <th class=\"blank level0\" >&nbsp;</th>\n",
              "      <th id=\"T_5c773_level0_col0\" class=\"col_heading level0 col0\" >0</th>\n",
              "      <th id=\"T_5c773_level0_col1\" class=\"col_heading level0 col1\" >1</th>\n",
              "      <th id=\"T_5c773_level0_col2\" class=\"col_heading level0 col2\" >2</th>\n",
              "      <th id=\"T_5c773_level0_col3\" class=\"col_heading level0 col3\" >3</th>\n",
              "      <th id=\"T_5c773_level0_col4\" class=\"col_heading level0 col4\" >4</th>\n",
              "      <th id=\"T_5c773_level0_col5\" class=\"col_heading level0 col5\" >5</th>\n",
              "      <th id=\"T_5c773_level0_col6\" class=\"col_heading level0 col6\" >6</th>\n",
              "      <th id=\"T_5c773_level0_col7\" class=\"col_heading level0 col7\" >7</th>\n",
              "      <th id=\"T_5c773_level0_col8\" class=\"col_heading level0 col8\" >8</th>\n",
              "      <th id=\"T_5c773_level0_col9\" class=\"col_heading level0 col9\" >9</th>\n",
              "      <th id=\"T_5c773_level0_col10\" class=\"col_heading level0 col10\" >10</th>\n",
              "      <th id=\"T_5c773_level0_col11\" class=\"col_heading level0 col11\" >11</th>\n",
              "      <th id=\"T_5c773_level0_col12\" class=\"col_heading level0 col12\" >12</th>\n",
              "      <th id=\"T_5c773_level0_col13\" class=\"col_heading level0 col13\" >13</th>\n",
              "      <th id=\"T_5c773_level0_col14\" class=\"col_heading level0 col14\" >14</th>\n",
              "      <th id=\"T_5c773_level0_col15\" class=\"col_heading level0 col15\" >15</th>\n",
              "      <th id=\"T_5c773_level0_col16\" class=\"col_heading level0 col16\" >16</th>\n",
              "      <th id=\"T_5c773_level0_col17\" class=\"col_heading level0 col17\" >17</th>\n",
              "    </tr>\n",
              "  </thead>\n",
              "  <tbody>\n",
              "    <tr>\n",
              "      <th id=\"T_5c773_level0_row0\" class=\"row_heading level0 row0\" >0</th>\n",
              "      <td id=\"T_5c773_row0_col0\" class=\"data row0 col0\" >0</td>\n",
              "      <td id=\"T_5c773_row0_col1\" class=\"data row0 col1\" >0</td>\n",
              "      <td id=\"T_5c773_row0_col2\" class=\"data row0 col2\" >0</td>\n",
              "      <td id=\"T_5c773_row0_col3\" class=\"data row0 col3\" >0</td>\n",
              "      <td id=\"T_5c773_row0_col4\" class=\"data row0 col4\" >0</td>\n",
              "      <td id=\"T_5c773_row0_col5\" class=\"data row0 col5\" >51</td>\n",
              "      <td id=\"T_5c773_row0_col6\" class=\"data row0 col6\" >159</td>\n",
              "      <td id=\"T_5c773_row0_col7\" class=\"data row0 col7\" >253</td>\n",
              "      <td id=\"T_5c773_row0_col8\" class=\"data row0 col8\" >253</td>\n",
              "      <td id=\"T_5c773_row0_col9\" class=\"data row0 col9\" >253</td>\n",
              "      <td id=\"T_5c773_row0_col10\" class=\"data row0 col10\" >255</td>\n",
              "      <td id=\"T_5c773_row0_col11\" class=\"data row0 col11\" >253</td>\n",
              "      <td id=\"T_5c773_row0_col12\" class=\"data row0 col12\" >253</td>\n",
              "      <td id=\"T_5c773_row0_col13\" class=\"data row0 col13\" >159</td>\n",
              "      <td id=\"T_5c773_row0_col14\" class=\"data row0 col14\" >113</td>\n",
              "      <td id=\"T_5c773_row0_col15\" class=\"data row0 col15\" >0</td>\n",
              "      <td id=\"T_5c773_row0_col16\" class=\"data row0 col16\" >0</td>\n",
              "      <td id=\"T_5c773_row0_col17\" class=\"data row0 col17\" >0</td>\n",
              "    </tr>\n",
              "    <tr>\n",
              "      <th id=\"T_5c773_level0_row1\" class=\"row_heading level0 row1\" >1</th>\n",
              "      <td id=\"T_5c773_row1_col0\" class=\"data row1 col0\" >0</td>\n",
              "      <td id=\"T_5c773_row1_col1\" class=\"data row1 col1\" >0</td>\n",
              "      <td id=\"T_5c773_row1_col2\" class=\"data row1 col2\" >0</td>\n",
              "      <td id=\"T_5c773_row1_col3\" class=\"data row1 col3\" >0</td>\n",
              "      <td id=\"T_5c773_row1_col4\" class=\"data row1 col4\" >0</td>\n",
              "      <td id=\"T_5c773_row1_col5\" class=\"data row1 col5\" >238</td>\n",
              "      <td id=\"T_5c773_row1_col6\" class=\"data row1 col6\" >252</td>\n",
              "      <td id=\"T_5c773_row1_col7\" class=\"data row1 col7\" >252</td>\n",
              "      <td id=\"T_5c773_row1_col8\" class=\"data row1 col8\" >252</td>\n",
              "      <td id=\"T_5c773_row1_col9\" class=\"data row1 col9\" >252</td>\n",
              "      <td id=\"T_5c773_row1_col10\" class=\"data row1 col10\" >253</td>\n",
              "      <td id=\"T_5c773_row1_col11\" class=\"data row1 col11\" >252</td>\n",
              "      <td id=\"T_5c773_row1_col12\" class=\"data row1 col12\" >252</td>\n",
              "      <td id=\"T_5c773_row1_col13\" class=\"data row1 col13\" >252</td>\n",
              "      <td id=\"T_5c773_row1_col14\" class=\"data row1 col14\" >252</td>\n",
              "      <td id=\"T_5c773_row1_col15\" class=\"data row1 col15\" >163</td>\n",
              "      <td id=\"T_5c773_row1_col16\" class=\"data row1 col16\" >134</td>\n",
              "      <td id=\"T_5c773_row1_col17\" class=\"data row1 col17\" >0</td>\n",
              "    </tr>\n",
              "    <tr>\n",
              "      <th id=\"T_5c773_level0_row2\" class=\"row_heading level0 row2\" >2</th>\n",
              "      <td id=\"T_5c773_row2_col0\" class=\"data row2 col0\" >0</td>\n",
              "      <td id=\"T_5c773_row2_col1\" class=\"data row2 col1\" >0</td>\n",
              "      <td id=\"T_5c773_row2_col2\" class=\"data row2 col2\" >0</td>\n",
              "      <td id=\"T_5c773_row2_col3\" class=\"data row2 col3\" >0</td>\n",
              "      <td id=\"T_5c773_row2_col4\" class=\"data row2 col4\" >0</td>\n",
              "      <td id=\"T_5c773_row2_col5\" class=\"data row2 col5\" >253</td>\n",
              "      <td id=\"T_5c773_row2_col6\" class=\"data row2 col6\" >233</td>\n",
              "      <td id=\"T_5c773_row2_col7\" class=\"data row2 col7\" >195</td>\n",
              "      <td id=\"T_5c773_row2_col8\" class=\"data row2 col8\" >102</td>\n",
              "      <td id=\"T_5c773_row2_col9\" class=\"data row2 col9\" >55</td>\n",
              "      <td id=\"T_5c773_row2_col10\" class=\"data row2 col10\" >56</td>\n",
              "      <td id=\"T_5c773_row2_col11\" class=\"data row2 col11\" >103</td>\n",
              "      <td id=\"T_5c773_row2_col12\" class=\"data row2 col12\" >195</td>\n",
              "      <td id=\"T_5c773_row2_col13\" class=\"data row2 col13\" >233</td>\n",
              "      <td id=\"T_5c773_row2_col14\" class=\"data row2 col14\" >252</td>\n",
              "      <td id=\"T_5c773_row2_col15\" class=\"data row2 col15\" >253</td>\n",
              "      <td id=\"T_5c773_row2_col16\" class=\"data row2 col16\" >167</td>\n",
              "      <td id=\"T_5c773_row2_col17\" class=\"data row2 col17\" >0</td>\n",
              "    </tr>\n",
              "    <tr>\n",
              "      <th id=\"T_5c773_level0_row3\" class=\"row_heading level0 row3\" >3</th>\n",
              "      <td id=\"T_5c773_row3_col0\" class=\"data row3 col0\" >0</td>\n",
              "      <td id=\"T_5c773_row3_col1\" class=\"data row3 col1\" >0</td>\n",
              "      <td id=\"T_5c773_row3_col2\" class=\"data row3 col2\" >0</td>\n",
              "      <td id=\"T_5c773_row3_col3\" class=\"data row3 col3\" >0</td>\n",
              "      <td id=\"T_5c773_row3_col4\" class=\"data row3 col4\" >0</td>\n",
              "      <td id=\"T_5c773_row3_col5\" class=\"data row3 col5\" >146</td>\n",
              "      <td id=\"T_5c773_row3_col6\" class=\"data row3 col6\" >148</td>\n",
              "      <td id=\"T_5c773_row3_col7\" class=\"data row3 col7\" >0</td>\n",
              "      <td id=\"T_5c773_row3_col8\" class=\"data row3 col8\" >0</td>\n",
              "      <td id=\"T_5c773_row3_col9\" class=\"data row3 col9\" >0</td>\n",
              "      <td id=\"T_5c773_row3_col10\" class=\"data row3 col10\" >0</td>\n",
              "      <td id=\"T_5c773_row3_col11\" class=\"data row3 col11\" >0</td>\n",
              "      <td id=\"T_5c773_row3_col12\" class=\"data row3 col12\" >0</td>\n",
              "      <td id=\"T_5c773_row3_col13\" class=\"data row3 col13\" >169</td>\n",
              "      <td id=\"T_5c773_row3_col14\" class=\"data row3 col14\" >252</td>\n",
              "      <td id=\"T_5c773_row3_col15\" class=\"data row3 col15\" >253</td>\n",
              "      <td id=\"T_5c773_row3_col16\" class=\"data row3 col16\" >167</td>\n",
              "      <td id=\"T_5c773_row3_col17\" class=\"data row3 col17\" >0</td>\n",
              "    </tr>\n",
              "    <tr>\n",
              "      <th id=\"T_5c773_level0_row4\" class=\"row_heading level0 row4\" >4</th>\n",
              "      <td id=\"T_5c773_row4_col0\" class=\"data row4 col0\" >0</td>\n",
              "      <td id=\"T_5c773_row4_col1\" class=\"data row4 col1\" >0</td>\n",
              "      <td id=\"T_5c773_row4_col2\" class=\"data row4 col2\" >0</td>\n",
              "      <td id=\"T_5c773_row4_col3\" class=\"data row4 col3\" >0</td>\n",
              "      <td id=\"T_5c773_row4_col4\" class=\"data row4 col4\" >0</td>\n",
              "      <td id=\"T_5c773_row4_col5\" class=\"data row4 col5\" >0</td>\n",
              "      <td id=\"T_5c773_row4_col6\" class=\"data row4 col6\" >0</td>\n",
              "      <td id=\"T_5c773_row4_col7\" class=\"data row4 col7\" >0</td>\n",
              "      <td id=\"T_5c773_row4_col8\" class=\"data row4 col8\" >0</td>\n",
              "      <td id=\"T_5c773_row4_col9\" class=\"data row4 col9\" >0</td>\n",
              "      <td id=\"T_5c773_row4_col10\" class=\"data row4 col10\" >0</td>\n",
              "      <td id=\"T_5c773_row4_col11\" class=\"data row4 col11\" >0</td>\n",
              "      <td id=\"T_5c773_row4_col12\" class=\"data row4 col12\" >32</td>\n",
              "      <td id=\"T_5c773_row4_col13\" class=\"data row4 col13\" >215</td>\n",
              "      <td id=\"T_5c773_row4_col14\" class=\"data row4 col14\" >252</td>\n",
              "      <td id=\"T_5c773_row4_col15\" class=\"data row4 col15\" >253</td>\n",
              "      <td id=\"T_5c773_row4_col16\" class=\"data row4 col16\" >89</td>\n",
              "      <td id=\"T_5c773_row4_col17\" class=\"data row4 col17\" >0</td>\n",
              "    </tr>\n",
              "    <tr>\n",
              "      <th id=\"T_5c773_level0_row5\" class=\"row_heading level0 row5\" >5</th>\n",
              "      <td id=\"T_5c773_row5_col0\" class=\"data row5 col0\" >0</td>\n",
              "      <td id=\"T_5c773_row5_col1\" class=\"data row5 col1\" >0</td>\n",
              "      <td id=\"T_5c773_row5_col2\" class=\"data row5 col2\" >0</td>\n",
              "      <td id=\"T_5c773_row5_col3\" class=\"data row5 col3\" >0</td>\n",
              "      <td id=\"T_5c773_row5_col4\" class=\"data row5 col4\" >0</td>\n",
              "      <td id=\"T_5c773_row5_col5\" class=\"data row5 col5\" >0</td>\n",
              "      <td id=\"T_5c773_row5_col6\" class=\"data row5 col6\" >0</td>\n",
              "      <td id=\"T_5c773_row5_col7\" class=\"data row5 col7\" >0</td>\n",
              "      <td id=\"T_5c773_row5_col8\" class=\"data row5 col8\" >0</td>\n",
              "      <td id=\"T_5c773_row5_col9\" class=\"data row5 col9\" >0</td>\n",
              "      <td id=\"T_5c773_row5_col10\" class=\"data row5 col10\" >0</td>\n",
              "      <td id=\"T_5c773_row5_col11\" class=\"data row5 col11\" >38</td>\n",
              "      <td id=\"T_5c773_row5_col12\" class=\"data row5 col12\" >222</td>\n",
              "      <td id=\"T_5c773_row5_col13\" class=\"data row5 col13\" >253</td>\n",
              "      <td id=\"T_5c773_row5_col14\" class=\"data row5 col14\" >253</td>\n",
              "      <td id=\"T_5c773_row5_col15\" class=\"data row5 col15\" >204</td>\n",
              "      <td id=\"T_5c773_row5_col16\" class=\"data row5 col16\" >15</td>\n",
              "      <td id=\"T_5c773_row5_col17\" class=\"data row5 col17\" >0</td>\n",
              "    </tr>\n",
              "    <tr>\n",
              "      <th id=\"T_5c773_level0_row6\" class=\"row_heading level0 row6\" >6</th>\n",
              "      <td id=\"T_5c773_row6_col0\" class=\"data row6 col0\" >0</td>\n",
              "      <td id=\"T_5c773_row6_col1\" class=\"data row6 col1\" >0</td>\n",
              "      <td id=\"T_5c773_row6_col2\" class=\"data row6 col2\" >0</td>\n",
              "      <td id=\"T_5c773_row6_col3\" class=\"data row6 col3\" >0</td>\n",
              "      <td id=\"T_5c773_row6_col4\" class=\"data row6 col4\" >0</td>\n",
              "      <td id=\"T_5c773_row6_col5\" class=\"data row6 col5\" >0</td>\n",
              "      <td id=\"T_5c773_row6_col6\" class=\"data row6 col6\" >0</td>\n",
              "      <td id=\"T_5c773_row6_col7\" class=\"data row6 col7\" >0</td>\n",
              "      <td id=\"T_5c773_row6_col8\" class=\"data row6 col8\" >0</td>\n",
              "      <td id=\"T_5c773_row6_col9\" class=\"data row6 col9\" >0</td>\n",
              "      <td id=\"T_5c773_row6_col10\" class=\"data row6 col10\" >147</td>\n",
              "      <td id=\"T_5c773_row6_col11\" class=\"data row6 col11\" >234</td>\n",
              "      <td id=\"T_5c773_row6_col12\" class=\"data row6 col12\" >252</td>\n",
              "      <td id=\"T_5c773_row6_col13\" class=\"data row6 col13\" >252</td>\n",
              "      <td id=\"T_5c773_row6_col14\" class=\"data row6 col14\" >204</td>\n",
              "      <td id=\"T_5c773_row6_col15\" class=\"data row6 col15\" >15</td>\n",
              "      <td id=\"T_5c773_row6_col16\" class=\"data row6 col16\" >0</td>\n",
              "      <td id=\"T_5c773_row6_col17\" class=\"data row6 col17\" >0</td>\n",
              "    </tr>\n",
              "    <tr>\n",
              "      <th id=\"T_5c773_level0_row7\" class=\"row_heading level0 row7\" >7</th>\n",
              "      <td id=\"T_5c773_row7_col0\" class=\"data row7 col0\" >0</td>\n",
              "      <td id=\"T_5c773_row7_col1\" class=\"data row7 col1\" >0</td>\n",
              "      <td id=\"T_5c773_row7_col2\" class=\"data row7 col2\" >0</td>\n",
              "      <td id=\"T_5c773_row7_col3\" class=\"data row7 col3\" >0</td>\n",
              "      <td id=\"T_5c773_row7_col4\" class=\"data row7 col4\" >0</td>\n",
              "      <td id=\"T_5c773_row7_col5\" class=\"data row7 col5\" >0</td>\n",
              "      <td id=\"T_5c773_row7_col6\" class=\"data row7 col6\" >19</td>\n",
              "      <td id=\"T_5c773_row7_col7\" class=\"data row7 col7\" >57</td>\n",
              "      <td id=\"T_5c773_row7_col8\" class=\"data row7 col8\" >57</td>\n",
              "      <td id=\"T_5c773_row7_col9\" class=\"data row7 col9\" >135</td>\n",
              "      <td id=\"T_5c773_row7_col10\" class=\"data row7 col10\" >253</td>\n",
              "      <td id=\"T_5c773_row7_col11\" class=\"data row7 col11\" >252</td>\n",
              "      <td id=\"T_5c773_row7_col12\" class=\"data row7 col12\" >252</td>\n",
              "      <td id=\"T_5c773_row7_col13\" class=\"data row7 col13\" >120</td>\n",
              "      <td id=\"T_5c773_row7_col14\" class=\"data row7 col14\" >25</td>\n",
              "      <td id=\"T_5c773_row7_col15\" class=\"data row7 col15\" >0</td>\n",
              "      <td id=\"T_5c773_row7_col16\" class=\"data row7 col16\" >0</td>\n",
              "      <td id=\"T_5c773_row7_col17\" class=\"data row7 col17\" >0</td>\n",
              "    </tr>\n",
              "    <tr>\n",
              "      <th id=\"T_5c773_level0_row8\" class=\"row_heading level0 row8\" >8</th>\n",
              "      <td id=\"T_5c773_row8_col0\" class=\"data row8 col0\" >0</td>\n",
              "      <td id=\"T_5c773_row8_col1\" class=\"data row8 col1\" >0</td>\n",
              "      <td id=\"T_5c773_row8_col2\" class=\"data row8 col2\" >0</td>\n",
              "      <td id=\"T_5c773_row8_col3\" class=\"data row8 col3\" >0</td>\n",
              "      <td id=\"T_5c773_row8_col4\" class=\"data row8 col4\" >0</td>\n",
              "      <td id=\"T_5c773_row8_col5\" class=\"data row8 col5\" >92</td>\n",
              "      <td id=\"T_5c773_row8_col6\" class=\"data row8 col6\" >196</td>\n",
              "      <td id=\"T_5c773_row8_col7\" class=\"data row8 col7\" >252</td>\n",
              "      <td id=\"T_5c773_row8_col8\" class=\"data row8 col8\" >252</td>\n",
              "      <td id=\"T_5c773_row8_col9\" class=\"data row8 col9\" >252</td>\n",
              "      <td id=\"T_5c773_row8_col10\" class=\"data row8 col10\" >253</td>\n",
              "      <td id=\"T_5c773_row8_col11\" class=\"data row8 col11\" >252</td>\n",
              "      <td id=\"T_5c773_row8_col12\" class=\"data row8 col12\" >252</td>\n",
              "      <td id=\"T_5c773_row8_col13\" class=\"data row8 col13\" >99</td>\n",
              "      <td id=\"T_5c773_row8_col14\" class=\"data row8 col14\" >0</td>\n",
              "      <td id=\"T_5c773_row8_col15\" class=\"data row8 col15\" >0</td>\n",
              "      <td id=\"T_5c773_row8_col16\" class=\"data row8 col16\" >0</td>\n",
              "      <td id=\"T_5c773_row8_col17\" class=\"data row8 col17\" >0</td>\n",
              "    </tr>\n",
              "    <tr>\n",
              "      <th id=\"T_5c773_level0_row9\" class=\"row_heading level0 row9\" >9</th>\n",
              "      <td id=\"T_5c773_row9_col0\" class=\"data row9 col0\" >0</td>\n",
              "      <td id=\"T_5c773_row9_col1\" class=\"data row9 col1\" >0</td>\n",
              "      <td id=\"T_5c773_row9_col2\" class=\"data row9 col2\" >0</td>\n",
              "      <td id=\"T_5c773_row9_col3\" class=\"data row9 col3\" >0</td>\n",
              "      <td id=\"T_5c773_row9_col4\" class=\"data row9 col4\" >0</td>\n",
              "      <td id=\"T_5c773_row9_col5\" class=\"data row9 col5\" >253</td>\n",
              "      <td id=\"T_5c773_row9_col6\" class=\"data row9 col6\" >252</td>\n",
              "      <td id=\"T_5c773_row9_col7\" class=\"data row9 col7\" >252</td>\n",
              "      <td id=\"T_5c773_row9_col8\" class=\"data row9 col8\" >252</td>\n",
              "      <td id=\"T_5c773_row9_col9\" class=\"data row9 col9\" >252</td>\n",
              "      <td id=\"T_5c773_row9_col10\" class=\"data row9 col10\" >253</td>\n",
              "      <td id=\"T_5c773_row9_col11\" class=\"data row9 col11\" >252</td>\n",
              "      <td id=\"T_5c773_row9_col12\" class=\"data row9 col12\" >252</td>\n",
              "      <td id=\"T_5c773_row9_col13\" class=\"data row9 col13\" >239</td>\n",
              "      <td id=\"T_5c773_row9_col14\" class=\"data row9 col14\" >140</td>\n",
              "      <td id=\"T_5c773_row9_col15\" class=\"data row9 col15\" >0</td>\n",
              "      <td id=\"T_5c773_row9_col16\" class=\"data row9 col16\" >79</td>\n",
              "      <td id=\"T_5c773_row9_col17\" class=\"data row9 col17\" >0</td>\n",
              "    </tr>\n",
              "    <tr>\n",
              "      <th id=\"T_5c773_level0_row10\" class=\"row_heading level0 row10\" >10</th>\n",
              "      <td id=\"T_5c773_row10_col0\" class=\"data row10 col0\" >0</td>\n",
              "      <td id=\"T_5c773_row10_col1\" class=\"data row10 col1\" >0</td>\n",
              "      <td id=\"T_5c773_row10_col2\" class=\"data row10 col2\" >0</td>\n",
              "      <td id=\"T_5c773_row10_col3\" class=\"data row10 col3\" >0</td>\n",
              "      <td id=\"T_5c773_row10_col4\" class=\"data row10 col4\" >0</td>\n",
              "      <td id=\"T_5c773_row10_col5\" class=\"data row10 col5\" >63</td>\n",
              "      <td id=\"T_5c773_row10_col6\" class=\"data row10 col6\" >241</td>\n",
              "      <td id=\"T_5c773_row10_col7\" class=\"data row10 col7\" >253</td>\n",
              "      <td id=\"T_5c773_row10_col8\" class=\"data row10 col8\" >178</td>\n",
              "      <td id=\"T_5c773_row10_col9\" class=\"data row10 col9\" >140</td>\n",
              "      <td id=\"T_5c773_row10_col10\" class=\"data row10 col10\" >141</td>\n",
              "      <td id=\"T_5c773_row10_col11\" class=\"data row10 col11\" >140</td>\n",
              "      <td id=\"T_5c773_row10_col12\" class=\"data row10 col12\" >229</td>\n",
              "      <td id=\"T_5c773_row10_col13\" class=\"data row10 col13\" >253</td>\n",
              "      <td id=\"T_5c773_row10_col14\" class=\"data row10 col14\" >253</td>\n",
              "      <td id=\"T_5c773_row10_col15\" class=\"data row10 col15\" >255</td>\n",
              "      <td id=\"T_5c773_row10_col16\" class=\"data row10 col16\" >253</td>\n",
              "      <td id=\"T_5c773_row10_col17\" class=\"data row10 col17\" >119</td>\n",
              "    </tr>\n",
              "    <tr>\n",
              "      <th id=\"T_5c773_level0_row11\" class=\"row_heading level0 row11\" >11</th>\n",
              "      <td id=\"T_5c773_row11_col0\" class=\"data row11 col0\" >0</td>\n",
              "      <td id=\"T_5c773_row11_col1\" class=\"data row11 col1\" >0</td>\n",
              "      <td id=\"T_5c773_row11_col2\" class=\"data row11 col2\" >0</td>\n",
              "      <td id=\"T_5c773_row11_col3\" class=\"data row11 col3\" >0</td>\n",
              "      <td id=\"T_5c773_row11_col4\" class=\"data row11 col4\" >0</td>\n",
              "      <td id=\"T_5c773_row11_col5\" class=\"data row11 col5\" >0</td>\n",
              "      <td id=\"T_5c773_row11_col6\" class=\"data row11 col6\" >24</td>\n",
              "      <td id=\"T_5c773_row11_col7\" class=\"data row11 col7\" >27</td>\n",
              "      <td id=\"T_5c773_row11_col8\" class=\"data row11 col8\" >9</td>\n",
              "      <td id=\"T_5c773_row11_col9\" class=\"data row11 col9\" >0</td>\n",
              "      <td id=\"T_5c773_row11_col10\" class=\"data row11 col10\" >0</td>\n",
              "      <td id=\"T_5c773_row11_col11\" class=\"data row11 col11\" >0</td>\n",
              "      <td id=\"T_5c773_row11_col12\" class=\"data row11 col12\" >21</td>\n",
              "      <td id=\"T_5c773_row11_col13\" class=\"data row11 col13\" >122</td>\n",
              "      <td id=\"T_5c773_row11_col14\" class=\"data row11 col14\" >214</td>\n",
              "      <td id=\"T_5c773_row11_col15\" class=\"data row11 col15\" >253</td>\n",
              "      <td id=\"T_5c773_row11_col16\" class=\"data row11 col16\" >252</td>\n",
              "      <td id=\"T_5c773_row11_col17\" class=\"data row11 col17\" >246</td>\n",
              "    </tr>\n",
              "    <tr>\n",
              "      <th id=\"T_5c773_level0_row12\" class=\"row_heading level0 row12\" >12</th>\n",
              "      <td id=\"T_5c773_row12_col0\" class=\"data row12 col0\" >0</td>\n",
              "      <td id=\"T_5c773_row12_col1\" class=\"data row12 col1\" >0</td>\n",
              "      <td id=\"T_5c773_row12_col2\" class=\"data row12 col2\" >0</td>\n",
              "      <td id=\"T_5c773_row12_col3\" class=\"data row12 col3\" >0</td>\n",
              "      <td id=\"T_5c773_row12_col4\" class=\"data row12 col4\" >0</td>\n",
              "      <td id=\"T_5c773_row12_col5\" class=\"data row12 col5\" >0</td>\n",
              "      <td id=\"T_5c773_row12_col6\" class=\"data row12 col6\" >0</td>\n",
              "      <td id=\"T_5c773_row12_col7\" class=\"data row12 col7\" >0</td>\n",
              "      <td id=\"T_5c773_row12_col8\" class=\"data row12 col8\" >0</td>\n",
              "      <td id=\"T_5c773_row12_col9\" class=\"data row12 col9\" >0</td>\n",
              "      <td id=\"T_5c773_row12_col10\" class=\"data row12 col10\" >0</td>\n",
              "      <td id=\"T_5c773_row12_col11\" class=\"data row12 col11\" >0</td>\n",
              "      <td id=\"T_5c773_row12_col12\" class=\"data row12 col12\" >0</td>\n",
              "      <td id=\"T_5c773_row12_col13\" class=\"data row12 col13\" >0</td>\n",
              "      <td id=\"T_5c773_row12_col14\" class=\"data row12 col14\" >31</td>\n",
              "      <td id=\"T_5c773_row12_col15\" class=\"data row12 col15\" >196</td>\n",
              "      <td id=\"T_5c773_row12_col16\" class=\"data row12 col16\" >246</td>\n",
              "      <td id=\"T_5c773_row12_col17\" class=\"data row12 col17\" >252</td>\n",
              "    </tr>\n",
              "    <tr>\n",
              "      <th id=\"T_5c773_level0_row13\" class=\"row_heading level0 row13\" >13</th>\n",
              "      <td id=\"T_5c773_row13_col0\" class=\"data row13 col0\" >0</td>\n",
              "      <td id=\"T_5c773_row13_col1\" class=\"data row13 col1\" >0</td>\n",
              "      <td id=\"T_5c773_row13_col2\" class=\"data row13 col2\" >0</td>\n",
              "      <td id=\"T_5c773_row13_col3\" class=\"data row13 col3\" >0</td>\n",
              "      <td id=\"T_5c773_row13_col4\" class=\"data row13 col4\" >0</td>\n",
              "      <td id=\"T_5c773_row13_col5\" class=\"data row13 col5\" >0</td>\n",
              "      <td id=\"T_5c773_row13_col6\" class=\"data row13 col6\" >0</td>\n",
              "      <td id=\"T_5c773_row13_col7\" class=\"data row13 col7\" >0</td>\n",
              "      <td id=\"T_5c773_row13_col8\" class=\"data row13 col8\" >0</td>\n",
              "      <td id=\"T_5c773_row13_col9\" class=\"data row13 col9\" >0</td>\n",
              "      <td id=\"T_5c773_row13_col10\" class=\"data row13 col10\" >0</td>\n",
              "      <td id=\"T_5c773_row13_col11\" class=\"data row13 col11\" >0</td>\n",
              "      <td id=\"T_5c773_row13_col12\" class=\"data row13 col12\" >0</td>\n",
              "      <td id=\"T_5c773_row13_col13\" class=\"data row13 col13\" >0</td>\n",
              "      <td id=\"T_5c773_row13_col14\" class=\"data row13 col14\" >0</td>\n",
              "      <td id=\"T_5c773_row13_col15\" class=\"data row13 col15\" >13</td>\n",
              "      <td id=\"T_5c773_row13_col16\" class=\"data row13 col16\" >228</td>\n",
              "      <td id=\"T_5c773_row13_col17\" class=\"data row13 col17\" >252</td>\n",
              "    </tr>\n",
              "    <tr>\n",
              "      <th id=\"T_5c773_level0_row14\" class=\"row_heading level0 row14\" >14</th>\n",
              "      <td id=\"T_5c773_row14_col0\" class=\"data row14 col0\" >0</td>\n",
              "      <td id=\"T_5c773_row14_col1\" class=\"data row14 col1\" >126</td>\n",
              "      <td id=\"T_5c773_row14_col2\" class=\"data row14 col2\" >110</td>\n",
              "      <td id=\"T_5c773_row14_col3\" class=\"data row14 col3\" >0</td>\n",
              "      <td id=\"T_5c773_row14_col4\" class=\"data row14 col4\" >0</td>\n",
              "      <td id=\"T_5c773_row14_col5\" class=\"data row14 col5\" >0</td>\n",
              "      <td id=\"T_5c773_row14_col6\" class=\"data row14 col6\" >0</td>\n",
              "      <td id=\"T_5c773_row14_col7\" class=\"data row14 col7\" >0</td>\n",
              "      <td id=\"T_5c773_row14_col8\" class=\"data row14 col8\" >0</td>\n",
              "      <td id=\"T_5c773_row14_col9\" class=\"data row14 col9\" >0</td>\n",
              "      <td id=\"T_5c773_row14_col10\" class=\"data row14 col10\" >0</td>\n",
              "      <td id=\"T_5c773_row14_col11\" class=\"data row14 col11\" >0</td>\n",
              "      <td id=\"T_5c773_row14_col12\" class=\"data row14 col12\" >0</td>\n",
              "      <td id=\"T_5c773_row14_col13\" class=\"data row14 col13\" >0</td>\n",
              "      <td id=\"T_5c773_row14_col14\" class=\"data row14 col14\" >0</td>\n",
              "      <td id=\"T_5c773_row14_col15\" class=\"data row14 col15\" >191</td>\n",
              "      <td id=\"T_5c773_row14_col16\" class=\"data row14 col16\" >252</td>\n",
              "      <td id=\"T_5c773_row14_col17\" class=\"data row14 col17\" >252</td>\n",
              "    </tr>\n",
              "    <tr>\n",
              "      <th id=\"T_5c773_level0_row15\" class=\"row_heading level0 row15\" >15</th>\n",
              "      <td id=\"T_5c773_row15_col0\" class=\"data row15 col0\" >114</td>\n",
              "      <td id=\"T_5c773_row15_col1\" class=\"data row15 col1\" >253</td>\n",
              "      <td id=\"T_5c773_row15_col2\" class=\"data row15 col2\" >253</td>\n",
              "      <td id=\"T_5c773_row15_col3\" class=\"data row15 col3\" >237</td>\n",
              "      <td id=\"T_5c773_row15_col4\" class=\"data row15 col4\" >113</td>\n",
              "      <td id=\"T_5c773_row15_col5\" class=\"data row15 col5\" >0</td>\n",
              "      <td id=\"T_5c773_row15_col6\" class=\"data row15 col6\" >0</td>\n",
              "      <td id=\"T_5c773_row15_col7\" class=\"data row15 col7\" >0</td>\n",
              "      <td id=\"T_5c773_row15_col8\" class=\"data row15 col8\" >0</td>\n",
              "      <td id=\"T_5c773_row15_col9\" class=\"data row15 col9\" >0</td>\n",
              "      <td id=\"T_5c773_row15_col10\" class=\"data row15 col10\" >0</td>\n",
              "      <td id=\"T_5c773_row15_col11\" class=\"data row15 col11\" >0</td>\n",
              "      <td id=\"T_5c773_row15_col12\" class=\"data row15 col12\" >26</td>\n",
              "      <td id=\"T_5c773_row15_col13\" class=\"data row15 col13\" >128</td>\n",
              "      <td id=\"T_5c773_row15_col14\" class=\"data row15 col14\" >253</td>\n",
              "      <td id=\"T_5c773_row15_col15\" class=\"data row15 col15\" >255</td>\n",
              "      <td id=\"T_5c773_row15_col16\" class=\"data row15 col16\" >253</td>\n",
              "      <td id=\"T_5c773_row15_col17\" class=\"data row15 col17\" >133</td>\n",
              "    </tr>\n",
              "    <tr>\n",
              "      <th id=\"T_5c773_level0_row16\" class=\"row_heading level0 row16\" >16</th>\n",
              "      <td id=\"T_5c773_row16_col0\" class=\"data row16 col0\" >12</td>\n",
              "      <td id=\"T_5c773_row16_col1\" class=\"data row16 col1\" >181</td>\n",
              "      <td id=\"T_5c773_row16_col2\" class=\"data row16 col2\" >252</td>\n",
              "      <td id=\"T_5c773_row16_col3\" class=\"data row16 col3\" >252</td>\n",
              "      <td id=\"T_5c773_row16_col4\" class=\"data row16 col4\" >252</td>\n",
              "      <td id=\"T_5c773_row16_col5\" class=\"data row16 col5\" >163</td>\n",
              "      <td id=\"T_5c773_row16_col6\" class=\"data row16 col6\" >85</td>\n",
              "      <td id=\"T_5c773_row16_col7\" class=\"data row16 col7\" >19</td>\n",
              "      <td id=\"T_5c773_row16_col8\" class=\"data row16 col8\" >0</td>\n",
              "      <td id=\"T_5c773_row16_col9\" class=\"data row16 col9\" >0</td>\n",
              "      <td id=\"T_5c773_row16_col10\" class=\"data row16 col10\" >85</td>\n",
              "      <td id=\"T_5c773_row16_col11\" class=\"data row16 col11\" >131</td>\n",
              "      <td id=\"T_5c773_row16_col12\" class=\"data row16 col12\" >231</td>\n",
              "      <td id=\"T_5c773_row16_col13\" class=\"data row16 col13\" >252</td>\n",
              "      <td id=\"T_5c773_row16_col14\" class=\"data row16 col14\" >252</td>\n",
              "      <td id=\"T_5c773_row16_col15\" class=\"data row16 col15\" >253</td>\n",
              "      <td id=\"T_5c773_row16_col16\" class=\"data row16 col16\" >129</td>\n",
              "      <td id=\"T_5c773_row16_col17\" class=\"data row16 col17\" >6</td>\n",
              "    </tr>\n",
              "    <tr>\n",
              "      <th id=\"T_5c773_level0_row17\" class=\"row_heading level0 row17\" >17</th>\n",
              "      <td id=\"T_5c773_row17_col0\" class=\"data row17 col0\" >0</td>\n",
              "      <td id=\"T_5c773_row17_col1\" class=\"data row17 col1\" >66</td>\n",
              "      <td id=\"T_5c773_row17_col2\" class=\"data row17 col2\" >195</td>\n",
              "      <td id=\"T_5c773_row17_col3\" class=\"data row17 col3\" >233</td>\n",
              "      <td id=\"T_5c773_row17_col4\" class=\"data row17 col4\" >252</td>\n",
              "      <td id=\"T_5c773_row17_col5\" class=\"data row17 col5\" >253</td>\n",
              "      <td id=\"T_5c773_row17_col6\" class=\"data row17 col6\" >252</td>\n",
              "      <td id=\"T_5c773_row17_col7\" class=\"data row17 col7\" >209</td>\n",
              "      <td id=\"T_5c773_row17_col8\" class=\"data row17 col8\" >197</td>\n",
              "      <td id=\"T_5c773_row17_col9\" class=\"data row17 col9\" >197</td>\n",
              "      <td id=\"T_5c773_row17_col10\" class=\"data row17 col10\" >253</td>\n",
              "      <td id=\"T_5c773_row17_col11\" class=\"data row17 col11\" >252</td>\n",
              "      <td id=\"T_5c773_row17_col12\" class=\"data row17 col12\" >252</td>\n",
              "      <td id=\"T_5c773_row17_col13\" class=\"data row17 col13\" >252</td>\n",
              "      <td id=\"T_5c773_row17_col14\" class=\"data row17 col14\" >252</td>\n",
              "      <td id=\"T_5c773_row17_col15\" class=\"data row17 col15\" >133</td>\n",
              "      <td id=\"T_5c773_row17_col16\" class=\"data row17 col16\" >6</td>\n",
              "      <td id=\"T_5c773_row17_col17\" class=\"data row17 col17\" >0</td>\n",
              "    </tr>\n",
              "  </tbody>\n",
              "</table>\n"
            ]
          },
          "metadata": {},
          "execution_count": 7
        }
      ]
    },
    {
      "cell_type": "code",
      "source": [
        "three_tensors = [tensor(Image.open(i)) for i in threes]  #arraylarni tensorga o'tkazib olamiz\n",
        "seven_tensors = [tensor(Image.open(i)) for i in sevens]\n",
        "len(three_tensors), len(seven_tensors)"
      ],
      "metadata": {
        "colab": {
          "base_uri": "https://localhost:8080/"
        },
        "id": "ev6Sf7e44Ib2",
        "outputId": "021ae89a-8212-4f63-f5b3-561e82ec0f53"
      },
      "execution_count": 8,
      "outputs": [
        {
          "output_type": "execute_result",
          "data": {
            "text/plain": [
              "(6131, 6265)"
            ]
          },
          "metadata": {},
          "execution_count": 8
        }
      ]
    },
    {
      "cell_type": "code",
      "source": [
        "show_image(three_tensors[2])"
      ],
      "metadata": {
        "colab": {
          "base_uri": "https://localhost:8080/",
          "height": 131
        },
        "id": "CQSaVx4u8yEh",
        "outputId": "721bd0de-0b10-46eb-b93c-5a4b972cd957"
      },
      "execution_count": 9,
      "outputs": [
        {
          "output_type": "execute_result",
          "data": {
            "text/plain": [
              "<Axes: >"
            ]
          },
          "metadata": {},
          "execution_count": 9
        },
        {
          "output_type": "display_data",
          "data": {
            "text/plain": [
              "<Figure size 100x100 with 1 Axes>"
            ],
            "image/png": "[encoded data removed]"
          },
          "metadata": {}
        }
      ]
    },
    {
      "cell_type": "code",
      "source": [
        "stacked_threes = torch.stack(three_tensors).float()/255\n",
        "stacked_sevens = torch.stack(seven_tensors).float()/255\n",
        "stacked_sevens.shape"
      ],
      "metadata": {
        "colab": {
          "base_uri": "https://localhost:8080/"
        },
        "id": "omsRLxdkAkdk",
        "outputId": "a1afaa35-ba22-4e05-9709-f22c65f987e3"
      },
      "execution_count": 10,
      "outputs": [
        {
          "output_type": "execute_result",
          "data": {
            "text/plain": [
              "torch.Size([6265, 28, 28])"
            ]
          },
          "metadata": {},
          "execution_count": 10
        }
      ]
    },
    {
      "cell_type": "markdown",
      "source": [
        "## Ideal 3 va ideal 7 ni o'rtacha qiymatlarni hisoblash orqali topish"
      ],
      "metadata": {
        "id": "G_Y_zgw2LCAP"
      }
    },
    {
      "cell_type": "code",
      "source": [
        "mean3 = stacked_threes.mean(0)\n",
        "show_image(mean3)"
      ],
      "metadata": {
        "colab": {
          "base_uri": "https://localhost:8080/",
          "height": 131
        },
        "id": "JgWPhPqDH4ym",
        "outputId": "e5b29d10-b974-4399-b92e-a7b3034c1290"
      },
      "execution_count": 11,
      "outputs": [
        {
          "output_type": "execute_result",
          "data": {
            "text/plain": [
              "<Axes: >"
            ]
          },
          "metadata": {},
          "execution_count": 11
        },
        {
          "output_type": "display_data",
          "data": {
            "text/plain": [
              "<Figure size 100x100 with 1 Axes>"
            ],
            "image/png": "[encoded data removed]"
          },
          "metadata": {}
        }
      ]
    },
    {
      "cell_type": "code",
      "source": [
        "mean7 = stacked_sevens.mean(0)\n",
        "show_image(mean7)"
      ],
      "metadata": {
        "colab": {
          "base_uri": "https://localhost:8080/",
          "height": 131
        },
        "id": "9x3s1RxrLdiW",
        "outputId": "990ad56d-29e7-4c87-f447-be7b9c3a20b7"
      },
      "execution_count": 12,
      "outputs": [
        {
          "output_type": "execute_result",
          "data": {
            "text/plain": [
              "<Axes: >"
            ]
          },
          "metadata": {},
          "execution_count": 12
        },
        {
          "output_type": "display_data",
          "data": {
            "text/plain": [
              "<Figure size 100x100 with 1 Axes>"
            ],
            "image/png": "[encoded data removed]"
          },
          "metadata": {}
        }
      ]
    },
    {
      "cell_type": "markdown",
      "source": [
        "## Xatoliklarni o'lchash\n",
        "- Mean absolute error `MAE` yoki `L1 norm`\n",
        "- Root Mean Squared Error `RMSE` yoki `L2 norm`"
      ],
      "metadata": {
        "id": "c1Rcp4JsMW2k"
      }
    },
    {
      "cell_type": "code",
      "source": [
        "s_3 = stacked_threes[1]\n",
        "show_image(s_3)"
      ],
      "metadata": {
        "colab": {
          "base_uri": "https://localhost:8080/",
          "height": 131
        },
        "id": "XThKAzweL3dB",
        "outputId": "c96df542-713f-44d8-834c-832d5122f53c"
      },
      "execution_count": 13,
      "outputs": [
        {
          "output_type": "execute_result",
          "data": {
            "text/plain": [
              "<Axes: >"
            ]
          },
          "metadata": {},
          "execution_count": 13
        },
        {
          "output_type": "display_data",
          "data": {
            "text/plain": [
              "<Figure size 100x100 with 1 Axes>"
            ],
            "image/png": "[encoded data removed]"
          },
          "metadata": {}
        }
      ]
    },
    {
      "cell_type": "code",
      "source": [
        "\"\"\" MAE va RMSE yordamida s_3 sample bilan ideal '3' orasidagi xatolik\"\"\"\n",
        "# MAE\n",
        "mae = (s_3-mean3).abs().mean()\n",
        "\n",
        "# RMSE\n",
        "mse = ((s_3-mean3)**2).mean().sqrt()\n",
        "\n",
        "mae, mse"
      ],
      "metadata": {
        "colab": {
          "base_uri": "https://localhost:8080/"
        },
        "id": "Fv1axjM4NKNn",
        "outputId": "0011edc3-ef67-4064-84ef-1a8980d77420"
      },
      "execution_count": 14,
      "outputs": [
        {
          "output_type": "execute_result",
          "data": {
            "text/plain": [
              "(tensor(0.1114), tensor(0.2021))"
            ]
          },
          "metadata": {},
          "execution_count": 14
        }
      ]
    },
    {
      "cell_type": "code",
      "source": [
        "\"\"\" MAE va RMSE yordamida s_3 sample bilan ideal '7' orasidagi xatolik\"\"\"\n",
        "\n",
        "# MAE\n",
        "mae = (s_3-mean7).abs().mean()\n",
        "\n",
        "# RMSE\n",
        "mse = ((s_3-mean7)**2).mean().sqrt()\n",
        "\n",
        "mae, mse"
      ],
      "metadata": {
        "colab": {
          "base_uri": "https://localhost:8080/"
        },
        "id": "yKgVyStiNM1V",
        "outputId": "2095136b-53de-4840-e5c4-4325ae1d047f"
      },
      "execution_count": 15,
      "outputs": [
        {
          "output_type": "execute_result",
          "data": {
            "text/plain": [
              "(tensor(0.1586), tensor(0.3021))"
            ]
          },
          "metadata": {},
          "execution_count": 15
        }
      ]
    },
    {
      "cell_type": "markdown",
      "source": [
        "## list, array, tensor"
      ],
      "metadata": {
        "id": "i_1ZAWHsTEuX"
      }
    },
    {
      "cell_type": "code",
      "source": [
        "from fastai.vision.all import *\n",
        "\n",
        "data = [[1,2,3], [4,5,6]]  #nested list\n",
        "arr = array(data)  # numpy array\n",
        "tns = tensor(data)  # #torch tensor"
      ],
      "metadata": {
        "id": "ct84nN-cOmS3"
      },
      "execution_count": 16,
      "outputs": []
    },
    {
      "cell_type": "code",
      "source": [
        "data"
      ],
      "metadata": {
        "id": "8WwG_oHlTfw7",
        "outputId": "49f619cb-6414-4db6-ada7-782ac4f26a4a",
        "colab": {
          "base_uri": "https://localhost:8080/"
        }
      },
      "execution_count": 17,
      "outputs": [
        {
          "output_type": "execute_result",
          "data": {
            "text/plain": [
              "[[1, 2, 3], [4, 5, 6]]"
            ]
          },
          "metadata": {},
          "execution_count": 17
        }
      ]
    },
    {
      "cell_type": "code",
      "source": [
        "arr"
      ],
      "metadata": {
        "id": "kdIz0ZuGTg0h",
        "outputId": "ebd43c6a-0886-4dff-d8aa-dba264f78220",
        "colab": {
          "base_uri": "https://localhost:8080/"
        }
      },
      "execution_count": 18,
      "outputs": [
        {
          "output_type": "execute_result",
          "data": {
            "text/plain": [
              "array([[1, 2, 3],\n",
              "       [4, 5, 6]])"
            ]
          },
          "metadata": {},
          "execution_count": 18
        }
      ]
    },
    {
      "cell_type": "code",
      "source": [
        "tns"
      ],
      "metadata": {
        "id": "mukdx-dRTiVI",
        "outputId": "c99da47f-1d76-4116-c5e4-a033888c5896",
        "colab": {
          "base_uri": "https://localhost:8080/"
        }
      },
      "execution_count": 19,
      "outputs": [
        {
          "output_type": "execute_result",
          "data": {
            "text/plain": [
              "tensor([[1, 2, 3],\n",
              "        [4, 5, 6]])"
            ]
          },
          "metadata": {},
          "execution_count": 19
        }
      ]
    },
    {
      "cell_type": "markdown",
      "source": [
        "## Model aniqligini broadcasting orqali aniqlash"
      ],
      "metadata": {
        "id": "YME1r_rBCKGi"
      }
    },
    {
      "cell_type": "code",
      "source": [
        "valid_3_tensors = torch.stack([tensor(Image.open(o)) for o in (path/'valid'/'3').ls()])\n",
        "valid_3_tensors = valid_3_tensors.float()/255\n",
        "\n",
        "valid_7_tensors = torch.stack([tensor(Image.open(o)) for o in (path/'valid'/'7').ls()])\n",
        "valid_7_tensors = valid_7_tensors.float()/255\n",
        "\n",
        "valid_3_tensors.shape, valid_7_tensors.shape"
      ],
      "metadata": {
        "id": "msqWC6mLTjDl",
        "colab": {
          "base_uri": "https://localhost:8080/"
        },
        "outputId": "aae2206d-ed22-4097-cd6a-8f4867bda677"
      },
      "execution_count": 20,
      "outputs": [
        {
          "output_type": "execute_result",
          "data": {
            "text/plain": [
              "(torch.Size([1010, 28, 28]), torch.Size([1028, 28, 28]))"
            ]
          },
          "metadata": {},
          "execution_count": 20
        }
      ]
    },
    {
      "cell_type": "markdown",
      "source": [
        "## MAE ni hisoblashni funksiyaga aylantiramiz"
      ],
      "metadata": {
        "id": "kiG5F12fFpuO"
      }
    },
    {
      "cell_type": "code",
      "source": [
        "# mae xatolik funksiyasi\n",
        "def mae(a, b):\n",
        "  return (a-b).abs().mean((-1,-2))\n",
        "\n",
        "# tekshirish\n",
        "valid_3_error = mae(valid_3_tensors, mean3)\n",
        "valid_7_error = mae(valid_7_tensors, mean3)\n",
        "\n",
        "print(valid_3_error, valid_7_error, valid_3_error.shape)"
      ],
      "metadata": {
        "colab": {
          "base_uri": "https://localhost:8080/"
        },
        "id": "u1dYXjCFFX1Q",
        "outputId": "bda7a57f-5a9a-4914-8f5d-019838cbc91c"
      },
      "execution_count": 22,
      "outputs": [
        {
          "output_type": "stream",
          "name": "stdout",
          "text": [
            "tensor([0.1622, 0.1304, 0.1032,  ..., 0.1142, 0.1164, 0.1297]) tensor([0.1711, 0.1582, 0.1363,  ..., 0.1503, 0.1445, 0.1471]) torch.Size([1010])\n"
          ]
        }
      ]
    },
    {
      "cell_type": "markdown",
      "source": [
        "## Natijalovchi funksiya"
      ],
      "metadata": {
        "id": "06yDskRFZgay"
      }
    },
    {
      "cell_type": "code",
      "source": [
        "def is_3(x):\n",
        "  return mae(x, mean3) < mae(x, mean7)\n",
        "\n",
        "def is_7(x):\n",
        "  return mae(x, mean7) < mae(x, mean3)"
      ],
      "metadata": {
        "id": "kzCmgzDOGDj8"
      },
      "execution_count": 23,
      "outputs": []
    },
    {
      "cell_type": "code",
      "source": [
        "is_3(s_3), is_3(s_3).float()"
      ],
      "metadata": {
        "colab": {
          "base_uri": "https://localhost:8080/"
        },
        "id": "iJZNjxzeZ9wu",
        "outputId": "aa1b03dd-2415-4265-c7c4-c21358dabbc5"
      },
      "execution_count": 25,
      "outputs": [
        {
          "output_type": "execute_result",
          "data": {
            "text/plain": [
              "(tensor(True), tensor(1.))"
            ]
          },
          "metadata": {},
          "execution_count": 25
        }
      ]
    },
    {
      "cell_type": "code",
      "source": [
        "accuracy_3s = is_3(valid_3_tensors).float().mean()\n",
        "accuracy_7s = is_7(valid_7_tensors).float().mean()\n",
        "\n",
        "accuracy_3s, accuracy_7s, (accuracy_3s+accuracy_7s)/2"
      ],
      "metadata": {
        "colab": {
          "base_uri": "https://localhost:8080/"
        },
        "id": "6QgZDqMAaBBZ",
        "outputId": "1c09444b-64a2-4773-ad4f-bf1bfa1613ec"
      },
      "execution_count": 27,
      "outputs": [
        {
          "output_type": "execute_result",
          "data": {
            "text/plain": [
              "(tensor(0.9168), tensor(0.9854), tensor(0.9511))"
            ]
          },
          "metadata": {},
          "execution_count": 27
        }
      ]
    },
    {
      "cell_type": "code",
      "source": [],
      "metadata": {
        "id": "WAmjiwLfal_s"
      },
      "execution_count": null,
      "outputs": []
    }
  ]
}