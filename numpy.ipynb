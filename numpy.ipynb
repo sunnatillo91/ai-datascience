{
  "nbformat": 4,
  "nbformat_minor": 0,
  "metadata": {
    "colab": {
      "provenance": [],
      "authorship_tag": "ABX9TyOw6loQZKRFH7L/jsGIYVnw",
      "include_colab_link": true
    },
    "kernelspec": {
      "name": "python3",
      "display_name": "Python 3"
    },
    "language_info": {
      "name": "python"
    }
  },
  "cells": [
    {
      "cell_type": "markdown",
      "metadata": {
        "id": "view-in-github",
        "colab_type": "text"
      },
      "source": [
        "<a href=\"https://colab.research.google.com/github/sunnatillo91/ai-datascience/blob/main/numpy.ipynb\" target=\"_parent\"><img src=\"https://colab.research.google.com/assets/colab-badge.svg\" alt=\"Open In Colab\"/></a>"
      ]
    },
    {
      "cell_type": "code",
      "execution_count": null,
      "metadata": {
        "id": "7VgMTy_ECMxI"
      },
      "outputs": [],
      "source": []
    },
    {
      "cell_type": "markdown",
      "source": [
        "# Data Science va Sun'iy Intellekt Praktikum"
      ],
      "metadata": {
        "id": "9JuVvxZwCte_"
      }
    },
    {
      "cell_type": "markdown",
      "source": [
        "- Ma'lumotlar tahlili"
      ],
      "metadata": {
        "id": "3hQZUAwYD5K_"
      }
    },
    {
      "cell_type": "markdown",
      "source": [
        "# NumPy kutubxonasini chaqirish"
      ],
      "metadata": {
        "id": "IYenJGSKENgH"
      }
    },
    {
      "cell_type": "code",
      "source": [
        "import numpy as np"
      ],
      "metadata": {
        "id": "ImnZfO2ZEYWb"
      },
      "execution_count": 1,
      "outputs": []
    },
    {
      "cell_type": "markdown",
      "source": [
        "#Python list bilan NumPy kutubxonasidagi massivlar(arraylar) hisoblashalari orasidagi farqni ko'ramiz"
      ],
      "metadata": {
        "id": "SDdSXEnJEbRV"
      }
    },
    {
      "cell_type": "code",
      "source": [
        "my_list = list(range(100000))  # python list 0-99999  --> Normal\n",
        "my_array = np.array(range(100000))  # numpy array(massiv) 0-99999  --> Vektorlashgan"
      ],
      "metadata": {
        "id": "sFV3bga8Fa_t"
      },
      "execution_count": 3,
      "outputs": []
    },
    {
      "cell_type": "code",
      "source": [
        "%time for _ in range(10): [x*2 for x in my_list]  # Normal hisoblash"
      ],
      "metadata": {
        "colab": {
          "base_uri": "https://localhost:8080/"
        },
        "id": "IEIbX1QCO2BD",
        "outputId": "8cf4bafe-cfac-4a2b-e5e8-acaa6ccf7a7a"
      },
      "execution_count": 6,
      "outputs": [
        {
          "output_type": "stream",
          "name": "stdout",
          "text": [
            "CPU times: user 65.3 ms, sys: 728 µs, total: 66 ms\n",
            "Wall time: 66.4 ms\n"
          ]
        }
      ]
    },
    {
      "cell_type": "code",
      "source": [
        "%time for _ in range(10): my_array*2  # Vektorlashgan hisoblash"
      ],
      "metadata": {
        "colab": {
          "base_uri": "https://localhost:8080/"
        },
        "id": "MZ4Mb8jtPLK5",
        "outputId": "29fdd943-1361-4024-860c-8e93e37dd941"
      },
      "execution_count": 8,
      "outputs": [
        {
          "output_type": "stream",
          "name": "stdout",
          "text": [
            "CPU times: user 1.63 ms, sys: 982 µs, total: 2.61 ms\n",
            "Wall time: 2.8 ms\n"
          ]
        }
      ]
    },
    {
      "cell_type": "code",
      "source": [
        "66.4/2.8"
      ],
      "metadata": {
        "colab": {
          "base_uri": "https://localhost:8080/"
        },
        "id": "EPZCgISLQCb6",
        "outputId": "d0fc438e-5220-4780-e246-063657675d5a"
      },
      "execution_count": 9,
      "outputs": [
        {
          "output_type": "execute_result",
          "data": {
            "text/plain": [
              "23.71428571428572"
            ]
          },
          "metadata": {},
          "execution_count": 9
        }
      ]
    },
    {
      "cell_type": "markdown",
      "source": [],
      "metadata": {
        "id": "IKr9aaQLFbVV"
      }
    },
    {
      "cell_type": "markdown",
      "source": [],
      "metadata": {
        "id": "punaYzDxDePS"
      }
    }
  ]
}