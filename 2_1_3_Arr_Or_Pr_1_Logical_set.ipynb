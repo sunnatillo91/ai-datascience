{
  "nbformat": 4,
  "nbformat_minor": 0,
  "metadata": {
    "colab": {
      "provenance": [],
      "authorship_tag": "ABX9TyMxlDdCfQykVwF1Z+jjIj2E",
      "include_colab_link": true
    },
    "kernelspec": {
      "name": "python3",
      "display_name": "Python 3"
    },
    "language_info": {
      "name": "python"
    }
  },
  "cells": [
    {
      "cell_type": "markdown",
      "metadata": {
        "id": "view-in-github",
        "colab_type": "text"
      },
      "source": [
        "<a href=\"https://colab.research.google.com/github/sunnatillo91/ai-datascience/blob/main/2_1_3_Arr_Or_Pr_1_Logical_set.ipynb\" target=\"_parent\"><img src=\"https://colab.research.google.com/assets/colab-badge.svg\" alt=\"Open In Colab\"/></a>"
      ]
    },
    {
      "cell_type": "code",
      "execution_count": null,
      "metadata": {
        "id": "NcrmjzTTRVpA"
      },
      "outputs": [],
      "source": []
    },
    {
      "cell_type": "markdown",
      "source": [],
      "metadata": {
        "id": "Mi9Bax7lSc-c"
      }
    },
    {
      "cell_type": "markdown",
      "source": [
        "# Data Science va Sun'iy Intellekt Praktikum\n",
        "Ma'lumotlar tahlili."
      ],
      "metadata": {
        "id": "LveHC_W0TyPF"
      }
    },
    {
      "cell_type": "markdown",
      "source": [
        "\n",
        "2.1. NumPy kutubxonasi bilan ishlash\n",
        "NumPy kutubxonasini chaqirib olish"
      ],
      "metadata": {
        "id": "o82rkvmGT_CA"
      }
    },
    {
      "cell_type": "code",
      "source": [
        "import numpy as np"
      ],
      "metadata": {
        "id": "PudCDjivS4HR"
      },
      "execution_count": 2,
      "outputs": []
    },
    {
      "cell_type": "markdown",
      "source": [
        "2.1.3. Massivga yo'naltirilgan dasturlash"
      ],
      "metadata": {
        "id": "jd6a4SThTCHv"
      }
    },
    {
      "cell_type": "markdown",
      "source": [
        "Mantiqiy shart operatorlarni massiv operator sifatida qo'llash"
      ],
      "metadata": {
        "id": "u1XIWr6fTGrR"
      }
    },
    {
      "cell_type": "markdown",
      "source": [
        "\n",
        "Shart operatori sifatida where dan foydalanish"
      ],
      "metadata": {
        "id": "JW5jSULRTLxf"
      }
    },
    {
      "cell_type": "markdown",
      "source": [
        "\n",
        "Tassavur qiling bizda ikkita ma'lumotlar (massivlar) mavjud bular: xarr va yarr. Agarda shart Trueni qanoatlantirsa xarr elementini qabul qilgan aksincha esa yarr elementini qabul qilgan yangi massiv hosil qilinsin."
      ],
      "metadata": {
        "id": "nBuD_mZ-TRIY"
      }
    },
    {
      "cell_type": "code",
      "source": [
        "# Massivlar\n",
        "xarr = np.array([1.1, 1.2, 1.3, 1.4, 1.5]) # xarr\n",
        "yarr = np.array([2.1, 2.2, 2.3, 2.4, 2.5]) # yarr"
      ],
      "metadata": {
        "id": "tQ0OYRHLTOPd"
      },
      "execution_count": 3,
      "outputs": []
    },
    {
      "cell_type": "code",
      "source": [
        "# Shart\n",
        "cond = np.array([True, False, True, True, False])"
      ],
      "metadata": {
        "id": "vSu86P4DTieb"
      },
      "execution_count": 4,
      "outputs": []
    },
    {
      "cell_type": "code",
      "source": [
        "# where\n",
        "result = np.where(cond, xarr, yarr)  # cond == True : xarr, cond == False : yarr elementi\n",
        "result"
      ],
      "metadata": {
        "colab": {
          "base_uri": "https://localhost:8080/"
        },
        "id": "W_PKE-F7T4j7",
        "outputId": "02bb7b2f-e585-4ba8-907f-3e4e82a6c49a"
      },
      "execution_count": 5,
      "outputs": [
        {
          "output_type": "execute_result",
          "data": {
            "text/plain": [
              "array([1.1, 2.2, 1.3, 1.4, 2.5])"
            ]
          },
          "metadata": {},
          "execution_count": 5
        }
      ]
    },
    {
      "cell_type": "code",
      "source": [
        "arr = np.random.randn(4,4)  # (4, 4) taxminiy massiv\n",
        "arr"
      ],
      "metadata": {
        "colab": {
          "base_uri": "https://localhost:8080/"
        },
        "id": "6nKniCpeU8tG",
        "outputId": "d5d1e90b-65b4-4623-fdfb-0b3ea2ef1e8b"
      },
      "execution_count": 7,
      "outputs": [
        {
          "output_type": "execute_result",
          "data": {
            "text/plain": [
              "array([[ 0.01102349,  0.0913337 , -0.8783854 , -0.65499711],\n",
              "       [ 1.83700106, -1.37430908, -0.67500883, -1.66487465],\n",
              "       [-0.19340224,  0.92106008,  0.18458187,  0.12052091],\n",
              "       [ 0.39370008, -0.2793734 ,  0.08005745,  0.24284771]])"
            ]
          },
          "metadata": {},
          "execution_count": 7
        }
      ]
    },
    {
      "cell_type": "code",
      "source": [
        "# where\n",
        "results = np.where(arr<0, -2, 2) # arr ning manfiy elementlarini -2 ga musbat elementlarini esa 2ga almashtiramiz\n",
        "results"
      ],
      "metadata": {
        "colab": {
          "base_uri": "https://localhost:8080/"
        },
        "id": "co3xcy0HVl1Q",
        "outputId": "14db73a8-1106-4844-e87b-e00bc8b3b536"
      },
      "execution_count": 8,
      "outputs": [
        {
          "output_type": "execute_result",
          "data": {
            "text/plain": [
              "array([[ 2,  2, -2, -2],\n",
              "       [ 2, -2, -2, -2],\n",
              "       [-2,  2,  2,  2],\n",
              "       [ 2, -2,  2,  2]])"
            ]
          },
          "metadata": {},
          "execution_count": 8
        }
      ]
    },
    {
      "cell_type": "code",
      "source": [],
      "metadata": {
        "id": "UCQXWST2WHG8"
      },
      "execution_count": null,
      "outputs": []
    }
  ]
}