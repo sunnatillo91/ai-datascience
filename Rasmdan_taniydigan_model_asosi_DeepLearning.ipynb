{
  "cells": [
    {
      "cell_type": "markdown",
      "metadata": {
        "id": "view-in-github",
        "colab_type": "text"
      },
      "source": [
        "<a href=\"https://colab.research.google.com/github/sunnatillo91/ai-datascience/blob/main/Rasmdan_taniydigan_model_asosi_DeepLearning.ipynb\" target=\"_parent\"><img src=\"https://colab.research.google.com/assets/colab-badge.svg\" alt=\"Open In Colab\"/></a>"
      ]
    },
    {
      "cell_type": "markdown",
      "metadata": {
        "id": "CKmkvVVnyCNW"
      },
      "source": [
        "\n",
        "# Data Science va Sun'iy Intellekt Praktikum\n",
        "\n",
        "## 6-MODUL. Deep Learning\n",
        "\n",
        "## l-qism\n",
        "\n",
        "### Rasmdan taniydigan modelni yasash"
      ]
    },
    {
      "cell_type": "code",
      "execution_count": null,
      "metadata": {
        "colab": {
          "background_save": true,
          "base_uri": "https://localhost:8080/",
          "height": 95
        },
        "id": "XpdrQp3xFR9m",
        "outputId": "369cbe32-85d9-464d-c1bc-92318875c0b7"
      },
      "outputs": [
        {
          "data": {
            "text/html": [
              "\n",
              "<style>\n",
              "    /* Turns off some styling */\n",
              "    progress {\n",
              "        /* gets rid of default border in Firefox and Opera. */\n",
              "        border: none;\n",
              "        /* Needs to be in here for Safari polyfill so background images work as expected. */\n",
              "        background-size: auto;\n",
              "    }\n",
              "    progress:not([value]), progress:not([value])::-webkit-progress-bar {\n",
              "        background: repeating-linear-gradient(45deg, #7e7e7e, #7e7e7e 10px, #5c5c5c 10px, #5c5c5c 20px);\n",
              "    }\n",
              "    .progress-bar-interrupted, .progress-bar-interrupted::-webkit-progress-bar {\n",
              "        background: #F44336;\n",
              "    }\n",
              "</style>\n"
            ],
            "text/plain": [
              "<IPython.core.display.HTML object>"
            ]
          },
          "metadata": {},
          "output_type": "display_data"
        },
        {
          "data": {
            "text/html": [
              "\n",
              "    <div>\n",
              "      <progress value='0' class='' max='1' style='width:300px; height:20px; vertical-align: middle;'></progress>\n",
              "      0.00% [0/1 00:00&lt;?]\n",
              "    </div>\n",
              "    \n",
              "<table border=\"1\" class=\"dataframe\">\n",
              "  <thead>\n",
              "    <tr style=\"text-align: left;\">\n",
              "      <th>epoch</th>\n",
              "      <th>train_loss</th>\n",
              "      <th>valid_loss</th>\n",
              "      <th>accuracy</th>\n",
              "      <th>time</th>\n",
              "    </tr>\n",
              "  </thead>\n",
              "  <tbody>\n",
              "  </tbody>\n",
              "</table><p>\n",
              "\n",
              "    <div>\n",
              "      <progress value='80' class='' max='92' style='width:300px; height:20px; vertical-align: middle;'></progress>\n",
              "      86.96% [80/92 29:41&lt;04:27 0.2031]\n",
              "    </div>\n",
              "    "
            ],
            "text/plain": [
              "<IPython.core.display.HTML object>"
            ]
          },
          "metadata": {},
          "output_type": "display_data"
        }
      ],
      "source": [
        "# kutubxonalar\n",
        "from fastai.vision.all import *\n",
        "from ipywidgets import widgets\n",
        "\n",
        "# data\n",
        "path = untar_data(URLs.PETS)/'images'\n",
        "\n",
        "# labellovchi funksiya\n",
        "def is_cat(x): return x[0].isupper()\n",
        "\n",
        "# datalarni yuklovchi (dataloaders)\n",
        "dls = ImageDataLoaders.from_name_func(\n",
        "    path, get_image_files(path), valid_pct=0.2, seed=42,\n",
        "    label_func=is_cat, item_tfms=Resize(224))\n",
        "\n",
        "# o'qitish (train)\n",
        "learn = cnn_learner(dls, resnet34, metrics=accuracy)\n",
        "learn.fine_tune(2)"
      ]
    },
    {
      "cell_type": "markdown",
      "metadata": {
        "id": "RDJWloMnmrtg"
      },
      "source": [
        "## Yuqoridagi kodlarni tahlil qilamiz"
      ]
    },
    {
      "cell_type": "code",
      "execution_count": null,
      "metadata": {
        "id": "ITz7ArDmJqq-"
      },
      "outputs": [],
      "source": [
        "# kutubxonalarni chaqirish\n",
        "from fastai.vision.all import *\n",
        "from ipywidgets import widgets"
      ]
    },
    {
      "cell_type": "markdown",
      "metadata": {
        "id": "rs6GBg72Nt59"
      },
      "source": [
        "Computer vision modellarini yaratish imkonini beruvchi bir qancha funksiyalar hamda classlardan foydalanish imkonini beradi"
      ]
    },
    {
      "cell_type": "code",
      "execution_count": null,
      "metadata": {
        "colab": {
          "base_uri": "https://localhost:8080/",
          "height": 124
        },
        "id": "jWD6SLXYGTNm",
        "outputId": "24cc697e-1f34-4c8e-ba2e-01315a874475"
      },
      "outputs": [
        {
          "data": {
            "text/html": [
              "\n",
              "<style>\n",
              "    /* Turns off some styling */\n",
              "    progress {\n",
              "        /* gets rid of default border in Firefox and Opera. */\n",
              "        border: none;\n",
              "        /* Needs to be in here for Safari polyfill so background images work as expected. */\n",
              "        background-size: auto;\n",
              "    }\n",
              "    progress:not([value]), progress:not([value])::-webkit-progress-bar {\n",
              "        background: repeating-linear-gradient(45deg, #7e7e7e, #7e7e7e 10px, #5c5c5c 10px, #5c5c5c 20px);\n",
              "    }\n",
              "    .progress-bar-interrupted, .progress-bar-interrupted::-webkit-progress-bar {\n",
              "        background: #F44336;\n",
              "    }\n",
              "</style>\n"
            ],
            "text/plain": [
              "<IPython.core.display.HTML object>"
            ]
          },
          "metadata": {},
          "output_type": "display_data"
        },
        {
          "data": {
            "text/html": [
              "\n",
              "    <div>\n",
              "      <progress value='811712512' class='' max='811706944' style='width:300px; height:20px; vertical-align: middle;'></progress>\n",
              "      100.00% [811712512/811706944 00:20&lt;00:00]\n",
              "    </div>\n",
              "    "
            ],
            "text/plain": [
              "<IPython.core.display.HTML object>"
            ]
          },
          "metadata": {},
          "output_type": "display_data"
        },
        {
          "data": {
            "text/plain": [
              "(#7393) [Path('/root/.fastai/data/oxford-iiit-pet/images/havanese_161.jpg'),Path('/root/.fastai/data/oxford-iiit-pet/images/Persian_120.jpg'),Path('/root/.fastai/data/oxford-iiit-pet/images/chihuahua_140.jpg'),Path('/root/.fastai/data/oxford-iiit-pet/images/staffordshire_bull_terrier_51.jpg'),Path('/root/.fastai/data/oxford-iiit-pet/images/beagle_166.jpg'),Path('/root/.fastai/data/oxford-iiit-pet/images/keeshond_33.jpg'),Path('/root/.fastai/data/oxford-iiit-pet/images/saint_bernard_2.jpg'),Path('/root/.fastai/data/oxford-iiit-pet/images/havanese_113.jpg'),Path('/root/.fastai/data/oxford-iiit-pet/images/yorkshire_terrier_200.jpg'),Path('/root/.fastai/data/oxford-iiit-pet/images/american_bulldog_191.jpg')...]"
            ]
          },
          "execution_count": 4,
          "metadata": {},
          "output_type": "execute_result"
        }
      ],
      "source": [
        "# datani yuklab olib uni zip fayldan extract qilish, agar yuklab olingan bo'lsa unda faqat zipdan extract qilish\n",
        "path = untar_data(URLs.PETS)/'images'\n",
        "path.ls()"
      ]
    },
    {
      "cell_type": "markdown",
      "metadata": {
        "id": "Ipe_sVSKPyFH"
      },
      "source": [
        "`fastai` ning maxsus `from_name_func` metodi mavjud bo'lib, bu funksiya yordamida fayl nomlarini label sifatida ajratib olish mumkin\n"
      ]
    },
    {
      "cell_type": "code",
      "execution_count": null,
      "metadata": {
        "id": "wrwcnltPLMBu"
      },
      "outputs": [],
      "source": [
        "# Funksiya yaratib olamiz\n",
        "def is_cat(x): return x[0].isupper()  # ushbu funksiya dataning bosh harfi katta harf bilan boshlansa True aks holda False qaytaradi\n",
        "\n",
        "# fastai ga bizni datasetimiz qayerda va qanday ko'rinishda ekanligini aytishimiz kerak. datalarni yuklovchi (dataloaders)\n",
        "dls = ImageDataLoaders.from_name_func(\n",
        "    path, get_image_files(path), valid_pct=0.2, seed=42,\n",
        "    label_func=is_cat, item_tfms=Resize(224))"
      ]
    },
    {
      "cell_type": "markdown",
      "metadata": {
        "id": "ERDq4UXMtfwG"
      },
      "source": [
        "Navbatdagi qatorimiz esa, `Convolutional Neural Networks (CNN)` modeli yordamida modelimizni train qilish"
      ]
    },
    {
      "cell_type": "code",
      "execution_count": null,
      "metadata": {
        "colab": {
          "base_uri": "https://localhost:8080/"
        },
        "id": "6NnZX-8RRUM4",
        "outputId": "704fdc36-fa61-4adf-a385-78e08a039ffa"
      },
      "outputs": [
        {
          "name": "stderr",
          "output_type": "stream",
          "text": [
            "/usr/local/lib/python3.10/dist-packages/fastai/vision/learner.py:301: UserWarning: `cnn_learner` has been renamed to `vision_learner` -- please update your code\n",
            "  warn(\"`cnn_learner` has been renamed to `vision_learner` -- please update your code\")\n",
            "Downloading: \"https://download.pytorch.org/models/resnet34-b627a593.pth\" to /root/.cache/torch/hub/checkpoints/resnet34-b627a593.pth\n",
            "100%|██████████| 83.3M/83.3M [00:00<00:00, 131MB/s]\n"
          ]
        }
      ],
      "source": [
        "# bu qatorda biz tayyorlab ogan datasetimizni (dls), modelni (resnet34) va metric larni uzatamiz\n",
        "learn = cnn_learner(dls, resnet34, metrics=accuracy)"
      ]
    },
    {
      "cell_type": "markdown",
      "metadata": {
        "id": "sOoglSyB1Qjc"
      },
      "source": [
        "### **Arxitektura:**\n",
        "\n",
        "Biz CNN da qo'llanilgan, `resnet34` arxitekturasidan foydalandik.\n",
        "\n",
        "Nima uchun CNN? Sababi, hozirgi kunda Computer Vision sohasida bu usulni qo'llanilishi juda ham keng tarqalgan va qolgan usullarga qaraganda samaraliroq. Keyinchalik CNN va boshqa arxitekturalar haqida ham to'xtalib o'tamiz.\n",
        "\n",
        "Arxitektura qurish - arxitektura qurish bu deep learningni o'ta muhim qismi deb o'ylamayman. Bu haqida ko'proq tadqiqotchilar, akademiya olamidagi kishilar bosh qotirishni yaxshi ko'rishadi. Aytmoqchimizki, bir qancha standart modeller bor va ularni ko'pchilik holatda qo'llash mumkin. Mana shunday modellerdan biri `ResNet` deb ataladi. Biz modelimizda qurishda `ResNet34` dan foydalandik, ushbu modelning (18, 50, 101 va 152) ko'rinishlari ham mavjud. Bu raqamlar model arxitekturasidagi qatlamlar(layers) sonini anglatadi. Qo'shimcha qilib aytishimiz kerakki, layerlar soni oshgan sari train uchun ko'proq vaqt talab qilinadi.\n",
        "\n",
        "### **Metrics:**\n",
        "Bu modelning qay darajada aniq ishlashini belgilab beradigan parameter. Biz metrics sifatida `accuracy`dan foydalandik va bu bizga qanchalik modelimiz aniq ishlayotganligini ko'rsatadi (takroran aytamiz, `fastai`da accuracy `validation set` yordamida olinadi. Yana bir boshqa `error_rate` deb nomlanuvchi metric ham mavjud, bu esa modelning qay darajada xato ishlayotganligini ko'rsatadi shunchaki matematik ko'rinishdagi ifodasi `(1-accuracy)`."
      ]
    },
    {
      "cell_type": "code",
      "execution_count": null,
      "metadata": {
        "id": "ieS2W5QNukhK"
      },
      "outputs": [],
      "source": [
        "learn.fine_tune(2)"
      ]
    },
    {
      "cell_type": "markdown",
      "source": [
        "### **Fine-Tune**:\n",
        "`Fine-tune` - bu `transfer-learning`da ishlatilinadigan texnika bo'lib, bu orqali biz modelning barcha qismini emas faqat bosh(head) qisminigina train qilamiz.\n",
        "\n",
        "Endi sizda savol tug'iladi,  `transfer-learning` nima? Ana endi `transfer-learning` nima ekanligini tushunib olamiz, va shu bilan sizlarda mushukni taniy oladigan modelimiz qanday qurilganligi haqida to'liq tushuncha paydo bo'ladi."
      ],
      "metadata": {
        "id": "uaQyAONaU9ab"
      }
    },
    {
      "cell_type": "markdown",
      "source": [
        "## Transfer Learning\n",
        "`Transfer Learning (TL)` - bu ML da qo'llaniladigan ilmiy texnika hisoblanib, bir muommoni hal qilishda ortirilgan tajribani boshqa bir (o'xshashroq) muommoni hal qilishda qo'llaniladi. Masalan avtomabillarni rasmini tanuvchi modeldan ortirilgan tajriba yuk moshinalarini rasmini tanishda ishlatilinishi mumkin."
      ],
      "metadata": {
        "id": "hnrNWnPSVBFz"
      }
    },
    {
      "cell_type": "code",
      "source": [],
      "metadata": {
        "id": "g4j8Jy4RVFtJ"
      },
      "execution_count": null,
      "outputs": []
    }
  ],
  "metadata": {
    "colab": {
      "provenance": [],
      "authorship_tag": "ABX9TyMmv6ukQ0uwYR/8dgdGSHVZ",
      "include_colab_link": true
    },
    "kernelspec": {
      "display_name": "Python 3",
      "name": "python3"
    },
    "language_info": {
      "name": "python"
    }
  },
  "nbformat": 4,
  "nbformat_minor": 0
}