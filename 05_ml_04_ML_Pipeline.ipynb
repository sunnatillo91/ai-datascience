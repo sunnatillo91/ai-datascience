{
  "nbformat": 4,
  "nbformat_minor": 0,
  "metadata": {
    "colab": {
      "provenance": [],
      "mount_file_id": "1wKj2McA_cD-c6efTaNDP4taCY_86fvk3",
      "authorship_tag": "ABX9TyOxZWXWVQ11Oq5CKerLzpDy",
      "include_colab_link": true
    },
    "kernelspec": {
      "name": "python3",
      "display_name": "Python 3"
    },
    "language_info": {
      "name": "python"
    }
  },
  "cells": [
    {
      "cell_type": "markdown",
      "metadata": {
        "id": "view-in-github",
        "colab_type": "text"
      },
      "source": [
        "<a href=\"https://colab.research.google.com/github/sunnatillo91/ai-datascience/blob/main/05_ml_04_ML_Pipeline.ipynb\" target=\"_parent\"><img src=\"https://colab.research.google.com/assets/colab-badge.svg\" alt=\"Open In Colab\"/></a>"
      ]
    },
    {
      "cell_type": "markdown",
      "source": [
        "## Data Science va Sun'iy Intellekt Praktikum\n",
        "\n",
        "## 5-MODUL. MACHINE LEARNING\n",
        "\n",
        "## 3-QADAM. Ma'lumotlarni Machine Learning uchun tayyorlash\n",
        "\n",
        "## Pipeline (konveyer)"
      ],
      "metadata": {
        "id": "jbmsUdjvcX2h"
      }
    },
    {
      "cell_type": "code",
      "execution_count": 1,
      "metadata": {
        "id": "lW74-m2bcTsk"
      },
      "outputs": [],
      "source": [
        "import pandas as pd\n",
        "import numpy as np\n",
        "import sklearn  # scikit-leaarn kutubxonasi\n",
        "\n",
        "# Onlayn dataset joylashgan manzilni ko'rsatamiz\n",
        "url = 'http://github.com/ageron/handson-ml2/blob/master/datasets/housing/housing.csv?raw=true'\n",
        "df = pd.read_csv(url)\n",
        "\n",
        "# train\n",
        "from sklearn.model_selection import train_test_split\n",
        "train_set, test_set = train_test_split(df, test_size=0.2, random_state=30)\n",
        "\n",
        "housing= train_set.drop(\"median_house_value\", axis=1)\n",
        "housing_labels=train_set[\"median_house_value\"].copy\n",
        "\n",
        "housing_num=housing.drop(\"ocean_proximity\", axis=1)"
      ]
    },
    {
      "cell_type": "markdown",
      "source": [],
      "metadata": {
        "id": "RvUSP_RLR1S5"
      }
    },
    {
      "cell_type": "code",
      "source": [
        "from sklearn.base import BaseEstimator, TransformerMixin\n",
        "\n",
        "#bizga kerak ustunlar indekslari\n",
        "rooms_ix, bedrooms_ix, population_ix, household_ix = 3, 4, 5, 6\n",
        "\n",
        "class CombinedAttributesAdder(BaseEstimator, TransformerMixin):\n",
        "  def __init__(self, add_bedrooms_per_room = True):\n",
        "    self.add_bedrooms_per_room = add_bedrooms_per_room\n",
        "  def fit(self, X, y=None):\n",
        "    return self\n",
        "  def transform(self, X):\n",
        "    rooms_per_household = X[:, rooms_ix] / X[:, household_ix]\n",
        "    population_per_household = X[:, population_ix] / X[:, household_ix]\n",
        "    if self.add_bedrooms_per_room:\n",
        "      bedrooms_per_room = X[:, bedrooms_ix] / X[:, rooms_ix]\n",
        "      return np.c_[X, rooms_per_household, population_per_household, bedrooms_per_room]\n",
        "    else:\n",
        "      return np.c_[X, rooms_per_household, population_per_household]"
      ],
      "metadata": {
        "id": "ENWDDmSudDFK"
      },
      "execution_count": 2,
      "outputs": []
    },
    {
      "cell_type": "code",
      "source": [
        "from sklearn.pipeline import Pipeline\n",
        "from sklearn.impute import SimpleImputer\n",
        "from sklearn.preprocessing import StandardScaler, OneHotEncoder\n",
        "\n",
        "num_pipeline = Pipeline([\n",
        "  ('imputer', SimpleImputer(strategy=\"median\")),\n",
        "  ('attribs_adder', CombinedAttributesAdder()),\n",
        "  ('std_scaler', StandardScaler()),\n",
        "])\n",
        "\n",
        "num_pipeline.fit_transform(housing_num)"
      ],
      "metadata": {
        "id": "PWVEyWxgdEng",
        "colab": {
          "base_uri": "https://localhost:8080/"
        },
        "outputId": "f9e051be-1e2f-4bef-86a4-edf8a952308d"
      },
      "execution_count": 3,
      "outputs": [
        {
          "output_type": "execute_result",
          "data": {
            "text/plain": [
              "array([[ 0.69045468, -0.74771271,  0.82109487, ..., -0.35013262,\n",
              "         0.17603889,  0.37706385],\n",
              "       [ 0.73042911, -0.79459048,  0.50456328, ...,  0.11173742,\n",
              "        -0.01141653, -0.42460338],\n",
              "       [ 0.80538117, -0.76646382, -0.36589859, ...,  0.45934877,\n",
              "         0.01634478, -1.05766842],\n",
              "       ...,\n",
              "       [ 1.11018621, -1.20242712, -0.91982888, ...,  0.52081087,\n",
              "        -0.09359537, -0.35677881],\n",
              "       [ 0.68046107, -0.74302493,  1.21675935, ..., -0.66455731,\n",
              "         0.0600627 ,  0.961126  ],\n",
              "       [ 0.88033323, -0.69145938, -1.15722757, ...,  0.53409578,\n",
              "         0.0065152 , -0.84314144]])"
            ]
          },
          "metadata": {},
          "execution_count": 3
        }
      ]
    }
  ]
}