{
  "nbformat": 4,
  "nbformat_minor": 0,
  "metadata": {
    "colab": {
      "provenance": [],
      "mount_file_id": "1xm8hLsNzooSQTYRtcw9cp6hnwdzRTniE",
      "authorship_tag": "ABX9TyPM06lBNPn9VgPVstD7i4eQ",
      "include_colab_link": true
    },
    "kernelspec": {
      "name": "python3",
      "display_name": "Python 3"
    },
    "language_info": {
      "name": "python"
    }
  },
  "cells": [
    {
      "cell_type": "markdown",
      "metadata": {
        "id": "view-in-github",
        "colab_type": "text"
      },
      "source": [
        "<a href=\"https://colab.research.google.com/github/sunnatillo91/ai-datascience/blob/main/05_ml_04_ML_Pipeline.ipynb\" target=\"_parent\"><img src=\"https://colab.research.google.com/assets/colab-badge.svg\" alt=\"Open In Colab\"/></a>"
      ]
    },
    {
      "cell_type": "markdown",
      "source": [
        "## Data Science va Sun'iy Intellekt Praktikum\n",
        "\n",
        "## 5-MODUL. MACHINE LEARNING\n",
        "\n",
        "## 3-QADAM. Ma'lumotlarni Machine Learning uchun tayyorlash\n",
        "\n",
        "## Pipeline (konveyer)"
      ],
      "metadata": {
        "id": "jbmsUdjvcX2h"
      }
    },
    {
      "cell_type": "code",
      "execution_count": 1,
      "metadata": {
        "id": "lW74-m2bcTsk"
      },
      "outputs": [],
      "source": [
        "import pandas as pd\n",
        "import numpy as np\n",
        "import sklearn  # scikit-leaarn kutubxonasi\n",
        "\n",
        "# Onlayn dataset joylashgan manzilni ko'rsatamiz\n",
        "url = 'http://github.com/ageron/handson-ml2/blob/master/datasets/housing/housing.csv?raw=true'\n",
        "df = pd.read_csv(url)\n",
        "\n",
        "# train\n",
        "from sklearn.model_selection import train_test_split\n",
        "train_set, test_set = train_test_split(df, test_size=0.2, random_state=30)\n",
        "\n",
        "housing= train_set.drop(\"median_house_value\", axis=1)\n",
        "housing_labels=train_set[\"median_house_value\"].copy\n",
        "\n",
        "housing_num=housing.drop(\"ocean_proximity\", axis=1)"
      ]
    },
    {
      "cell_type": "code",
      "source": [
        "from sklearn.base import BaseEstimator, TransformerMixin\n",
        "\n",
        "#bizga kerak ustunlar indekslari\n",
        "rooms_ix, bedrooms_ix, population_ix, household_ix = 3, 4, 5, 6\n",
        "\n",
        "class CombinedAttributesAdder(BaseEstimator, TransformerMixin):\n",
        "  def __init__(self, add_bedrooms_per_room = True):\n",
        "    self.add_bedrooms_per_room = add_bedrooms_per_room\n",
        "  def fit(self, X, y=None):\n",
        "    return self\n",
        "  def transform(self, X):\n",
        "    rooms_per_household = X[:, rooms_ix] / X[:, household_ix]\n",
        "    population_per_household = X[:, population_ix] / X[:, household_ix]\n",
        "    if self.add_bedrooms_per_room:\n",
        "      bedrooms_per_room = X[:, bedrooms_ix] / X[:, rooms_ix]\n",
        "      return np.c_[X, rooms_per_household, population_per_household, bedrooms_per_room]\n",
        "    else:\n",
        "      return np.c_[X, rooms_per_household, population_per_household]"
      ],
      "metadata": {
        "id": "ENWDDmSudDFK"
      },
      "execution_count": 2,
      "outputs": []
    },
    {
      "cell_type": "markdown",
      "source": [
        "# Pipeline da sonlar"
      ],
      "metadata": {
        "id": "Nv4mowja2R06"
      }
    },
    {
      "cell_type": "code",
      "source": [
        "from sklearn.pipeline import Pipeline\n",
        "from sklearn.impute import SimpleImputer\n",
        "from sklearn.preprocessing import StandardScaler, OneHotEncoder\n",
        "\n",
        "num_pipeline = Pipeline([\n",
        "  ('imputer', SimpleImputer(strategy=\"median\")),\n",
        "  ('attribs_adder', CombinedAttributesAdder()),\n",
        "  ('std_scaler', StandardScaler()),\n",
        "])\n",
        "\n",
        "num_pipeline.fit_transform(housing_num)"
      ],
      "metadata": {
        "id": "PWVEyWxgdEng",
        "colab": {
          "base_uri": "https://localhost:8080/"
        },
        "outputId": "c28c46bb-0357-4750-b899-e91d066d7e5c"
      },
      "execution_count": 3,
      "outputs": [
        {
          "output_type": "execute_result",
          "data": {
            "text/plain": [
              "array([[ 0.69045468, -0.74771271,  0.82109487, ..., -0.35013262,\n",
              "         0.17603889,  0.37706385],\n",
              "       [ 0.73042911, -0.79459048,  0.50456328, ...,  0.11173742,\n",
              "        -0.01141653, -0.42460338],\n",
              "       [ 0.80538117, -0.76646382, -0.36589859, ...,  0.45934877,\n",
              "         0.01634478, -1.05766842],\n",
              "       ...,\n",
              "       [ 1.11018621, -1.20242712, -0.91982888, ...,  0.52081087,\n",
              "        -0.09359537, -0.35677881],\n",
              "       [ 0.68046107, -0.74302493,  1.21675935, ..., -0.66455731,\n",
              "         0.0600627 ,  0.961126  ],\n",
              "       [ 0.88033323, -0.69145938, -1.15722757, ...,  0.53409578,\n",
              "         0.0065152 , -0.84314144]])"
            ]
          },
          "metadata": {},
          "execution_count": 3
        }
      ]
    },
    {
      "cell_type": "markdown",
      "source": [
        "#FullPipeline, Pipeline da matnlar bilan ishlash"
      ],
      "metadata": {
        "id": "CFx8KPGg2Wuy"
      }
    },
    {
      "cell_type": "code",
      "source": [
        "from sklearn.compose import ColumnTransformer\n",
        "\n",
        "num_attribs = list(housing_num)\n",
        "cat_attribs = [\"ocean_proximity\"]\n",
        "\n",
        "full_pipeline = ColumnTransformer([\n",
        "  (\"num\", num_pipeline, num_attribs),\n",
        "  (\"cat\", OneHotEncoder(), cat_attribs),\n",
        "])"
      ],
      "metadata": {
        "id": "rn_SwSKtxKPE"
      },
      "execution_count": 4,
      "outputs": []
    },
    {
      "cell_type": "code",
      "source": [
        "housing_prepared = full_pipeline.fit_transform(housing)"
      ],
      "metadata": {
        "id": "44kZ_GcU4C5M"
      },
      "execution_count": 5,
      "outputs": []
    },
    {
      "cell_type": "code",
      "source": [
        "housing_prepared[0:5,:]"
      ],
      "metadata": {
        "colab": {
          "base_uri": "https://localhost:8080/"
        },
        "id": "CeG9eSrx4I_O",
        "outputId": "b99bd738-e010-470b-e690-87a17667471d"
      },
      "execution_count": 6,
      "outputs": [
        {
          "output_type": "execute_result",
          "data": {
            "text/plain": [
              "array([[ 0.69045468, -0.74771271,  0.82109487, -0.92873698, -0.93634789,\n",
              "        -0.66202411, -0.95892277, -0.50117396, -0.35013262,  0.17603889,\n",
              "         0.37706385,  1.        ,  0.        ,  0.        ,  0.        ,\n",
              "         0.        ],\n",
              "       [ 0.73042911, -0.79459048,  0.50456328, -0.46504724, -0.56167866,\n",
              "        -0.52340119, -0.56608836,  0.36500115,  0.11173742, -0.01141653,\n",
              "        -0.42460338,  1.        ,  0.        ,  0.        ,  0.        ,\n",
              "         0.        ],\n",
              "       [ 0.80538117, -0.76646382, -0.36589859, -0.64951611, -0.85998219,\n",
              "        -0.73357142, -0.82535907,  1.52370993,  0.45934877,  0.01634478,\n",
              "        -1.05766842,  1.        ,  0.        ,  0.        ,  0.        ,\n",
              "         0.        ],\n",
              "       [ 1.24509991, -1.37587489, -0.68243018, -0.20413593, -0.31349013,\n",
              "         0.30028727, -0.2806287 ,  0.11206675,  0.05881522,  0.11950524,\n",
              "        -0.4395989 ,  0.        ,  0.        ,  0.        ,  0.        ,\n",
              "         1.        ],\n",
              "       [ 0.72543231, -0.67739605,  1.84982253,  0.42708633, -0.06530159,\n",
              "         0.00336591, -0.02659578,  1.05577085,  0.73594459, -0.01562641,\n",
              "        -1.09448642,  0.        ,  1.        ,  0.        ,  0.        ,\n",
              "         0.        ]])"
            ]
          },
          "metadata": {},
          "execution_count": 6
        }
      ]
    },
    {
      "cell_type": "code",
      "source": [],
      "metadata": {
        "id": "ql3gN9jj4QRa"
      },
      "execution_count": null,
      "outputs": []
    }
  ]
}