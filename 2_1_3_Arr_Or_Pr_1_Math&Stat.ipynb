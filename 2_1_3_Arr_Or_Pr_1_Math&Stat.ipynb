{
  "nbformat": 4,
  "nbformat_minor": 0,
  "metadata": {
    "colab": {
      "provenance": [],
      "authorship_tag": "ABX9TyPDLVEgBUjECdwegurbFAS+",
      "include_colab_link": true
    },
    "kernelspec": {
      "name": "python3",
      "display_name": "Python 3"
    },
    "language_info": {
      "name": "python"
    }
  },
  "cells": [
    {
      "cell_type": "markdown",
      "metadata": {
        "id": "view-in-github",
        "colab_type": "text"
      },
      "source": [
        "<a href=\"https://colab.research.google.com/github/sunnatillo91/ai-datascience/blob/main/2_1_3_Arr_Or_Pr_1_Math%26Stat.ipynb\" target=\"_parent\"><img src=\"https://colab.research.google.com/assets/colab-badge.svg\" alt=\"Open In Colab\"/></a>"
      ]
    },
    {
      "cell_type": "markdown",
      "source": [
        "# Data Science va Sun'iy Intellekt Praktikum\n",
        "Ma'lumotlar tahlili."
      ],
      "metadata": {
        "id": "LveHC_W0TyPF"
      }
    },
    {
      "cell_type": "markdown",
      "source": [
        "\n",
        "2.1. NumPy kutubxonasi bilan ishlash\n",
        "NumPy kutubxonasini chaqirib olish"
      ],
      "metadata": {
        "id": "o82rkvmGT_CA"
      }
    },
    {
      "cell_type": "code",
      "source": [
        "import numpy as np"
      ],
      "metadata": {
        "id": "PudCDjivS4HR"
      },
      "execution_count": 1,
      "outputs": []
    },
    {
      "cell_type": "markdown",
      "source": [],
      "metadata": {
        "id": "6Qlq2nb2d1p7"
      }
    },
    {
      "cell_type": "markdown",
      "source": [
        "2.1.3. Massivga yo'naltirilgan dasturlash"
      ],
      "metadata": {
        "id": "jd6a4SThTCHv"
      }
    },
    {
      "cell_type": "markdown",
      "source": [
        "#Matematik va statistik amallarni qo'llash"
      ],
      "metadata": {
        "id": "u1XIWr6fTGrR"
      }
    },
    {
      "cell_type": "markdown",
      "source": [
        "# Ko'paytirish, bo'lish, qo'shish, ayirish va h.k. amallar"
      ],
      "metadata": {
        "id": "JW5jSULRTLxf"
      }
    },
    {
      "cell_type": "code",
      "source": [
        "# data\n",
        "arr1 = np.random.randn(5,4) # 5 ga 4 bo'lgan o'lchamli massiv\n",
        "arr1"
      ],
      "metadata": {
        "id": "tQ0OYRHLTOPd",
        "colab": {
          "base_uri": "https://localhost:8080/"
        },
        "outputId": "06757047-bca1-4818-bae3-2ea796843baa"
      },
      "execution_count": 2,
      "outputs": [
        {
          "output_type": "execute_result",
          "data": {
            "text/plain": [
              "array([[-0.78135637,  0.4807153 , -0.79577139, -0.49663732],\n",
              "       [-1.69752253, -0.89875083, -0.18195254,  0.67409445],\n",
              "       [ 0.3311076 , -1.16701047, -1.50876886,  1.08496991],\n",
              "       [-0.65874428,  1.36620033,  0.65598758, -0.92102494],\n",
              "       [-0.65218522, -1.45557113, -0.62797138,  2.14349729]])"
            ]
          },
          "metadata": {},
          "execution_count": 2
        }
      ]
    },
    {
      "cell_type": "code",
      "source": [
        "# sum metodi\n",
        "arr1.sum()  # arr1 ning barcha elementlarini yig'indisini hisoblaydi"
      ],
      "metadata": {
        "id": "vSu86P4DTieb",
        "colab": {
          "base_uri": "https://localhost:8080/"
        },
        "outputId": "9da08735-e2a3-4b83-b12d-2fe9a2b0ec2f"
      },
      "execution_count": 3,
      "outputs": [
        {
          "output_type": "execute_result",
          "data": {
            "text/plain": [
              "-5.106694802454257"
            ]
          },
          "metadata": {},
          "execution_count": 3
        }
      ]
    },
    {
      "cell_type": "code",
      "source": [
        "np.sum(arr1)  # arr1 ning barcha elementlarini yig'indisini hisoblaydi"
      ],
      "metadata": {
        "colab": {
          "base_uri": "https://localhost:8080/"
        },
        "id": "Pe1JiSN9e0gm",
        "outputId": "a79a1c27-817a-4c40-94bc-6807e2fae459"
      },
      "execution_count": 4,
      "outputs": [
        {
          "output_type": "execute_result",
          "data": {
            "text/plain": [
              "-5.106694802454257"
            ]
          },
          "metadata": {},
          "execution_count": 4
        }
      ]
    },
    {
      "cell_type": "code",
      "source": [
        "arr1.sum(axis=1)  # arr1 ning qator yig'indisi"
      ],
      "metadata": {
        "colab": {
          "base_uri": "https://localhost:8080/"
        },
        "id": "W_PKE-F7T4j7",
        "outputId": "61de1f00-0f45-48b0-8e54-67dc5c8327c0"
      },
      "execution_count": 5,
      "outputs": [
        {
          "output_type": "execute_result",
          "data": {
            "text/plain": [
              "array([-1.59304978, -2.10413145, -1.25970182,  0.44241868, -0.59223043])"
            ]
          },
          "metadata": {},
          "execution_count": 5
        }
      ]
    },
    {
      "cell_type": "code",
      "source": [
        "arr1.sum(axis=0)  # arr1 ning ustun yig'indisi"
      ],
      "metadata": {
        "colab": {
          "base_uri": "https://localhost:8080/"
        },
        "id": "6nKniCpeU8tG",
        "outputId": "9d88fd48-ac94-4919-ee17-631bc3a21c26"
      },
      "execution_count": 6,
      "outputs": [
        {
          "output_type": "execute_result",
          "data": {
            "text/plain": [
              "array([-3.4587008 , -1.67441681, -2.45847659,  2.4848994 ])"
            ]
          },
          "metadata": {},
          "execution_count": 6
        }
      ]
    },
    {
      "cell_type": "markdown",
      "source": [
        "# mean metodi"
      ],
      "metadata": {
        "id": "dSp7rMdtgK4Q"
      }
    },
    {
      "cell_type": "code",
      "source": [
        "data = np.arange(5)\n",
        "data"
      ],
      "metadata": {
        "colab": {
          "base_uri": "https://localhost:8080/"
        },
        "id": "co3xcy0HVl1Q",
        "outputId": "7ed33c93-d5d9-4d64-cd18-c9aaaede88ba"
      },
      "execution_count": 7,
      "outputs": [
        {
          "output_type": "execute_result",
          "data": {
            "text/plain": [
              "array([0, 1, 2, 3, 4])"
            ]
          },
          "metadata": {},
          "execution_count": 7
        }
      ]
    },
    {
      "cell_type": "code",
      "source": [
        "np.mean(data)  # massiv elementlarining o'rtacha qiymatini qaytaradi"
      ],
      "metadata": {
        "id": "UCQXWST2WHG8",
        "colab": {
          "base_uri": "https://localhost:8080/"
        },
        "outputId": "f9daa24b-4806-4ce8-9a41-c1b8b01ea6fb"
      },
      "execution_count": 8,
      "outputs": [
        {
          "output_type": "execute_result",
          "data": {
            "text/plain": [
              "2.0"
            ]
          },
          "metadata": {},
          "execution_count": 8
        }
      ]
    },
    {
      "cell_type": "code",
      "source": [
        "np.mean(arr1)   # arr1 elementlarining o'rtacha qiymatini qaytaradi"
      ],
      "metadata": {
        "colab": {
          "base_uri": "https://localhost:8080/"
        },
        "id": "2-mQHz3UccMG",
        "outputId": "e582305e-2f42-4de8-9ec1-c2b54563b368"
      },
      "execution_count": 9,
      "outputs": [
        {
          "output_type": "execute_result",
          "data": {
            "text/plain": [
              "-0.25533474012271284"
            ]
          },
          "metadata": {},
          "execution_count": 9
        }
      ]
    },
    {
      "cell_type": "code",
      "source": [
        "np.mean(arr1, axis=1)   # qator bo'yicha o'rtacha qiymatni qaytaradi"
      ],
      "metadata": {
        "id": "cJF5PifFckz4",
        "colab": {
          "base_uri": "https://localhost:8080/"
        },
        "outputId": "e7d7dc5c-1ac4-44b0-a306-b914dd403724"
      },
      "execution_count": 10,
      "outputs": [
        {
          "output_type": "execute_result",
          "data": {
            "text/plain": [
              "array([-0.39826245, -0.52603286, -0.31492546,  0.11060467, -0.14805761])"
            ]
          },
          "metadata": {},
          "execution_count": 10
        }
      ]
    },
    {
      "cell_type": "code",
      "source": [
        "arr1.mean(axis=0)  #ustun bo'yicha o'rtacha qiymatni qaytaradi"
      ],
      "metadata": {
        "colab": {
          "base_uri": "https://localhost:8080/"
        },
        "id": "Iry9gzOMhmQd",
        "outputId": "4be6126c-a46a-48d7-dcc3-6ea9b9297709"
      },
      "execution_count": 11,
      "outputs": [
        {
          "output_type": "execute_result",
          "data": {
            "text/plain": [
              "array([-0.69174016, -0.33488336, -0.49169532,  0.49697988])"
            ]
          },
          "metadata": {},
          "execution_count": 11
        }
      ]
    },
    {
      "cell_type": "markdown",
      "source": [
        "# **cumsum** metodi"
      ],
      "metadata": {
        "id": "FGvtpHTGiSmD"
      }
    },
    {
      "cell_type": "code",
      "source": [
        "data"
      ],
      "metadata": {
        "colab": {
          "base_uri": "https://localhost:8080/"
        },
        "id": "V7CY3yzJh23j",
        "outputId": "5c951dfd-8614-4a8d-d501-f7ac85048a31"
      },
      "execution_count": 12,
      "outputs": [
        {
          "output_type": "execute_result",
          "data": {
            "text/plain": [
              "array([0, 1, 2, 3, 4])"
            ]
          },
          "metadata": {},
          "execution_count": 12
        }
      ]
    },
    {
      "cell_type": "code",
      "source": [
        "data.cumsum()  # o'zidan oldingi elementlar yig'indisiga o'sha elementni qo'shib element o'rniga yozadi"
      ],
      "metadata": {
        "colab": {
          "base_uri": "https://localhost:8080/"
        },
        "id": "pXc3VH7oiZbj",
        "outputId": "3787a57c-83b8-4b5c-c57e-8ffcba6fe095"
      },
      "execution_count": 14,
      "outputs": [
        {
          "output_type": "execute_result",
          "data": {
            "text/plain": [
              "array([ 0,  1,  3,  6, 10])"
            ]
          },
          "metadata": {},
          "execution_count": 14
        }
      ]
    },
    {
      "cell_type": "code",
      "source": [],
      "metadata": {
        "id": "XELo4ZcUicsU"
      },
      "execution_count": null,
      "outputs": []
    }
  ]
}