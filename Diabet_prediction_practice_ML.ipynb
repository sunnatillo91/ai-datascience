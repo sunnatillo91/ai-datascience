{
  "nbformat": 4,
  "nbformat_minor": 0,
  "metadata": {
    "colab": {
      "provenance": [],
      "mount_file_id": "1mdhVDE5BHusQkFwiPo0xxRaDsJnJKUC0",
      "authorship_tag": "ABX9TyO7gNPxEsIwn9GRsEX+T/1X",
      "include_colab_link": true
    },
    "kernelspec": {
      "name": "python3",
      "display_name": "Python 3"
    },
    "language_info": {
      "name": "python"
    }
  },
  "cells": [
    {
      "cell_type": "markdown",
      "metadata": {
        "id": "view-in-github",
        "colab_type": "text"
      },
      "source": [
        "<a href=\"https://colab.research.google.com/github/sunnatillo91/ai-datascience/blob/main/Diabet_prediction_practice_ML.ipynb\" target=\"_parent\"><img src=\"https://colab.research.google.com/assets/colab-badge.svg\" alt=\"Open In Colab\"/></a>"
      ]
    },
    {
      "cell_type": "markdown",
      "source": [
        "\n",
        "# Data Science va Sun'iy Intellekt Praktikum\n",
        "\n",
        "## 5-MODUL. Machine Learning\n",
        "\n",
        "### Diabet kasalligiga tashxis qo'yish\n",
        "\n"
      ],
      "metadata": {
        "id": "tgzC39RUcDLy"
      }
    },
    {
      "cell_type": "code",
      "source": [
        "import pandas as pd\n",
        "import numpy as np"
      ],
      "metadata": {
        "id": "fCo4x1Y5Quce"
      },
      "execution_count": 1,
      "outputs": []
    },
    {
      "cell_type": "code",
      "source": [
        "df = pd.read_csv('/content/drive/MyDrive/praktikum_datasets/diabetes.csv')\n",
        "df.head()"
      ],
      "metadata": {
        "colab": {
          "base_uri": "https://localhost:8080/",
          "height": 206
        },
        "id": "12Gq82RVLhXF",
        "outputId": "25c87065-8766-44e5-e64a-da3d421ad3b8"
      },
      "execution_count": 2,
      "outputs": [
        {
          "output_type": "execute_result",
          "data": {
            "text/plain": [
              "   Pregnancies  Glucose  BloodPressure  SkinThickness  Insulin   BMI  \\\n",
              "0            6      148             72             35        0  33.6   \n",
              "1            1       85             66             29        0  26.6   \n",
              "2            8      183             64              0        0  23.3   \n",
              "3            1       89             66             23       94  28.1   \n",
              "4            0      137             40             35      168  43.1   \n",
              "\n",
              "   DiabetesPedigreeFunction  Age  Outcome  \n",
              "0                     0.627   50        1  \n",
              "1                     0.351   31        0  \n",
              "2                     0.672   32        1  \n",
              "3                     0.167   21        0  \n",
              "4                     2.288   33        1  "
            ],
            "text/html": [
              "\n",
              "  <div id=\"df-957a72e5-d111-41dc-a955-20fae401292a\" class=\"colab-df-container\">\n",
              "    <div>\n",
              "<style scoped>\n",
              "    .dataframe tbody tr th:only-of-type {\n",
              "        vertical-align: middle;\n",
              "    }\n",
              "\n",
              "    .dataframe tbody tr th {\n",
              "        vertical-align: top;\n",
              "    }\n",
              "\n",
              "    .dataframe thead th {\n",
              "        text-align: right;\n",
              "    }\n",
              "</style>\n",
              "<table border=\"1\" class=\"dataframe\">\n",
              "  <thead>\n",
              "    <tr style=\"text-align: right;\">\n",
              "      <th></th>\n",
              "      <th>Pregnancies</th>\n",
              "      <th>Glucose</th>\n",
              "      <th>BloodPressure</th>\n",
              "      <th>SkinThickness</th>\n",
              "      <th>Insulin</th>\n",
              "      <th>BMI</th>\n",
              "      <th>DiabetesPedigreeFunction</th>\n",
              "      <th>Age</th>\n",
              "      <th>Outcome</th>\n",
              "    </tr>\n",
              "  </thead>\n",
              "  <tbody>\n",
              "    <tr>\n",
              "      <th>0</th>\n",
              "      <td>6</td>\n",
              "      <td>148</td>\n",
              "      <td>72</td>\n",
              "      <td>35</td>\n",
              "      <td>0</td>\n",
              "      <td>33.6</td>\n",
              "      <td>0.627</td>\n",
              "      <td>50</td>\n",
              "      <td>1</td>\n",
              "    </tr>\n",
              "    <tr>\n",
              "      <th>1</th>\n",
              "      <td>1</td>\n",
              "      <td>85</td>\n",
              "      <td>66</td>\n",
              "      <td>29</td>\n",
              "      <td>0</td>\n",
              "      <td>26.6</td>\n",
              "      <td>0.351</td>\n",
              "      <td>31</td>\n",
              "      <td>0</td>\n",
              "    </tr>\n",
              "    <tr>\n",
              "      <th>2</th>\n",
              "      <td>8</td>\n",
              "      <td>183</td>\n",
              "      <td>64</td>\n",
              "      <td>0</td>\n",
              "      <td>0</td>\n",
              "      <td>23.3</td>\n",
              "      <td>0.672</td>\n",
              "      <td>32</td>\n",
              "      <td>1</td>\n",
              "    </tr>\n",
              "    <tr>\n",
              "      <th>3</th>\n",
              "      <td>1</td>\n",
              "      <td>89</td>\n",
              "      <td>66</td>\n",
              "      <td>23</td>\n",
              "      <td>94</td>\n",
              "      <td>28.1</td>\n",
              "      <td>0.167</td>\n",
              "      <td>21</td>\n",
              "      <td>0</td>\n",
              "    </tr>\n",
              "    <tr>\n",
              "      <th>4</th>\n",
              "      <td>0</td>\n",
              "      <td>137</td>\n",
              "      <td>40</td>\n",
              "      <td>35</td>\n",
              "      <td>168</td>\n",
              "      <td>43.1</td>\n",
              "      <td>2.288</td>\n",
              "      <td>33</td>\n",
              "      <td>1</td>\n",
              "    </tr>\n",
              "  </tbody>\n",
              "</table>\n",
              "</div>\n",
              "    <div class=\"colab-df-buttons\">\n",
              "\n",
              "  <div class=\"colab-df-container\">\n",
              "    <button class=\"colab-df-convert\" onclick=\"convertToInteractive('df-957a72e5-d111-41dc-a955-20fae401292a')\"\n",
              "            title=\"Convert this dataframe to an interactive table.\"\n",
              "            style=\"display:none;\">\n",
              "\n",
              "  <svg xmlns=\"http://www.w3.org/2000/svg\" height=\"24px\" viewBox=\"0 -960 960 960\">\n",
              "    <path d=\"M120-120v-720h720v720H120Zm60-500h600v-160H180v160Zm220 220h160v-160H400v160Zm0 220h160v-160H400v160ZM180-400h160v-160H180v160Zm440 0h160v-160H620v160ZM180-180h160v-160H180v160Zm440 0h160v-160H620v160Z\"/>\n",
              "  </svg>\n",
              "    </button>\n",
              "\n",
              "  <style>\n",
              "    .colab-df-container {\n",
              "      display:flex;\n",
              "      gap: 12px;\n",
              "    }\n",
              "\n",
              "    .colab-df-convert {\n",
              "      background-color: #E8F0FE;\n",
              "      border: none;\n",
              "      border-radius: 50%;\n",
              "      cursor: pointer;\n",
              "      display: none;\n",
              "      fill: #1967D2;\n",
              "      height: 32px;\n",
              "      padding: 0 0 0 0;\n",
              "      width: 32px;\n",
              "    }\n",
              "\n",
              "    .colab-df-convert:hover {\n",
              "      background-color: #E2EBFA;\n",
              "      box-shadow: 0px 1px 2px rgba(60, 64, 67, 0.3), 0px 1px 3px 1px rgba(60, 64, 67, 0.15);\n",
              "      fill: #174EA6;\n",
              "    }\n",
              "\n",
              "    .colab-df-buttons div {\n",
              "      margin-bottom: 4px;\n",
              "    }\n",
              "\n",
              "    [theme=dark] .colab-df-convert {\n",
              "      background-color: #3B4455;\n",
              "      fill: #D2E3FC;\n",
              "    }\n",
              "\n",
              "    [theme=dark] .colab-df-convert:hover {\n",
              "      background-color: #434B5C;\n",
              "      box-shadow: 0px 1px 3px 1px rgba(0, 0, 0, 0.15);\n",
              "      filter: drop-shadow(0px 1px 2px rgba(0, 0, 0, 0.3));\n",
              "      fill: #FFFFFF;\n",
              "    }\n",
              "  </style>\n",
              "\n",
              "    <script>\n",
              "      const buttonEl =\n",
              "        document.querySelector('#df-957a72e5-d111-41dc-a955-20fae401292a button.colab-df-convert');\n",
              "      buttonEl.style.display =\n",
              "        google.colab.kernel.accessAllowed ? 'block' : 'none';\n",
              "\n",
              "      async function convertToInteractive(key) {\n",
              "        const element = document.querySelector('#df-957a72e5-d111-41dc-a955-20fae401292a');\n",
              "        const dataTable =\n",
              "          await google.colab.kernel.invokeFunction('convertToInteractive',\n",
              "                                                    [key], {});\n",
              "        if (!dataTable) return;\n",
              "\n",
              "        const docLinkHtml = 'Like what you see? Visit the ' +\n",
              "          '<a target=\"_blank\" href=https://colab.research.google.com/notebooks/data_table.ipynb>data table notebook</a>'\n",
              "          + ' to learn more about interactive tables.';\n",
              "        element.innerHTML = '';\n",
              "        dataTable['output_type'] = 'display_data';\n",
              "        await google.colab.output.renderOutput(dataTable, element);\n",
              "        const docLink = document.createElement('div');\n",
              "        docLink.innerHTML = docLinkHtml;\n",
              "        element.appendChild(docLink);\n",
              "      }\n",
              "    </script>\n",
              "  </div>\n",
              "\n",
              "\n",
              "<div id=\"df-ee8c4565-252f-4264-b85b-b7b03dafc11d\">\n",
              "  <button class=\"colab-df-quickchart\" onclick=\"quickchart('df-ee8c4565-252f-4264-b85b-b7b03dafc11d')\"\n",
              "            title=\"Suggest charts\"\n",
              "            style=\"display:none;\">\n",
              "\n",
              "<svg xmlns=\"http://www.w3.org/2000/svg\" height=\"24px\"viewBox=\"0 0 24 24\"\n",
              "     width=\"24px\">\n",
              "    <g>\n",
              "        <path d=\"M19 3H5c-1.1 0-2 .9-2 2v14c0 1.1.9 2 2 2h14c1.1 0 2-.9 2-2V5c0-1.1-.9-2-2-2zM9 17H7v-7h2v7zm4 0h-2V7h2v10zm4 0h-2v-4h2v4z\"/>\n",
              "    </g>\n",
              "</svg>\n",
              "  </button>\n",
              "\n",
              "<style>\n",
              "  .colab-df-quickchart {\n",
              "      --bg-color: #E8F0FE;\n",
              "      --fill-color: #1967D2;\n",
              "      --hover-bg-color: #E2EBFA;\n",
              "      --hover-fill-color: #174EA6;\n",
              "      --disabled-fill-color: #AAA;\n",
              "      --disabled-bg-color: #DDD;\n",
              "  }\n",
              "\n",
              "  [theme=dark] .colab-df-quickchart {\n",
              "      --bg-color: #3B4455;\n",
              "      --fill-color: #D2E3FC;\n",
              "      --hover-bg-color: #434B5C;\n",
              "      --hover-fill-color: #FFFFFF;\n",
              "      --disabled-bg-color: #3B4455;\n",
              "      --disabled-fill-color: #666;\n",
              "  }\n",
              "\n",
              "  .colab-df-quickchart {\n",
              "    background-color: var(--bg-color);\n",
              "    border: none;\n",
              "    border-radius: 50%;\n",
              "    cursor: pointer;\n",
              "    display: none;\n",
              "    fill: var(--fill-color);\n",
              "    height: 32px;\n",
              "    padding: 0;\n",
              "    width: 32px;\n",
              "  }\n",
              "\n",
              "  .colab-df-quickchart:hover {\n",
              "    background-color: var(--hover-bg-color);\n",
              "    box-shadow: 0 1px 2px rgba(60, 64, 67, 0.3), 0 1px 3px 1px rgba(60, 64, 67, 0.15);\n",
              "    fill: var(--button-hover-fill-color);\n",
              "  }\n",
              "\n",
              "  .colab-df-quickchart-complete:disabled,\n",
              "  .colab-df-quickchart-complete:disabled:hover {\n",
              "    background-color: var(--disabled-bg-color);\n",
              "    fill: var(--disabled-fill-color);\n",
              "    box-shadow: none;\n",
              "  }\n",
              "\n",
              "  .colab-df-spinner {\n",
              "    border: 2px solid var(--fill-color);\n",
              "    border-color: transparent;\n",
              "    border-bottom-color: var(--fill-color);\n",
              "    animation:\n",
              "      spin 1s steps(1) infinite;\n",
              "  }\n",
              "\n",
              "  @keyframes spin {\n",
              "    0% {\n",
              "      border-color: transparent;\n",
              "      border-bottom-color: var(--fill-color);\n",
              "      border-left-color: var(--fill-color);\n",
              "    }\n",
              "    20% {\n",
              "      border-color: transparent;\n",
              "      border-left-color: var(--fill-color);\n",
              "      border-top-color: var(--fill-color);\n",
              "    }\n",
              "    30% {\n",
              "      border-color: transparent;\n",
              "      border-left-color: var(--fill-color);\n",
              "      border-top-color: var(--fill-color);\n",
              "      border-right-color: var(--fill-color);\n",
              "    }\n",
              "    40% {\n",
              "      border-color: transparent;\n",
              "      border-right-color: var(--fill-color);\n",
              "      border-top-color: var(--fill-color);\n",
              "    }\n",
              "    60% {\n",
              "      border-color: transparent;\n",
              "      border-right-color: var(--fill-color);\n",
              "    }\n",
              "    80% {\n",
              "      border-color: transparent;\n",
              "      border-right-color: var(--fill-color);\n",
              "      border-bottom-color: var(--fill-color);\n",
              "    }\n",
              "    90% {\n",
              "      border-color: transparent;\n",
              "      border-bottom-color: var(--fill-color);\n",
              "    }\n",
              "  }\n",
              "</style>\n",
              "\n",
              "  <script>\n",
              "    async function quickchart(key) {\n",
              "      const quickchartButtonEl =\n",
              "        document.querySelector('#' + key + ' button');\n",
              "      quickchartButtonEl.disabled = true;  // To prevent multiple clicks.\n",
              "      quickchartButtonEl.classList.add('colab-df-spinner');\n",
              "      try {\n",
              "        const charts = await google.colab.kernel.invokeFunction(\n",
              "            'suggestCharts', [key], {});\n",
              "      } catch (error) {\n",
              "        console.error('Error during call to suggestCharts:', error);\n",
              "      }\n",
              "      quickchartButtonEl.classList.remove('colab-df-spinner');\n",
              "      quickchartButtonEl.classList.add('colab-df-quickchart-complete');\n",
              "    }\n",
              "    (() => {\n",
              "      let quickchartButtonEl =\n",
              "        document.querySelector('#df-ee8c4565-252f-4264-b85b-b7b03dafc11d button');\n",
              "      quickchartButtonEl.style.display =\n",
              "        google.colab.kernel.accessAllowed ? 'block' : 'none';\n",
              "    })();\n",
              "  </script>\n",
              "</div>\n",
              "\n",
              "    </div>\n",
              "  </div>\n"
            ],
            "application/vnd.google.colaboratory.intrinsic+json": {
              "type": "dataframe",
              "variable_name": "df",
              "summary": "{\n  \"name\": \"df\",\n  \"rows\": 768,\n  \"fields\": [\n    {\n      \"column\": \"Pregnancies\",\n      \"properties\": {\n        \"dtype\": \"number\",\n        \"std\": 3,\n        \"min\": 0,\n        \"max\": 17,\n        \"num_unique_values\": 17,\n        \"samples\": [\n          6,\n          1,\n          3\n        ],\n        \"semantic_type\": \"\",\n        \"description\": \"\"\n      }\n    },\n    {\n      \"column\": \"Glucose\",\n      \"properties\": {\n        \"dtype\": \"number\",\n        \"std\": 31,\n        \"min\": 0,\n        \"max\": 199,\n        \"num_unique_values\": 136,\n        \"samples\": [\n          151,\n          101,\n          112\n        ],\n        \"semantic_type\": \"\",\n        \"description\": \"\"\n      }\n    },\n    {\n      \"column\": \"BloodPressure\",\n      \"properties\": {\n        \"dtype\": \"number\",\n        \"std\": 19,\n        \"min\": 0,\n        \"max\": 122,\n        \"num_unique_values\": 47,\n        \"samples\": [\n          86,\n          46,\n          85\n        ],\n        \"semantic_type\": \"\",\n        \"description\": \"\"\n      }\n    },\n    {\n      \"column\": \"SkinThickness\",\n      \"properties\": {\n        \"dtype\": \"number\",\n        \"std\": 15,\n        \"min\": 0,\n        \"max\": 99,\n        \"num_unique_values\": 51,\n        \"samples\": [\n          7,\n          12,\n          48\n        ],\n        \"semantic_type\": \"\",\n        \"description\": \"\"\n      }\n    },\n    {\n      \"column\": \"Insulin\",\n      \"properties\": {\n        \"dtype\": \"number\",\n        \"std\": 115,\n        \"min\": 0,\n        \"max\": 846,\n        \"num_unique_values\": 186,\n        \"samples\": [\n          52,\n          41,\n          183\n        ],\n        \"semantic_type\": \"\",\n        \"description\": \"\"\n      }\n    },\n    {\n      \"column\": \"BMI\",\n      \"properties\": {\n        \"dtype\": \"number\",\n        \"std\": 7.884160320375446,\n        \"min\": 0.0,\n        \"max\": 67.1,\n        \"num_unique_values\": 248,\n        \"samples\": [\n          19.9,\n          31.0,\n          38.1\n        ],\n        \"semantic_type\": \"\",\n        \"description\": \"\"\n      }\n    },\n    {\n      \"column\": \"DiabetesPedigreeFunction\",\n      \"properties\": {\n        \"dtype\": \"number\",\n        \"std\": 0.3313285950127749,\n        \"min\": 0.078,\n        \"max\": 2.42,\n        \"num_unique_values\": 517,\n        \"samples\": [\n          1.731,\n          0.426,\n          0.138\n        ],\n        \"semantic_type\": \"\",\n        \"description\": \"\"\n      }\n    },\n    {\n      \"column\": \"Age\",\n      \"properties\": {\n        \"dtype\": \"number\",\n        \"std\": 11,\n        \"min\": 21,\n        \"max\": 81,\n        \"num_unique_values\": 52,\n        \"samples\": [\n          60,\n          47,\n          72\n        ],\n        \"semantic_type\": \"\",\n        \"description\": \"\"\n      }\n    },\n    {\n      \"column\": \"Outcome\",\n      \"properties\": {\n        \"dtype\": \"number\",\n        \"std\": 0,\n        \"min\": 0,\n        \"max\": 1,\n        \"num_unique_values\": 2,\n        \"samples\": [\n          0,\n          1\n        ],\n        \"semantic_type\": \"\",\n        \"description\": \"\"\n      }\n    }\n  ]\n}"
            }
          },
          "metadata": {},
          "execution_count": 2
        }
      ]
    },
    {
      "cell_type": "markdown",
      "source": [
        "##Vazifa\n",
        "\n",
        "Quyidagi ma'lumotlar to'plami Hindistonning Qandli diabet va buyrak kasalliklari milliy institutidan olingan. Maqsad diagnostik o'lchovlar asosida bemorda diabet bor-yo'qligini taxmin qilishdir."
      ],
      "metadata": {
        "id": "1637mFf7Nsiy"
      }
    },
    {
      "cell_type": "markdown",
      "source": [
        "\n",
        "##Tarkib\n",
        "\n",
        "Dataset ichida barcha bemorlar kamida 21 yoshli ayollari.\n",
        "\n",
        "##Ustunlar\n",
        "\n",
        "- Pregnancies: homilador bo'lish soni\n",
        "\n",
        "- Glucose: glyukozaga test natijasi\n",
        "\n",
        "- BloodPressure: diastolik qon bosimi (mm Hg)\n",
        "\n",
        "- SkinThickness: Triceps teri burmasining qalinligi (mm)\n",
        "\n",
        "- Insulin: 2 soatlik sarum insulini (mu U/ml)\n",
        "\n",
        "- BMI: Tana massasi indeksi (vazn kg / (m bo'yi) ^ 2)\n",
        "\n",
        "- DiabetesPedigreeFunction: diabetning naslchilik funktsiyasi\n",
        "\n",
        "- Age: Yosh (yil)\n",
        "\n",
        "- Outcome: Class (0 - diabet yo'q, 1 - diabet)"
      ],
      "metadata": {
        "id": "AbLG_uExOLhh"
      }
    },
    {
      "cell_type": "code",
      "source": [
        "df.shape"
      ],
      "metadata": {
        "colab": {
          "base_uri": "https://localhost:8080/"
        },
        "id": "rHAEU3ztNeYy",
        "outputId": "156aced7-2c5d-441b-8b3b-f6d83b0b23ce"
      },
      "execution_count": 3,
      "outputs": [
        {
          "output_type": "execute_result",
          "data": {
            "text/plain": [
              "(768, 9)"
            ]
          },
          "metadata": {},
          "execution_count": 3
        }
      ]
    },
    {
      "cell_type": "code",
      "source": [
        "df.info()"
      ],
      "metadata": {
        "colab": {
          "base_uri": "https://localhost:8080/"
        },
        "id": "PQUVON_IPn1x",
        "outputId": "17d79809-3122-4944-f69f-45df95b08dff"
      },
      "execution_count": 4,
      "outputs": [
        {
          "output_type": "stream",
          "name": "stdout",
          "text": [
            "<class 'pandas.core.frame.DataFrame'>\n",
            "RangeIndex: 768 entries, 0 to 767\n",
            "Data columns (total 9 columns):\n",
            " #   Column                    Non-Null Count  Dtype  \n",
            "---  ------                    --------------  -----  \n",
            " 0   Pregnancies               768 non-null    int64  \n",
            " 1   Glucose                   768 non-null    int64  \n",
            " 2   BloodPressure             768 non-null    int64  \n",
            " 3   SkinThickness             768 non-null    int64  \n",
            " 4   Insulin                   768 non-null    int64  \n",
            " 5   BMI                       768 non-null    float64\n",
            " 6   DiabetesPedigreeFunction  768 non-null    float64\n",
            " 7   Age                       768 non-null    int64  \n",
            " 8   Outcome                   768 non-null    int64  \n",
            "dtypes: float64(2), int64(7)\n",
            "memory usage: 54.1 KB\n"
          ]
        }
      ]
    },
    {
      "cell_type": "code",
      "source": [
        "corr_matrix = df.corr().abs()\n",
        "corr_matrix.style.background_gradient(cmap='coolwarm')"
      ],
      "metadata": {
        "colab": {
          "base_uri": "https://localhost:8080/",
          "height": 331
        },
        "id": "crwBKmEfu_rG",
        "outputId": "6f966a93-504a-4ca1-e13b-e7d34346b24b"
      },
      "execution_count": 5,
      "outputs": [
        {
          "output_type": "execute_result",
          "data": {
            "text/plain": [
              "<pandas.io.formats.style.Styler at 0x7efc4e6ba2f0>"
            ],
            "text/html": [
              "<style type=\"text/css\">\n",
              "#T_c2f3d_row0_col0, #T_c2f3d_row1_col1, #T_c2f3d_row2_col2, #T_c2f3d_row3_col3, #T_c2f3d_row4_col4, #T_c2f3d_row5_col5, #T_c2f3d_row6_col6, #T_c2f3d_row7_col7, #T_c2f3d_row8_col8 {\n",
              "  background-color: #b40426;\n",
              "  color: #f1f1f1;\n",
              "}\n",
              "#T_c2f3d_row0_col1 {\n",
              "  background-color: #516ddb;\n",
              "  color: #f1f1f1;\n",
              "}\n",
              "#T_c2f3d_row0_col2 {\n",
              "  background-color: #5a78e4;\n",
              "  color: #f1f1f1;\n",
              "}\n",
              "#T_c2f3d_row0_col3, #T_c2f3d_row8_col2 {\n",
              "  background-color: #4257c9;\n",
              "  color: #f1f1f1;\n",
              "}\n",
              "#T_c2f3d_row0_col4 {\n",
              "  background-color: #445acc;\n",
              "  color: #f1f1f1;\n",
              "}\n",
              "#T_c2f3d_row0_col5, #T_c2f3d_row0_col6, #T_c2f3d_row1_col3, #T_c2f3d_row2_col8, #T_c2f3d_row3_col1, #T_c2f3d_row5_col0, #T_c2f3d_row5_col7, #T_c2f3d_row6_col2, #T_c2f3d_row6_col7, #T_c2f3d_row7_col4, #T_c2f3d_row7_col6 {\n",
              "  background-color: #3b4cc0;\n",
              "  color: #f1f1f1;\n",
              "}\n",
              "#T_c2f3d_row0_col7 {\n",
              "  background-color: #e4d9d2;\n",
              "  color: #000000;\n",
              "}\n",
              "#T_c2f3d_row0_col8 {\n",
              "  background-color: #6f92f3;\n",
              "  color: #f1f1f1;\n",
              "}\n",
              "#T_c2f3d_row1_col0, #T_c2f3d_row1_col2, #T_c2f3d_row6_col8 {\n",
              "  background-color: #5e7de7;\n",
              "  color: #f1f1f1;\n",
              "}\n",
              "#T_c2f3d_row1_col4 {\n",
              "  background-color: #9fbfff;\n",
              "  color: #000000;\n",
              "}\n",
              "#T_c2f3d_row1_col5, #T_c2f3d_row8_col0 {\n",
              "  background-color: #7ea1fa;\n",
              "  color: #f1f1f1;\n",
              "}\n",
              "#T_c2f3d_row1_col6 {\n",
              "  background-color: #5b7ae5;\n",
              "  color: #f1f1f1;\n",
              "}\n",
              "#T_c2f3d_row1_col7 {\n",
              "  background-color: #88abfd;\n",
              "  color: #000000;\n",
              "}\n",
              "#T_c2f3d_row1_col8 {\n",
              "  background-color: #c9d7f0;\n",
              "  color: #000000;\n",
              "}\n",
              "#T_c2f3d_row2_col0, #T_c2f3d_row6_col5 {\n",
              "  background-color: #6282ea;\n",
              "  color: #f1f1f1;\n",
              "}\n",
              "#T_c2f3d_row2_col1 {\n",
              "  background-color: #5977e3;\n",
              "  color: #f1f1f1;\n",
              "}\n",
              "#T_c2f3d_row2_col3, #T_c2f3d_row4_col6 {\n",
              "  background-color: #6c8ff1;\n",
              "  color: #f1f1f1;\n",
              "}\n",
              "#T_c2f3d_row2_col4, #T_c2f3d_row4_col2 {\n",
              "  background-color: #4961d2;\n",
              "  color: #f1f1f1;\n",
              "}\n",
              "#T_c2f3d_row2_col5 {\n",
              "  background-color: #93b5fe;\n",
              "  color: #000000;\n",
              "}\n",
              "#T_c2f3d_row2_col6, #T_c2f3d_row3_col8, #T_c2f3d_row4_col7 {\n",
              "  background-color: #3d50c3;\n",
              "  color: #f1f1f1;\n",
              "}\n",
              "#T_c2f3d_row2_col7, #T_c2f3d_row8_col7 {\n",
              "  background-color: #80a3fa;\n",
              "  color: #f1f1f1;\n",
              "}\n",
              "#T_c2f3d_row3_col0 {\n",
              "  background-color: #4e68d8;\n",
              "  color: #f1f1f1;\n",
              "}\n",
              "#T_c2f3d_row3_col2, #T_c2f3d_row5_col1 {\n",
              "  background-color: #7295f4;\n",
              "  color: #f1f1f1;\n",
              "}\n",
              "#T_c2f3d_row3_col4 {\n",
              "  background-color: #c4d5f3;\n",
              "  color: #000000;\n",
              "}\n",
              "#T_c2f3d_row3_col5 {\n",
              "  background-color: #bad0f8;\n",
              "  color: #000000;\n",
              "}\n",
              "#T_c2f3d_row3_col6 {\n",
              "  background-color: #6b8df0;\n",
              "  color: #f1f1f1;\n",
              "}\n",
              "#T_c2f3d_row3_col7, #T_c2f3d_row6_col1 {\n",
              "  background-color: #5470de;\n",
              "  color: #f1f1f1;\n",
              "}\n",
              "#T_c2f3d_row4_col0 {\n",
              "  background-color: #4b64d5;\n",
              "  color: #f1f1f1;\n",
              "}\n",
              "#T_c2f3d_row4_col1 {\n",
              "  background-color: #9bbcff;\n",
              "  color: #000000;\n",
              "}\n",
              "#T_c2f3d_row4_col3 {\n",
              "  background-color: #c1d4f4;\n",
              "  color: #000000;\n",
              "}\n",
              "#T_c2f3d_row4_col5 {\n",
              "  background-color: #7597f6;\n",
              "  color: #f1f1f1;\n",
              "}\n",
              "#T_c2f3d_row4_col8 {\n",
              "  background-color: #4f69d9;\n",
              "  color: #f1f1f1;\n",
              "}\n",
              "#T_c2f3d_row5_col2 {\n",
              "  background-color: #8db0fe;\n",
              "  color: #000000;\n",
              "}\n",
              "#T_c2f3d_row5_col3 {\n",
              "  background-color: #b2ccfb;\n",
              "  color: #000000;\n",
              "}\n",
              "#T_c2f3d_row5_col4 {\n",
              "  background-color: #6e90f2;\n",
              "  color: #f1f1f1;\n",
              "}\n",
              "#T_c2f3d_row5_col6 {\n",
              "  background-color: #5d7ce6;\n",
              "  color: #f1f1f1;\n",
              "}\n",
              "#T_c2f3d_row5_col8 {\n",
              "  background-color: #8badfd;\n",
              "  color: #000000;\n",
              "}\n",
              "#T_c2f3d_row6_col0, #T_c2f3d_row7_col5, #T_c2f3d_row8_col3 {\n",
              "  background-color: #3f53c6;\n",
              "  color: #f1f1f1;\n",
              "}\n",
              "#T_c2f3d_row6_col3 {\n",
              "  background-color: #6485ec;\n",
              "  color: #f1f1f1;\n",
              "}\n",
              "#T_c2f3d_row6_col4 {\n",
              "  background-color: #6a8bef;\n",
              "  color: #f1f1f1;\n",
              "}\n",
              "#T_c2f3d_row7_col0 {\n",
              "  background-color: #e6d7cf;\n",
              "  color: #000000;\n",
              "}\n",
              "#T_c2f3d_row7_col1 {\n",
              "  background-color: #81a4fb;\n",
              "  color: #f1f1f1;\n",
              "}\n",
              "#T_c2f3d_row7_col2 {\n",
              "  background-color: #7da0f9;\n",
              "  color: #f1f1f1;\n",
              "}\n",
              "#T_c2f3d_row7_col3 {\n",
              "  background-color: #4c66d6;\n",
              "  color: #f1f1f1;\n",
              "}\n",
              "#T_c2f3d_row7_col8 {\n",
              "  background-color: #7699f6;\n",
              "  color: #f1f1f1;\n",
              "}\n",
              "#T_c2f3d_row8_col1 {\n",
              "  background-color: #cbd8ee;\n",
              "  color: #000000;\n",
              "}\n",
              "#T_c2f3d_row8_col4 {\n",
              "  background-color: #5673e0;\n",
              "  color: #f1f1f1;\n",
              "}\n",
              "#T_c2f3d_row8_col5 {\n",
              "  background-color: #97b8ff;\n",
              "  color: #000000;\n",
              "}\n",
              "#T_c2f3d_row8_col6 {\n",
              "  background-color: #688aef;\n",
              "  color: #f1f1f1;\n",
              "}\n",
              "</style>\n",
              "<table id=\"T_c2f3d\" class=\"dataframe\">\n",
              "  <thead>\n",
              "    <tr>\n",
              "      <th class=\"blank level0\" >&nbsp;</th>\n",
              "      <th id=\"T_c2f3d_level0_col0\" class=\"col_heading level0 col0\" >Pregnancies</th>\n",
              "      <th id=\"T_c2f3d_level0_col1\" class=\"col_heading level0 col1\" >Glucose</th>\n",
              "      <th id=\"T_c2f3d_level0_col2\" class=\"col_heading level0 col2\" >BloodPressure</th>\n",
              "      <th id=\"T_c2f3d_level0_col3\" class=\"col_heading level0 col3\" >SkinThickness</th>\n",
              "      <th id=\"T_c2f3d_level0_col4\" class=\"col_heading level0 col4\" >Insulin</th>\n",
              "      <th id=\"T_c2f3d_level0_col5\" class=\"col_heading level0 col5\" >BMI</th>\n",
              "      <th id=\"T_c2f3d_level0_col6\" class=\"col_heading level0 col6\" >DiabetesPedigreeFunction</th>\n",
              "      <th id=\"T_c2f3d_level0_col7\" class=\"col_heading level0 col7\" >Age</th>\n",
              "      <th id=\"T_c2f3d_level0_col8\" class=\"col_heading level0 col8\" >Outcome</th>\n",
              "    </tr>\n",
              "  </thead>\n",
              "  <tbody>\n",
              "    <tr>\n",
              "      <th id=\"T_c2f3d_level0_row0\" class=\"row_heading level0 row0\" >Pregnancies</th>\n",
              "      <td id=\"T_c2f3d_row0_col0\" class=\"data row0 col0\" >1.000000</td>\n",
              "      <td id=\"T_c2f3d_row0_col1\" class=\"data row0 col1\" >0.129459</td>\n",
              "      <td id=\"T_c2f3d_row0_col2\" class=\"data row0 col2\" >0.141282</td>\n",
              "      <td id=\"T_c2f3d_row0_col3\" class=\"data row0 col3\" >0.081672</td>\n",
              "      <td id=\"T_c2f3d_row0_col4\" class=\"data row0 col4\" >0.073535</td>\n",
              "      <td id=\"T_c2f3d_row0_col5\" class=\"data row0 col5\" >0.017683</td>\n",
              "      <td id=\"T_c2f3d_row0_col6\" class=\"data row0 col6\" >0.033523</td>\n",
              "      <td id=\"T_c2f3d_row0_col7\" class=\"data row0 col7\" >0.544341</td>\n",
              "      <td id=\"T_c2f3d_row0_col8\" class=\"data row0 col8\" >0.221898</td>\n",
              "    </tr>\n",
              "    <tr>\n",
              "      <th id=\"T_c2f3d_level0_row1\" class=\"row_heading level0 row1\" >Glucose</th>\n",
              "      <td id=\"T_c2f3d_row1_col0\" class=\"data row1 col0\" >0.129459</td>\n",
              "      <td id=\"T_c2f3d_row1_col1\" class=\"data row1 col1\" >1.000000</td>\n",
              "      <td id=\"T_c2f3d_row1_col2\" class=\"data row1 col2\" >0.152590</td>\n",
              "      <td id=\"T_c2f3d_row1_col3\" class=\"data row1 col3\" >0.057328</td>\n",
              "      <td id=\"T_c2f3d_row1_col4\" class=\"data row1 col4\" >0.331357</td>\n",
              "      <td id=\"T_c2f3d_row1_col5\" class=\"data row1 col5\" >0.221071</td>\n",
              "      <td id=\"T_c2f3d_row1_col6\" class=\"data row1 col6\" >0.137337</td>\n",
              "      <td id=\"T_c2f3d_row1_col7\" class=\"data row1 col7\" >0.263514</td>\n",
              "      <td id=\"T_c2f3d_row1_col8\" class=\"data row1 col8\" >0.466581</td>\n",
              "    </tr>\n",
              "    <tr>\n",
              "      <th id=\"T_c2f3d_level0_row2\" class=\"row_heading level0 row2\" >BloodPressure</th>\n",
              "      <td id=\"T_c2f3d_row2_col0\" class=\"data row2 col0\" >0.141282</td>\n",
              "      <td id=\"T_c2f3d_row2_col1\" class=\"data row2 col1\" >0.152590</td>\n",
              "      <td id=\"T_c2f3d_row2_col2\" class=\"data row2 col2\" >1.000000</td>\n",
              "      <td id=\"T_c2f3d_row2_col3\" class=\"data row2 col3\" >0.207371</td>\n",
              "      <td id=\"T_c2f3d_row2_col4\" class=\"data row2 col4\" >0.088933</td>\n",
              "      <td id=\"T_c2f3d_row2_col5\" class=\"data row2 col5\" >0.281805</td>\n",
              "      <td id=\"T_c2f3d_row2_col6\" class=\"data row2 col6\" >0.041265</td>\n",
              "      <td id=\"T_c2f3d_row2_col7\" class=\"data row2 col7\" >0.239528</td>\n",
              "      <td id=\"T_c2f3d_row2_col8\" class=\"data row2 col8\" >0.065068</td>\n",
              "    </tr>\n",
              "    <tr>\n",
              "      <th id=\"T_c2f3d_level0_row3\" class=\"row_heading level0 row3\" >SkinThickness</th>\n",
              "      <td id=\"T_c2f3d_row3_col0\" class=\"data row3 col0\" >0.081672</td>\n",
              "      <td id=\"T_c2f3d_row3_col1\" class=\"data row3 col1\" >0.057328</td>\n",
              "      <td id=\"T_c2f3d_row3_col2\" class=\"data row3 col2\" >0.207371</td>\n",
              "      <td id=\"T_c2f3d_row3_col3\" class=\"data row3 col3\" >1.000000</td>\n",
              "      <td id=\"T_c2f3d_row3_col4\" class=\"data row3 col4\" >0.436783</td>\n",
              "      <td id=\"T_c2f3d_row3_col5\" class=\"data row3 col5\" >0.392573</td>\n",
              "      <td id=\"T_c2f3d_row3_col6\" class=\"data row3 col6\" >0.183928</td>\n",
              "      <td id=\"T_c2f3d_row3_col7\" class=\"data row3 col7\" >0.113970</td>\n",
              "      <td id=\"T_c2f3d_row3_col8\" class=\"data row3 col8\" >0.074752</td>\n",
              "    </tr>\n",
              "    <tr>\n",
              "      <th id=\"T_c2f3d_level0_row4\" class=\"row_heading level0 row4\" >Insulin</th>\n",
              "      <td id=\"T_c2f3d_row4_col0\" class=\"data row4 col0\" >0.073535</td>\n",
              "      <td id=\"T_c2f3d_row4_col1\" class=\"data row4 col1\" >0.331357</td>\n",
              "      <td id=\"T_c2f3d_row4_col2\" class=\"data row4 col2\" >0.088933</td>\n",
              "      <td id=\"T_c2f3d_row4_col3\" class=\"data row4 col3\" >0.436783</td>\n",
              "      <td id=\"T_c2f3d_row4_col4\" class=\"data row4 col4\" >1.000000</td>\n",
              "      <td id=\"T_c2f3d_row4_col5\" class=\"data row4 col5\" >0.197859</td>\n",
              "      <td id=\"T_c2f3d_row4_col6\" class=\"data row4 col6\" >0.185071</td>\n",
              "      <td id=\"T_c2f3d_row4_col7\" class=\"data row4 col7\" >0.042163</td>\n",
              "      <td id=\"T_c2f3d_row4_col8\" class=\"data row4 col8\" >0.130548</td>\n",
              "    </tr>\n",
              "    <tr>\n",
              "      <th id=\"T_c2f3d_level0_row5\" class=\"row_heading level0 row5\" >BMI</th>\n",
              "      <td id=\"T_c2f3d_row5_col0\" class=\"data row5 col0\" >0.017683</td>\n",
              "      <td id=\"T_c2f3d_row5_col1\" class=\"data row5 col1\" >0.221071</td>\n",
              "      <td id=\"T_c2f3d_row5_col2\" class=\"data row5 col2\" >0.281805</td>\n",
              "      <td id=\"T_c2f3d_row5_col3\" class=\"data row5 col3\" >0.392573</td>\n",
              "      <td id=\"T_c2f3d_row5_col4\" class=\"data row5 col4\" >0.197859</td>\n",
              "      <td id=\"T_c2f3d_row5_col5\" class=\"data row5 col5\" >1.000000</td>\n",
              "      <td id=\"T_c2f3d_row5_col6\" class=\"data row5 col6\" >0.140647</td>\n",
              "      <td id=\"T_c2f3d_row5_col7\" class=\"data row5 col7\" >0.036242</td>\n",
              "      <td id=\"T_c2f3d_row5_col8\" class=\"data row5 col8\" >0.292695</td>\n",
              "    </tr>\n",
              "    <tr>\n",
              "      <th id=\"T_c2f3d_level0_row6\" class=\"row_heading level0 row6\" >DiabetesPedigreeFunction</th>\n",
              "      <td id=\"T_c2f3d_row6_col0\" class=\"data row6 col0\" >0.033523</td>\n",
              "      <td id=\"T_c2f3d_row6_col1\" class=\"data row6 col1\" >0.137337</td>\n",
              "      <td id=\"T_c2f3d_row6_col2\" class=\"data row6 col2\" >0.041265</td>\n",
              "      <td id=\"T_c2f3d_row6_col3\" class=\"data row6 col3\" >0.183928</td>\n",
              "      <td id=\"T_c2f3d_row6_col4\" class=\"data row6 col4\" >0.185071</td>\n",
              "      <td id=\"T_c2f3d_row6_col5\" class=\"data row6 col5\" >0.140647</td>\n",
              "      <td id=\"T_c2f3d_row6_col6\" class=\"data row6 col6\" >1.000000</td>\n",
              "      <td id=\"T_c2f3d_row6_col7\" class=\"data row6 col7\" >0.033561</td>\n",
              "      <td id=\"T_c2f3d_row6_col8\" class=\"data row6 col8\" >0.173844</td>\n",
              "    </tr>\n",
              "    <tr>\n",
              "      <th id=\"T_c2f3d_level0_row7\" class=\"row_heading level0 row7\" >Age</th>\n",
              "      <td id=\"T_c2f3d_row7_col0\" class=\"data row7 col0\" >0.544341</td>\n",
              "      <td id=\"T_c2f3d_row7_col1\" class=\"data row7 col1\" >0.263514</td>\n",
              "      <td id=\"T_c2f3d_row7_col2\" class=\"data row7 col2\" >0.239528</td>\n",
              "      <td id=\"T_c2f3d_row7_col3\" class=\"data row7 col3\" >0.113970</td>\n",
              "      <td id=\"T_c2f3d_row7_col4\" class=\"data row7 col4\" >0.042163</td>\n",
              "      <td id=\"T_c2f3d_row7_col5\" class=\"data row7 col5\" >0.036242</td>\n",
              "      <td id=\"T_c2f3d_row7_col6\" class=\"data row7 col6\" >0.033561</td>\n",
              "      <td id=\"T_c2f3d_row7_col7\" class=\"data row7 col7\" >1.000000</td>\n",
              "      <td id=\"T_c2f3d_row7_col8\" class=\"data row7 col8\" >0.238356</td>\n",
              "    </tr>\n",
              "    <tr>\n",
              "      <th id=\"T_c2f3d_level0_row8\" class=\"row_heading level0 row8\" >Outcome</th>\n",
              "      <td id=\"T_c2f3d_row8_col0\" class=\"data row8 col0\" >0.221898</td>\n",
              "      <td id=\"T_c2f3d_row8_col1\" class=\"data row8 col1\" >0.466581</td>\n",
              "      <td id=\"T_c2f3d_row8_col2\" class=\"data row8 col2\" >0.065068</td>\n",
              "      <td id=\"T_c2f3d_row8_col3\" class=\"data row8 col3\" >0.074752</td>\n",
              "      <td id=\"T_c2f3d_row8_col4\" class=\"data row8 col4\" >0.130548</td>\n",
              "      <td id=\"T_c2f3d_row8_col5\" class=\"data row8 col5\" >0.292695</td>\n",
              "      <td id=\"T_c2f3d_row8_col6\" class=\"data row8 col6\" >0.173844</td>\n",
              "      <td id=\"T_c2f3d_row8_col7\" class=\"data row8 col7\" >0.238356</td>\n",
              "      <td id=\"T_c2f3d_row8_col8\" class=\"data row8 col8\" >1.000000</td>\n",
              "    </tr>\n",
              "  </tbody>\n",
              "</table>\n"
            ]
          },
          "metadata": {},
          "execution_count": 5
        }
      ]
    },
    {
      "cell_type": "code",
      "source": [
        "df.corrwith(df['Outcome']).abs().sort_values(ascending=False)"
      ],
      "metadata": {
        "colab": {
          "base_uri": "https://localhost:8080/"
        },
        "id": "UzA8tvLXvCcT",
        "outputId": "5ee04d28-885f-4859-a26f-eeb4650ecc36"
      },
      "execution_count": 6,
      "outputs": [
        {
          "output_type": "execute_result",
          "data": {
            "text/plain": [
              "Outcome                     1.000000\n",
              "Glucose                     0.466581\n",
              "BMI                         0.292695\n",
              "Age                         0.238356\n",
              "Pregnancies                 0.221898\n",
              "DiabetesPedigreeFunction    0.173844\n",
              "Insulin                     0.130548\n",
              "SkinThickness               0.074752\n",
              "BloodPressure               0.065068\n",
              "dtype: float64"
            ]
          },
          "metadata": {},
          "execution_count": 6
        }
      ]
    },
    {
      "cell_type": "markdown",
      "source": [
        "## MLga tayyorlaymiz"
      ],
      "metadata": {
        "id": "osxPEB8K9WP0"
      }
    },
    {
      "cell_type": "code",
      "source": [
        "X = df.drop('Outcome',axis=1).values\n",
        "y = df['Outcome']"
      ],
      "metadata": {
        "id": "rznrdk0h0jTa"
      },
      "execution_count": 7,
      "outputs": []
    },
    {
      "cell_type": "code",
      "source": [
        "from sklearn.preprocessing import StandardScaler\n",
        "\n",
        "scaler = StandardScaler()\n",
        "X = scaler.fit_transform(X)"
      ],
      "metadata": {
        "id": "9OuKd_q29khY"
      },
      "execution_count": 8,
      "outputs": []
    },
    {
      "cell_type": "markdown",
      "source": [
        "## ML"
      ],
      "metadata": {
        "id": "BV9GDdFl92CD"
      }
    },
    {
      "cell_type": "code",
      "source": [
        "# Train/test split\n",
        "from sklearn.model_selection import train_test_split\n",
        "X_train, X_test, y_train, y_test = train_test_split(X, y, test_size=0.2, random_state=12)\n",
        "\n",
        "# k-NN\n",
        "from sklearn.neighbors import KNeighborsClassifier\n",
        "knn = KNeighborsClassifier(n_neighbors=15)  # k-ni qiymati\n",
        "\n",
        "knn.fit(X_train, y_train)"
      ],
      "metadata": {
        "colab": {
          "base_uri": "https://localhost:8080/",
          "height": 74
        },
        "id": "fp1XkAun9vwv",
        "outputId": "9ad3567e-b589-4efa-aeec-d8f3f0617002"
      },
      "execution_count": 9,
      "outputs": [
        {
          "output_type": "execute_result",
          "data": {
            "text/plain": [
              "KNeighborsClassifier(n_neighbors=15)"
            ],
            "text/html": [
              "<style>#sk-container-id-1 {color: black;background-color: white;}#sk-container-id-1 pre{padding: 0;}#sk-container-id-1 div.sk-toggleable {background-color: white;}#sk-container-id-1 label.sk-toggleable__label {cursor: pointer;display: block;width: 100%;margin-bottom: 0;padding: 0.3em;box-sizing: border-box;text-align: center;}#sk-container-id-1 label.sk-toggleable__label-arrow:before {content: \"▸\";float: left;margin-right: 0.25em;color: #696969;}#sk-container-id-1 label.sk-toggleable__label-arrow:hover:before {color: black;}#sk-container-id-1 div.sk-estimator:hover label.sk-toggleable__label-arrow:before {color: black;}#sk-container-id-1 div.sk-toggleable__content {max-height: 0;max-width: 0;overflow: hidden;text-align: left;background-color: #f0f8ff;}#sk-container-id-1 div.sk-toggleable__content pre {margin: 0.2em;color: black;border-radius: 0.25em;background-color: #f0f8ff;}#sk-container-id-1 input.sk-toggleable__control:checked~div.sk-toggleable__content {max-height: 200px;max-width: 100%;overflow: auto;}#sk-container-id-1 input.sk-toggleable__control:checked~label.sk-toggleable__label-arrow:before {content: \"▾\";}#sk-container-id-1 div.sk-estimator input.sk-toggleable__control:checked~label.sk-toggleable__label {background-color: #d4ebff;}#sk-container-id-1 div.sk-label input.sk-toggleable__control:checked~label.sk-toggleable__label {background-color: #d4ebff;}#sk-container-id-1 input.sk-hidden--visually {border: 0;clip: rect(1px 1px 1px 1px);clip: rect(1px, 1px, 1px, 1px);height: 1px;margin: -1px;overflow: hidden;padding: 0;position: absolute;width: 1px;}#sk-container-id-1 div.sk-estimator {font-family: monospace;background-color: #f0f8ff;border: 1px dotted black;border-radius: 0.25em;box-sizing: border-box;margin-bottom: 0.5em;}#sk-container-id-1 div.sk-estimator:hover {background-color: #d4ebff;}#sk-container-id-1 div.sk-parallel-item::after {content: \"\";width: 100%;border-bottom: 1px solid gray;flex-grow: 1;}#sk-container-id-1 div.sk-label:hover label.sk-toggleable__label {background-color: #d4ebff;}#sk-container-id-1 div.sk-serial::before {content: \"\";position: absolute;border-left: 1px solid gray;box-sizing: border-box;top: 0;bottom: 0;left: 50%;z-index: 0;}#sk-container-id-1 div.sk-serial {display: flex;flex-direction: column;align-items: center;background-color: white;padding-right: 0.2em;padding-left: 0.2em;position: relative;}#sk-container-id-1 div.sk-item {position: relative;z-index: 1;}#sk-container-id-1 div.sk-parallel {display: flex;align-items: stretch;justify-content: center;background-color: white;position: relative;}#sk-container-id-1 div.sk-item::before, #sk-container-id-1 div.sk-parallel-item::before {content: \"\";position: absolute;border-left: 1px solid gray;box-sizing: border-box;top: 0;bottom: 0;left: 50%;z-index: -1;}#sk-container-id-1 div.sk-parallel-item {display: flex;flex-direction: column;z-index: 1;position: relative;background-color: white;}#sk-container-id-1 div.sk-parallel-item:first-child::after {align-self: flex-end;width: 50%;}#sk-container-id-1 div.sk-parallel-item:last-child::after {align-self: flex-start;width: 50%;}#sk-container-id-1 div.sk-parallel-item:only-child::after {width: 0;}#sk-container-id-1 div.sk-dashed-wrapped {border: 1px dashed gray;margin: 0 0.4em 0.5em 0.4em;box-sizing: border-box;padding-bottom: 0.4em;background-color: white;}#sk-container-id-1 div.sk-label label {font-family: monospace;font-weight: bold;display: inline-block;line-height: 1.2em;}#sk-container-id-1 div.sk-label-container {text-align: center;}#sk-container-id-1 div.sk-container {/* jupyter's `normalize.less` sets `[hidden] { display: none; }` but bootstrap.min.css set `[hidden] { display: none !important; }` so we also need the `!important` here to be able to override the default hidden behavior on the sphinx rendered scikit-learn.org. See: https://github.com/scikit-learn/scikit-learn/issues/21755 */display: inline-block !important;position: relative;}#sk-container-id-1 div.sk-text-repr-fallback {display: none;}</style><div id=\"sk-container-id-1\" class=\"sk-top-container\"><div class=\"sk-text-repr-fallback\"><pre>KNeighborsClassifier(n_neighbors=15)</pre><b>In a Jupyter environment, please rerun this cell to show the HTML representation or trust the notebook. <br />On GitHub, the HTML representation is unable to render, please try loading this page with nbviewer.org.</b></div><div class=\"sk-container\" hidden><div class=\"sk-item\"><div class=\"sk-estimator sk-toggleable\"><input class=\"sk-toggleable__control sk-hidden--visually\" id=\"sk-estimator-id-1\" type=\"checkbox\" checked><label for=\"sk-estimator-id-1\" class=\"sk-toggleable__label sk-toggleable__label-arrow\">KNeighborsClassifier</label><div class=\"sk-toggleable__content\"><pre>KNeighborsClassifier(n_neighbors=15)</pre></div></div></div></div></div>"
            ]
          },
          "metadata": {},
          "execution_count": 9
        }
      ]
    },
    {
      "cell_type": "code",
      "source": [
        "y_pred = knn.predict(X_test)"
      ],
      "metadata": {
        "id": "YxJQ-Rk3-WXg"
      },
      "execution_count": 10,
      "outputs": []
    },
    {
      "cell_type": "markdown",
      "source": [
        "## Baholash\n",
        "### Jaccard index"
      ],
      "metadata": {
        "id": "Ec19-dHw-nJb"
      }
    },
    {
      "cell_type": "code",
      "source": [
        "from sklearn.metrics import jaccard_score\n",
        "jaccard_score(y_test, y_pred)"
      ],
      "metadata": {
        "colab": {
          "base_uri": "https://localhost:8080/"
        },
        "id": "BEuUu_JI-bGq",
        "outputId": "5d34a4ac-d027-4710-a1f9-d2d7b5a88c9a"
      },
      "execution_count": null,
      "outputs": [
        {
          "output_type": "execute_result",
          "data": {
            "text/plain": [
              "0.4520547945205479"
            ]
          },
          "metadata": {},
          "execution_count": 11
        }
      ]
    },
    {
      "cell_type": "code",
      "source": [
        "from sklearn.metrics import jaccard_score\n",
        "jaccard_score(y_test, y_pred)"
      ],
      "metadata": {
        "colab": {
          "base_uri": "https://localhost:8080/"
        },
        "id": "1I-mfUyTI-Hq",
        "outputId": "b35e5bd8-82e6-487b-e12a-c4753f937619"
      },
      "execution_count": 11,
      "outputs": [
        {
          "output_type": "execute_result",
          "data": {
            "text/plain": [
              "0.5454545454545454"
            ]
          },
          "metadata": {},
          "execution_count": 11
        }
      ]
    },
    {
      "cell_type": "markdown",
      "source": [
        "###Confusion matrix"
      ],
      "metadata": {
        "id": "0AHkhZF9-7ny"
      }
    },
    {
      "cell_type": "code",
      "source": [
        "from sklearn.metrics import confusion_matrix\n",
        "import seaborn as sns\n",
        "import matplotlib.pyplot as plt\n",
        "sns.heatmap(confusion_matrix(y_test, y_pred), annot=True, fmt='d')\n",
        "plt.show()"
      ],
      "metadata": {
        "colab": {
          "base_uri": "https://localhost:8080/",
          "height": 430
        },
        "id": "HWAnD1YB-5Wq",
        "outputId": "65806738-9c13-4d95-b973-a1b85e5a94c9"
      },
      "execution_count": null,
      "outputs": [
        {
          "output_type": "display_data",
          "data": {
            "text/plain": [
              "<Figure size 640x480 with 2 Axes>"
            ],
            "image/png": "[encoded data removed]"
          },
          "metadata": {}
        }
      ]
    },
    {
      "cell_type": "code",
      "source": [
        "from sklearn.metrics import confusion_matrix\n",
        "import seaborn as sns\n",
        "import matplotlib.pyplot as plt\n",
        "sns.heatmap(confusion_matrix(y_test, y_pred), annot=True, fmt='d')\n",
        "plt.show()"
      ],
      "metadata": {
        "colab": {
          "base_uri": "https://localhost:8080/",
          "height": 430
        },
        "id": "erWPfbH-JE7y",
        "outputId": "feff4a0b-3cd3-421f-9b1f-66ad72241099"
      },
      "execution_count": 12,
      "outputs": [
        {
          "output_type": "display_data",
          "data": {
            "text/plain": [
              "<Figure size 640x480 with 2 Axes>"
            ],
            "image/png": "[encoded data removed]"
          },
          "metadata": {}
        }
      ]
    },
    {
      "cell_type": "code",
      "source": [
        "confusion_matrix(y_test, y_pred)"
      ],
      "metadata": {
        "colab": {
          "base_uri": "https://localhost:8080/"
        },
        "id": "zkEmkT3K_W3n",
        "outputId": "b5ff60b2-e701-48ef-a5d0-e3a649ae60c4"
      },
      "execution_count": null,
      "outputs": [
        {
          "output_type": "execute_result",
          "data": {
            "text/plain": [
              "array([[81, 18],\n",
              "       [22, 33]])"
            ]
          },
          "metadata": {},
          "execution_count": 13
        }
      ]
    },
    {
      "cell_type": "code",
      "source": [
        "confusion_matrix(y_test, y_pred)"
      ],
      "metadata": {
        "colab": {
          "base_uri": "https://localhost:8080/"
        },
        "id": "4VEWqLDVJTKI",
        "outputId": "09cd0b6e-9c3d-4f14-b85a-947603313da6"
      },
      "execution_count": 13,
      "outputs": [
        {
          "output_type": "execute_result",
          "data": {
            "text/plain": [
              "array([[88, 11],\n",
              "       [19, 36]])"
            ]
          },
          "metadata": {},
          "execution_count": 13
        }
      ]
    },
    {
      "cell_type": "markdown",
      "source": [
        "#Precision, recall, F1"
      ],
      "metadata": {
        "id": "6miYs6wkBnkI"
      }
    },
    {
      "cell_type": "code",
      "source": [
        "# 1-usul\n",
        "from sklearn.metrics import classification_report\n",
        "print(classification_report(y_test, y_pred))"
      ],
      "metadata": {
        "colab": {
          "base_uri": "https://localhost:8080/"
        },
        "id": "HBRoUH-MBX-y",
        "outputId": "f2d52f43-a6f7-4d13-f4f7-4dca3cafe280"
      },
      "execution_count": null,
      "outputs": [
        {
          "output_type": "stream",
          "name": "stdout",
          "text": [
            "              precision    recall  f1-score   support\n",
            "\n",
            "           0       0.79      0.82      0.80        99\n",
            "           1       0.65      0.60      0.62        55\n",
            "\n",
            "    accuracy                           0.74       154\n",
            "   macro avg       0.72      0.71      0.71       154\n",
            "weighted avg       0.74      0.74      0.74       154\n",
            "\n"
          ]
        }
      ]
    },
    {
      "cell_type": "code",
      "source": [
        "# 1-usul\n",
        "from sklearn.metrics import classification_report\n",
        "print(classification_report(y_test, y_pred))"
      ],
      "metadata": {
        "colab": {
          "base_uri": "https://localhost:8080/"
        },
        "id": "gjAZyAEGKW6Y",
        "outputId": "55d11089-b883-4dac-e64d-a891e7c8d5eb"
      },
      "execution_count": 14,
      "outputs": [
        {
          "output_type": "stream",
          "name": "stdout",
          "text": [
            "              precision    recall  f1-score   support\n",
            "\n",
            "           0       0.82      0.89      0.85        99\n",
            "           1       0.77      0.65      0.71        55\n",
            "\n",
            "    accuracy                           0.81       154\n",
            "   macro avg       0.79      0.77      0.78       154\n",
            "weighted avg       0.80      0.81      0.80       154\n",
            "\n"
          ]
        }
      ]
    },
    {
      "cell_type": "code",
      "source": [
        "# 2-Usul\n",
        "from sklearn.metrics import precision_score, recall_score, f1_score, accuracy_score\n",
        "precision = precision_score(y_test, y_pred)\n",
        "recall= recall_score(y_test, y_pred)\n",
        "f1 = f1_score(y_test, y_pred)\n",
        "accuracy = accuracy_score(y_test, y_pred)\n",
        "print(f\"{precision=}\\n{recall=}\\n{f1_score=}\\n{accuracy_score=}\")"
      ],
      "metadata": {
        "colab": {
          "base_uri": "https://localhost:8080/"
        },
        "id": "2pSqtD2uBzqI",
        "outputId": "93ad3234-f441-4b7b-ca05-72fbf537a9c5"
      },
      "execution_count": null,
      "outputs": [
        {
          "output_type": "stream",
          "name": "stdout",
          "text": [
            "precision=0.6470588235294118\n",
            "recall=0.6\n",
            "f1_score=<function f1_score at 0x7e59ddf95870>\n",
            "accuracy_score=<function accuracy_score at 0x7e59ddf95510>\n"
          ]
        }
      ]
    },
    {
      "cell_type": "code",
      "source": [
        "# 2-Usul\n",
        "from sklearn.metrics import precision_score, recall_score, f1_score, accuracy_score\n",
        "precision = precision_score(y_test, y_pred)\n",
        "recall= recall_score(y_test, y_pred)\n",
        "f1 = f1_score(y_test, y_pred)\n",
        "accuracy = accuracy_score(y_test, y_pred)\n",
        "print(f\"{precision=}\\n{recall=}\\n{f1_score=}\\n{accuracy_score=}\")"
      ],
      "metadata": {
        "colab": {
          "base_uri": "https://localhost:8080/"
        },
        "id": "JFshLoegKf7w",
        "outputId": "cbf8ed7e-b1f6-4153-b40c-4a578fdd4dab"
      },
      "execution_count": 15,
      "outputs": [
        {
          "output_type": "stream",
          "name": "stdout",
          "text": [
            "precision=0.7659574468085106\n",
            "recall=0.6545454545454545\n",
            "f1_score=<function f1_score at 0x7efc44921120>\n",
            "accuracy_score=<function accuracy_score at 0x7efc44920dc0>\n"
          ]
        }
      ]
    },
    {
      "cell_type": "markdown",
      "source": [
        "### Cross validation yordamida tekshiramiz"
      ],
      "metadata": {
        "id": "2c3bH_A4DO-F"
      }
    },
    {
      "cell_type": "code",
      "source": [
        "# Cross validation\n",
        "from sklearn.model_selection import cross_val_predict\n",
        "predict = cross_val_predict(estimator = knn, X=X, y=y, cv=5)\n",
        "\n",
        "# Modelni baholash\n",
        "from sklearn.metrics import classification_report\n",
        "print(\"Classification report: \\n\", classification_report(y, predict))"
      ],
      "metadata": {
        "colab": {
          "base_uri": "https://localhost:8080/"
        },
        "id": "UnZW7_7QCwTE",
        "outputId": "6080b796-4d20-471c-8a44-a5e3899031a6"
      },
      "execution_count": null,
      "outputs": [
        {
          "output_type": "stream",
          "name": "stdout",
          "text": [
            "Classification report: \n",
            "               precision    recall  f1-score   support\n",
            "\n",
            "           0       0.78      0.83      0.80       500\n",
            "           1       0.64      0.55      0.59       268\n",
            "\n",
            "    accuracy                           0.73       768\n",
            "   macro avg       0.71      0.69      0.70       768\n",
            "weighted avg       0.73      0.73      0.73       768\n",
            "\n"
          ]
        }
      ]
    },
    {
      "cell_type": "code",
      "source": [
        "# Cross validation\n",
        "from sklearn.model_selection import cross_val_predict\n",
        "predict = cross_val_predict(estimator = knn, X=X, y=y, cv=5)\n",
        "\n",
        "# Modelni baholash\n",
        "from sklearn.metrics import classification_report\n",
        "print(\"Classification report: \\n\", classification_report(y, predict))"
      ],
      "metadata": {
        "colab": {
          "base_uri": "https://localhost:8080/"
        },
        "id": "myxCZq0CKolS",
        "outputId": "9b02fe65-fe5c-4d40-a02d-dd89d980f019"
      },
      "execution_count": 16,
      "outputs": [
        {
          "output_type": "stream",
          "name": "stdout",
          "text": [
            "Classification report: \n",
            "               precision    recall  f1-score   support\n",
            "\n",
            "           0       0.78      0.88      0.83       500\n",
            "           1       0.71      0.54      0.61       268\n",
            "\n",
            "    accuracy                           0.76       768\n",
            "   macro avg       0.74      0.71      0.72       768\n",
            "weighted avg       0.76      0.76      0.75       768\n",
            "\n"
          ]
        }
      ]
    },
    {
      "cell_type": "markdown",
      "source": [
        "## Eng yaxshi k ni topish\n",
        "### for yordamida"
      ],
      "metadata": {
        "id": "07Tq2JNkAUqc"
      }
    },
    {
      "cell_type": "code",
      "source": [
        "f1 = []\n",
        "for k in range(1,25):\n",
        "  knn = KNeighborsClassifier(n_neighbors=k)  # k-ni qiymati\n",
        "  knn.fit(X_train, y_train)\n",
        "  y_predict = knn.predict(X_test)\n",
        "  f1.append(f1_score(y_test, y_predict))\n",
        "\n",
        "plt.figure(figsize=(10,6))\n",
        "plt.plot(range(1,25), f1)\n",
        "plt.xticks(range(1,25))\n",
        "plt.xlabel('k')\n",
        "plt.ylabel('f1')\n",
        "plt.show()"
      ],
      "metadata": {
        "id": "Jt3BpDcyEdqE",
        "colab": {
          "base_uri": "https://localhost:8080/",
          "height": 542
        },
        "outputId": "8abcf65f-5b0a-4ead-b91d-963773e8103c"
      },
      "execution_count": null,
      "outputs": [
        {
          "output_type": "display_data",
          "data": {
            "text/plain": [
              "<Figure size 1000x600 with 1 Axes>"
            ],
            "image/png": "[encoded data removed]"
          },
          "metadata": {}
        }
      ]
    },
    {
      "cell_type": "code",
      "source": [
        "f1 = []\n",
        "for k in range(1,25):\n",
        "  knn = KNeighborsClassifier(n_neighbors=k)  # k-ni qiymati\n",
        "  knn.fit(X_train, y_train)\n",
        "  y_predict = knn.predict(X_test)\n",
        "  f1.append(f1_score(y_test, y_predict))\n",
        "\n",
        "plt.figure(figsize=(10,6))\n",
        "plt.plot(range(1,25), f1)\n",
        "plt.xticks(range(1,25))\n",
        "plt.xlabel('k')\n",
        "plt.ylabel('f1')\n",
        "plt.show()"
      ],
      "metadata": {
        "colab": {
          "base_uri": "https://localhost:8080/",
          "height": 542
        },
        "id": "wsDgjuddL6m4",
        "outputId": "ec00e03e-ab77-4e00-92a5-33157ad507a4"
      },
      "execution_count": 17,
      "outputs": [
        {
          "output_type": "display_data",
          "data": {
            "text/plain": [
              "<Figure size 1000x600 with 1 Axes>"
            ],
            "image/png": "[encoded data removed]"
          },
          "metadata": {}
        }
      ]
    },
    {
      "cell_type": "markdown",
      "source": [
        "### Grid search yordamida"
      ],
      "metadata": {
        "id": "dEJTXM-5Gh47"
      }
    },
    {
      "cell_type": "code",
      "source": [
        "from sklearn.model_selection import GridSearchCV\n",
        "\n",
        "param_grid = {'n_neighbors': np.arange(1, 25)}\n",
        "knn = KNeighborsClassifier()\n",
        "knn_gscv = GridSearchCV(knn, param_grid, cv=5)\n",
        "knn_gscv.fit(X, y)"
      ],
      "metadata": {
        "colab": {
          "base_uri": "https://localhost:8080/",
          "height": 118
        },
        "id": "SFH9-ywJCeeu",
        "outputId": "46af63ed-e944-4e75-ae31-b212bbeca2a7"
      },
      "execution_count": null,
      "outputs": [
        {
          "output_type": "execute_result",
          "data": {
            "text/plain": [
              "GridSearchCV(cv=5, estimator=KNeighborsClassifier(),\n",
              "             param_grid={'n_neighbors': array([ 1,  2,  3,  4,  5,  6,  7,  8,  9, 10, 11, 12, 13, 14, 15, 16, 17,\n",
              "       18, 19, 20, 21, 22, 23, 24])})"
            ],
            "text/html": [
              "<style>#sk-container-id-2 {color: black;background-color: white;}#sk-container-id-2 pre{padding: 0;}#sk-container-id-2 div.sk-toggleable {background-color: white;}#sk-container-id-2 label.sk-toggleable__label {cursor: pointer;display: block;width: 100%;margin-bottom: 0;padding: 0.3em;box-sizing: border-box;text-align: center;}#sk-container-id-2 label.sk-toggleable__label-arrow:before {content: \"▸\";float: left;margin-right: 0.25em;color: #696969;}#sk-container-id-2 label.sk-toggleable__label-arrow:hover:before {color: black;}#sk-container-id-2 div.sk-estimator:hover label.sk-toggleable__label-arrow:before {color: black;}#sk-container-id-2 div.sk-toggleable__content {max-height: 0;max-width: 0;overflow: hidden;text-align: left;background-color: #f0f8ff;}#sk-container-id-2 div.sk-toggleable__content pre {margin: 0.2em;color: black;border-radius: 0.25em;background-color: #f0f8ff;}#sk-container-id-2 input.sk-toggleable__control:checked~div.sk-toggleable__content {max-height: 200px;max-width: 100%;overflow: auto;}#sk-container-id-2 input.sk-toggleable__control:checked~label.sk-toggleable__label-arrow:before {content: \"▾\";}#sk-container-id-2 div.sk-estimator input.sk-toggleable__control:checked~label.sk-toggleable__label {background-color: #d4ebff;}#sk-container-id-2 div.sk-label input.sk-toggleable__control:checked~label.sk-toggleable__label {background-color: #d4ebff;}#sk-container-id-2 input.sk-hidden--visually {border: 0;clip: rect(1px 1px 1px 1px);clip: rect(1px, 1px, 1px, 1px);height: 1px;margin: -1px;overflow: hidden;padding: 0;position: absolute;width: 1px;}#sk-container-id-2 div.sk-estimator {font-family: monospace;background-color: #f0f8ff;border: 1px dotted black;border-radius: 0.25em;box-sizing: border-box;margin-bottom: 0.5em;}#sk-container-id-2 div.sk-estimator:hover {background-color: #d4ebff;}#sk-container-id-2 div.sk-parallel-item::after {content: \"\";width: 100%;border-bottom: 1px solid gray;flex-grow: 1;}#sk-container-id-2 div.sk-label:hover label.sk-toggleable__label {background-color: #d4ebff;}#sk-container-id-2 div.sk-serial::before {content: \"\";position: absolute;border-left: 1px solid gray;box-sizing: border-box;top: 0;bottom: 0;left: 50%;z-index: 0;}#sk-container-id-2 div.sk-serial {display: flex;flex-direction: column;align-items: center;background-color: white;padding-right: 0.2em;padding-left: 0.2em;position: relative;}#sk-container-id-2 div.sk-item {position: relative;z-index: 1;}#sk-container-id-2 div.sk-parallel {display: flex;align-items: stretch;justify-content: center;background-color: white;position: relative;}#sk-container-id-2 div.sk-item::before, #sk-container-id-2 div.sk-parallel-item::before {content: \"\";position: absolute;border-left: 1px solid gray;box-sizing: border-box;top: 0;bottom: 0;left: 50%;z-index: -1;}#sk-container-id-2 div.sk-parallel-item {display: flex;flex-direction: column;z-index: 1;position: relative;background-color: white;}#sk-container-id-2 div.sk-parallel-item:first-child::after {align-self: flex-end;width: 50%;}#sk-container-id-2 div.sk-parallel-item:last-child::after {align-self: flex-start;width: 50%;}#sk-container-id-2 div.sk-parallel-item:only-child::after {width: 0;}#sk-container-id-2 div.sk-dashed-wrapped {border: 1px dashed gray;margin: 0 0.4em 0.5em 0.4em;box-sizing: border-box;padding-bottom: 0.4em;background-color: white;}#sk-container-id-2 div.sk-label label {font-family: monospace;font-weight: bold;display: inline-block;line-height: 1.2em;}#sk-container-id-2 div.sk-label-container {text-align: center;}#sk-container-id-2 div.sk-container {/* jupyter's `normalize.less` sets `[hidden] { display: none; }` but bootstrap.min.css set `[hidden] { display: none !important; }` so we also need the `!important` here to be able to override the default hidden behavior on the sphinx rendered scikit-learn.org. See: https://github.com/scikit-learn/scikit-learn/issues/21755 */display: inline-block !important;position: relative;}#sk-container-id-2 div.sk-text-repr-fallback {display: none;}</style><div id=\"sk-container-id-2\" class=\"sk-top-container\"><div class=\"sk-text-repr-fallback\"><pre>GridSearchCV(cv=5, estimator=KNeighborsClassifier(),\n",
              "             param_grid={&#x27;n_neighbors&#x27;: array([ 1,  2,  3,  4,  5,  6,  7,  8,  9, 10, 11, 12, 13, 14, 15, 16, 17,\n",
              "       18, 19, 20, 21, 22, 23, 24])})</pre><b>In a Jupyter environment, please rerun this cell to show the HTML representation or trust the notebook. <br />On GitHub, the HTML representation is unable to render, please try loading this page with nbviewer.org.</b></div><div class=\"sk-container\" hidden><div class=\"sk-item sk-dashed-wrapped\"><div class=\"sk-label-container\"><div class=\"sk-label sk-toggleable\"><input class=\"sk-toggleable__control sk-hidden--visually\" id=\"sk-estimator-id-2\" type=\"checkbox\" ><label for=\"sk-estimator-id-2\" class=\"sk-toggleable__label sk-toggleable__label-arrow\">GridSearchCV</label><div class=\"sk-toggleable__content\"><pre>GridSearchCV(cv=5, estimator=KNeighborsClassifier(),\n",
              "             param_grid={&#x27;n_neighbors&#x27;: array([ 1,  2,  3,  4,  5,  6,  7,  8,  9, 10, 11, 12, 13, 14, 15, 16, 17,\n",
              "       18, 19, 20, 21, 22, 23, 24])})</pre></div></div></div><div class=\"sk-parallel\"><div class=\"sk-parallel-item\"><div class=\"sk-item\"><div class=\"sk-label-container\"><div class=\"sk-label sk-toggleable\"><input class=\"sk-toggleable__control sk-hidden--visually\" id=\"sk-estimator-id-3\" type=\"checkbox\" ><label for=\"sk-estimator-id-3\" class=\"sk-toggleable__label sk-toggleable__label-arrow\">estimator: KNeighborsClassifier</label><div class=\"sk-toggleable__content\"><pre>KNeighborsClassifier()</pre></div></div></div><div class=\"sk-serial\"><div class=\"sk-item\"><div class=\"sk-estimator sk-toggleable\"><input class=\"sk-toggleable__control sk-hidden--visually\" id=\"sk-estimator-id-4\" type=\"checkbox\" ><label for=\"sk-estimator-id-4\" class=\"sk-toggleable__label sk-toggleable__label-arrow\">KNeighborsClassifier</label><div class=\"sk-toggleable__content\"><pre>KNeighborsClassifier()</pre></div></div></div></div></div></div></div></div></div></div>"
            ]
          },
          "metadata": {},
          "execution_count": 18
        }
      ]
    },
    {
      "cell_type": "code",
      "source": [
        "knn_gscv.cv_results_"
      ],
      "metadata": {
        "colab": {
          "base_uri": "https://localhost:8080/"
        },
        "id": "_xC-aDH3HJTr",
        "outputId": "26ecdcdf-fbee-4f97-ee5b-7347b663e4fb"
      },
      "execution_count": null,
      "outputs": [
        {
          "output_type": "execute_result",
          "data": {
            "text/plain": [
              "{'mean_fit_time': array([0.00187197, 0.00179844, 0.00165672, 0.00157413, 0.00164757,\n",
              "        0.00182748, 0.00185175, 0.00208669, 0.00201001, 0.00160489,\n",
              "        0.0015923 , 0.00208254, 0.00201287, 0.00164819, 0.00226231,\n",
              "        0.00166869, 0.00175266, 0.001548  , 0.00156107, 0.00175896,\n",
              "        0.0019505 , 0.00186257, 0.00179138, 0.00170875]),\n",
              " 'std_fit_time': array([4.01298532e-04, 1.67403761e-04, 4.04478788e-05, 1.82259114e-05,\n",
              "        4.76814746e-05, 3.27210613e-04, 9.71946199e-05, 5.21479838e-04,\n",
              "        4.54636727e-04, 3.61399157e-05, 3.27391684e-05, 9.99446457e-04,\n",
              "        4.30174582e-04, 8.49577434e-05, 1.13065959e-03, 1.80492092e-04,\n",
              "        2.49867785e-04, 4.39392957e-05, 5.17113575e-05, 4.24278776e-04,\n",
              "        5.08979744e-04, 4.36465682e-04, 3.15031721e-04, 1.67336352e-04]),\n",
              " 'mean_score_time': array([0.01170039, 0.01102014, 0.0110189 , 0.01074266, 0.0116663 ,\n",
              "        0.01150503, 0.01210022, 0.0165916 , 0.01521192, 0.01097307,\n",
              "        0.01196399, 0.01432352, 0.01280947, 0.01186662, 0.01251383,\n",
              "        0.01169181, 0.01292448, 0.0115602 , 0.0117754 , 0.01296134,\n",
              "        0.01370792, 0.01288013, 0.0143889 , 0.01186504]),\n",
              " 'std_score_time': array([1.56438554e-03, 3.55803746e-04, 3.62720144e-04, 2.38958272e-04,\n",
              "        1.21154454e-03, 1.10508727e-03, 9.38850988e-04, 5.96667692e-03,\n",
              "        2.54645198e-03, 9.89334951e-05, 1.60937348e-03, 4.44020599e-03,\n",
              "        1.22102271e-03, 3.71740591e-04, 1.77880052e-03, 2.40908732e-04,\n",
              "        2.07934000e-03, 3.00093441e-04, 4.54254173e-04, 2.01685611e-03,\n",
              "        1.95144487e-03, 1.06650418e-03, 3.08681693e-03, 2.79790012e-04]),\n",
              " 'param_n_neighbors': masked_array(data=[1, 2, 3, 4, 5, 6, 7, 8, 9, 10, 11, 12, 13, 14, 15, 16,\n",
              "                    17, 18, 19, 20, 21, 22, 23, 24],\n",
              "              mask=[False, False, False, False, False, False, False, False,\n",
              "                    False, False, False, False, False, False, False, False,\n",
              "                    False, False, False, False, False, False, False, False],\n",
              "        fill_value='?',\n",
              "             dtype=object),\n",
              " 'params': [{'n_neighbors': 1},\n",
              "  {'n_neighbors': 2},\n",
              "  {'n_neighbors': 3},\n",
              "  {'n_neighbors': 4},\n",
              "  {'n_neighbors': 5},\n",
              "  {'n_neighbors': 6},\n",
              "  {'n_neighbors': 7},\n",
              "  {'n_neighbors': 8},\n",
              "  {'n_neighbors': 9},\n",
              "  {'n_neighbors': 10},\n",
              "  {'n_neighbors': 11},\n",
              "  {'n_neighbors': 12},\n",
              "  {'n_neighbors': 13},\n",
              "  {'n_neighbors': 14},\n",
              "  {'n_neighbors': 15},\n",
              "  {'n_neighbors': 16},\n",
              "  {'n_neighbors': 17},\n",
              "  {'n_neighbors': 18},\n",
              "  {'n_neighbors': 19},\n",
              "  {'n_neighbors': 20},\n",
              "  {'n_neighbors': 21},\n",
              "  {'n_neighbors': 22},\n",
              "  {'n_neighbors': 23},\n",
              "  {'n_neighbors': 24}],\n",
              " 'split0_test_score': array([0.72077922, 0.73376623, 0.72077922, 0.72727273, 0.72077922,\n",
              "        0.75324675, 0.73376623, 0.72727273, 0.73376623, 0.74025974,\n",
              "        0.75974026, 0.73376623, 0.75974026, 0.72727273, 0.75324675,\n",
              "        0.75974026, 0.75324675, 0.75974026, 0.75324675, 0.76623377,\n",
              "        0.75324675, 0.75974026, 0.75974026, 0.74025974]),\n",
              " 'split1_test_score': array([0.69480519, 0.7012987 , 0.71428571, 0.72077922, 0.73376623,\n",
              "        0.70779221, 0.70779221, 0.72077922, 0.71428571, 0.74675325,\n",
              "        0.74675325, 0.75974026, 0.75324675, 0.75324675, 0.74675325,\n",
              "        0.73376623, 0.74025974, 0.72077922, 0.72727273, 0.70779221,\n",
              "        0.70779221, 0.70779221, 0.71428571, 0.72077922]),\n",
              " 'split2_test_score': array([0.68181818, 0.68831169, 0.74025974, 0.72077922, 0.71428571,\n",
              "        0.74025974, 0.77922078, 0.76623377, 0.72727273, 0.71428571,\n",
              "        0.73376623, 0.74675325, 0.74675325, 0.74025974, 0.74675325,\n",
              "        0.74025974, 0.75974026, 0.75324675, 0.75974026, 0.72727273,\n",
              "        0.75974026, 0.74025974, 0.75324675, 0.74025974]),\n",
              " 'split3_test_score': array([0.75163399, 0.77124183, 0.79084967, 0.78431373, 0.77124183,\n",
              "        0.75816993, 0.75816993, 0.77124183, 0.78431373, 0.75816993,\n",
              "        0.76470588, 0.78431373, 0.77777778, 0.77777778, 0.79738562,\n",
              "        0.76470588, 0.81045752, 0.78431373, 0.79738562, 0.77777778,\n",
              "        0.78431373, 0.77124183, 0.77124183, 0.77777778]),\n",
              " 'split4_test_score': array([0.7124183 , 0.70588235, 0.74509804, 0.74509804, 0.7254902 ,\n",
              "        0.7124183 , 0.73202614, 0.7254902 , 0.71895425, 0.73202614,\n",
              "        0.71895425, 0.7254902 , 0.75163399, 0.74509804, 0.76470588,\n",
              "        0.73856209, 0.77124183, 0.75816993, 0.79084967, 0.77124183,\n",
              "        0.77777778, 0.76470588, 0.77124183, 0.75163399]),\n",
              " 'mean_test_score': array([0.71229098, 0.72010016, 0.74225448, 0.73964859, 0.73311264,\n",
              "        0.73437739, 0.74219506, 0.74220355, 0.73571853, 0.73829896,\n",
              "        0.74478397, 0.75001273, 0.7578304 , 0.74873101, 0.76176895,\n",
              "        0.74740684, 0.76698922, 0.75524998, 0.76569901, 0.75006366,\n",
              "        0.75657414, 0.74874798, 0.75395128, 0.74614209]),\n",
              " 'std_test_score': array([0.0238926 , 0.02955801, 0.02689608, 0.02404138, 0.02009443,\n",
              "        0.02071576, 0.02442994, 0.02182632, 0.02520731, 0.01473879,\n",
              "        0.01681081, 0.0207225 , 0.0108042 , 0.01679003, 0.01897758,\n",
              "        0.01238343, 0.02393092, 0.02032553, 0.02570503, 0.02751131,\n",
              "        0.0269067 , 0.02293854, 0.02100139, 0.01867328]),\n",
              " 'rank_test_score': array([24, 23, 15, 18, 22, 21, 17, 16, 20, 19, 14,  9,  4, 11,  3, 12,  1,\n",
              "         6,  2,  8,  5, 10,  7, 13], dtype=int32)}"
            ]
          },
          "metadata": {},
          "execution_count": 19
        }
      ]
    },
    {
      "cell_type": "code",
      "source": [
        "knn_gscv.cv_results_['rank_test_score']"
      ],
      "metadata": {
        "colab": {
          "base_uri": "https://localhost:8080/"
        },
        "id": "iok992p-HPYi",
        "outputId": "57c47509-af25-46f4-e312-582ecbdc61fc"
      },
      "execution_count": null,
      "outputs": [
        {
          "output_type": "execute_result",
          "data": {
            "text/plain": [
              "array([24, 23, 15, 18, 22, 21, 17, 16, 20, 19, 14,  9,  4, 11,  3, 12,  1,\n",
              "        6,  2,  8,  5, 10,  7, 13], dtype=int32)"
            ]
          },
          "metadata": {},
          "execution_count": 20
        }
      ]
    },
    {
      "cell_type": "code",
      "source": [
        "knn_gscv.best_params_  # k nechaga teng bo'lganda eng yaxshi natija chiqishi"
      ],
      "metadata": {
        "colab": {
          "base_uri": "https://localhost:8080/"
        },
        "id": "BbfJdLivHeoK",
        "outputId": "d29722d1-c495-4d8c-881e-5740e41399b2"
      },
      "execution_count": null,
      "outputs": [
        {
          "output_type": "execute_result",
          "data": {
            "text/plain": [
              "{'n_neighbors': 17}"
            ]
          },
          "metadata": {},
          "execution_count": 21
        }
      ]
    },
    {
      "cell_type": "code",
      "source": [
        "knn_gscv.best_score_"
      ],
      "metadata": {
        "colab": {
          "base_uri": "https://localhost:8080/"
        },
        "id": "zeO2IyDLIPMy",
        "outputId": "d1b5e12d-dbc8-4a68-c847-4ea51bb7c255"
      },
      "execution_count": null,
      "outputs": [
        {
          "output_type": "execute_result",
          "data": {
            "text/plain": [
              "0.968390001552554"
            ]
          },
          "metadata": {},
          "execution_count": 25
        }
      ]
    },
    {
      "cell_type": "code",
      "source": [
        "plt.figure(figsize=(10,6))\n",
        "plt.plot(param_grid['n_neighbors'], knn_gscv.cv_results_['rank_test_score'])\n",
        "plt.xticks(param_grid['n_neighbors'])\n",
        "plt.xlabel('k')\n",
        "plt.ylabel('Xatolik reytingi')\n",
        "plt.grid()\n",
        "plt.show()"
      ],
      "metadata": {
        "colab": {
          "base_uri": "https://localhost:8080/",
          "height": 545
        },
        "id": "zkp4dlHqIS-i",
        "outputId": "6a34b36a-01b5-46b0-f9c9-139469d2ec9f"
      },
      "execution_count": null,
      "outputs": [
        {
          "output_type": "display_data",
          "data": {
            "text/plain": [
              "<Figure size 1000x600 with 1 Axes>"
            ],
            "image/png": "[encoded data removed]"
          },
          "metadata": {}
        }
      ]
    },
    {
      "cell_type": "code",
      "source": [],
      "metadata": {
        "id": "wPWUvFHQJQrC"
      },
      "execution_count": null,
      "outputs": []
    }
  ]
}