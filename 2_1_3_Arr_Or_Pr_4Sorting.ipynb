{
  "nbformat": 4,
  "nbformat_minor": 0,
  "metadata": {
    "colab": {
      "provenance": [],
      "authorship_tag": "ABX9TyOPIfgw/xj6jLFVNCr4k3YA",
      "include_colab_link": true
    },
    "kernelspec": {
      "name": "python3",
      "display_name": "Python 3"
    },
    "language_info": {
      "name": "python"
    }
  },
  "cells": [
    {
      "cell_type": "markdown",
      "metadata": {
        "id": "view-in-github",
        "colab_type": "text"
      },
      "source": [
        "<a href=\"https://colab.research.google.com/github/sunnatillo91/ai-datascience/blob/main/2_1_3_Arr_Or_Pr_4Sorting.ipynb\" target=\"_parent\"><img src=\"https://colab.research.google.com/assets/colab-badge.svg\" alt=\"Open In Colab\"/></a>"
      ]
    },
    {
      "cell_type": "markdown",
      "source": [
        "# Data Science va Sun'iy Intellekt Praktikum\n",
        "Ma'lumotlar tahlili."
      ],
      "metadata": {
        "id": "LveHC_W0TyPF"
      }
    },
    {
      "cell_type": "markdown",
      "source": [
        "\n",
        "2.1. NumPy kutubxonasi bilan ishlash\n",
        "NumPy kutubxonasini chaqirib olish"
      ],
      "metadata": {
        "id": "o82rkvmGT_CA"
      }
    },
    {
      "cell_type": "code",
      "source": [
        "import numpy as np"
      ],
      "metadata": {
        "id": "PudCDjivS4HR"
      },
      "execution_count": 1,
      "outputs": []
    },
    {
      "cell_type": "markdown",
      "source": [],
      "metadata": {
        "id": "6Qlq2nb2d1p7"
      }
    },
    {
      "cell_type": "markdown",
      "source": [
        "2.1.3. Massivga yo'naltirilgan dasturlash"
      ],
      "metadata": {
        "id": "jd6a4SThTCHv"
      }
    },
    {
      "cell_type": "markdown",
      "source": [
        "# Tartiblash (Sorting)"
      ],
      "metadata": {
        "id": "u1XIWr6fTGrR"
      }
    },
    {
      "cell_type": "code",
      "source": [
        "# data\n",
        "arr = np.random.rand(4) # 4 ta taxminiy elementdan tuzilgan massiv\n",
        "arr"
      ],
      "metadata": {
        "id": "tQ0OYRHLTOPd",
        "colab": {
          "base_uri": "https://localhost:8080/"
        },
        "outputId": "96f90734-66d6-46a4-f3b1-9c3d23698d2b"
      },
      "execution_count": 4,
      "outputs": [
        {
          "output_type": "execute_result",
          "data": {
            "text/plain": [
              "array([0.13765295, 0.51962157, 0.7588475 , 0.10430485])"
            ]
          },
          "metadata": {},
          "execution_count": 4
        }
      ]
    },
    {
      "cell_type": "code",
      "source": [
        "# sort funksiyasi\n",
        "# 1-usul\n",
        "sorted_arr = np.sort(arr)  # arr1 ning tartiblangan ko'rinishini sorted_arr ga joylaydi\n",
        "sorted_arr"
      ],
      "metadata": {
        "id": "vSu86P4DTieb",
        "colab": {
          "base_uri": "https://localhost:8080/"
        },
        "outputId": "54296236-f0b9-4bf2-9471-2c8ea5e2a59a"
      },
      "execution_count": 10,
      "outputs": [
        {
          "output_type": "execute_result",
          "data": {
            "text/plain": [
              "array([0.10430485, 0.13765295, 0.51962157, 0.7588475 ])"
            ]
          },
          "metadata": {},
          "execution_count": 10
        }
      ]
    },
    {
      "cell_type": "code",
      "source": [
        "# 2-usul\n",
        "arr.sort()  # arr ning tartiblangan ko'rinishi\n",
        "arr"
      ],
      "metadata": {
        "colab": {
          "base_uri": "https://localhost:8080/"
        },
        "id": "Pe1JiSN9e0gm",
        "outputId": "73c224c2-5e49-4393-ed72-cb1e4b90da61"
      },
      "execution_count": 11,
      "outputs": [
        {
          "output_type": "execute_result",
          "data": {
            "text/plain": [
              "array([0.10430485, 0.13765295, 0.51962157, 0.7588475 ])"
            ]
          },
          "metadata": {},
          "execution_count": 11
        }
      ]
    },
    {
      "cell_type": "code",
      "source": [
        "# teskari tartiblash\n",
        "rev_arr = -np.sort(-arr)  # teskari tartibdagi arr\n",
        "rev_arr"
      ],
      "metadata": {
        "colab": {
          "base_uri": "https://localhost:8080/"
        },
        "id": "W_PKE-F7T4j7",
        "outputId": "bbd017c9-a8dd-419e-f11e-958b5266ab7d"
      },
      "execution_count": 12,
      "outputs": [
        {
          "output_type": "execute_result",
          "data": {
            "text/plain": [
              "array([0.7588475 , 0.51962157, 0.13765295, 0.10430485])"
            ]
          },
          "metadata": {},
          "execution_count": 12
        }
      ]
    },
    {
      "cell_type": "code",
      "source": [
        "# 2D array (massiv)\n",
        "arr2d = np.random.randn(3,4)  # (3, 4) random massiv\n",
        "arr2d\n"
      ],
      "metadata": {
        "colab": {
          "base_uri": "https://localhost:8080/"
        },
        "id": "6nKniCpeU8tG",
        "outputId": "775ffea3-7468-4a62-bc09-8ac4715b2d3b"
      },
      "execution_count": 16,
      "outputs": [
        {
          "output_type": "execute_result",
          "data": {
            "text/plain": [
              "array([[ 0.37561172,  0.77952266,  0.93856282, -0.45219345],\n",
              "       [ 0.9777856 , -0.25529699,  0.43008935, -1.51180305],\n",
              "       [ 2.57213283, -0.93489483, -0.75220952,  0.5324528 ]])"
            ]
          },
          "metadata": {},
          "execution_count": 16
        }
      ]
    },
    {
      "cell_type": "code",
      "source": [
        "# axis = 0  --> Qator\n",
        "row_srt = np.sort(arr2d, axis=0)  # arr2d ning har bir qator bo'yicha tartiblangan ko'rinishi\n",
        "row_srt"
      ],
      "metadata": {
        "id": "XELo4ZcUicsU",
        "colab": {
          "base_uri": "https://localhost:8080/"
        },
        "outputId": "f3c8c665-bac0-4981-c6bf-17b781bd2d74"
      },
      "execution_count": 17,
      "outputs": [
        {
          "output_type": "execute_result",
          "data": {
            "text/plain": [
              "array([[ 0.37561172, -0.93489483, -0.75220952, -1.51180305],\n",
              "       [ 0.9777856 , -0.25529699,  0.43008935, -0.45219345],\n",
              "       [ 2.57213283,  0.77952266,  0.93856282,  0.5324528 ]])"
            ]
          },
          "metadata": {},
          "execution_count": 17
        }
      ]
    },
    {
      "cell_type": "code",
      "source": [
        "# axis = 0  --> Ustun\n",
        "col_srt = np.sort(arr2d, axis=1)  # arr2d ning har bir ustun bo'yicha tartiblangan ko'rinishi\n",
        "col_srt"
      ],
      "metadata": {
        "colab": {
          "base_uri": "https://localhost:8080/"
        },
        "id": "sptnh00SO7UQ",
        "outputId": "69b3c5b8-368c-4d06-b04b-08176e082f64"
      },
      "execution_count": 19,
      "outputs": [
        {
          "output_type": "execute_result",
          "data": {
            "text/plain": [
              "array([[-0.45219345,  0.37561172,  0.77952266,  0.93856282],\n",
              "       [-1.51180305, -0.25529699,  0.43008935,  0.9777856 ],\n",
              "       [-0.93489483, -0.75220952,  0.5324528 ,  2.57213283]])"
            ]
          },
          "metadata": {},
          "execution_count": 19
        }
      ]
    },
    {
      "cell_type": "code",
      "source": [],
      "metadata": {
        "id": "amp7K4F7Ptrc"
      },
      "execution_count": null,
      "outputs": []
    }
  ]
}