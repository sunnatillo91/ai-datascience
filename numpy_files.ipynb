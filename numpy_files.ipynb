{
  "nbformat": 4,
  "nbformat_minor": 0,
  "metadata": {
    "colab": {
      "provenance": [],
      "authorship_tag": "ABX9TyMRFLFON4C3KVKMMBI0lvqm",
      "include_colab_link": true
    },
    "kernelspec": {
      "name": "python3",
      "display_name": "Python 3"
    },
    "language_info": {
      "name": "python"
    }
  },
  "cells": [
    {
      "cell_type": "markdown",
      "metadata": {
        "id": "view-in-github",
        "colab_type": "text"
      },
      "source": [
        "<a href=\"https://colab.research.google.com/github/sunnatillo91/ai-datascience/blob/main/numpy_files.ipynb\" target=\"_parent\"><img src=\"https://colab.research.google.com/assets/colab-badge.svg\" alt=\"Open In Colab\"/></a>"
      ]
    },
    {
      "cell_type": "markdown",
      "source": [
        "# Data Science va Sun'iy Intellekt Praktikum\n",
        "Ma'lumotlar tahlili. NumPy kutubxonasi.\n"
      ],
      "metadata": {
        "id": "LveHC_W0TyPF"
      }
    },
    {
      "cell_type": "markdown",
      "source": [
        "Fayllar bilan ishlash"
      ],
      "metadata": {
        "id": "o82rkvmGT_CA"
      }
    },
    {
      "cell_type": "code",
      "source": [
        "import numpy as np"
      ],
      "metadata": {
        "id": "PudCDjivS4HR"
      },
      "execution_count": 1,
      "outputs": []
    },
    {
      "cell_type": "code",
      "source": [
        "arr = np.arange(10)"
      ],
      "metadata": {
        "id": "OUl8YhssbW_y"
      },
      "execution_count": 2,
      "outputs": []
    },
    {
      "cell_type": "code",
      "source": [
        "arr"
      ],
      "metadata": {
        "colab": {
          "base_uri": "https://localhost:8080/"
        },
        "id": "_wO161EUbeAI",
        "outputId": "4b652d79-795f-4358-bacb-cb3b37c6485c"
      },
      "execution_count": 3,
      "outputs": [
        {
          "output_type": "execute_result",
          "data": {
            "text/plain": [
              "array([0, 1, 2, 3, 4, 5, 6, 7, 8, 9])"
            ]
          },
          "metadata": {},
          "execution_count": 3
        }
      ]
    },
    {
      "cell_type": "markdown",
      "source": [
        "# Faylni saqlash"
      ],
      "metadata": {
        "id": "pWgLoAKJb2Dt"
      }
    },
    {
      "cell_type": "code",
      "source": [
        "np.save('data', arr)"
      ],
      "metadata": {
        "id": "OklHfsAIbeq9"
      },
      "execution_count": 4,
      "outputs": []
    },
    {
      "cell_type": "markdown",
      "source": [
        "# Faylni yuklab undan foydalanish"
      ],
      "metadata": {
        "id": "Vd26dLmPb6Eg"
      }
    },
    {
      "cell_type": "code",
      "source": [
        "arr2 = np.load('data.npy')"
      ],
      "metadata": {
        "id": "djd70NTXbkTv"
      },
      "execution_count": 7,
      "outputs": []
    },
    {
      "cell_type": "code",
      "source": [
        "arr2"
      ],
      "metadata": {
        "colab": {
          "base_uri": "https://localhost:8080/"
        },
        "id": "W972D9NkcL5i",
        "outputId": "8cb79a21-0f75-4d0a-bdec-eab2480a03f9"
      },
      "execution_count": 8,
      "outputs": [
        {
          "output_type": "execute_result",
          "data": {
            "text/plain": [
              "array([0, 1, 2, 3, 4, 5, 6, 7, 8, 9])"
            ]
          },
          "metadata": {},
          "execution_count": 8
        }
      ]
    },
    {
      "cell_type": "code",
      "source": [
        "arr1 = np.arange(20)"
      ],
      "metadata": {
        "id": "H_znKVW9cMxu"
      },
      "execution_count": 16,
      "outputs": []
    },
    {
      "cell_type": "code",
      "source": [
        "np.savez('arrays', a = arr, b = arr1)"
      ],
      "metadata": {
        "id": "QCLdn7cPc1sj"
      },
      "execution_count": 17,
      "outputs": []
    },
    {
      "cell_type": "code",
      "source": [
        "arrays = np.load('arrays.npz')"
      ],
      "metadata": {
        "id": "6HY2LChPc-i4"
      },
      "execution_count": 18,
      "outputs": []
    },
    {
      "cell_type": "code",
      "source": [
        "arrays['a']"
      ],
      "metadata": {
        "colab": {
          "base_uri": "https://localhost:8080/"
        },
        "id": "iAWihHR3gPPR",
        "outputId": "0a2c13d2-74e6-45c3-f8bf-60f585ab96d2"
      },
      "execution_count": 19,
      "outputs": [
        {
          "output_type": "execute_result",
          "data": {
            "text/plain": [
              "array([0, 1, 2, 3, 4, 5, 6, 7, 8, 9])"
            ]
          },
          "metadata": {},
          "execution_count": 19
        }
      ]
    },
    {
      "cell_type": "code",
      "source": [
        "arrays['b']"
      ],
      "metadata": {
        "colab": {
          "base_uri": "https://localhost:8080/"
        },
        "id": "ETA8ZPSHgSxn",
        "outputId": "9ecb38c1-248d-4f4e-c5ab-4b66e65cb11b"
      },
      "execution_count": 20,
      "outputs": [
        {
          "output_type": "execute_result",
          "data": {
            "text/plain": [
              "array([ 0,  1,  2,  3,  4,  5,  6,  7,  8,  9, 10, 11, 12, 13, 14, 15, 16,\n",
              "       17, 18, 19])"
            ]
          },
          "metadata": {},
          "execution_count": 20
        }
      ]
    },
    {
      "cell_type": "code",
      "source": [
        "# savesz_compressed\n",
        "np.savez_compressed('array_comp.npz', a=arr, b=arr1)"
      ],
      "metadata": {
        "id": "W0H_IIjogVK6"
      },
      "execution_count": 21,
      "outputs": []
    },
    {
      "cell_type": "code",
      "source": [],
      "metadata": {
        "id": "kBbRFW44hE9n"
      },
      "execution_count": null,
      "outputs": []
    }
  ]
}