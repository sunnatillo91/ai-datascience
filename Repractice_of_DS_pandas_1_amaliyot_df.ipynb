{
  "nbformat": 4,
  "nbformat_minor": 0,
  "metadata": {
    "colab": {
      "provenance": [],
      "include_colab_link": true
    },
    "kernelspec": {
      "display_name": "Python 3",
      "language": "python",
      "name": "python3"
    },
    "language_info": {
      "codemirror_mode": {
        "name": "ipython",
        "version": 3
      },
      "file_extension": ".py",
      "mimetype": "text/x-python",
      "name": "python",
      "nbconvert_exporter": "python",
      "pygments_lexer": "ipython3",
      "version": "3.8.8"
    }
  },
  "cells": [
    {
      "cell_type": "markdown",
      "metadata": {
        "id": "view-in-github",
        "colab_type": "text"
      },
      "source": [
        "<a href=\"https://colab.research.google.com/github/sunnatillo91/ai-datascience/blob/main/Repractice_of_DS_pandas_1_amaliyot_df.ipynb\" target=\"_parent\"><img src=\"https://colab.research.google.com/assets/colab-badge.svg\" alt=\"Open In Colab\"/></a>"
      ]
    },
    {
      "cell_type": "markdown",
      "metadata": {
        "id": "WyTfPJtEqH5C"
      },
      "source": [
        "# ![Imgur](https://i.imgur.com/5pXzCIu.png)\n",
        "\n",
        "# **DATA SCIENCE VA SUN'IY INTELLEKT PRAKTIKUM**\n",
        "\n",
        "## Ma'lumotlar tahlili. Pandas kutubxonasi.\n",
        "\n",
        "# **AMALIYOT**\n",
        "## 3.1 Series va Index"
      ]
    },
    {
      "cell_type": "markdown",
      "metadata": {
        "id": "FNLOb9yhxI0b"
      },
      "source": [
        "### **1-mashq**. `Pandas` kutubxonasini `pd`, `numpy` kutubxonasini `np` deb chaqirib oling"
      ]
    },
    {
      "cell_type": "code",
      "metadata": {
        "id": "GrbBfqRpxIFr"
      },
      "source": [
        "# Javobni shuyerga yozing\n",
        "import pandas as pd\n",
        "import numpy as np"
      ],
      "execution_count": 1,
      "outputs": []
    },
    {
      "cell_type": "code",
      "metadata": {
        "code_folding": [],
        "id": "24df0gBjIppl",
        "jupyter": {
          "source_hidden": true
        },
        "tags": [],
        "cellView": "form"
      },
      "source": [
        "#@title To'g'ri javob\n",
        "import pandas as pd\n",
        "import numpy as np"
      ],
      "execution_count": null,
      "outputs": []
    },
    {
      "cell_type": "markdown",
      "metadata": {
        "id": "4Utgz2Bf3GgB"
      },
      "source": [
        "### **2-mashq.** O'zbekiston Respublikasi viloyatlaridan iborat bir o'lchamli Series obyektini yarating"
      ]
    },
    {
      "cell_type": "code",
      "metadata": {
        "id": "PD7qQQH9oA87",
        "colab": {
          "base_uri": "https://localhost:8080/"
        },
        "outputId": "b37115a2-effc-42e3-c566-a86bf76e35f4"
      },
      "source": [
        "# Javobni shu yerga yozing\n",
        "obj = pd.Series(['Andijon','Buxoro','Farg\\'ona', 'Jizzax', 'Xorazm','Namangan','Navoiy','Qashqadaryo','Qoraqalpog\\'iston Respublikasi','Samarqand','Sirdaryo','Surxondaryo','Toshkent'])\n",
        "obj"
      ],
      "execution_count": 2,
      "outputs": [
        {
          "output_type": "execute_result",
          "data": {
            "text/plain": [
              "0                           Andijon\n",
              "1                            Buxoro\n",
              "2                          Farg'ona\n",
              "3                            Jizzax\n",
              "4                            Xorazm\n",
              "5                          Namangan\n",
              "6                            Navoiy\n",
              "7                       Qashqadaryo\n",
              "8     Qoraqalpog'iston Respublikasi\n",
              "9                         Samarqand\n",
              "10                         Sirdaryo\n",
              "11                      Surxondaryo\n",
              "12                         Toshkent\n",
              "dtype: object"
            ]
          },
          "metadata": {},
          "execution_count": 2
        }
      ]
    },
    {
      "cell_type": "code",
      "metadata": {
        "cellView": "form",
        "code_folding": [
          0
        ],
        "colab": {
          "base_uri": "https://localhost:8080/"
        },
        "id": "u0m-fPU43iPn",
        "jupyter": {
          "source_hidden": true
        },
        "tags": [],
        "outputId": "37007cf3-2147-47b7-f20f-701c704e7683"
      },
      "source": [
        "#@title **To'g'ri javob**\n",
        "obj = pd.Series(\n",
        "    [\n",
        "        \"Andijon\",\n",
        "        \"Buxoro\",\n",
        "        \"Farg'ona\",\n",
        "        \"Jizzax\",\n",
        "        \"Xorazm\",\n",
        "        \"Namangan\",\n",
        "        \"Navoiy\",\n",
        "        \"Qashqadaryo\",\n",
        "        \"Qoraqalpog'iston Respublikasi\",\n",
        "        \"Samarqand\",\n",
        "        \"Sirdaryo\",\n",
        "        \"Surxondaryo\",\n",
        "        \"Toshkent\",\n",
        "    ]\n",
        ")\n",
        "print(obj)"
      ],
      "execution_count": null,
      "outputs": [
        {
          "output_type": "stream",
          "name": "stdout",
          "text": [
            "0                           Andijon\n",
            "1                            Buxoro\n",
            "2                          Farg'ona\n",
            "3                            Jizzax\n",
            "4                            Xorazm\n",
            "5                          Namangan\n",
            "6                            Navoiy\n",
            "7                       Qashqadaryo\n",
            "8     Qoraqalpog'iston Respublikasi\n",
            "9                         Samarqand\n",
            "10                         Sirdaryo\n",
            "11                      Surxondaryo\n",
            "12                         Toshkent\n",
            "dtype: object\n"
          ]
        }
      ]
    },
    {
      "cell_type": "markdown",
      "metadata": {
        "id": "HNKNuN67pQzX"
      },
      "source": [
        "### **3-mashq.** Yuqorida yaratilgan Series obyektining barcha qiymaltarini chiqaring"
      ]
    },
    {
      "cell_type": "code",
      "metadata": {
        "id": "DLduyoXjqkSx",
        "colab": {
          "base_uri": "https://localhost:8080/"
        },
        "outputId": "e710551a-e113-48ea-d8eb-d43237e1824c"
      },
      "source": [
        "# Javobni shuyerga yozing\n",
        "obj.values"
      ],
      "execution_count": 3,
      "outputs": [
        {
          "output_type": "execute_result",
          "data": {
            "text/plain": [
              "array(['Andijon', 'Buxoro', \"Farg'ona\", 'Jizzax', 'Xorazm', 'Namangan',\n",
              "       'Navoiy', 'Qashqadaryo', \"Qoraqalpog'iston Respublikasi\",\n",
              "       'Samarqand', 'Sirdaryo', 'Surxondaryo', 'Toshkent'], dtype=object)"
            ]
          },
          "metadata": {},
          "execution_count": 3
        }
      ]
    },
    {
      "cell_type": "code",
      "metadata": {
        "cellView": "form",
        "code_folding": [
          0
        ],
        "colab": {
          "base_uri": "https://localhost:8080/"
        },
        "id": "SDdwnLJ731EK",
        "jupyter": {
          "source_hidden": true
        },
        "tags": [],
        "outputId": "68ee029d-8d48-45e4-ac85-b6ce137dfb1f"
      },
      "source": [
        "# @title **To'g'ri javob**\n",
        "obj.values"
      ],
      "execution_count": null,
      "outputs": [
        {
          "output_type": "execute_result",
          "data": {
            "text/plain": [
              "array(['Andijon', 'Buxoro', \"Farg'ona\", 'Jizzax', 'Xorazm', 'Namangan',\n",
              "       'Navoiy', 'Qashqadaryo', \"Qoraqalpog'iston Respublikasi\",\n",
              "       'Samarqand', 'Sirdaryo', 'Surxondaryo', 'Toshkent'], dtype=object)"
            ]
          },
          "metadata": {},
          "execution_count": 14
        }
      ]
    },
    {
      "cell_type": "markdown",
      "metadata": {
        "id": "dfiWArV2qvTr"
      },
      "source": [
        "### **4-mashq.** Yuqoridagi Series obyektining eng birinchi qiymatini chiqaring"
      ]
    },
    {
      "cell_type": "code",
      "metadata": {
        "id": "On9qxbkehV9e",
        "colab": {
          "base_uri": "https://localhost:8080/",
          "height": 36
        },
        "outputId": "35dd438b-f7ce-4f84-9a31-ebc95d8ce20a"
      },
      "source": [
        "# Javobni shuyerga yozing\n",
        "obj[0]"
      ],
      "execution_count": null,
      "outputs": [
        {
          "output_type": "execute_result",
          "data": {
            "text/plain": [
              "'Andijon'"
            ],
            "application/vnd.google.colaboratory.intrinsic+json": {
              "type": "string"
            }
          },
          "metadata": {},
          "execution_count": 6
        }
      ]
    },
    {
      "cell_type": "code",
      "metadata": {
        "cellView": "form",
        "code_folding": [
          0
        ],
        "colab": {
          "base_uri": "https://localhost:8080/",
          "height": 35
        },
        "id": "_Dn-oksDv5zL",
        "jupyter": {
          "source_hidden": true
        },
        "tags": [],
        "outputId": "4452f0a2-3eca-45c4-ebc8-3a24fc77b814"
      },
      "source": [
        "# @title **To'g'ri javob**\n",
        "obj[0]"
      ],
      "execution_count": null,
      "outputs": [
        {
          "data": {
            "text/plain": [
              "'Andijon'"
            ]
          },
          "execution_count": 10,
          "metadata": {},
          "output_type": "execute_result"
        }
      ]
    },
    {
      "cell_type": "markdown",
      "metadata": {
        "id": "ARL6cU7KhPUO"
      },
      "source": [
        "### **5-mashq.** Yuqoridagi Series obyektining eng oxirgi qiymatini chiqaring"
      ]
    },
    {
      "cell_type": "code",
      "metadata": {
        "id": "nIDEksXShLO5",
        "colab": {
          "base_uri": "https://localhost:8080/",
          "height": 36
        },
        "outputId": "529c5c47-cd1c-47d2-a54b-0464d0a9f757"
      },
      "source": [
        "# Javobni shuyerga yozing\n",
        "obj.iloc[-1]"
      ],
      "execution_count": null,
      "outputs": [
        {
          "output_type": "execute_result",
          "data": {
            "text/plain": [
              "'Toshkent'"
            ],
            "application/vnd.google.colaboratory.intrinsic+json": {
              "type": "string"
            }
          },
          "metadata": {},
          "execution_count": 8
        }
      ]
    },
    {
      "cell_type": "code",
      "metadata": {
        "cellView": "form",
        "code_folding": [
          0
        ],
        "colab": {
          "base_uri": "https://localhost:8080/",
          "height": 35
        },
        "id": "wnan3_t1hYkG",
        "jupyter": {
          "source_hidden": true
        },
        "tags": [],
        "outputId": "b0c02f06-6978-4e07-ff76-31aec5964d48"
      },
      "source": [
        "# @title **To'g'ri javob**\n",
        "obj[12]"
      ],
      "execution_count": null,
      "outputs": [
        {
          "data": {
            "text/plain": [
              "'Toshkent'"
            ]
          },
          "execution_count": 12,
          "metadata": {},
          "output_type": "execute_result"
        }
      ]
    },
    {
      "cell_type": "markdown",
      "metadata": {
        "id": "peT8QIPdh2SM"
      },
      "source": [
        "### **6-mashq.** Yuqoridagi Series obyekti uzunligini chiqaring"
      ]
    },
    {
      "cell_type": "code",
      "metadata": {
        "id": "g72orrMvheN4",
        "colab": {
          "base_uri": "https://localhost:8080/"
        },
        "outputId": "ed7cfcd4-2fa4-49c4-e42e-b3b0a5a93dfb"
      },
      "source": [
        "# Javobni shuyerga yozing\n",
        "obj.size"
      ],
      "execution_count": null,
      "outputs": [
        {
          "output_type": "execute_result",
          "data": {
            "text/plain": [
              "13"
            ]
          },
          "metadata": {},
          "execution_count": 15
        }
      ]
    },
    {
      "cell_type": "code",
      "metadata": {
        "code_folding": [
          0
        ],
        "colab": {
          "base_uri": "https://localhost:8080/"
        },
        "id": "ICENpA_JiFgl",
        "jupyter": {
          "source_hidden": true
        },
        "tags": [],
        "outputId": "49cfc2c6-4fc5-4110-9b06-bae39dfed73b"
      },
      "source": [
        "# @title **To'g'ri javob**\n",
        "obj.size"
      ],
      "execution_count": null,
      "outputs": [
        {
          "data": {
            "text/plain": [
              "13"
            ]
          },
          "execution_count": 14,
          "metadata": {},
          "output_type": "execute_result"
        }
      ]
    },
    {
      "cell_type": "markdown",
      "metadata": {
        "id": "ZbXRPkW5iNDw"
      },
      "source": [
        "### **7-mashq.** Yuqoridagi Series obyektining o'rtasidan 3 ta qiymat chiqaring"
      ]
    },
    {
      "cell_type": "code",
      "metadata": {
        "id": "7DZChnAQiczM",
        "colab": {
          "base_uri": "https://localhost:8080/"
        },
        "outputId": "e2799ceb-efa3-469f-881e-97126e860cab"
      },
      "source": [
        "# Javobni shuyerga yozing\n",
        "obj.iloc[5:8]"
      ],
      "execution_count": null,
      "outputs": [
        {
          "output_type": "execute_result",
          "data": {
            "text/plain": [
              "5       Namangan\n",
              "6         Navoiy\n",
              "7    Qashqadaryo\n",
              "dtype: object"
            ]
          },
          "metadata": {},
          "execution_count": 17
        }
      ]
    },
    {
      "cell_type": "code",
      "metadata": {
        "cellView": "form",
        "code_folding": [
          0
        ],
        "colab": {
          "base_uri": "https://localhost:8080/"
        },
        "id": "EVtmpTXhieqB",
        "jupyter": {
          "source_hidden": true
        },
        "tags": [],
        "outputId": "ec2e862d-0c49-4854-f944-28e5301a329e"
      },
      "source": [
        "# @title **To'g'ri javob**\n",
        "\n",
        "obj[[5, 6, 7]]"
      ],
      "execution_count": null,
      "outputs": [
        {
          "data": {
            "text/plain": [
              "5       Namangan\n",
              "6         Navoiy\n",
              "7    Qashqadaryo\n",
              "dtype: object"
            ]
          },
          "execution_count": 16,
          "metadata": {},
          "output_type": "execute_result"
        }
      ]
    },
    {
      "cell_type": "markdown",
      "metadata": {
        "id": "1pjPsrTFjG4v"
      },
      "source": [
        "### **8-mashq.** Quyidagi Series obyektini yarating.\n",
        "**Ahamiyat bering. `Series` obyekti indeksi sifatida viloyatlar nomi ishlatilgan**"
      ]
    },
    {
      "cell_type": "code",
      "metadata": {
        "cellView": "form",
        "code_folding": [
          0
        ],
        "colab": {
          "base_uri": "https://localhost:8080/"
        },
        "id": "wXmpomZCiv5f",
        "jupyter": {
          "source_hidden": true
        },
        "tags": [],
        "outputId": "7e36c7d2-eaf7-42fd-9e37-b267f346b685"
      },
      "source": [
        "# @title\n",
        "ind = obj.values\n",
        "aholi = [\n",
        "    1899000,\n",
        "    1384700,\n",
        "    2597000,\n",
        "    910500,\n",
        "    1200000,\n",
        "    1862000,\n",
        "    767500,\n",
        "    2029000,\n",
        "    1200000,\n",
        "    2322000,\n",
        "    648100,\n",
        "    1676000,\n",
        "    4450000,\n",
        "]\n",
        "obj2 = pd.Series(aholi, index=ind)\n",
        "print(obj2)"
      ],
      "execution_count": null,
      "outputs": [
        {
          "name": "stdout",
          "output_type": "stream",
          "text": [
            "Andijon                          1899000\n",
            "Buxoro                           1384700\n",
            "Farg'ona                         2597000\n",
            "Jizzax                            910500\n",
            "Xorazm                           1200000\n",
            "Namangan                         1862000\n",
            "Navoiy                            767500\n",
            "Qashqadaryo                      2029000\n",
            "Qoraqalpog'iston Respublikasi    1200000\n",
            "Samarqand                        2322000\n",
            "Sirdaryo                          648100\n",
            "Surxondaryo                      1676000\n",
            "Toshkent                         4450000\n",
            "dtype: int64\n"
          ]
        }
      ]
    },
    {
      "cell_type": "code",
      "metadata": {
        "id": "ehlAxUD6jEjx",
        "colab": {
          "base_uri": "https://localhost:8080/"
        },
        "outputId": "47e3b43c-e6b8-4fd8-f43b-ff814003eed8"
      },
      "source": [
        "# Javobni shuyerga yozing\n",
        "aholi = pd.Series([1899000,1384700,2597000,910500,1200000,1862000,767500,2029000,1200000,2322000,648100,1676000,4450000], index = ['Andijon','Buxoro','Farg\\'ona', 'Jizzax', 'Xorazm','Namangan','Navoiy','Qashqadaryo','Qoraqalpog\\'iston Respublikasi','Samarqand','Sirdaryo','Surxondaryo','Toshkent'])\n",
        "aholi"
      ],
      "execution_count": 47,
      "outputs": [
        {
          "output_type": "execute_result",
          "data": {
            "text/plain": [
              "Andijon                          1899000\n",
              "Buxoro                           1384700\n",
              "Farg'ona                         2597000\n",
              "Jizzax                            910500\n",
              "Xorazm                           1200000\n",
              "Namangan                         1862000\n",
              "Navoiy                            767500\n",
              "Qashqadaryo                      2029000\n",
              "Qoraqalpog'iston Respublikasi    1200000\n",
              "Samarqand                        2322000\n",
              "Sirdaryo                          648100\n",
              "Surxondaryo                      1676000\n",
              "Toshkent                         4450000\n",
              "dtype: int64"
            ]
          },
          "metadata": {},
          "execution_count": 47
        }
      ]
    },
    {
      "cell_type": "markdown",
      "metadata": {
        "id": "_xG9zq_KkTXn"
      },
      "source": [
        "### **9-mashq.** Yuqoridagi `Series` obyektidan Jizzax, Buxoro va Namangan viloyatlarining aholisini chiqaring"
      ]
    },
    {
      "cell_type": "code",
      "metadata": {
        "id": "71ZC0ZKoki_N",
        "colab": {
          "base_uri": "https://localhost:8080/"
        },
        "outputId": "007601d5-1b9e-46e8-8c11-9b968a2af2d1"
      },
      "source": [
        "# Javobni shuyerga yozing\n",
        "aholi.iloc[[3,1,5]]"
      ],
      "execution_count": 48,
      "outputs": [
        {
          "output_type": "execute_result",
          "data": {
            "text/plain": [
              "Jizzax       910500\n",
              "Buxoro      1384700\n",
              "Namangan    1862000\n",
              "dtype: int64"
            ]
          },
          "metadata": {},
          "execution_count": 48
        }
      ]
    },
    {
      "cell_type": "code",
      "metadata": {
        "cellView": "form",
        "code_folding": [
          0
        ],
        "colab": {
          "base_uri": "https://localhost:8080/"
        },
        "id": "Nd-jwIiZkkxW",
        "jupyter": {
          "source_hidden": true
        },
        "tags": [],
        "outputId": "50ea8f77-b4ea-4f0b-9bc6-77aa98a93f61"
      },
      "source": [
        "# @title **To'g'ri javob**\n",
        "obj2[[\"Jizzax\", \"Buxoro\", \"Namangan\"]]"
      ],
      "execution_count": null,
      "outputs": [
        {
          "data": {
            "text/plain": [
              "Jizzax       910500\n",
              "Buxoro      1384700\n",
              "Namangan    1862000\n",
              "dtype: int64"
            ]
          },
          "execution_count": 20,
          "metadata": {},
          "output_type": "execute_result"
        }
      ]
    },
    {
      "cell_type": "markdown",
      "metadata": {
        "id": "d2ci3QWEkuEN"
      },
      "source": [
        "### **10-mashq.** Yuqoridagi `Series` obyektidan aholi soni 1 milliondan kam va ko'p bo'lgan viloyatlarni alohida chiqaring"
      ]
    },
    {
      "cell_type": "code",
      "metadata": {
        "id": "ENuCHKPukr6X",
        "colab": {
          "base_uri": "https://localhost:8080/"
        },
        "outputId": "67109e1a-5e8a-40e8-d59c-f0f79f7630e8"
      },
      "source": [
        "# Javobni shuyerga yozing\n",
        "print('Aholisi 1 milliondan ko\\'p viloyatlar')\n",
        "kup = aholi[aholi>1_000_000]\n",
        "kup"
      ],
      "execution_count": 49,
      "outputs": [
        {
          "output_type": "stream",
          "name": "stdout",
          "text": [
            "Aholisi 1 milliondan ko'p viloyatlar\n"
          ]
        },
        {
          "output_type": "execute_result",
          "data": {
            "text/plain": [
              "Andijon                          1899000\n",
              "Buxoro                           1384700\n",
              "Farg'ona                         2597000\n",
              "Xorazm                           1200000\n",
              "Namangan                         1862000\n",
              "Qashqadaryo                      2029000\n",
              "Qoraqalpog'iston Respublikasi    1200000\n",
              "Samarqand                        2322000\n",
              "Surxondaryo                      1676000\n",
              "Toshkent                         4450000\n",
              "dtype: int64"
            ]
          },
          "metadata": {},
          "execution_count": 49
        }
      ]
    },
    {
      "cell_type": "code",
      "metadata": {
        "cellView": "form",
        "code_folding": [
          0
        ],
        "colab": {
          "base_uri": "https://localhost:8080/"
        },
        "id": "C-IZM30Fk_jM",
        "jupyter": {
          "source_hidden": true
        },
        "tags": [],
        "outputId": "19b1f26d-4861-458d-e895-5c5840eb9f46"
      },
      "source": [
        "# @title **To'g'ri javob**\n",
        "print(\"Aholisi 1 milliondan ko'p viloyatlar\")\n",
        "print(obj2[obj2 > 1_000_000])\n",
        "# Pythonda katta sonlarni yozishda 0 orasini _ bilan ajratish mumkin"
      ],
      "execution_count": null,
      "outputs": [
        {
          "name": "stdout",
          "output_type": "stream",
          "text": [
            "Aholisi 1 milliondan ko'p viloyatlar\n",
            "Andijon                          1899000\n",
            "Buxoro                           1384700\n",
            "Farg'ona                         2597000\n",
            "Xorazm                           1200000\n",
            "Namangan                         1862000\n",
            "Qashqadaryo                      2029000\n",
            "Qoraqalpog'iston Respublikasi    1200000\n",
            "Samarqand                        2322000\n",
            "Surxondaryo                      1676000\n",
            "Toshkent                         4450000\n",
            "dtype: int64\n"
          ]
        }
      ]
    },
    {
      "cell_type": "code",
      "source": [
        "print('Aholisi 1 milliondan kam viloyatlar')\n",
        "kam = aholi[aholi<1000_000]\n",
        "kam"
      ],
      "metadata": {
        "colab": {
          "base_uri": "https://localhost:8080/"
        },
        "id": "0fF8L8SQEntK",
        "outputId": "500077fd-8b40-4c1e-aa25-a2c04a270741"
      },
      "execution_count": 50,
      "outputs": [
        {
          "output_type": "stream",
          "name": "stdout",
          "text": [
            "Aholisi 1 milliondan kam viloyatlar\n"
          ]
        },
        {
          "output_type": "execute_result",
          "data": {
            "text/plain": [
              "Jizzax      910500\n",
              "Navoiy      767500\n",
              "Sirdaryo    648100\n",
              "dtype: int64"
            ]
          },
          "metadata": {},
          "execution_count": 50
        }
      ]
    },
    {
      "cell_type": "code",
      "metadata": {
        "cellView": "form",
        "code_folding": [
          0
        ],
        "colab": {
          "base_uri": "https://localhost:8080/"
        },
        "id": "lUevJ5D7lK0m",
        "jupyter": {
          "source_hidden": true
        },
        "tags": [],
        "outputId": "32e16bbe-1512-4f72-cdcd-b73930a0dbe3"
      },
      "source": [
        "# @title\n",
        "print(\"Aholisi 1 milliondan kam viloyatlar\")\n",
        "print(obj2[obj2 < 1_000_000])"
      ],
      "execution_count": null,
      "outputs": [
        {
          "name": "stdout",
          "output_type": "stream",
          "text": [
            "Aholisi 1 milliondan kam viloyatlar\n",
            "Jizzax      910500\n",
            "Navoiy      767500\n",
            "Sirdaryo    648100\n",
            "dtype: int64\n"
          ]
        }
      ]
    },
    {
      "cell_type": "markdown",
      "metadata": {
        "id": "RX_PQaBdlmmO"
      },
      "source": [
        "### **11-mashq.** Aholisi 1 milliondan ko'p davlatlar orasida Navoiy viloyati bor/yo'qligini tekshiring"
      ]
    },
    {
      "cell_type": "code",
      "metadata": {
        "id": "gJqjvEcRlcme",
        "colab": {
          "base_uri": "https://localhost:8080/"
        },
        "outputId": "a6a31cca-2270-404b-a615-c17859d26acd"
      },
      "source": [
        "# Javobni shuyerga yozing\n",
        "'Navoiy' in kup"
      ],
      "execution_count": null,
      "outputs": [
        {
          "output_type": "execute_result",
          "data": {
            "text/plain": [
              "False"
            ]
          },
          "metadata": {},
          "execution_count": 33
        }
      ]
    },
    {
      "cell_type": "code",
      "metadata": {
        "cellView": "form",
        "code_folding": [
          0
        ],
        "colab": {
          "base_uri": "https://localhost:8080/"
        },
        "id": "5bzl-eT-l3ft",
        "jupyter": {
          "source_hidden": true
        },
        "tags": [],
        "outputId": "c0dace8a-20b4-4e6c-8587-4be8d9183c9a"
      },
      "source": [
        "# @title **To'g'ri javob**\n",
        "\"Navoiy\" in obj2[obj2 > 1_000_000]"
      ],
      "execution_count": null,
      "outputs": [
        {
          "data": {
            "text/plain": [
              "False"
            ]
          },
          "execution_count": 25,
          "metadata": {},
          "output_type": "execute_result"
        }
      ]
    },
    {
      "cell_type": "markdown",
      "metadata": {
        "id": "5m-FKutVmLpA"
      },
      "source": [
        "### **12-mashq.** Quyidagi lug'atda viloyatlar va ularning maydonlari berilgan. Lug'atdan yangi `Series` obyektini yarating va unga \"Hududlar hajmi\" deb nom bering"
      ]
    },
    {
      "cell_type": "code",
      "metadata": {
        "code_folding": [],
        "id": "sr3vN7vFl_GZ"
      },
      "source": [
        "dict = {\n",
        "    \"Andijon\": 4200,\n",
        "    \"Buxoro\": 39400,\n",
        "    \"Farg'ona\": 6800,\n",
        "    \"Jizzax\": 20500,\n",
        "    \"Xorazm\": 6300,\n",
        "    \"Namangan\": 7900,\n",
        "    \"Navoiy\": 110800,\n",
        "    \"Qashqadaryo\": 28400,\n",
        "    \"Qoraqalpog'iston Respublikasi\": 160000,\n",
        "    \"Samarqand\": 16400,\n",
        "    \"Sirdaryo\": 5100,\n",
        "    \"Surxondaryo\": 20800,\n",
        "    \"Toshkent\": 15300,\n",
        "}"
      ],
      "execution_count": 16,
      "outputs": []
    },
    {
      "cell_type": "code",
      "metadata": {
        "code_folding": [],
        "id": "OmkdZo62MaUD",
        "colab": {
          "base_uri": "https://localhost:8080/"
        },
        "outputId": "2d7e47d6-3ee4-4f01-e1a2-c446f9159c3e"
      },
      "source": [
        "# Javobni shuyerga yozing\n",
        "ser = pd.Series(dict)\n",
        "ser.name = 'Hududlar hajmi'\n",
        "ser"
      ],
      "execution_count": 25,
      "outputs": [
        {
          "output_type": "execute_result",
          "data": {
            "text/plain": [
              "Andijon                            4200\n",
              "Buxoro                            39400\n",
              "Farg'ona                           6800\n",
              "Jizzax                            20500\n",
              "Xorazm                             6300\n",
              "Namangan                           7900\n",
              "Navoiy                           110800\n",
              "Qashqadaryo                       28400\n",
              "Qoraqalpog'iston Respublikasi    160000\n",
              "Samarqand                         16400\n",
              "Sirdaryo                           5100\n",
              "Surxondaryo                       20800\n",
              "Toshkent                          15300\n",
              "Name: Hududlar hajmi, dtype: int64"
            ]
          },
          "metadata": {},
          "execution_count": 25
        }
      ]
    },
    {
      "cell_type": "code",
      "metadata": {
        "code_folding": [
          0
        ],
        "jupyter": {
          "source_hidden": true
        },
        "tags": [],
        "cellView": "form",
        "id": "kIPqYAlxMaUD",
        "outputId": "5d02237b-86fb-45e6-cca2-3a658dfb53a2"
      },
      "source": [
        "#@title To'g'ri javob\n",
        "obj3 = pd.Series(dict)\n",
        "obj3.name = \"Hudular hajmi\"\n",
        "print(obj3)"
      ],
      "execution_count": null,
      "outputs": [
        {
          "name": "stdout",
          "output_type": "stream",
          "text": [
            "Andijon                            4200\n",
            "Buxoro                            39400\n",
            "Farg'ona                           6800\n",
            "Jizzax                            20500\n",
            "Xorazm                             6300\n",
            "Namangan                           7900\n",
            "Navoiy                           110800\n",
            "Qashqadaryo                       28400\n",
            "Qoraqalpog'iston Respublikasi    160000\n",
            "Samarqand                         16400\n",
            "Sirdaryo                           5100\n",
            "Surxondaryo                       20800\n",
            "Toshkent                          15300\n",
            "Name: Hudular hajmi, dtype: int64\n"
          ]
        }
      ]
    },
    {
      "cell_type": "markdown",
      "metadata": {
        "id": "1WlWLIfvMaUD"
      },
      "source": [
        "### **13-mashq.** Yuqoridagi `Series` obyektidan hududi eng katta va eng kichik elementlarni chiqaring"
      ]
    },
    {
      "cell_type": "code",
      "metadata": {
        "id": "cfQUklJ3MaUD",
        "colab": {
          "base_uri": "https://localhost:8080/"
        },
        "outputId": "a36a9cae-d68f-4919-870a-03e5825d88fc"
      },
      "source": [
        "# Javobni shuyerga yozing\n",
        "katta = ser.idxmax()\n",
        "print(f\"Eng katta hudud: {katta}\")\n",
        "kichik = ser.idxmin()\n",
        "print(f\"Eng kichik hudud: {kichik}\")"
      ],
      "execution_count": 45,
      "outputs": [
        {
          "output_type": "stream",
          "name": "stdout",
          "text": [
            "Eng katta hudud: Qoraqalpog'iston Respublikasi\n",
            "Eng kichik hudud: Andijon\n"
          ]
        }
      ]
    },
    {
      "cell_type": "code",
      "metadata": {
        "code_folding": [
          0
        ],
        "jupyter": {
          "source_hidden": true
        },
        "tags": [],
        "cellView": "form",
        "id": "iwVCGmISMaUD",
        "outputId": "c2220771-5661-4f49-aa5a-331e71e0d9af"
      },
      "source": [
        "#@title To'g'ri javob\n",
        "print(f\"Eng katta hudud: {obj3.idxmax()}\")\n",
        "print(f\"Eng kichik hudud: {obj3.idxmin()}\")"
      ],
      "execution_count": null,
      "outputs": [
        {
          "name": "stdout",
          "output_type": "stream",
          "text": [
            "Eng katta hudud: Qoraqalpog'iston Respublikasi\n",
            "Eng kichik hudud: Andijon\n"
          ]
        }
      ]
    },
    {
      "cell_type": "markdown",
      "metadata": {
        "id": "hyCJqv3gMaUE"
      },
      "source": [
        "### **14-mashq.** Yuqoridagi eng katta va eng kichik hududlar aholisi sonini chiqaring"
      ]
    },
    {
      "cell_type": "code",
      "metadata": {
        "id": "wu26U94yMaUE",
        "colab": {
          "base_uri": "https://localhost:8080/"
        },
        "outputId": "5c3d3283-d3df-4158-9e3f-a09d4c4d81c0"
      },
      "source": [
        "# Javobni shuyerga yozing\n",
        "print(f\"{ser.idxmax()} aholisi {aholi[ser.idxmax()]}\")\n",
        "print(f\"{ser.idxmin()} aholisi {aholi[ser.idxmin()]}\")"
      ],
      "execution_count": 64,
      "outputs": [
        {
          "output_type": "stream",
          "name": "stdout",
          "text": [
            "Qoraqalpog'iston Respublikasi aholisi 1200000\n",
            "Andijon aholisi 1899000\n"
          ]
        }
      ]
    },
    {
      "cell_type": "code",
      "metadata": {
        "code_folding": [
          0
        ],
        "jupyter": {
          "source_hidden": true
        },
        "tags": [],
        "cellView": "form",
        "id": "bu_B5iFwMaUE",
        "outputId": "af5613de-dd5f-47e3-e1ff-9f3ff0327720"
      },
      "source": [
        "#@title To'g'ri javob\n",
        "print(f\"{obj3.idxmax()} aholisi {obj2[obj3.idxmax()]}\")\n",
        "print(f\"{obj3.idxmin()} aholisi {obj2[obj3.idxmin()]}\")"
      ],
      "execution_count": null,
      "outputs": [
        {
          "name": "stdout",
          "output_type": "stream",
          "text": [
            "Qoraqalpog'iston Respublikasi aholisi 1200000\n",
            "Andijon aholisi 1899000\n"
          ]
        }
      ]
    },
    {
      "cell_type": "markdown",
      "metadata": {
        "id": "C6M1A-wZMaUE"
      },
      "source": [
        "### **15-mashq**. Yuqoridagi hudulardan O'zbekiston Respublikasi hududini hisoblang"
      ]
    },
    {
      "cell_type": "code",
      "metadata": {
        "id": "lBjvOsu_MaUE",
        "colab": {
          "base_uri": "https://localhost:8080/"
        },
        "outputId": "dad767b2-e6f9-40ad-c7d1-272b5169b597"
      },
      "source": [
        "# Javobni shuyerga yozing\n",
        "hudud = ser\n",
        "hudud.sum()"
      ],
      "execution_count": 67,
      "outputs": [
        {
          "output_type": "execute_result",
          "data": {
            "text/plain": [
              "441900"
            ]
          },
          "metadata": {},
          "execution_count": 67
        }
      ]
    },
    {
      "cell_type": "code",
      "metadata": {
        "code_folding": [
          0
        ],
        "jupyter": {
          "source_hidden": true
        },
        "tags": [],
        "cellView": "form",
        "id": "Fq9J3uC-MaUE",
        "outputId": "b517fc4f-af64-4203-f80f-8b289f610655"
      },
      "source": [
        "#@title To'g'ri javob\n",
        "sum(obj3)"
      ],
      "execution_count": null,
      "outputs": [
        {
          "data": {
            "text/plain": [
              "441900"
            ]
          },
          "execution_count": 54,
          "metadata": {},
          "output_type": "execute_result"
        }
      ]
    },
    {
      "cell_type": "markdown",
      "metadata": {
        "id": "VG1qyIWfMaUF"
      },
      "source": [
        "### **16-mashq.** Aholisi eng ko'p va eng kam hududlarning hajmini va aholi sonini chiqaring"
      ]
    },
    {
      "cell_type": "code",
      "source": [
        "aholi.idxmax()\n",
        "hudud[aholi.idxmax()]"
      ],
      "metadata": {
        "colab": {
          "base_uri": "https://localhost:8080/"
        },
        "id": "jVZ_appViXDv",
        "outputId": "6e250a0f-aced-47d3-dc19-fbb87fd8f3d8"
      },
      "execution_count": 71,
      "outputs": [
        {
          "output_type": "execute_result",
          "data": {
            "text/plain": [
              "15300"
            ]
          },
          "metadata": {},
          "execution_count": 71
        }
      ]
    },
    {
      "cell_type": "code",
      "metadata": {
        "id": "wpqDW7mEMaUF",
        "colab": {
          "base_uri": "https://localhost:8080/"
        },
        "outputId": "8e4a0a0b-2967-4ecf-c995-47d1fc1d66b8"
      },
      "source": [
        "# Javobni shuyerga yozing\n",
        "print(f\"{aholi.idxmax()} hududi {hudud[aholi.idxmax()]} kv.km, aholisi {aholi[aholi.idxmax()]}\")\n",
        "print(f\"{aholi.idxmin()} hududi {hudud[aholi.idxmin()]} kv.km, aholisi {aholi[aholi.idxmin()]}\")"
      ],
      "execution_count": 74,
      "outputs": [
        {
          "output_type": "stream",
          "name": "stdout",
          "text": [
            "Toshkent hududi 15300 kv.km, aholisi 4450000\n",
            "Sirdaryo hududi 5100 kv.km, aholisi 648100\n"
          ]
        }
      ]
    },
    {
      "cell_type": "code",
      "metadata": {
        "code_folding": [
          0
        ],
        "jupyter": {
          "source_hidden": true
        },
        "tags": [],
        "cellView": "form",
        "id": "mlK_8JEfMaUF",
        "outputId": "8ef5d64d-601a-48ca-95a9-30c808507d6d"
      },
      "source": [
        "#@title To'g'ri javob\n",
        "print(f\"{obj2.idxmax()} hududi {obj3[obj2.idxmax()]}kv.km, aholisi {obj2[obj2.idxmax()]}\")\n",
        "print(f\"{obj2.idxmin()} hududi {obj3[obj2.idxmin()]}kv.km, aholisi {obj2[obj2.idxmin()]}\")"
      ],
      "execution_count": null,
      "outputs": [
        {
          "name": "stdout",
          "output_type": "stream",
          "text": [
            "Toshkent hududi 15300kv.km, aholisi 4450000\n",
            "Sirdaryo hududi 5100kv.km, aholisi 648100\n"
          ]
        }
      ]
    },
    {
      "cell_type": "markdown",
      "metadata": {
        "id": "DVnpsFuBMaUF"
      },
      "source": [
        "### **17-mashq.** Yuqoridagi ikki obyektdan foydalangan holda O'zbekiston respublikasi tarkibidagi hududlarni avval aholi soni bo'yicha, keyin esa hajmi bo'yicha tartiblab chiqaring"
      ]
    },
    {
      "cell_type": "code",
      "metadata": {
        "id": "ritVgX4bMaUF",
        "colab": {
          "base_uri": "https://localhost:8080/"
        },
        "outputId": "ed6cc664-070a-4067-908c-cc97bfdb0e0d"
      },
      "source": [
        "# Javobni shuyerga yozing\n",
        "print(f\"Hududlar hajmi bo'yicha tartiblash \\n{hudud.sort_values()}\")\n",
        "print('')\n",
        "print(f\"Aholi soni bo'yicha tartiblash \\n{aholi.sort_values()}\")"
      ],
      "execution_count": 86,
      "outputs": [
        {
          "output_type": "stream",
          "name": "stdout",
          "text": [
            "Hududlar hajmi bo'yicha tartiblash \n",
            "Andijon                            4200\n",
            "Sirdaryo                           5100\n",
            "Xorazm                             6300\n",
            "Farg'ona                           6800\n",
            "Namangan                           7900\n",
            "Toshkent                          15300\n",
            "Samarqand                         16400\n",
            "Jizzax                            20500\n",
            "Surxondaryo                       20800\n",
            "Qashqadaryo                       28400\n",
            "Buxoro                            39400\n",
            "Navoiy                           110800\n",
            "Qoraqalpog'iston Respublikasi    160000\n",
            "Name: Hududlar hajmi, dtype: int64\n",
            "\n",
            "Aholi soni bo'yicha tartiblash \n",
            "Sirdaryo                          648100\n",
            "Navoiy                            767500\n",
            "Jizzax                            910500\n",
            "Xorazm                           1200000\n",
            "Qoraqalpog'iston Respublikasi    1200000\n",
            "Buxoro                           1384700\n",
            "Surxondaryo                      1676000\n",
            "Namangan                         1862000\n",
            "Andijon                          1899000\n",
            "Qashqadaryo                      2029000\n",
            "Samarqand                        2322000\n",
            "Farg'ona                         2597000\n",
            "Toshkent                         4450000\n",
            "dtype: int64\n"
          ]
        }
      ]
    },
    {
      "cell_type": "code",
      "metadata": {
        "code_folding": [
          0
        ],
        "jupyter": {
          "source_hidden": true
        },
        "tags": [],
        "cellView": "form",
        "id": "uzGYBpU-MaUF",
        "outputId": "1e991202-691a-4201-8f6b-4373c78dfc89"
      },
      "source": [
        "#@title To'g'ri javob\n",
        "print(\"Hududlar hajmi bo'yicha tartiblash\")\n",
        "obj3.sort_values()"
      ],
      "execution_count": null,
      "outputs": [
        {
          "name": "stdout",
          "output_type": "stream",
          "text": [
            "Hududlar hajmi bo'yicha tartiblash\n"
          ]
        },
        {
          "data": {
            "text/plain": [
              "Andijon                            4200\n",
              "Sirdaryo                           5100\n",
              "Xorazm                             6300\n",
              "Farg'ona                           6800\n",
              "Namangan                           7900\n",
              "Toshkent                          15300\n",
              "Samarqand                         16400\n",
              "Jizzax                            20500\n",
              "Surxondaryo                       20800\n",
              "Qashqadaryo                       28400\n",
              "Buxoro                            39400\n",
              "Navoiy                           110800\n",
              "Qoraqalpog'iston Respublikasi    160000\n",
              "Name: Hudular hajmi, dtype: int64"
            ]
          },
          "execution_count": 61,
          "metadata": {},
          "output_type": "execute_result"
        }
      ]
    },
    {
      "cell_type": "code",
      "metadata": {
        "code_folding": [
          0
        ],
        "jupyter": {
          "source_hidden": true
        },
        "tags": [],
        "cellView": "form",
        "id": "RPI5Y5ZaMaUF",
        "outputId": "8e82af10-7242-4875-a85b-a8e8bcd6b69a"
      },
      "source": [
        "#@title To'g'ri javob\n",
        "print(\"Aholi soni bo'yicha tartiblash\")\n",
        "obj2.sort_values()"
      ],
      "execution_count": null,
      "outputs": [
        {
          "name": "stdout",
          "output_type": "stream",
          "text": [
            "Aholi soni bo'yicha tartiblash\n"
          ]
        },
        {
          "data": {
            "text/plain": [
              "Sirdaryo                          648100\n",
              "Navoiy                            767500\n",
              "Jizzax                            910500\n",
              "Xorazm                           1200000\n",
              "Qoraqalpog'iston Respublikasi    1200000\n",
              "Buxoro                           1384700\n",
              "Surxondaryo                      1676000\n",
              "Namangan                         1862000\n",
              "Andijon                          1899000\n",
              "Qashqadaryo                      2029000\n",
              "Samarqand                        2322000\n",
              "Farg'ona                         2597000\n",
              "Toshkent                         4450000\n",
              "dtype: int64"
            ]
          },
          "execution_count": 60,
          "metadata": {},
          "output_type": "execute_result"
        }
      ]
    },
    {
      "cell_type": "code",
      "metadata": {
        "id": "YgESVszuMaUG"
      },
      "source": [],
      "execution_count": null,
      "outputs": []
    }
  ]
}