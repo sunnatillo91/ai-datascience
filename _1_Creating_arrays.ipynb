{
  "nbformat": 4,
  "nbformat_minor": 0,
  "metadata": {
    "colab": {
      "provenance": [],
      "authorship_tag": "ABX9TyNcqyxaWJ7On2sXQg1+S5vn",
      "include_colab_link": true
    },
    "kernelspec": {
      "name": "python3",
      "display_name": "Python 3"
    },
    "language_info": {
      "name": "python"
    }
  },
  "cells": [
    {
      "cell_type": "markdown",
      "metadata": {
        "id": "view-in-github",
        "colab_type": "text"
      },
      "source": [
        "<a href=\"https://colab.research.google.com/github/sunnatillo91/ai-datascience/blob/main/_1_Creating_arrays.ipynb\" target=\"_parent\"><img src=\"https://colab.research.google.com/assets/colab-badge.svg\" alt=\"Open In Colab\"/></a>"
      ]
    },
    {
      "cell_type": "code",
      "execution_count": null,
      "metadata": {
        "id": "MT2X7UqnR3SR"
      },
      "outputs": [],
      "source": []
    },
    {
      "cell_type": "markdown",
      "source": [],
      "metadata": {
        "id": "HB06N1_cSAXw"
      }
    },
    {
      "cell_type": "markdown",
      "source": [
        "# Data Science va Sun'iy Intellekt Praktikum"
      ],
      "metadata": {
        "id": "9JuVvxZwCte_"
      }
    },
    {
      "cell_type": "markdown",
      "source": [
        "Ma'lumotlar tahlili"
      ],
      "metadata": {
        "id": "001hYZ84Sidq"
      }
    },
    {
      "cell_type": "markdown",
      "source": [],
      "metadata": {
        "id": "0S_8UDOsSrRd"
      }
    },
    {
      "cell_type": "markdown",
      "source": [
        "2.1 NumPy kutubxonasi bilan ishlash"
      ],
      "metadata": {
        "id": "cwVGOHf5Svez"
      }
    },
    {
      "cell_type": "markdown",
      "source": [
        "# NumPy kutubxonasini chaqirib olish"
      ],
      "metadata": {
        "id": "MPjwyAToTGj1"
      }
    },
    {
      "cell_type": "code",
      "source": [
        "import numpy as np"
      ],
      "metadata": {
        "id": "H1Xu7OQBTQ-K"
      },
      "execution_count": 1,
      "outputs": []
    },
    {
      "cell_type": "markdown",
      "source": [
        "# 2.1.1 N-o'lchamli massiv (array)larga ishlov berish"
      ],
      "metadata": {
        "id": "-KAJPcNtTXKC"
      }
    },
    {
      "cell_type": "markdown",
      "source": [
        "# NumPyda massiv yaratishning eng oson yo'llaridan biri bu array funksiyasi yordamida amalga oshiriladi. Ushbu funksiya har qanday turdagi ketma-ket ma'lumotlarni qabul qilib, uni yangi numpy arrayiga o'girib beradi."
      ],
      "metadata": {
        "id": "DrfzMVoNUKZv"
      }
    },
    {
      "cell_type": "code",
      "source": [
        "data1 = [3.5, 5, 6, 2]  # list\n",
        "arr1 = np.array(data1)  # array1"
      ],
      "metadata": {
        "id": "w392vyPBVG0L"
      },
      "execution_count": 3,
      "outputs": []
    },
    {
      "cell_type": "code",
      "source": [
        "arr1, data1"
      ],
      "metadata": {
        "colab": {
          "base_uri": "https://localhost:8080/"
        },
        "id": "YS7PE8h1VZkI",
        "outputId": "219279c6-31d0-4a1b-eeed-bacb7d9af2ff"
      },
      "execution_count": 7,
      "outputs": [
        {
          "output_type": "execute_result",
          "data": {
            "text/plain": [
              "(array([3.5, 5. , 6. , 2. ]), [3.5, 5, 6, 2])"
            ]
          },
          "metadata": {},
          "execution_count": 7
        }
      ]
    },
    {
      "cell_type": "code",
      "source": [
        "data2 = (4,5,3.2,7)   # tuple\n",
        "arr2 = np.array(data2)  # numpy da yaratilgan array"
      ],
      "metadata": {
        "id": "JDdTMaBDTN47"
      },
      "execution_count": 9,
      "outputs": []
    },
    {
      "cell_type": "code",
      "source": [
        "data2, arr2"
      ],
      "metadata": {
        "colab": {
          "base_uri": "https://localhost:8080/"
        },
        "id": "wSole-VkWC92",
        "outputId": "c7039c4a-eb0d-4807-9d3e-53663a512356"
      },
      "execution_count": 10,
      "outputs": [
        {
          "output_type": "execute_result",
          "data": {
            "text/plain": [
              "((4, 5, 3.2, 7), array([4. , 5. , 3.2, 7. ]))"
            ]
          },
          "metadata": {},
          "execution_count": 10
        }
      ]
    },
    {
      "cell_type": "markdown",
      "source": [
        "# Massiv o'lchami"
      ],
      "metadata": {
        "id": "EaEIHTr8TPWk"
      }
    },
    {
      "cell_type": "code",
      "source": [
        "arr1.ndim # array1 ning o'lchami"
      ],
      "metadata": {
        "colab": {
          "base_uri": "https://localhost:8080/"
        },
        "id": "x-Q1nzyncyha",
        "outputId": "abe67ebe-8bf8-438f-8dfb-0b447528b29e"
      },
      "execution_count": 11,
      "outputs": [
        {
          "output_type": "execute_result",
          "data": {
            "text/plain": [
              "1"
            ]
          },
          "metadata": {},
          "execution_count": 11
        }
      ]
    },
    {
      "cell_type": "markdown",
      "source": [
        "# Ikki va undan ortiq o'lchamli massivlar"
      ],
      "metadata": {
        "id": "jq1t9uCvT_Pj"
      }
    },
    {
      "cell_type": "code",
      "source": [
        "data3 = [[1,2,3,4,], [5,6,7,8], [10,11,12,13]]  # list ichidagi list (nested list)\n",
        "arr3 = np.array(data3)  # array3"
      ],
      "metadata": {
        "id": "d4jMUYlMdYhe"
      },
      "execution_count": 15,
      "outputs": []
    },
    {
      "cell_type": "code",
      "source": [
        "arr3.ndim  # array3 ning o'lchami"
      ],
      "metadata": {
        "colab": {
          "base_uri": "https://localhost:8080/"
        },
        "id": "shxGKoTQdptQ",
        "outputId": "1fc3e3a6-9ebe-45f9-9018-0ed26317ce25"
      },
      "execution_count": 22,
      "outputs": [
        {
          "output_type": "execute_result",
          "data": {
            "text/plain": [
              "2"
            ]
          },
          "metadata": {},
          "execution_count": 22
        }
      ]
    },
    {
      "cell_type": "code",
      "source": [
        "data4 = [[[1,2,3,4],[5,6,7,8]]]  # list ichidagi list (nested list)\n",
        "data5 = [[[1,2,3],[4,5,6]]]  # list ichidagi list (nested list)\n",
        "arr4 = np.array(data4)   # ikki o'lchamli massivlar\n",
        "arr5 = np.array(data5)   # uch o'lchamli massivlar"
      ],
      "metadata": {
        "id": "PP0OFRQBebdr"
      },
      "execution_count": 29,
      "outputs": []
    },
    {
      "cell_type": "code",
      "source": [
        "arr5.ndim"
      ],
      "metadata": {
        "colab": {
          "base_uri": "https://localhost:8080/"
        },
        "id": "H0ASRfwRe2xP",
        "outputId": "feb0408d-500b-4032-c3cb-e2e11dfe846d"
      },
      "execution_count": 30,
      "outputs": [
        {
          "output_type": "execute_result",
          "data": {
            "text/plain": [
              "3"
            ]
          },
          "metadata": {},
          "execution_count": 30
        }
      ]
    },
    {
      "cell_type": "markdown",
      "source": [
        "# shape, size metodlari"
      ],
      "metadata": {
        "id": "2gR2SQGegudf"
      }
    },
    {
      "cell_type": "markdown",
      "source": [
        "**shape** metodi massivning qator va ustunlar sonini, **size** esa massivlardagi elementlar sonini ko'rsatadi"
      ],
      "metadata": {
        "id": "NkhM_rDuhEup"
      }
    },
    {
      "cell_type": "code",
      "source": [
        "arr3.shape  # array4 ning qator va ustunlar sonini ko'rsatadi (qator, ustun)"
      ],
      "metadata": {
        "colab": {
          "base_uri": "https://localhost:8080/"
        },
        "id": "VVePzrhie-1q",
        "outputId": "cb197521-7087-40b8-da62-a6ddd1355b0e"
      },
      "execution_count": 35,
      "outputs": [
        {
          "output_type": "execute_result",
          "data": {
            "text/plain": [
              "(2, 4)"
            ]
          },
          "metadata": {},
          "execution_count": 35
        }
      ]
    },
    {
      "cell_type": "code",
      "source": [
        "arr3.size  # array3 ning elementlar sonini ko'rsatadi"
      ],
      "metadata": {
        "colab": {
          "base_uri": "https://localhost:8080/"
        },
        "id": "WOigjmXlhxe4",
        "outputId": "2a545349-6240-4138-c729-39bf84f65e21"
      },
      "execution_count": 36,
      "outputs": [
        {
          "output_type": "execute_result",
          "data": {
            "text/plain": [
              "8"
            ]
          },
          "metadata": {},
          "execution_count": 36
        }
      ]
    },
    {
      "cell_type": "markdown",
      "source": [
        "# N-o'lchamli massivlar yaratishning boshqa usullari"
      ],
      "metadata": {
        "id": "zcBy3v2GjCEX"
      }
    },
    {
      "cell_type": "markdown",
      "source": [
        "**zeros** va **ones** funksiyalari yordamida massivlar yaratish"
      ],
      "metadata": {
        "id": "WMAtRAKVjNJ-"
      }
    },
    {
      "cell_type": "code",
      "source": [
        "arr6 = np.zeros(shape =(2,4))  # barcha elementlari 0 ga teng array\n",
        "arr6"
      ],
      "metadata": {
        "colab": {
          "base_uri": "https://localhost:8080/"
        },
        "id": "8YkkNKX9iNYA",
        "outputId": "8f080ad6-d0ba-4e80-d00e-3160653c826e"
      },
      "execution_count": 41,
      "outputs": [
        {
          "output_type": "execute_result",
          "data": {
            "text/plain": [
              "array([[0., 0., 0., 0.],\n",
              "       [0., 0., 0., 0.]])"
            ]
          },
          "metadata": {},
          "execution_count": 41
        }
      ]
    },
    {
      "cell_type": "code",
      "source": [
        "arr7 = np.ones((2,5))  # barcha elementlari 1 ga teng array\n",
        "arr7"
      ],
      "metadata": {
        "colab": {
          "base_uri": "https://localhost:8080/"
        },
        "id": "o7haonrYjzQk",
        "outputId": "a3b6bda7-8091-4f06-9d65-c0e78081601f"
      },
      "execution_count": 44,
      "outputs": [
        {
          "output_type": "execute_result",
          "data": {
            "text/plain": [
              "array([[1., 1., 1., 1., 1.],\n",
              "       [1., 1., 1., 1., 1.]])"
            ]
          },
          "metadata": {},
          "execution_count": 44
        }
      ]
    },
    {
      "cell_type": "markdown",
      "source": [
        "arrange funksiyasi yordamida yaratish"
      ],
      "metadata": {
        "id": "7qYMEShnkZhq"
      }
    },
    {
      "cell_type": "code",
      "source": [
        "arr8 = np.arange(4, 20, 2)  # 4 dan 20 gacha bo'lgan qiymatlarni 2 qadam bilan massiv yaratdi\n",
        "arr8"
      ],
      "metadata": {
        "colab": {
          "base_uri": "https://localhost:8080/"
        },
        "id": "I1oPBxJ1kSn5",
        "outputId": "c9b3686d-353e-4eed-c3c0-07886548c435"
      },
      "execution_count": 46,
      "outputs": [
        {
          "output_type": "execute_result",
          "data": {
            "text/plain": [
              "array([ 4,  6,  8, 10, 12, 14, 16, 18])"
            ]
          },
          "metadata": {},
          "execution_count": 46
        }
      ]
    },
    {
      "cell_type": "code",
      "source": [
        "arr9 = np.arange(20)  # 0 dan 20 gacha bo'lgan qiymatlarni 1 qadam bilan massiv yaratdi\n",
        "arr9"
      ],
      "metadata": {
        "colab": {
          "base_uri": "https://localhost:8080/"
        },
        "id": "SyRK8H9jlHcA",
        "outputId": "dad46dbc-0f5c-41d8-848c-0980f7c29c84"
      },
      "execution_count": 47,
      "outputs": [
        {
          "output_type": "execute_result",
          "data": {
            "text/plain": [
              "array([ 0,  1,  2,  3,  4,  5,  6,  7,  8,  9, 10, 11, 12, 13, 14, 15, 16,\n",
              "       17, 18, 19])"
            ]
          },
          "metadata": {},
          "execution_count": 47
        }
      ]
    },
    {
      "cell_type": "code",
      "source": [],
      "metadata": {
        "id": "mVST11HflYKo"
      },
      "execution_count": null,
      "outputs": []
    }
  ]
}