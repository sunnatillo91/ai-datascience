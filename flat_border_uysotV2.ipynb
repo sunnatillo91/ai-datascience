{
  "cells": [
    {
      "cell_type": "markdown",
      "metadata": {
        "id": "view-in-github",
        "colab_type": "text"
      },
      "source": [
        "<a href=\"https://colab.research.google.com/github/sunnatillo91/ai-datascience/blob/main/flat_border_uysotV2.ipynb\" target=\"_parent\"><img src=\"https://colab.research.google.com/assets/colab-badge.svg\" alt=\"Open In Colab\"/></a>"
      ]
    },
    {
      "cell_type": "markdown",
      "metadata": {
        "id": "rXEib5gexH2C"
      },
      "source": [
        "##Python script to convert SVG files to PNG images:"
      ]
    },
    {
      "cell_type": "markdown",
      "metadata": {
        "id": "cDDrgvxLPD0T"
      },
      "source": [
        "## 1. Parse the Coordinates"
      ]
    },
    {
      "cell_type": "code",
      "execution_count": null,
      "metadata": {
        "colab": {
          "base_uri": "https://localhost:8080/"
        },
        "collapsed": true,
        "id": "Im8S0M59hxNG",
        "outputId": "e5f6b822-a5db-44f6-b58d-7e637ef6d192"
      },
      "outputs": [
        {
          "output_type": "stream",
          "name": "stdout",
          "text": [
            "Mounted at /content/drive\n"
          ]
        }
      ],
      "source": [
        "from google.colab import drive\n",
        "drive.mount('/content/drive')"
      ]
    },
    {
      "cell_type": "code",
      "execution_count": null,
      "metadata": {
        "id": "lI0RcEAe6nls"
      },
      "outputs": [],
      "source": [
        "import pandas as pd\n",
        "\n",
        "# Load the DataFrame\n",
        "df = pd.read_csv(\"/content/drive/MyDrive/full_flatspoint.csv\", header=0)\n",
        "\n",
        "# Function to convert coordinate string to list of tuples\n",
        "def parse_coordinates(coord_str):\n",
        "    coords = coord_str.split()\n",
        "    return [(float(coord.split(',')[0]), float(coord.split(',')[1])) for coord in coords]"
      ]
    },
    {
      "cell_type": "code",
      "execution_count": null,
      "metadata": {
        "colab": {
          "base_uri": "https://localhost:8080/"
        },
        "id": "1SWKD-ZddxkJ",
        "outputId": "1da503c4-805d-4d3a-c3bc-9cb3b656f8e4"
      },
      "outputs": [
        {
          "output_type": "stream",
          "name": "stdout",
          "text": [
            "<class 'pandas.core.frame.DataFrame'>\n",
            "RangeIndex: 42565 entries, 0 to 42564\n",
            "Data columns (total 3 columns):\n",
            " #   Column         Non-Null Count  Dtype \n",
            "---  ------         --------------  ----- \n",
            " 0   id             42565 non-null  int64 \n",
            " 1   image_point    42560 non-null  object\n",
            " 2   absolute_path  42342 non-null  object\n",
            "dtypes: int64(1), object(2)\n",
            "memory usage: 997.7+ KB\n"
          ]
        }
      ],
      "source": [
        "df.info()"
      ]
    },
    {
      "cell_type": "code",
      "execution_count": null,
      "metadata": {
        "colab": {
          "base_uri": "https://localhost:8080/"
        },
        "id": "yexxjC3WGljo",
        "outputId": "4aadc7cc-15a6-4904-fd0e-3a6c58f75bac"
      },
      "outputs": [
        {
          "output_type": "stream",
          "name": "stdout",
          "text": [
            "Mavjud bo'lmagan qiymatlar soni: 228\n"
          ]
        }
      ],
      "source": [
        "print(f\"Mavjud bo'lmagan qiymatlar soni: {df.isnull().sum().sum()}\")"
      ]
    },
    {
      "cell_type": "code",
      "execution_count": null,
      "metadata": {
        "colab": {
          "base_uri": "https://localhost:8080/",
          "height": 424
        },
        "id": "Su_hRlQeJWaC",
        "outputId": "f68a3a73-6679-4cfc-fc41-1ef2d20f33d5"
      },
      "outputs": [
        {
          "data": {
            "application/vnd.google.colaboratory.intrinsic+json": {
              "summary": "{\n  \"name\": \"df\",\n  \"rows\": 42565,\n  \"fields\": [\n    {\n      \"column\": \"id\",\n      \"properties\": {\n        \"dtype\": \"number\",\n        \"std\": 35279,\n        \"min\": 5829,\n        \"max\": 157397,\n        \"num_unique_values\": 42538,\n        \"samples\": [\n          95333,\n          117387,\n          101567\n        ],\n        \"semantic_type\": \"\",\n        \"description\": \"\"\n      }\n    },\n    {\n      \"column\": \"image_point\",\n      \"properties\": {\n        \"dtype\": \"category\",\n        \"num_unique_values\": 7524,\n        \"samples\": [\n          \"1070.4,116.8 1070.4,469.7 1655.6,469.7 1655.6,116.8 1242,116.8 \",\n          \"665.5304565429688,563.761962890625 706.8521728515625,563.761962890625 707.478271484375,582.5445556640625 724.3826293945312,583.170654296875 724.3826293945312,630.127197265625 744.4174194335938,630.7532348632812 744.4174194335938,405.988037109375 927.2348022460938,405.3619689941406 926.6087036132812,381.5706481933594 919.0956420898438,382.82281494140625 919.0956420898438,352.1445617675781 1034.9217529296875,352.1445617675781 1034.9217529296875,389.0837097167969 991.7217407226562,390.33587646484375 992.9739379882812,403.48370361328125 1022.4000244140625,404.1097717285156 1024.2783203125,935.6575927734375 959.7913208007812,937.535888671875 961.6695556640625,955.6923828125 1031.791259765625,955.6923828125 1032.4173583984375,1007.6575927734375 889.6695556640625,1007.6575927734375 889.04345703125,1041.46630859375 744.4174194335938,1042.0924072265625 742.5391235351562,955.6923828125 793.8782348632812,955.0662841796875 792.6260986328125,938.1619262695312 742.5391235351562,936.28369140625 743.1652221679688,727.170654296875 611.0608520507812,730.3010864257812 611.0608520507812,580.0402221679688 666.156494140625,581.2924194335938 665.5304565429688,563.761962890625\",\n          \"727.94,918.23 727.94,878.88 747.98,878.88 747.98,918.5 741.61,918.5 734.05,918.5 727.94,918.5 \"\n        ],\n        \"semantic_type\": \"\",\n        \"description\": \"\"\n      }\n    },\n    {\n      \"column\": \"absolute_path\",\n      \"properties\": {\n        \"dtype\": \"category\",\n        \"num_unique_values\": 5595,\n        \"samples\": [\n          \"/v1/public/files/image/240319-212102-a453dece-c7a2-4d4c.jpg\",\n          \"/v1/public/files/image/240414-185053-4c1da0ea-2908-4aea.jpg\",\n          \"/v1/public/files/image/231012-170646-47a4d306-288b-464b.jpg\"\n        ],\n        \"semantic_type\": \"\",\n        \"description\": \"\"\n      }\n    }\n  ]\n}",
              "type": "dataframe",
              "variable_name": "df"
            },
            "text/html": [
              "\n",
              "  <div id=\"df-6e816bac-27b3-47e0-98e6-1019242ceabe\" class=\"colab-df-container\">\n",
              "    <div>\n",
              "<style scoped>\n",
              "    .dataframe tbody tr th:only-of-type {\n",
              "        vertical-align: middle;\n",
              "    }\n",
              "\n",
              "    .dataframe tbody tr th {\n",
              "        vertical-align: top;\n",
              "    }\n",
              "\n",
              "    .dataframe thead th {\n",
              "        text-align: right;\n",
              "    }\n",
              "</style>\n",
              "<table border=\"1\" class=\"dataframe\">\n",
              "  <thead>\n",
              "    <tr style=\"text-align: right;\">\n",
              "      <th></th>\n",
              "      <th>id</th>\n",
              "      <th>image_point</th>\n",
              "      <th>absolute_path</th>\n",
              "    </tr>\n",
              "  </thead>\n",
              "  <tbody>\n",
              "    <tr>\n",
              "      <th>0</th>\n",
              "      <td>157397</td>\n",
              "      <td>975,338.74 975,741.51 998.94,741.51 998.94,770...</td>\n",
              "      <td>/v1/public/files/image/240720-105350-840ab749-...</td>\n",
              "    </tr>\n",
              "    <tr>\n",
              "      <th>1</th>\n",
              "      <td>157395</td>\n",
              "      <td>1492.87,591.91 1700.02,591.91 1700.02,785.11 1...</td>\n",
              "      <td>/v1/public/files/image/240720-112219-26fd8330-...</td>\n",
              "    </tr>\n",
              "    <tr>\n",
              "      <th>2</th>\n",
              "      <td>157394</td>\n",
              "      <td>1604.02,331.91 1604.02,516.89 1710.49,516.89 1...</td>\n",
              "      <td>/v1/public/files/image/240720-112219-26fd8330-...</td>\n",
              "    </tr>\n",
              "    <tr>\n",
              "      <th>3</th>\n",
              "      <td>157393</td>\n",
              "      <td>1395.94,434.13 1493.72,434.13 1493.72,516.89 1...</td>\n",
              "      <td>/v1/public/files/image/240720-112219-26fd8330-...</td>\n",
              "    </tr>\n",
              "    <tr>\n",
              "      <th>4</th>\n",
              "      <td>157392</td>\n",
              "      <td>1286.66,294.89 1385.85,294.89 1385.85,516.89 1...</td>\n",
              "      <td>/v1/public/files/image/240720-112219-26fd8330-...</td>\n",
              "    </tr>\n",
              "    <tr>\n",
              "      <th>...</th>\n",
              "      <td>...</td>\n",
              "      <td>...</td>\n",
              "      <td>...</td>\n",
              "    </tr>\n",
              "    <tr>\n",
              "      <th>42560</th>\n",
              "      <td>7927</td>\n",
              "      <td>179,423 179,549.8 273.6,549.8 278.9,554.8 325....</td>\n",
              "      <td>/v1/public/files/image/220718-160248-ec71250e-...</td>\n",
              "    </tr>\n",
              "    <tr>\n",
              "      <th>42561</th>\n",
              "      <td>7926</td>\n",
              "      <td>434.1,461.4 434.1,549.8 385.3,549.8 380,554.8 ...</td>\n",
              "      <td>/v1/public/files/image/220718-160248-ec71250e-...</td>\n",
              "    </tr>\n",
              "    <tr>\n",
              "      <th>42562</th>\n",
              "      <td>7925</td>\n",
              "      <td>442.9,549.8 492,549.9 497,554.8 543.1,554.8 54...</td>\n",
              "      <td>/v1/public/files/image/220718-160248-ec71250e-...</td>\n",
              "    </tr>\n",
              "    <tr>\n",
              "      <th>42563</th>\n",
              "      <td>5830</td>\n",
              "      <td>625.338623046875,178.38345336914062 657.135620...</td>\n",
              "      <td>/v1/public/files/image/240525-120646-06fe45c2-...</td>\n",
              "    </tr>\n",
              "    <tr>\n",
              "      <th>42564</th>\n",
              "      <td>5829</td>\n",
              "      <td>1115.0125732421875,68.86040496826172 1127.7314...</td>\n",
              "      <td>/v1/public/files/image/240525-120646-06fe45c2-...</td>\n",
              "    </tr>\n",
              "  </tbody>\n",
              "</table>\n",
              "<p>42565 rows × 3 columns</p>\n",
              "</div>\n",
              "    <div class=\"colab-df-buttons\">\n",
              "\n",
              "  <div class=\"colab-df-container\">\n",
              "    <button class=\"colab-df-convert\" onclick=\"convertToInteractive('df-6e816bac-27b3-47e0-98e6-1019242ceabe')\"\n",
              "            title=\"Convert this dataframe to an interactive table.\"\n",
              "            style=\"display:none;\">\n",
              "\n",
              "  <svg xmlns=\"http://www.w3.org/2000/svg\" height=\"24px\" viewBox=\"0 -960 960 960\">\n",
              "    <path d=\"M120-120v-720h720v720H120Zm60-500h600v-160H180v160Zm220 220h160v-160H400v160Zm0 220h160v-160H400v160ZM180-400h160v-160H180v160Zm440 0h160v-160H620v160ZM180-180h160v-160H180v160Zm440 0h160v-160H620v160Z\"/>\n",
              "  </svg>\n",
              "    </button>\n",
              "\n",
              "  <style>\n",
              "    .colab-df-container {\n",
              "      display:flex;\n",
              "      gap: 12px;\n",
              "    }\n",
              "\n",
              "    .colab-df-convert {\n",
              "      background-color: #E8F0FE;\n",
              "      border: none;\n",
              "      border-radius: 50%;\n",
              "      cursor: pointer;\n",
              "      display: none;\n",
              "      fill: #1967D2;\n",
              "      height: 32px;\n",
              "      padding: 0 0 0 0;\n",
              "      width: 32px;\n",
              "    }\n",
              "\n",
              "    .colab-df-convert:hover {\n",
              "      background-color: #E2EBFA;\n",
              "      box-shadow: 0px 1px 2px rgba(60, 64, 67, 0.3), 0px 1px 3px 1px rgba(60, 64, 67, 0.15);\n",
              "      fill: #174EA6;\n",
              "    }\n",
              "\n",
              "    .colab-df-buttons div {\n",
              "      margin-bottom: 4px;\n",
              "    }\n",
              "\n",
              "    [theme=dark] .colab-df-convert {\n",
              "      background-color: #3B4455;\n",
              "      fill: #D2E3FC;\n",
              "    }\n",
              "\n",
              "    [theme=dark] .colab-df-convert:hover {\n",
              "      background-color: #434B5C;\n",
              "      box-shadow: 0px 1px 3px 1px rgba(0, 0, 0, 0.15);\n",
              "      filter: drop-shadow(0px 1px 2px rgba(0, 0, 0, 0.3));\n",
              "      fill: #FFFFFF;\n",
              "    }\n",
              "  </style>\n",
              "\n",
              "    <script>\n",
              "      const buttonEl =\n",
              "        document.querySelector('#df-6e816bac-27b3-47e0-98e6-1019242ceabe button.colab-df-convert');\n",
              "      buttonEl.style.display =\n",
              "        google.colab.kernel.accessAllowed ? 'block' : 'none';\n",
              "\n",
              "      async function convertToInteractive(key) {\n",
              "        const element = document.querySelector('#df-6e816bac-27b3-47e0-98e6-1019242ceabe');\n",
              "        const dataTable =\n",
              "          await google.colab.kernel.invokeFunction('convertToInteractive',\n",
              "                                                    [key], {});\n",
              "        if (!dataTable) return;\n",
              "\n",
              "        const docLinkHtml = 'Like what you see? Visit the ' +\n",
              "          '<a target=\"_blank\" href=https://colab.research.google.com/notebooks/data_table.ipynb>data table notebook</a>'\n",
              "          + ' to learn more about interactive tables.';\n",
              "        element.innerHTML = '';\n",
              "        dataTable['output_type'] = 'display_data';\n",
              "        await google.colab.output.renderOutput(dataTable, element);\n",
              "        const docLink = document.createElement('div');\n",
              "        docLink.innerHTML = docLinkHtml;\n",
              "        element.appendChild(docLink);\n",
              "      }\n",
              "    </script>\n",
              "  </div>\n",
              "\n",
              "\n",
              "<div id=\"df-bd503cf9-8cdd-4c4c-a167-f48d41603aab\">\n",
              "  <button class=\"colab-df-quickchart\" onclick=\"quickchart('df-bd503cf9-8cdd-4c4c-a167-f48d41603aab')\"\n",
              "            title=\"Suggest charts\"\n",
              "            style=\"display:none;\">\n",
              "\n",
              "<svg xmlns=\"http://www.w3.org/2000/svg\" height=\"24px\"viewBox=\"0 0 24 24\"\n",
              "     width=\"24px\">\n",
              "    <g>\n",
              "        <path d=\"M19 3H5c-1.1 0-2 .9-2 2v14c0 1.1.9 2 2 2h14c1.1 0 2-.9 2-2V5c0-1.1-.9-2-2-2zM9 17H7v-7h2v7zm4 0h-2V7h2v10zm4 0h-2v-4h2v4z\"/>\n",
              "    </g>\n",
              "</svg>\n",
              "  </button>\n",
              "\n",
              "<style>\n",
              "  .colab-df-quickchart {\n",
              "      --bg-color: #E8F0FE;\n",
              "      --fill-color: #1967D2;\n",
              "      --hover-bg-color: #E2EBFA;\n",
              "      --hover-fill-color: #174EA6;\n",
              "      --disabled-fill-color: #AAA;\n",
              "      --disabled-bg-color: #DDD;\n",
              "  }\n",
              "\n",
              "  [theme=dark] .colab-df-quickchart {\n",
              "      --bg-color: #3B4455;\n",
              "      --fill-color: #D2E3FC;\n",
              "      --hover-bg-color: #434B5C;\n",
              "      --hover-fill-color: #FFFFFF;\n",
              "      --disabled-bg-color: #3B4455;\n",
              "      --disabled-fill-color: #666;\n",
              "  }\n",
              "\n",
              "  .colab-df-quickchart {\n",
              "    background-color: var(--bg-color);\n",
              "    border: none;\n",
              "    border-radius: 50%;\n",
              "    cursor: pointer;\n",
              "    display: none;\n",
              "    fill: var(--fill-color);\n",
              "    height: 32px;\n",
              "    padding: 0;\n",
              "    width: 32px;\n",
              "  }\n",
              "\n",
              "  .colab-df-quickchart:hover {\n",
              "    background-color: var(--hover-bg-color);\n",
              "    box-shadow: 0 1px 2px rgba(60, 64, 67, 0.3), 0 1px 3px 1px rgba(60, 64, 67, 0.15);\n",
              "    fill: var(--button-hover-fill-color);\n",
              "  }\n",
              "\n",
              "  .colab-df-quickchart-complete:disabled,\n",
              "  .colab-df-quickchart-complete:disabled:hover {\n",
              "    background-color: var(--disabled-bg-color);\n",
              "    fill: var(--disabled-fill-color);\n",
              "    box-shadow: none;\n",
              "  }\n",
              "\n",
              "  .colab-df-spinner {\n",
              "    border: 2px solid var(--fill-color);\n",
              "    border-color: transparent;\n",
              "    border-bottom-color: var(--fill-color);\n",
              "    animation:\n",
              "      spin 1s steps(1) infinite;\n",
              "  }\n",
              "\n",
              "  @keyframes spin {\n",
              "    0% {\n",
              "      border-color: transparent;\n",
              "      border-bottom-color: var(--fill-color);\n",
              "      border-left-color: var(--fill-color);\n",
              "    }\n",
              "    20% {\n",
              "      border-color: transparent;\n",
              "      border-left-color: var(--fill-color);\n",
              "      border-top-color: var(--fill-color);\n",
              "    }\n",
              "    30% {\n",
              "      border-color: transparent;\n",
              "      border-left-color: var(--fill-color);\n",
              "      border-top-color: var(--fill-color);\n",
              "      border-right-color: var(--fill-color);\n",
              "    }\n",
              "    40% {\n",
              "      border-color: transparent;\n",
              "      border-right-color: var(--fill-color);\n",
              "      border-top-color: var(--fill-color);\n",
              "    }\n",
              "    60% {\n",
              "      border-color: transparent;\n",
              "      border-right-color: var(--fill-color);\n",
              "    }\n",
              "    80% {\n",
              "      border-color: transparent;\n",
              "      border-right-color: var(--fill-color);\n",
              "      border-bottom-color: var(--fill-color);\n",
              "    }\n",
              "    90% {\n",
              "      border-color: transparent;\n",
              "      border-bottom-color: var(--fill-color);\n",
              "    }\n",
              "  }\n",
              "</style>\n",
              "\n",
              "  <script>\n",
              "    async function quickchart(key) {\n",
              "      const quickchartButtonEl =\n",
              "        document.querySelector('#' + key + ' button');\n",
              "      quickchartButtonEl.disabled = true;  // To prevent multiple clicks.\n",
              "      quickchartButtonEl.classList.add('colab-df-spinner');\n",
              "      try {\n",
              "        const charts = await google.colab.kernel.invokeFunction(\n",
              "            'suggestCharts', [key], {});\n",
              "      } catch (error) {\n",
              "        console.error('Error during call to suggestCharts:', error);\n",
              "      }\n",
              "      quickchartButtonEl.classList.remove('colab-df-spinner');\n",
              "      quickchartButtonEl.classList.add('colab-df-quickchart-complete');\n",
              "    }\n",
              "    (() => {\n",
              "      let quickchartButtonEl =\n",
              "        document.querySelector('#df-bd503cf9-8cdd-4c4c-a167-f48d41603aab button');\n",
              "      quickchartButtonEl.style.display =\n",
              "        google.colab.kernel.accessAllowed ? 'block' : 'none';\n",
              "    })();\n",
              "  </script>\n",
              "</div>\n",
              "\n",
              "  <div id=\"id_e6b373ec-1bc6-4c01-96f1-85e34e3caaf3\">\n",
              "    <style>\n",
              "      .colab-df-generate {\n",
              "        background-color: #E8F0FE;\n",
              "        border: none;\n",
              "        border-radius: 50%;\n",
              "        cursor: pointer;\n",
              "        display: none;\n",
              "        fill: #1967D2;\n",
              "        height: 32px;\n",
              "        padding: 0 0 0 0;\n",
              "        width: 32px;\n",
              "      }\n",
              "\n",
              "      .colab-df-generate:hover {\n",
              "        background-color: #E2EBFA;\n",
              "        box-shadow: 0px 1px 2px rgba(60, 64, 67, 0.3), 0px 1px 3px 1px rgba(60, 64, 67, 0.15);\n",
              "        fill: #174EA6;\n",
              "      }\n",
              "\n",
              "      [theme=dark] .colab-df-generate {\n",
              "        background-color: #3B4455;\n",
              "        fill: #D2E3FC;\n",
              "      }\n",
              "\n",
              "      [theme=dark] .colab-df-generate:hover {\n",
              "        background-color: #434B5C;\n",
              "        box-shadow: 0px 1px 3px 1px rgba(0, 0, 0, 0.15);\n",
              "        filter: drop-shadow(0px 1px 2px rgba(0, 0, 0, 0.3));\n",
              "        fill: #FFFFFF;\n",
              "      }\n",
              "    </style>\n",
              "    <button class=\"colab-df-generate\" onclick=\"generateWithVariable('df')\"\n",
              "            title=\"Generate code using this dataframe.\"\n",
              "            style=\"display:none;\">\n",
              "\n",
              "  <svg xmlns=\"http://www.w3.org/2000/svg\" height=\"24px\"viewBox=\"0 0 24 24\"\n",
              "       width=\"24px\">\n",
              "    <path d=\"M7,19H8.4L18.45,9,17,7.55,7,17.6ZM5,21V16.75L18.45,3.32a2,2,0,0,1,2.83,0l1.4,1.43a1.91,1.91,0,0,1,.58,1.4,1.91,1.91,0,0,1-.58,1.4L9.25,21ZM18.45,9,17,7.55Zm-12,3A5.31,5.31,0,0,0,4.9,8.1,5.31,5.31,0,0,0,1,6.5,5.31,5.31,0,0,0,4.9,4.9,5.31,5.31,0,0,0,6.5,1,5.31,5.31,0,0,0,8.1,4.9,5.31,5.31,0,0,0,12,6.5,5.46,5.46,0,0,0,6.5,12Z\"/>\n",
              "  </svg>\n",
              "    </button>\n",
              "    <script>\n",
              "      (() => {\n",
              "      const buttonEl =\n",
              "        document.querySelector('#id_e6b373ec-1bc6-4c01-96f1-85e34e3caaf3 button.colab-df-generate');\n",
              "      buttonEl.style.display =\n",
              "        google.colab.kernel.accessAllowed ? 'block' : 'none';\n",
              "\n",
              "      buttonEl.onclick = () => {\n",
              "        google.colab.notebook.generateWithVariable('df');\n",
              "      }\n",
              "      })();\n",
              "    </script>\n",
              "  </div>\n",
              "\n",
              "    </div>\n",
              "  </div>\n"
            ],
            "text/plain": [
              "           id                                        image_point  \\\n",
              "0      157397  975,338.74 975,741.51 998.94,741.51 998.94,770...   \n",
              "1      157395  1492.87,591.91 1700.02,591.91 1700.02,785.11 1...   \n",
              "2      157394  1604.02,331.91 1604.02,516.89 1710.49,516.89 1...   \n",
              "3      157393  1395.94,434.13 1493.72,434.13 1493.72,516.89 1...   \n",
              "4      157392  1286.66,294.89 1385.85,294.89 1385.85,516.89 1...   \n",
              "...       ...                                                ...   \n",
              "42560    7927  179,423 179,549.8 273.6,549.8 278.9,554.8 325....   \n",
              "42561    7926  434.1,461.4 434.1,549.8 385.3,549.8 380,554.8 ...   \n",
              "42562    7925  442.9,549.8 492,549.9 497,554.8 543.1,554.8 54...   \n",
              "42563    5830  625.338623046875,178.38345336914062 657.135620...   \n",
              "42564    5829  1115.0125732421875,68.86040496826172 1127.7314...   \n",
              "\n",
              "                                           absolute_path  \n",
              "0      /v1/public/files/image/240720-105350-840ab749-...  \n",
              "1      /v1/public/files/image/240720-112219-26fd8330-...  \n",
              "2      /v1/public/files/image/240720-112219-26fd8330-...  \n",
              "3      /v1/public/files/image/240720-112219-26fd8330-...  \n",
              "4      /v1/public/files/image/240720-112219-26fd8330-...  \n",
              "...                                                  ...  \n",
              "42560  /v1/public/files/image/220718-160248-ec71250e-...  \n",
              "42561  /v1/public/files/image/220718-160248-ec71250e-...  \n",
              "42562  /v1/public/files/image/220718-160248-ec71250e-...  \n",
              "42563  /v1/public/files/image/240525-120646-06fe45c2-...  \n",
              "42564  /v1/public/files/image/240525-120646-06fe45c2-...  \n",
              "\n",
              "[42565 rows x 3 columns]"
            ]
          },
          "execution_count": 9,
          "metadata": {},
          "output_type": "execute_result"
        }
      ],
      "source": [
        "df"
      ]
    },
    {
      "cell_type": "code",
      "execution_count": null,
      "metadata": {
        "colab": {
          "base_uri": "https://localhost:8080/"
        },
        "id": "kFlJjzss6f7c",
        "outputId": "5218481c-b36d-4a28-b9a7-ee32e2bbcf84"
      },
      "outputs": [
        {
          "output_type": "stream",
          "name": "stdout",
          "text": [
            "Not standard rows deleted, total: 61\n"
          ]
        }
      ],
      "source": [
        "non_standard_count = 0\n",
        "\n",
        "for i, k in enumerate(df['image_point']):\n",
        "    try:\n",
        "        parse_coordinates(k)\n",
        "    except Exception as e:\n",
        "        df.drop(index=i, inplace=True)\n",
        "        non_standard_count += 1\n",
        "\n",
        "print(\"Not standard rows deleted, total:\", non_standard_count)"
      ]
    },
    {
      "cell_type": "code",
      "execution_count": null,
      "metadata": {
        "id": "fGd4bFPWG5-Z"
      },
      "outputs": [],
      "source": [
        "df = df.dropna()"
      ]
    },
    {
      "cell_type": "code",
      "execution_count": null,
      "metadata": {
        "colab": {
          "base_uri": "https://localhost:8080/"
        },
        "id": "-sUBKaSeMJss",
        "outputId": "7d18bf3e-702f-4dd7-dc63-f756a800872f"
      },
      "outputs": [
        {
          "output_type": "stream",
          "name": "stdout",
          "text": [
            "Index(['id', 'image_point', 'absolute_path'], dtype='object')\n"
          ]
        }
      ],
      "source": [
        "print(df.columns)"
      ]
    },
    {
      "cell_type": "code",
      "execution_count": null,
      "metadata": {
        "colab": {
          "base_uri": "https://localhost:8080/"
        },
        "id": "6bKea5LKHiTF",
        "outputId": "a1ed1ac5-60e2-493d-d84f-719aaabdb63a"
      },
      "outputs": [
        {
          "output_type": "stream",
          "name": "stdout",
          "text": [
            "<class 'pandas.core.frame.DataFrame'>\n",
            "Index: 42282 entries, 0 to 42564\n",
            "Data columns (total 3 columns):\n",
            " #   Column         Non-Null Count  Dtype \n",
            "---  ------         --------------  ----- \n",
            " 0   id             42282 non-null  int64 \n",
            " 1   image_point    42282 non-null  object\n",
            " 2   absolute_path  42282 non-null  object\n",
            "dtypes: int64(1), object(2)\n",
            "memory usage: 1.3+ MB\n"
          ]
        }
      ],
      "source": [
        "df.info()"
      ]
    },
    {
      "cell_type": "code",
      "execution_count": null,
      "metadata": {
        "id": "NQSECIuq76CZ"
      },
      "outputs": [],
      "source": [
        "df.loc[:, 'coordinates'] = df['image_point'].apply(parse_coordinates)"
      ]
    },
    {
      "cell_type": "code",
      "execution_count": null,
      "metadata": {
        "colab": {
          "base_uri": "https://localhost:8080/",
          "height": 241
        },
        "id": "bhL5MbGd9bOH",
        "outputId": "c3e26a05-075e-44c0-9fec-d2db54cf2a88"
      },
      "outputs": [
        {
          "output_type": "execute_result",
          "data": {
            "text/plain": [
              "0    [(975.0, 338.74), (975.0, 741.51), (998.94, 74...\n",
              "1    [(1492.87, 591.91), (1700.02, 591.91), (1700.0...\n",
              "2    [(1604.02, 331.91), (1604.02, 516.89), (1710.4...\n",
              "3    [(1395.94, 434.13), (1493.72, 434.13), (1493.7...\n",
              "4    [(1286.66, 294.89), (1385.85, 294.89), (1385.8...\n",
              "Name: coordinates, dtype: object"
            ],
            "text/html": [
              "<div>\n",
              "<style scoped>\n",
              "    .dataframe tbody tr th:only-of-type {\n",
              "        vertical-align: middle;\n",
              "    }\n",
              "\n",
              "    .dataframe tbody tr th {\n",
              "        vertical-align: top;\n",
              "    }\n",
              "\n",
              "    .dataframe thead th {\n",
              "        text-align: right;\n",
              "    }\n",
              "</style>\n",
              "<table border=\"1\" class=\"dataframe\">\n",
              "  <thead>\n",
              "    <tr style=\"text-align: right;\">\n",
              "      <th></th>\n",
              "      <th>coordinates</th>\n",
              "    </tr>\n",
              "  </thead>\n",
              "  <tbody>\n",
              "    <tr>\n",
              "      <th>0</th>\n",
              "      <td>[(975.0, 338.74), (975.0, 741.51), (998.94, 74...</td>\n",
              "    </tr>\n",
              "    <tr>\n",
              "      <th>1</th>\n",
              "      <td>[(1492.87, 591.91), (1700.02, 591.91), (1700.0...</td>\n",
              "    </tr>\n",
              "    <tr>\n",
              "      <th>2</th>\n",
              "      <td>[(1604.02, 331.91), (1604.02, 516.89), (1710.4...</td>\n",
              "    </tr>\n",
              "    <tr>\n",
              "      <th>3</th>\n",
              "      <td>[(1395.94, 434.13), (1493.72, 434.13), (1493.7...</td>\n",
              "    </tr>\n",
              "    <tr>\n",
              "      <th>4</th>\n",
              "      <td>[(1286.66, 294.89), (1385.85, 294.89), (1385.8...</td>\n",
              "    </tr>\n",
              "  </tbody>\n",
              "</table>\n",
              "</div><br><label><b>dtype:</b> object</label>"
            ]
          },
          "metadata": {},
          "execution_count": 11
        }
      ],
      "source": [
        "df['coordinates'][:5]"
      ]
    },
    {
      "cell_type": "code",
      "execution_count": null,
      "metadata": {
        "id": "2vE9CHV39sfh"
      },
      "outputs": [],
      "source": [
        "def add_full_path(string):\n",
        "  new_str = f\"https://service.ahouse.softex.uz{string}\"\n",
        "  return new_str"
      ]
    },
    {
      "cell_type": "code",
      "execution_count": null,
      "metadata": {
        "id": "5WEh1drK9k4b"
      },
      "outputs": [],
      "source": [
        "df.loc[:, 'absolute_path'] = df['absolute_path'].apply(add_full_path)"
      ]
    },
    {
      "cell_type": "code",
      "execution_count": null,
      "metadata": {
        "id": "2jJuqcEhfLcP"
      },
      "outputs": [],
      "source": [
        "df[['absolute_path']].to_csv('/content/drive/MyDrive/uysot2/path.csv')"
      ]
    },
    {
      "cell_type": "markdown",
      "metadata": {
        "id": "m7XLz_b-zDTu"
      },
      "source": [
        "##2. Draw the Coordinates on an Image\n",
        "Here, we use OpenCV to draw the coordinates on a blank image and save it as a PNG file."
      ]
    },
    {
      "cell_type": "code",
      "execution_count": null,
      "metadata": {
        "colab": {
          "base_uri": "https://localhost:8080/"
        },
        "id": "GYjpm4LJV9QF",
        "outputId": "cbf0521f-3bfa-4095-bcd5-4b9b9793f4d3"
      },
      "outputs": [
        {
          "output_type": "stream",
          "name": "stdout",
          "text": [
            "Requirement already satisfied: opencv-python in /usr/local/lib/python3.10/dist-packages (4.10.0.84)\n",
            "Requirement already satisfied: numpy in /usr/local/lib/python3.10/dist-packages (1.26.4)\n"
          ]
        }
      ],
      "source": [
        "!pip install opencv-python numpy"
      ]
    },
    {
      "cell_type": "code",
      "execution_count": null,
      "metadata": {
        "collapsed": true,
        "id": "5_ydfVbei1pe"
      },
      "outputs": [],
      "source": [
        "import os\n",
        "import numpy as np\n",
        "import cv2\n",
        "import requests\n",
        "\n",
        "def draw_coordinates_on_image(coordinates, img_width, img_height, output_path):\n",
        "    image = np.ones((img_height, img_width, 3), np.uint8) * 255\n",
        "    points = [(int(x), int(y)) for x, y in coordinates]\n",
        "    points = np.array(points, np.int32)\n",
        "    points = points.reshape((-1, 1, 2))\n",
        "    cv2.polylines(image, [points], isClosed=True, color=(0, 0, 0), thickness=2)\n",
        "    cv2.imwrite(output_path, image)\n",
        "\n",
        "def convert_to_yolo_format(coords, orig_width, orig_height, img_width, img_height):\n",
        "    scale_x = img_width / orig_width\n",
        "    scale_y = img_height / orig_height\n",
        "\n",
        "    scaled_coords = [(coord[0] * scale_x, coord[1] * scale_y) for coord in coords]\n",
        "\n",
        "    min_x = max(min(coord[0] for coord in scaled_coords), 0)\n",
        "    max_x = min(max(coord[0] for coord in scaled_coords), img_width)\n",
        "    min_y = max(min(coord[1] for coord in scaled_coords), 0)\n",
        "    max_y = min(max(coord[1] for coord in scaled_coords), img_height)\n",
        "\n",
        "    x_center = (min_x + max_x) / 2 / img_width\n",
        "    y_center = (min_y + max_y) / 2 / img_height\n",
        "    width = (max_x - min_x) / img_width\n",
        "    height = (max_y - min_y) / img_height\n",
        "\n",
        "    # Validate coordinates are between 0 and 1\n",
        "    if not (0 <= x_center <= 1 and 0 <= y_center <= 1 and 0 <= width <= 1 and 0 <= height <= 1):\n",
        "        print(f\"Debug info: min_x={min_x}, max_x={max_x}, min_y={min_y}, max_y={max_y}\")\n",
        "        print(f\"Debug info: x_center={x_center}, y_center={y_center}, width={width}, height={height}\")\n",
        "        raise ValueError(f\"Non-normalized or out of bounds coordinates: {x_center}, {y_center}, {width}, {height}\")\n",
        "\n",
        "    return f'0 {x_center} {y_center} {width} {height}'\n",
        "\n"
      ]
    },
    {
      "cell_type": "code",
      "execution_count": null,
      "metadata": {
        "id": "WD2MvX00IYSi"
      },
      "outputs": [],
      "source": [
        "# Directory paths\n",
        "output_image_dir = '/content/drive/MyDrive/uysot2/images'\n",
        "output_label_dir = '/content/drive/MyDrive/uysot2/labels'\n",
        "\n",
        "# Ensure the directories exist\n",
        "os.makedirs(output_image_dir, exist_ok=True)\n",
        "os.makedirs(output_label_dir, exist_ok=True)\n",
        "\n",
        "# Create subdirectories for train and val\n",
        "os.makedirs(os.path.join(output_image_dir, 'train'), exist_ok=True)\n",
        "os.makedirs(os.path.join(output_image_dir, 'val'), exist_ok=True)\n",
        "os.makedirs(os.path.join(output_label_dir, 'train'), exist_ok=True)\n",
        "os.makedirs(os.path.join(output_label_dir, 'val'), exist_ok=True)\n",
        "\n",
        "# Split data into train and val\n",
        "train_ratio = 0.8\n",
        "train_size = int(len(df) * train_ratio)\n",
        "\n",
        "orig_width, orig_height = 1920, 1080\n",
        "resized_width, resized_height = 640, 640\n",
        "\n",
        "for i, row in df.iterrows():\n",
        "    coordinates = row['coordinates']\n",
        "    if i < train_size:\n",
        "        image_subdir = 'train'\n",
        "    else:\n",
        "        image_subdir = 'val'\n",
        "\n",
        "    # Fetch and save the image\n",
        "    output_image_path = os.path.join(output_image_dir, image_subdir, f'image_{i}.png')\n",
        "    try:\n",
        "        response = requests.get(row['absolute_path'], timeout=10)\n",
        "        response.raise_for_status()\n",
        "        with open(output_image_path, 'wb') as f:\n",
        "            f.write(response.content)\n",
        "        draw_coordinates_on_image(coordinates, resized_width, resized_height, output_image_path)\n",
        "\n",
        "        # Convert coordinates to YOLO format and save the label\n",
        "        try:\n",
        "            yolo_label = convert_to_yolo_format(coordinates, orig_width, orig_height, resized_width, resized_height)\n",
        "            output_label_path = os.path.join(output_label_dir, image_subdir, f'image_{i}.txt')\n",
        "            with open(output_label_path, 'w') as f:\n",
        "                f.write(yolo_label)\n",
        "        except ValueError as e:\n",
        "            print(f\"Skipping image {output_image_path}: {e}\")\n",
        "    except requests.exceptions.RequestException as e:\n",
        "        print(f\"Failed to download {row['absolute_path']}: {e}\")\n"
      ]
    },
    {
      "cell_type": "markdown",
      "metadata": {
        "id": "Fq9B6wH9LE9-"
      },
      "source": [
        "## Move 20 % of images in train folder to val"
      ]
    },
    {
      "cell_type": "code",
      "execution_count": null,
      "metadata": {
        "colab": {
          "base_uri": "https://localhost:8080/"
        },
        "id": "d4GHZBf0Ubpb",
        "outputId": "04135757-b30a-4dbc-d850-3e6bb2760249"
      },
      "outputs": [
        {
          "name": "stdout",
          "output_type": "stream",
          "text": [
            "Moved 5115 images from train to val folder.\n"
          ]
        }
      ],
      "source": [
        "# import os\n",
        "# import shutil\n",
        "# import random\n",
        "\n",
        "# # Define the paths\n",
        "# train_folder = '/content/drive/MyDrive/uysot2/images/train'\n",
        "# val_folder = '/content/drive/MyDrive/uysot2/images/val'\n",
        "\n",
        "# # Get a list of all images in the train folder\n",
        "# train_images = os.listdir(train_folder)\n",
        "\n",
        "# # Calculate the number of images to move (20% of the total images)\n",
        "# num_images_to_move = int(len(train_images) * 0.20)\n",
        "\n",
        "# # Randomly select images to move\n",
        "# images_to_move = random.sample(train_images, num_images_to_move)\n",
        "\n",
        "# # Move the selected images\n",
        "# for image in images_to_move:\n",
        "#     shutil.move(os.path.join(train_folder, image), os.path.join(val_folder, image))\n",
        "\n",
        "# print(f\"Moved {num_images_to_move} images from train to val folder.\")"
      ]
    },
    {
      "cell_type": "markdown",
      "metadata": {
        "id": "_xQ9y1R5iu51"
      },
      "source": [
        "## Deleting the folder if it's no need"
      ]
    },
    {
      "cell_type": "code",
      "execution_count": null,
      "metadata": {
        "colab": {
          "base_uri": "https://localhost:8080/"
        },
        "id": "0IiwQn-vi2nz",
        "outputId": "1693f89b-7dbd-4568-a17f-1f1c54f31245"
      },
      "outputs": [
        {
          "output_type": "stream",
          "name": "stdout",
          "text": [
            "/content/drive/MyDrive/uysot2 and its contents have been deleted.\n"
          ]
        }
      ],
      "source": [
        "# import shutil\n",
        "# import os\n",
        "\n",
        "# directory_path = '/content/drive/MyDrive/uysot22'\n",
        "\n",
        "# # Check if the directory exists\n",
        "# if os.path.exists(directory_path):\n",
        "#     try:\n",
        "#         # Delete the directory and its contents\n",
        "#         shutil.rmtree(directory_path)\n",
        "#         print(f'{directory_path} and its contents have been deleted.')\n",
        "#     except Exception as e:\n",
        "#         print(f'Error: {directory_path} cannot be deleted. {e}')\n",
        "# else:\n",
        "#     print(f'{directory_path} does not exist.')"
      ]
    },
    {
      "cell_type": "markdown",
      "metadata": {
        "id": "8hCEx4y4Op8W"
      },
      "source": [
        "## 2. Validate"
      ]
    },
    {
      "cell_type": "code",
      "execution_count": null,
      "metadata": {
        "colab": {
          "base_uri": "https://localhost:8080/"
        },
        "collapsed": true,
        "id": "M2nbCakUUn4a",
        "outputId": "88f811e1-4bbb-48c8-b4c9-0c77515be11c"
      },
      "outputs": [
        {
          "ename": "NameError",
          "evalue": "name 'convert_to_yolo_format' is not defined",
          "output_type": "error",
          "traceback": [
            "\u001b[0;31m---------------------------------------------------------------------------\u001b[0m",
            "\u001b[0;31mNameError\u001b[0m                                 Traceback (most recent call last)",
            "\u001b[0;32m<ipython-input-44-1b1a46b03c4e>\u001b[0m in \u001b[0;36m<cell line: 20>\u001b[0;34m()\u001b[0m\n\u001b[1;32m     18\u001b[0m \u001b[0;34m\u001b[0m\u001b[0m\n\u001b[1;32m     19\u001b[0m \u001b[0;31m# Example usage\u001b[0m\u001b[0;34m\u001b[0m\u001b[0;34m\u001b[0m\u001b[0m\n\u001b[0;32m---> 20\u001b[0;31m \u001b[0mvalidate_data\u001b[0m\u001b[0;34m(\u001b[0m\u001b[0;34m'/content/drive/MyDrive/uysot3/labels/train'\u001b[0m\u001b[0;34m,\u001b[0m \u001b[0;36m640\u001b[0m\u001b[0;34m,\u001b[0m \u001b[0;36m640\u001b[0m\u001b[0;34m)\u001b[0m\u001b[0;34m\u001b[0m\u001b[0;34m\u001b[0m\u001b[0m\n\u001b[0m",
            "\u001b[0;32m<ipython-input-44-1b1a46b03c4e>\u001b[0m in \u001b[0;36mvalidate_data\u001b[0;34m(label_folder, resized_width, resized_height)\u001b[0m\n\u001b[1;32m      9\u001b[0m \u001b[0;34m\u001b[0m\u001b[0m\n\u001b[1;32m     10\u001b[0m                 \u001b[0;32mtry\u001b[0m\u001b[0;34m:\u001b[0m\u001b[0;34m\u001b[0m\u001b[0;34m\u001b[0m\u001b[0m\n\u001b[0;32m---> 11\u001b[0;31m                     \u001b[0myolo_format\u001b[0m \u001b[0;34m=\u001b[0m \u001b[0mconvert_to_yolo_format\u001b[0m\u001b[0;34m(\u001b[0m\u001b[0mcoords\u001b[0m\u001b[0;34m,\u001b[0m \u001b[0mresized_width\u001b[0m\u001b[0;34m,\u001b[0m \u001b[0mresized_height\u001b[0m\u001b[0;34m)\u001b[0m\u001b[0;34m\u001b[0m\u001b[0;34m\u001b[0m\u001b[0m\n\u001b[0m\u001b[1;32m     12\u001b[0m                 \u001b[0;32mexcept\u001b[0m \u001b[0mValueError\u001b[0m \u001b[0;32mas\u001b[0m \u001b[0me\u001b[0m\u001b[0;34m:\u001b[0m\u001b[0;34m\u001b[0m\u001b[0;34m\u001b[0m\u001b[0m\n\u001b[1;32m     13\u001b[0m                     \u001b[0mprint\u001b[0m\u001b[0;34m(\u001b[0m\u001b[0;34mf\"Bounding box out of image bounds in {label_file}: {e}\"\u001b[0m\u001b[0;34m)\u001b[0m\u001b[0;34m\u001b[0m\u001b[0;34m\u001b[0m\u001b[0m\n",
            "\u001b[0;31mNameError\u001b[0m: name 'convert_to_yolo_format' is not defined"
          ]
        }
      ],
      "source": [
        "# Function to validate and convert data\n",
        "# def validate_data(label_folder, resized_width, resized_height):\n",
        "#     invalid_files = []\n",
        "\n",
        "#     for label_file in os.listdir(label_folder):\n",
        "#         if label_file.endswith(\".txt\"):\n",
        "#             with open(os.path.join(label_folder, label_file), \"r\") as file:\n",
        "#                 coords = [tuple(map(float, line.split())) for line in file]\n",
        "\n",
        "#                 try:\n",
        "#                     yolo_format = convert_to_yolo_format(coords, resized_width, resized_height)\n",
        "#                 except ValueError as e:\n",
        "#                     print(f\"Bounding box out of image bounds in {label_file}: {e}\")\n",
        "#                     invalid_files.append(label_file)\n",
        "\n",
        "#     if invalid_files:\n",
        "#         print(f\"Invalid files: {', '.join(invalid_files)}\")\n",
        "\n",
        "# # Example usage\n",
        "# validate_data('/content/drive/MyDrive/uysot2/labels/train', 640, 640)"
      ]
    },
    {
      "cell_type": "code",
      "execution_count": null,
      "metadata": {
        "colab": {
          "base_uri": "https://localhost:8080/"
        },
        "collapsed": true,
        "id": "wQCdRGu-pAcT",
        "outputId": "859ad7a6-14e6-4a5e-ce5b-2c97be73b426"
      },
      "outputs": [
        {
          "name": "stdout",
          "output_type": "stream",
          "text": [
            "Collecting comet_ml\n",
            "  Downloading comet_ml-3.44.3-py3-none-any.whl.metadata (3.9 kB)\n",
            "Collecting everett<3.2.0,>=1.0.1 (from everett[ini]<3.2.0,>=1.0.1->comet_ml)\n",
            "  Downloading everett-3.1.0-py2.py3-none-any.whl.metadata (17 kB)\n",
            "Requirement already satisfied: jsonschema!=3.1.0,>=2.6.0 in /usr/local/lib/python3.10/dist-packages (from comet_ml) (4.23.0)\n",
            "Requirement already satisfied: psutil>=5.6.3 in /usr/local/lib/python3.10/dist-packages (from comet_ml) (5.9.5)\n",
            "Collecting python-box<7.0.0 (from comet_ml)\n",
            "  Downloading python_box-6.1.0-cp310-cp310-manylinux_2_17_x86_64.manylinux2014_x86_64.whl.metadata (7.8 kB)\n",
            "Collecting requests-toolbelt>=0.8.0 (from comet_ml)\n",
            "  Downloading requests_toolbelt-1.0.0-py2.py3-none-any.whl.metadata (14 kB)\n",
            "Requirement already satisfied: requests>=2.18.4 in /usr/local/lib/python3.10/dist-packages (from comet_ml) (2.31.0)\n",
            "Collecting semantic-version>=2.8.0 (from comet_ml)\n",
            "  Downloading semantic_version-2.10.0-py2.py3-none-any.whl.metadata (9.7 kB)\n",
            "Collecting sentry-sdk>=1.1.0 (from comet_ml)\n",
            "  Downloading sentry_sdk-2.12.0-py2.py3-none-any.whl.metadata (9.8 kB)\n",
            "Collecting simplejson (from comet_ml)\n",
            "  Downloading simplejson-3.19.2-cp310-cp310-manylinux_2_5_x86_64.manylinux1_x86_64.manylinux_2_17_x86_64.manylinux2014_x86_64.whl.metadata (3.1 kB)\n",
            "Requirement already satisfied: urllib3>=1.21.1 in /usr/local/lib/python3.10/dist-packages (from comet_ml) (2.0.7)\n",
            "Requirement already satisfied: wrapt>=1.11.2 in /usr/local/lib/python3.10/dist-packages (from comet_ml) (1.16.0)\n",
            "Collecting wurlitzer>=1.0.2 (from comet_ml)\n",
            "  Downloading wurlitzer-3.1.1-py3-none-any.whl.metadata (2.5 kB)\n",
            "Collecting dulwich!=0.20.33,>=0.20.6 (from comet_ml)\n",
            "  Downloading dulwich-0.22.1-cp310-cp310-manylinux_2_17_x86_64.manylinux2014_x86_64.whl.metadata (4.4 kB)\n",
            "Requirement already satisfied: rich>=13.3.2 in /usr/local/lib/python3.10/dist-packages (from comet_ml) (13.7.1)\n",
            "Collecting configobj (from everett[ini]<3.2.0,>=1.0.1->comet_ml)\n",
            "  Downloading configobj-5.0.8-py2.py3-none-any.whl.metadata (3.4 kB)\n",
            "Requirement already satisfied: attrs>=22.2.0 in /usr/local/lib/python3.10/dist-packages (from jsonschema!=3.1.0,>=2.6.0->comet_ml) (23.2.0)\n",
            "Requirement already satisfied: jsonschema-specifications>=2023.03.6 in /usr/local/lib/python3.10/dist-packages (from jsonschema!=3.1.0,>=2.6.0->comet_ml) (2023.12.1)\n",
            "Requirement already satisfied: referencing>=0.28.4 in /usr/local/lib/python3.10/dist-packages (from jsonschema!=3.1.0,>=2.6.0->comet_ml) (0.35.1)\n",
            "Requirement already satisfied: rpds-py>=0.7.1 in /usr/local/lib/python3.10/dist-packages (from jsonschema!=3.1.0,>=2.6.0->comet_ml) (0.19.1)\n",
            "Requirement already satisfied: charset-normalizer<4,>=2 in /usr/local/lib/python3.10/dist-packages (from requests>=2.18.4->comet_ml) (3.3.2)\n",
            "Requirement already satisfied: idna<4,>=2.5 in /usr/local/lib/python3.10/dist-packages (from requests>=2.18.4->comet_ml) (3.7)\n",
            "Requirement already satisfied: certifi>=2017.4.17 in /usr/local/lib/python3.10/dist-packages (from requests>=2.18.4->comet_ml) (2024.7.4)\n",
            "Requirement already satisfied: markdown-it-py>=2.2.0 in /usr/local/lib/python3.10/dist-packages (from rich>=13.3.2->comet_ml) (3.0.0)\n",
            "Requirement already satisfied: pygments<3.0.0,>=2.13.0 in /usr/local/lib/python3.10/dist-packages (from rich>=13.3.2->comet_ml) (2.16.1)\n",
            "Requirement already satisfied: mdurl~=0.1 in /usr/local/lib/python3.10/dist-packages (from markdown-it-py>=2.2.0->rich>=13.3.2->comet_ml) (0.1.2)\n",
            "Requirement already satisfied: six in /usr/local/lib/python3.10/dist-packages (from configobj->everett[ini]<3.2.0,>=1.0.1->comet_ml) (1.16.0)\n",
            "Downloading comet_ml-3.44.3-py3-none-any.whl (682 kB)\n",
            "\u001b[2K   \u001b[90m━━━━━━━━━━━━━━━━━━━━━━━━━━━━━━━━━━━━━━━━\u001b[0m \u001b[32m682.3/682.3 kB\u001b[0m \u001b[31m11.6 MB/s\u001b[0m eta \u001b[36m0:00:00\u001b[0m\n",
            "\u001b[?25hDownloading dulwich-0.22.1-cp310-cp310-manylinux_2_17_x86_64.manylinux2014_x86_64.whl (979 kB)\n",
            "\u001b[2K   \u001b[90m━━━━━━━━━━━━━━━━━━━━━━━━━━━━━━━━━━━━━━━━\u001b[0m \u001b[32m979.1/979.1 kB\u001b[0m \u001b[31m31.8 MB/s\u001b[0m eta \u001b[36m0:00:00\u001b[0m\n",
            "\u001b[?25hDownloading everett-3.1.0-py2.py3-none-any.whl (35 kB)\n",
            "Downloading python_box-6.1.0-cp310-cp310-manylinux_2_17_x86_64.manylinux2014_x86_64.whl (3.3 MB)\n",
            "\u001b[2K   \u001b[90m━━━━━━━━━━━━━━━━━━━━━━━━━━━━━━━━━━━━━━━━\u001b[0m \u001b[32m3.3/3.3 MB\u001b[0m \u001b[31m61.1 MB/s\u001b[0m eta \u001b[36m0:00:00\u001b[0m\n",
            "\u001b[?25hDownloading requests_toolbelt-1.0.0-py2.py3-none-any.whl (54 kB)\n",
            "\u001b[2K   \u001b[90m━━━━━━━━━━━━━━━━━━━━━━━━━━━━━━━━━━━━━━━━\u001b[0m \u001b[32m54.5/54.5 kB\u001b[0m \u001b[31m3.6 MB/s\u001b[0m eta \u001b[36m0:00:00\u001b[0m\n",
            "\u001b[?25hDownloading semantic_version-2.10.0-py2.py3-none-any.whl (15 kB)\n",
            "Downloading sentry_sdk-2.12.0-py2.py3-none-any.whl (301 kB)\n",
            "\u001b[2K   \u001b[90m━━━━━━━━━━━━━━━━━━━━━━━━━━━━━━━━━━━━━━━━\u001b[0m \u001b[32m301.8/301.8 kB\u001b[0m \u001b[31m15.8 MB/s\u001b[0m eta \u001b[36m0:00:00\u001b[0m\n",
            "\u001b[?25hDownloading wurlitzer-3.1.1-py3-none-any.whl (8.6 kB)\n",
            "Downloading simplejson-3.19.2-cp310-cp310-manylinux_2_5_x86_64.manylinux1_x86_64.manylinux_2_17_x86_64.manylinux2014_x86_64.whl (137 kB)\n",
            "\u001b[2K   \u001b[90m━━━━━━━━━━━━━━━━━━━━━━━━━━━━━━━━━━━━━━━━\u001b[0m \u001b[32m137.9/137.9 kB\u001b[0m \u001b[31m8.5 MB/s\u001b[0m eta \u001b[36m0:00:00\u001b[0m\n",
            "\u001b[?25hDownloading configobj-5.0.8-py2.py3-none-any.whl (36 kB)\n",
            "Installing collected packages: everett, wurlitzer, simplejson, sentry-sdk, semantic-version, python-box, dulwich, configobj, requests-toolbelt, comet_ml\n",
            "  Attempting uninstall: python-box\n",
            "    Found existing installation: python-box 7.2.0\n",
            "    Uninstalling python-box-7.2.0:\n",
            "      Successfully uninstalled python-box-7.2.0\n",
            "Successfully installed comet_ml-3.44.3 configobj-5.0.8 dulwich-0.22.1 everett-3.1.0 python-box-6.1.0 requests-toolbelt-1.0.0 semantic-version-2.10.0 sentry-sdk-2.12.0 simplejson-3.19.2 wurlitzer-3.1.1\n"
          ]
        }
      ],
      "source": [
        "!pip install comet_ml"
      ]
    },
    {
      "cell_type": "markdown",
      "metadata": {
        "id": "tu86uVBN0Uh9"
      },
      "source": [
        "##3. Configure the YOLO Model\n",
        "Create a YAML configuration file for your dataset. This file should specify paths to the training and validation datasets and the number of classes."
      ]
    },
    {
      "cell_type": "markdown",
      "metadata": {
        "id": "l7TqTx8z4j0i"
      },
      "source": [
        "###`Clone yolov5 model`"
      ]
    },
    {
      "cell_type": "code",
      "execution_count": null,
      "metadata": {
        "colab": {
          "base_uri": "https://localhost:8080/"
        },
        "id": "qWsbD2cA112x",
        "outputId": "43c9b543-17c3-46d6-f6ec-15d35c29c305"
      },
      "outputs": [
        {
          "name": "stdout",
          "output_type": "stream",
          "text": [
            "Cloning into '/content/drive/MyDrive/uysot3/yolov5'...\n",
            "remote: Enumerating objects: 16836, done.\u001b[K\n",
            "remote: Counting objects: 100% (11/11), done.\u001b[K\n",
            "remote: Compressing objects: 100% (11/11), done.\u001b[K\n",
            "remote: Total 16836 (delta 1), reused 6 (delta 0), pack-reused 16825\u001b[K\n",
            "Receiving objects: 100% (16836/16836), 15.57 MiB | 10.07 MiB/s, done.\n",
            "Resolving deltas: 100% (11550/11550), done.\n",
            "Updating files: 100% (148/148), done.\n",
            "/content/drive/MyDrive/uysot3/yolov5\n",
            "Requirement already satisfied: requests==2.31.0 in /usr/local/lib/python3.10/dist-packages (2.31.0)\n",
            "Requirement already satisfied: charset-normalizer<4,>=2 in /usr/local/lib/python3.10/dist-packages (from requests==2.31.0) (3.3.2)\n",
            "Requirement already satisfied: idna<4,>=2.5 in /usr/local/lib/python3.10/dist-packages (from requests==2.31.0) (3.7)\n",
            "Requirement already satisfied: urllib3<3,>=1.21.1 in /usr/local/lib/python3.10/dist-packages (from requests==2.31.0) (2.0.7)\n",
            "Requirement already satisfied: certifi>=2017.4.17 in /usr/local/lib/python3.10/dist-packages (from requests==2.31.0) (2024.7.4)\n",
            "\u001b[2K     \u001b[90m━━━━━━━━━━━━━━━━━━━━━━━━━━━━━━━━━━━━━━━━\u001b[0m \u001b[32m41.3/41.3 kB\u001b[0m \u001b[31m1.5 MB/s\u001b[0m eta \u001b[36m0:00:00\u001b[0m\n",
            "\u001b[2K   \u001b[90m━━━━━━━━━━━━━━━━━━━━━━━━━━━━━━━━━━━━━━━━\u001b[0m \u001b[32m207.3/207.3 kB\u001b[0m \u001b[31m2.7 MB/s\u001b[0m eta \u001b[36m0:00:00\u001b[0m\n",
            "\u001b[2K   \u001b[90m━━━━━━━━━━━━━━━━━━━━━━━━━━━━━━━━━━━━━━━━\u001b[0m \u001b[32m4.5/4.5 MB\u001b[0m \u001b[31m39.1 MB/s\u001b[0m eta \u001b[36m0:00:00\u001b[0m\n",
            "\u001b[2K   \u001b[90m━━━━━━━━━━━━━━━━━━━━━━━━━━━━━━━━━━━━━━━━\u001b[0m \u001b[32m64.9/64.9 kB\u001b[0m \u001b[31m4.5 MB/s\u001b[0m eta \u001b[36m0:00:00\u001b[0m\n",
            "\u001b[2K   \u001b[90m━━━━━━━━━━━━━━━━━━━━━━━━━━━━━━━━━━━━━━━━\u001b[0m \u001b[32m865.5/865.5 kB\u001b[0m \u001b[31m23.4 MB/s\u001b[0m eta \u001b[36m0:00:00\u001b[0m\n",
            "\u001b[2K   \u001b[90m━━━━━━━━━━━━━━━━━━━━━━━━━━━━━━━━━━━━━━━━\u001b[0m \u001b[32m62.7/62.7 kB\u001b[0m \u001b[31m3.5 MB/s\u001b[0m eta \u001b[36m0:00:00\u001b[0m\n",
            "\u001b[?25h\u001b[31mERROR: pip's dependency resolver does not currently take into account all the packages that are installed. This behaviour is the source of the following dependency conflicts.\n",
            "google-colab 1.0.0 requires requests==2.31.0, but you have requests 2.32.3 which is incompatible.\u001b[0m\u001b[31m\n",
            "\u001b[0m"
          ]
        }
      ],
      "source": [
        "# Clone YOLOv5 repository\n",
        "!git clone https://github.com/ultralytics/yolov5.git /content/drive/MyDrive/uysot2/yolov5\n",
        "\n",
        "%cd /content/drive/MyDrive/uysot2/yolov5\n",
        "\n",
        "# Install the required dependencies\n",
        "!pip install requests==2.31.0\n",
        "!pip install -qr requirements.txt comet_ml  # install"
      ]
    },
    {
      "cell_type": "code",
      "execution_count": null,
      "metadata": {
        "colab": {
          "base_uri": "https://localhost:8080/"
        },
        "id": "XoZK_IBu1xkn",
        "outputId": "2806ea6f-939e-4e06-a210-95f56fab64b6"
      },
      "outputs": [
        {
          "name": "stdout",
          "output_type": "stream",
          "text": [
            "Collecting requests==2.31.0\n",
            "  Using cached requests-2.31.0-py3-none-any.whl.metadata (4.6 kB)\n",
            "Requirement already satisfied: charset-normalizer<4,>=2 in /usr/local/lib/python3.10/dist-packages (from requests==2.31.0) (3.3.2)\n",
            "Requirement already satisfied: idna<4,>=2.5 in /usr/local/lib/python3.10/dist-packages (from requests==2.31.0) (3.7)\n",
            "Requirement already satisfied: urllib3<3,>=1.21.1 in /usr/local/lib/python3.10/dist-packages (from requests==2.31.0) (2.0.7)\n",
            "Requirement already satisfied: certifi>=2017.4.17 in /usr/local/lib/python3.10/dist-packages (from requests==2.31.0) (2024.7.4)\n",
            "Using cached requests-2.31.0-py3-none-any.whl (62 kB)\n",
            "Installing collected packages: requests\n",
            "  Attempting uninstall: requests\n",
            "    Found existing installation: requests 2.32.3\n",
            "    Uninstalling requests-2.32.3:\n",
            "      Successfully uninstalled requests-2.32.3\n",
            "Successfully installed requests-2.31.0\n"
          ]
        }
      ],
      "source": [
        "!pip install requests==2.31.0"
      ]
    },
    {
      "cell_type": "code",
      "execution_count": null,
      "metadata": {
        "id": "jfJovJ8toBwF"
      },
      "outputs": [],
      "source": [
        "import yaml\n",
        "\n",
        "# Define dataset configuration\n",
        "dataset_config = {\n",
        "    'train': '/content/drive/MyDrive/uysot2/images/train',\n",
        "    'val': '/content/drive/MyDrive/uysot2/images/val',\n",
        "    'nc': 1,  # number of classes\n",
        "    'names': ['room_border']\n",
        "}\n",
        "\n",
        "# Save to dataset.yaml\n",
        "with open('/content/drive/MyDrive/uysot2/dataset.yaml', 'w') as f:\n",
        "    yaml.dump(dataset_config, f)"
      ]
    },
    {
      "cell_type": "markdown",
      "metadata": {
        "id": "1IhrOuLfP_YA"
      },
      "source": [
        "## 4. Train\n",
        "YOLO requires annotations in a specific text format where each line corresponds to one object in the image. Each line has the following format: class_id x_center y_center width height.\n",
        "\n",
        "Here's how to convert your coordinates into YOLO format"
      ]
    },
    {
      "cell_type": "markdown",
      "metadata": {
        "id": "dVEmhuguwpSp"
      },
      "source": [
        "## Number of images"
      ]
    },
    {
      "cell_type": "code",
      "execution_count": null,
      "metadata": {
        "id": "MylgugWtvM4q",
        "colab": {
          "base_uri": "https://localhost:8080/"
        },
        "outputId": "cc972c6f-0e72-4f52-ef12-35a36af45735"
      },
      "outputs": [
        {
          "output_type": "stream",
          "name": "stdout",
          "text": [
            "1594\n",
            "403\n"
          ]
        }
      ],
      "source": [
        "import shutil\n",
        "import os\n",
        "print(len(os.listdir('/content/drive/MyDrive/uysot/images/train')))\n",
        "\n",
        "print(len(os.listdir('/content/drive/MyDrive/uysot/images/val')))"
      ]
    },
    {
      "cell_type": "markdown",
      "metadata": {
        "id": "glfOGDoRgOtX"
      },
      "source": [
        "# Train the YOLOv5 model\n",
        "!python train.py --img 640 --batch 16 --epochs 50 --data /content/drive/MyDrive/uysot2/dataset.yaml --cfg models/yolov5m.yaml --weights yolov5m.pt --name room_border_detector"
      ]
    },
    {
      "cell_type": "code",
      "execution_count": null,
      "metadata": {
        "id": "MEGSEFXgNBXv"
      },
      "outputs": [],
      "source": [
        "!rm -rf /content/drive/MyDrive/uysot2/images/train.cache"
      ]
    },
    {
      "cell_type": "code",
      "execution_count": null,
      "metadata": {
        "colab": {
          "base_uri": "https://localhost:8080/",
          "height": 287
        },
        "id": "mKVcZ_wbOh1d",
        "outputId": "ce09f532-c381-4a3a-85d4-05c4f49a1ba4"
      },
      "outputs": [
        {
          "name": "stdout",
          "output_type": "stream",
          "text": [
            "Requirement already satisfied: pillow in /usr/local/lib/python3.10/dist-packages (9.0.1)\n",
            "Collecting pillow\n",
            "  Using cached pillow-10.4.0-cp310-cp310-manylinux_2_28_x86_64.whl.metadata (9.2 kB)\n",
            "Using cached pillow-10.4.0-cp310-cp310-manylinux_2_28_x86_64.whl (4.5 MB)\n",
            "Installing collected packages: pillow\n",
            "  Attempting uninstall: pillow\n",
            "    Found existing installation: Pillow 9.0.1\n",
            "    Uninstalling Pillow-9.0.1:\n",
            "      Successfully uninstalled Pillow-9.0.1\n",
            "Successfully installed pillow-10.4.0\n"
          ]
        },
        {
          "data": {
            "application/vnd.colab-display-data+json": {
              "id": "9165f126ba664a918b1f52c74bce9c9e",
              "pip_warning": {
                "packages": [
                  "PIL"
                ]
              }
            }
          },
          "metadata": {},
          "output_type": "display_data"
        }
      ],
      "source": [
        "!pip install --upgrade pillow"
      ]
    },
    {
      "cell_type": "code",
      "execution_count": null,
      "metadata": {
        "colab": {
          "base_uri": "https://localhost:8080/"
        },
        "id": "_TTOYvjfQDrZ",
        "outputId": "3cc5e902-1fe3-4448-912f-c242ea622fc7"
      },
      "outputs": [
        {
          "name": "stdout",
          "output_type": "stream",
          "text": [
            "Requirement already satisfied: pillow==10.4.0 in /usr/local/lib/python3.10/dist-packages (10.4.0)\n",
            "Requirement already satisfied: thop==0.1.1.post2209072238 in /usr/local/lib/python3.10/dist-packages (0.1.1.post2209072238)\n",
            "Requirement already satisfied: torch in /usr/local/lib/python3.10/dist-packages (from thop==0.1.1.post2209072238) (2.3.1+cu121)\n",
            "Requirement already satisfied: filelock in /usr/local/lib/python3.10/dist-packages (from torch->thop==0.1.1.post2209072238) (3.15.4)\n",
            "Requirement already satisfied: typing-extensions>=4.8.0 in /usr/local/lib/python3.10/dist-packages (from torch->thop==0.1.1.post2209072238) (4.12.2)\n",
            "Requirement already satisfied: sympy in /usr/local/lib/python3.10/dist-packages (from torch->thop==0.1.1.post2209072238) (1.13.1)\n",
            "Requirement already satisfied: networkx in /usr/local/lib/python3.10/dist-packages (from torch->thop==0.1.1.post2209072238) (3.3)\n",
            "Requirement already satisfied: jinja2 in /usr/local/lib/python3.10/dist-packages (from torch->thop==0.1.1.post2209072238) (3.1.4)\n",
            "Requirement already satisfied: fsspec in /usr/local/lib/python3.10/dist-packages (from torch->thop==0.1.1.post2209072238) (2024.6.1)\n",
            "Requirement already satisfied: nvidia-cuda-nvrtc-cu12==12.1.105 in /usr/local/lib/python3.10/dist-packages (from torch->thop==0.1.1.post2209072238) (12.1.105)\n",
            "Requirement already satisfied: nvidia-cuda-runtime-cu12==12.1.105 in /usr/local/lib/python3.10/dist-packages (from torch->thop==0.1.1.post2209072238) (12.1.105)\n",
            "Requirement already satisfied: nvidia-cuda-cupti-cu12==12.1.105 in /usr/local/lib/python3.10/dist-packages (from torch->thop==0.1.1.post2209072238) (12.1.105)\n",
            "Requirement already satisfied: nvidia-cudnn-cu12==8.9.2.26 in /usr/local/lib/python3.10/dist-packages (from torch->thop==0.1.1.post2209072238) (8.9.2.26)\n",
            "Requirement already satisfied: nvidia-cublas-cu12==12.1.3.1 in /usr/local/lib/python3.10/dist-packages (from torch->thop==0.1.1.post2209072238) (12.1.3.1)\n",
            "Requirement already satisfied: nvidia-cufft-cu12==11.0.2.54 in /usr/local/lib/python3.10/dist-packages (from torch->thop==0.1.1.post2209072238) (11.0.2.54)\n",
            "Requirement already satisfied: nvidia-curand-cu12==10.3.2.106 in /usr/local/lib/python3.10/dist-packages (from torch->thop==0.1.1.post2209072238) (10.3.2.106)\n",
            "Requirement already satisfied: nvidia-cusolver-cu12==11.4.5.107 in /usr/local/lib/python3.10/dist-packages (from torch->thop==0.1.1.post2209072238) (11.4.5.107)\n",
            "Requirement already satisfied: nvidia-cusparse-cu12==12.1.0.106 in /usr/local/lib/python3.10/dist-packages (from torch->thop==0.1.1.post2209072238) (12.1.0.106)\n",
            "Requirement already satisfied: nvidia-nccl-cu12==2.20.5 in /usr/local/lib/python3.10/dist-packages (from torch->thop==0.1.1.post2209072238) (2.20.5)\n",
            "Requirement already satisfied: nvidia-nvtx-cu12==12.1.105 in /usr/local/lib/python3.10/dist-packages (from torch->thop==0.1.1.post2209072238) (12.1.105)\n",
            "Requirement already satisfied: triton==2.3.1 in /usr/local/lib/python3.10/dist-packages (from torch->thop==0.1.1.post2209072238) (2.3.1)\n",
            "Requirement already satisfied: nvidia-nvjitlink-cu12 in /usr/local/lib/python3.10/dist-packages (from nvidia-cusolver-cu12==11.4.5.107->torch->thop==0.1.1.post2209072238) (12.6.20)\n",
            "Requirement already satisfied: MarkupSafe>=2.0 in /usr/local/lib/python3.10/dist-packages (from jinja2->torch->thop==0.1.1.post2209072238) (2.1.5)\n",
            "Requirement already satisfied: mpmath<1.4,>=1.1.0 in /usr/local/lib/python3.10/dist-packages (from sympy->torch->thop==0.1.1.post2209072238) (1.3.0)\n"
          ]
        }
      ],
      "source": [
        "!pip install --upgrade pillow==10.4.0 thop==0.1.1.post2209072238 requests==2.31.0\n",
        "!pip install -U albumentations"
      ]
    },
    {
      "cell_type": "code",
      "execution_count": null,
      "metadata": {
        "colab": {
          "base_uri": "https://localhost:8080/"
        },
        "id": "MVT1ZJs2QKeh",
        "outputId": "057ee9cd-609b-4e3e-80aa-e64d4c4448d9"
      },
      "outputs": [
        {
          "name": "stdout",
          "output_type": "stream",
          "text": [
            "Collecting requests==2.31.0\n",
            "  Using cached requests-2.31.0-py3-none-any.whl.metadata (4.6 kB)\n",
            "Requirement already satisfied: charset-normalizer<4,>=2 in /usr/local/lib/python3.10/dist-packages (from requests==2.31.0) (3.3.2)\n",
            "Requirement already satisfied: idna<4,>=2.5 in /usr/local/lib/python3.10/dist-packages (from requests==2.31.0) (3.7)\n",
            "Requirement already satisfied: urllib3<3,>=1.21.1 in /usr/local/lib/python3.10/dist-packages (from requests==2.31.0) (2.0.7)\n",
            "Requirement already satisfied: certifi>=2017.4.17 in /usr/local/lib/python3.10/dist-packages (from requests==2.31.0) (2024.7.4)\n",
            "Using cached requests-2.31.0-py3-none-any.whl (62 kB)\n",
            "Installing collected packages: requests\n",
            "  Attempting uninstall: requests\n",
            "    Found existing installation: requests 2.32.3\n",
            "    Uninstalling requests-2.32.3:\n",
            "      Successfully uninstalled requests-2.32.3\n",
            "Successfully installed requests-2.31.0\n"
          ]
        }
      ],
      "source": []
    },
    {
      "cell_type": "code",
      "execution_count": null,
      "metadata": {
        "colab": {
          "base_uri": "https://localhost:8080/"
        },
        "id": "svUF2eTugC_v",
        "outputId": "6a09d855-8447-4787-f99a-f7bae73ee961"
      },
      "outputs": [
        {
          "name": "stdout",
          "output_type": "stream",
          "text": [
            "/content/drive/MyDrive/uysot3/yolov5\n",
            "2024-08-06 15:16:28.412418: E external/local_xla/xla/stream_executor/cuda/cuda_fft.cc:485] Unable to register cuFFT factory: Attempting to register factory for plugin cuFFT when one has already been registered\n",
            "2024-08-06 15:16:28.431827: E external/local_xla/xla/stream_executor/cuda/cuda_dnn.cc:8454] Unable to register cuDNN factory: Attempting to register factory for plugin cuDNN when one has already been registered\n",
            "2024-08-06 15:16:28.437925: E external/local_xla/xla/stream_executor/cuda/cuda_blas.cc:1452] Unable to register cuBLAS factory: Attempting to register factory for plugin cuBLAS when one has already been registered\n",
            "\u001b[34m\u001b[1mtrain: \u001b[0mweights=yolov5m.pt, cfg=, data=/content/drive/MyDrive/uysot3/dataset.yaml, hyp=data/hyps/hyp.scratch-low.yaml, epochs=50, batch_size=16, imgsz=640, rect=False, resume=False, nosave=False, noval=False, noautoanchor=False, noplots=False, evolve=300, evolve_population=data/hyps, resume_evolve=None, bucket=, cache=ram, image_weights=False, device=, multi_scale=False, single_cls=False, optimizer=SGD, sync_bn=False, workers=8, project=runs/train, name=exp, exist_ok=False, quad=False, cos_lr=False, label_smoothing=0.0, patience=100, freeze=[0], save_period=-1, seed=0, local_rank=-1, entity=None, upload_dataset=False, bbox_interval=-1, artifact_alias=latest, ndjson_console=False, ndjson_file=False\n",
            "\u001b[34m\u001b[1mgithub: \u001b[0mup to date with https://github.com/ultralytics/yolov5 ✅\n",
            "\u001b[31m\u001b[1mrequirements:\u001b[0m Ultralytics requirement ['requests>=2.32.0'] not found, attempting AutoUpdate...\n",
            "\u001b[31mERROR: pip's dependency resolver does not currently take into account all the packages that are installed. This behaviour is the source of the following dependency conflicts.\n",
            "google-colab 1.0.0 requires requests==2.31.0, but you have requests 2.32.3 which is incompatible.\u001b[0m\u001b[31m\n",
            "\u001b[0mCollecting requests>=2.32.0\n",
            "  Downloading requests-2.32.3-py3-none-any.whl.metadata (4.6 kB)\n",
            "Requirement already satisfied: charset-normalizer<4,>=2 in /usr/local/lib/python3.10/dist-packages (from requests>=2.32.0) (3.3.2)\n",
            "Requirement already satisfied: idna<4,>=2.5 in /usr/local/lib/python3.10/dist-packages (from requests>=2.32.0) (3.7)\n",
            "Requirement already satisfied: urllib3<3,>=1.21.1 in /usr/local/lib/python3.10/dist-packages (from requests>=2.32.0) (2.0.7)\n",
            "Requirement already satisfied: certifi>=2017.4.17 in /usr/local/lib/python3.10/dist-packages (from requests>=2.32.0) (2024.7.4)\n",
            "Downloading requests-2.32.3-py3-none-any.whl (64 kB)\n",
            "   ━━━━━━━━━━━━━━━━━━━━━━━━━━━━━━━━━━━━━━━━ 64.9/64.9 kB 3.8 MB/s eta 0:00:00\n",
            "Installing collected packages: requests\n",
            "  Attempting uninstall: requests\n",
            "    Found existing installation: requests 2.31.0\n",
            "    Uninstalling requests-2.31.0:\n",
            "      Successfully uninstalled requests-2.31.0\n",
            "Successfully installed requests-2.32.3\n",
            "\n",
            "\u001b[31m\u001b[1mrequirements:\u001b[0m AutoUpdate success ✅ 2.6s, installed 1 package: ['requests>=2.32.0']\n",
            "\u001b[31m\u001b[1mrequirements:\u001b[0m ⚠️ \u001b[1mRestart runtime or rerun command for updates to take effect\u001b[0m\n",
            "\n",
            "YOLOv5 🚀 v7.0-350-g6096750f Python-3.10.12 torch-2.3.1+cu121 CUDA:0 (Tesla T4, 15102MiB)\n",
            "\n",
            "\u001b[34m\u001b[1mhyperparameters: \u001b[0mlr0=0.01, lrf=0.01, momentum=0.937, weight_decay=0.0005, warmup_epochs=3.0, warmup_momentum=0.8, warmup_bias_lr=0.1, box=0.05, cls=0.5, cls_pw=1.0, obj=1.0, obj_pw=1.0, iou_t=0.2, anchor_t=4.0, fl_gamma=0.0, hsv_h=0.015, hsv_s=0.7, hsv_v=0.4, degrees=0.0, translate=0.1, scale=0.9, shear=0.0, perspective=0.0, flipud=0.0, fliplr=0.5, mosaic=1.0, mixup=0.1, copy_paste=0.0, anchors=3\n",
            "\u001b[34m\u001b[1mComet: \u001b[0mrun 'pip install comet_ml' to automatically track and visualize YOLOv5 🚀 runs in Comet\n",
            "Overriding model.yaml nc=80 with nc=1\n",
            "Overriding model.yaml anchors with anchors=3\n",
            "\n",
            "                 from  n    params  module                                  arguments                     \n",
            "  0                -1  1      5280  models.common.Conv                      [3, 48, 6, 2, 2]              \n",
            "  1                -1  1     41664  models.common.Conv                      [48, 96, 3, 2]                \n",
            "  2                -1  2     65280  models.common.C3                        [96, 96, 2]                   \n",
            "  3                -1  1    166272  models.common.Conv                      [96, 192, 3, 2]               \n",
            "  4                -1  4    444672  models.common.C3                        [192, 192, 4]                 \n",
            "  5                -1  1    664320  models.common.Conv                      [192, 384, 3, 2]              \n",
            "  6                -1  6   2512896  models.common.C3                        [384, 384, 6]                 \n",
            "  7                -1  1   2655744  models.common.Conv                      [384, 768, 3, 2]              \n",
            "  8                -1  2   4134912  models.common.C3                        [768, 768, 2]                 \n",
            "  9                -1  1   1476864  models.common.SPPF                      [768, 768, 5]                 \n",
            " 10                -1  1    295680  models.common.Conv                      [768, 384, 1, 1]              \n",
            " 11                -1  1         0  torch.nn.modules.upsampling.Upsample    [None, 2, 'nearest']          \n",
            " 12           [-1, 6]  1         0  models.common.Concat                    [1]                           \n",
            " 13                -1  2   1182720  models.common.C3                        [768, 384, 2, False]          \n",
            " 14                -1  1     74112  models.common.Conv                      [384, 192, 1, 1]              \n",
            " 15                -1  1         0  torch.nn.modules.upsampling.Upsample    [None, 2, 'nearest']          \n",
            " 16           [-1, 4]  1         0  models.common.Concat                    [1]                           \n",
            " 17                -1  2    296448  models.common.C3                        [384, 192, 2, False]          \n",
            " 18                -1  1    332160  models.common.Conv                      [192, 192, 3, 2]              \n",
            " 19          [-1, 14]  1         0  models.common.Concat                    [1]                           \n",
            " 20                -1  2   1035264  models.common.C3                        [384, 384, 2, False]          \n",
            " 21                -1  1   1327872  models.common.Conv                      [384, 384, 3, 2]              \n",
            " 22          [-1, 10]  1         0  models.common.Concat                    [1]                           \n",
            " 23                -1  2   4134912  models.common.C3                        [768, 768, 2, False]          \n",
            " 24      [17, 20, 23]  1     24246  models.yolo.Detect                      [1, [[0, 1, 2, 3, 4, 5], [0, 1, 2, 3, 4, 5], [0, 1, 2, 3, 4, 5]], [192, 384, 768]]\n",
            "Model summary: 291 layers, 20871318 parameters, 20871318 gradients, 48.2 GFLOPs\n",
            "\n",
            "Transferred 474/481 items from yolov5m.pt\n",
            "\u001b[34m\u001b[1mAMP: \u001b[0mchecks passed ✅\n",
            "\u001b[34m\u001b[1moptimizer:\u001b[0m SGD(lr=0.01) with parameter groups 79 weight(decay=0.0), 82 weight(decay=0.0005), 82 bias\n",
            "\u001b[34m\u001b[1malbumentations: \u001b[0mBlur(p=0.01, blur_limit=(3, 7)), MedianBlur(p=0.01, blur_limit=(3, 7)), ToGray(p=0.01), CLAHE(p=0.01, clip_limit=(1, 4.0), tile_grid_size=(8, 8))\n",
            "/usr/lib/python3.10/multiprocessing/popen_fork.py:66: RuntimeWarning: os.fork() was called. os.fork() is incompatible with multithreaded code, and JAX is multithreaded, so this will likely lead to a deadlock.\n",
            "  self.pid = os.fork()\n",
            "\u001b[34m\u001b[1mtrain: \u001b[0mScanning /content/drive/MyDrive/uysot3/labels/train... 8708 images, 0 backgrounds, 0 corrupt:  43% 8708/20462 [1:10:12<1:17:59,  2.51it/s]"
          ]
        }
      ],
      "source": [
        "# Train YOLOv5s on dataset for 50 epochs\n",
        "%cd /content/drive/MyDrive/uysot2/yolov5\n",
        "\n",
        "!python /content/drive/MyDrive/uysot2/yolov5/train.py --img 640 --batch 16 --epochs 50 --data /content/drive/MyDrive/uysot2/dataset.yaml --weights yolov5m.pt --evolve 300 --cache"
      ]
    },
    {
      "cell_type": "markdown",
      "metadata": {
        "id": "Gc34SjBYf4q1"
      },
      "source": [
        "# Image prediction"
      ]
    },
    {
      "cell_type": "code",
      "execution_count": null,
      "metadata": {
        "id": "9F93cPppMov6"
      },
      "outputs": [],
      "source": [
        "# Restart runtime\n",
        "import os\n",
        "os._exit(00)\n",
        "\n",
        "# Install necessary packages\n",
        "!pip install ultralytics==8.2.73\n",
        "!pip install gitpython\n",
        "!pip install pillow>=10.3.0 requests>=2.32.0 thop>=0.1.1\n",
        "\n",
        "# Navigate to YOLOv5 directory\n",
        "%cd /content/drive/MyDrive/uysot2/yolov5\n",
        "\n",
        "# Run the detection script\n",
        "!python detect.py --weights /content/drive/MyDrive/uysot2/model/best.pt --img 640 --conf 0.25 --source /content/drive/MyDrive/uysot2/test_images --project /content/drive/MyDrive/uysot2 --name predictions --save-txt --save-conf"
      ]
    },
    {
      "cell_type": "markdown",
      "metadata": {
        "id": "sMsYuPZmZUK-"
      },
      "source": [
        "## Image size check"
      ]
    },
    {
      "cell_type": "code",
      "execution_count": null,
      "metadata": {
        "colab": {
          "base_uri": "https://localhost:8080/"
        },
        "id": "_eZBkR5wXdbX",
        "outputId": "39512815-4f04-4a36-e5da-cbca49a50c59"
      },
      "outputs": [
        {
          "name": "stdout",
          "output_type": "stream",
          "text": [
            "Width: 1920, Height: 1080\n"
          ]
        }
      ],
      "source": [
        "from PIL import Image\n",
        "\n",
        "def get_image_size(image_path):\n",
        "    image = Image.open(image_path)\n",
        "    width, height = image.size\n",
        "    return width, height\n",
        "\n",
        "image_path = '/content/drive/MyDrive/uysot2/321.jpg'\n",
        "width, height = get_image_size(image_path)\n",
        "print(f\"Width: {width}, Height: {height}\")\n"
      ]
    },
    {
      "cell_type": "code",
      "execution_count": null,
      "metadata": {
        "colab": {
          "base_uri": "https://localhost:8080/"
        },
        "id": "w3MXjLh7W1MI",
        "outputId": "b5f7175a-56c8-4066-eff4-4986b0d48e0e"
      },
      "outputs": [
        {
          "name": "stdout",
          "output_type": "stream",
          "text": [
            "Collecting ultralytics\n",
            "  Downloading ultralytics-8.2.70-py3-none-any.whl.metadata (41 kB)\n",
            "\u001b[?25l     \u001b[90m━━━━━━━━━━━━━━━━━━━━━━━━━━━━━━━━━━━━━━━━\u001b[0m \u001b[32m0.0/41.3 kB\u001b[0m \u001b[31m?\u001b[0m eta \u001b[36m-:--:--\u001b[0m\r\u001b[2K     \u001b[90m━━━━━━━━━━━━━━━━━━━━━━━━━━━━━━━━━━━━━━━━\u001b[0m \u001b[32m41.3/41.3 kB\u001b[0m \u001b[31m1.6 MB/s\u001b[0m eta \u001b[36m0:00:00\u001b[0m\n",
            "\u001b[?25hRequirement already satisfied: numpy<2.0.0,>=1.23.0 in /usr/local/lib/python3.10/dist-packages (from ultralytics) (1.26.4)\n",
            "Requirement already satisfied: matplotlib>=3.3.0 in /usr/local/lib/python3.10/dist-packages (from ultralytics) (3.7.1)\n",
            "Requirement already satisfied: opencv-python>=4.6.0 in /usr/local/lib/python3.10/dist-packages (from ultralytics) (4.10.0.84)\n",
            "Requirement already satisfied: pillow>=7.1.2 in /usr/local/lib/python3.10/dist-packages (from ultralytics) (9.4.0)\n",
            "Requirement already satisfied: pyyaml>=5.3.1 in /usr/local/lib/python3.10/dist-packages (from ultralytics) (6.0.1)\n",
            "Requirement already satisfied: requests>=2.23.0 in /usr/local/lib/python3.10/dist-packages (from ultralytics) (2.31.0)\n",
            "Requirement already satisfied: scipy>=1.4.1 in /usr/local/lib/python3.10/dist-packages (from ultralytics) (1.13.1)\n",
            "Requirement already satisfied: torch>=1.8.0 in /usr/local/lib/python3.10/dist-packages (from ultralytics) (2.3.1+cu121)\n",
            "Requirement already satisfied: torchvision>=0.9.0 in /usr/local/lib/python3.10/dist-packages (from ultralytics) (0.18.1+cu121)\n",
            "Requirement already satisfied: tqdm>=4.64.0 in /usr/local/lib/python3.10/dist-packages (from ultralytics) (4.66.4)\n",
            "Requirement already satisfied: psutil in /usr/local/lib/python3.10/dist-packages (from ultralytics) (5.9.5)\n",
            "Requirement already satisfied: py-cpuinfo in /usr/local/lib/python3.10/dist-packages (from ultralytics) (9.0.0)\n",
            "Requirement already satisfied: pandas>=1.1.4 in /usr/local/lib/python3.10/dist-packages (from ultralytics) (2.1.4)\n",
            "Requirement already satisfied: seaborn>=0.11.0 in /usr/local/lib/python3.10/dist-packages (from ultralytics) (0.13.1)\n",
            "Collecting ultralytics-thop>=2.0.0 (from ultralytics)\n",
            "  Downloading ultralytics_thop-2.0.0-py3-none-any.whl.metadata (8.5 kB)\n",
            "Requirement already satisfied: contourpy>=1.0.1 in /usr/local/lib/python3.10/dist-packages (from matplotlib>=3.3.0->ultralytics) (1.2.1)\n",
            "Requirement already satisfied: cycler>=0.10 in /usr/local/lib/python3.10/dist-packages (from matplotlib>=3.3.0->ultralytics) (0.12.1)\n",
            "Requirement already satisfied: fonttools>=4.22.0 in /usr/local/lib/python3.10/dist-packages (from matplotlib>=3.3.0->ultralytics) (4.53.1)\n",
            "Requirement already satisfied: kiwisolver>=1.0.1 in /usr/local/lib/python3.10/dist-packages (from matplotlib>=3.3.0->ultralytics) (1.4.5)\n",
            "Requirement already satisfied: packaging>=20.0 in /usr/local/lib/python3.10/dist-packages (from matplotlib>=3.3.0->ultralytics) (24.1)\n",
            "Requirement already satisfied: pyparsing>=2.3.1 in /usr/local/lib/python3.10/dist-packages (from matplotlib>=3.3.0->ultralytics) (3.1.2)\n",
            "Requirement already satisfied: python-dateutil>=2.7 in /usr/local/lib/python3.10/dist-packages (from matplotlib>=3.3.0->ultralytics) (2.8.2)\n",
            "Requirement already satisfied: pytz>=2020.1 in /usr/local/lib/python3.10/dist-packages (from pandas>=1.1.4->ultralytics) (2024.1)\n",
            "Requirement already satisfied: tzdata>=2022.1 in /usr/local/lib/python3.10/dist-packages (from pandas>=1.1.4->ultralytics) (2024.1)\n",
            "Requirement already satisfied: charset-normalizer<4,>=2 in /usr/local/lib/python3.10/dist-packages (from requests>=2.23.0->ultralytics) (3.3.2)\n",
            "Requirement already satisfied: idna<4,>=2.5 in /usr/local/lib/python3.10/dist-packages (from requests>=2.23.0->ultralytics) (3.7)\n",
            "Requirement already satisfied: urllib3<3,>=1.21.1 in /usr/local/lib/python3.10/dist-packages (from requests>=2.23.0->ultralytics) (2.0.7)\n",
            "Requirement already satisfied: certifi>=2017.4.17 in /usr/local/lib/python3.10/dist-packages (from requests>=2.23.0->ultralytics) (2024.7.4)\n",
            "Requirement already satisfied: filelock in /usr/local/lib/python3.10/dist-packages (from torch>=1.8.0->ultralytics) (3.15.4)\n",
            "Requirement already satisfied: typing-extensions>=4.8.0 in /usr/local/lib/python3.10/dist-packages (from torch>=1.8.0->ultralytics) (4.12.2)\n",
            "Requirement already satisfied: sympy in /usr/local/lib/python3.10/dist-packages (from torch>=1.8.0->ultralytics) (1.13.1)\n",
            "Requirement already satisfied: networkx in /usr/local/lib/python3.10/dist-packages (from torch>=1.8.0->ultralytics) (3.3)\n",
            "Requirement already satisfied: jinja2 in /usr/local/lib/python3.10/dist-packages (from torch>=1.8.0->ultralytics) (3.1.4)\n",
            "Requirement already satisfied: fsspec in /usr/local/lib/python3.10/dist-packages (from torch>=1.8.0->ultralytics) (2024.6.1)\n",
            "Collecting nvidia-cuda-nvrtc-cu12==12.1.105 (from torch>=1.8.0->ultralytics)\n",
            "  Using cached nvidia_cuda_nvrtc_cu12-12.1.105-py3-none-manylinux1_x86_64.whl.metadata (1.5 kB)\n",
            "Collecting nvidia-cuda-runtime-cu12==12.1.105 (from torch>=1.8.0->ultralytics)\n",
            "  Using cached nvidia_cuda_runtime_cu12-12.1.105-py3-none-manylinux1_x86_64.whl.metadata (1.5 kB)\n",
            "Collecting nvidia-cuda-cupti-cu12==12.1.105 (from torch>=1.8.0->ultralytics)\n",
            "  Using cached nvidia_cuda_cupti_cu12-12.1.105-py3-none-manylinux1_x86_64.whl.metadata (1.6 kB)\n",
            "Collecting nvidia-cudnn-cu12==8.9.2.26 (from torch>=1.8.0->ultralytics)\n",
            "  Using cached nvidia_cudnn_cu12-8.9.2.26-py3-none-manylinux1_x86_64.whl.metadata (1.6 kB)\n",
            "Collecting nvidia-cublas-cu12==12.1.3.1 (from torch>=1.8.0->ultralytics)\n",
            "  Using cached nvidia_cublas_cu12-12.1.3.1-py3-none-manylinux1_x86_64.whl.metadata (1.5 kB)\n",
            "Collecting nvidia-cufft-cu12==11.0.2.54 (from torch>=1.8.0->ultralytics)\n",
            "  Using cached nvidia_cufft_cu12-11.0.2.54-py3-none-manylinux1_x86_64.whl.metadata (1.5 kB)\n",
            "Collecting nvidia-curand-cu12==10.3.2.106 (from torch>=1.8.0->ultralytics)\n",
            "  Using cached nvidia_curand_cu12-10.3.2.106-py3-none-manylinux1_x86_64.whl.metadata (1.5 kB)\n",
            "Collecting nvidia-cusolver-cu12==11.4.5.107 (from torch>=1.8.0->ultralytics)\n",
            "  Using cached nvidia_cusolver_cu12-11.4.5.107-py3-none-manylinux1_x86_64.whl.metadata (1.6 kB)\n",
            "Collecting nvidia-cusparse-cu12==12.1.0.106 (from torch>=1.8.0->ultralytics)\n",
            "  Using cached nvidia_cusparse_cu12-12.1.0.106-py3-none-manylinux1_x86_64.whl.metadata (1.6 kB)\n",
            "Collecting nvidia-nccl-cu12==2.20.5 (from torch>=1.8.0->ultralytics)\n",
            "  Using cached nvidia_nccl_cu12-2.20.5-py3-none-manylinux2014_x86_64.whl.metadata (1.8 kB)\n",
            "Collecting nvidia-nvtx-cu12==12.1.105 (from torch>=1.8.0->ultralytics)\n",
            "  Using cached nvidia_nvtx_cu12-12.1.105-py3-none-manylinux1_x86_64.whl.metadata (1.7 kB)\n",
            "Requirement already satisfied: triton==2.3.1 in /usr/local/lib/python3.10/dist-packages (from torch>=1.8.0->ultralytics) (2.3.1)\n",
            "Collecting nvidia-nvjitlink-cu12 (from nvidia-cusolver-cu12==11.4.5.107->torch>=1.8.0->ultralytics)\n",
            "  Downloading nvidia_nvjitlink_cu12-12.5.82-py3-none-manylinux2014_x86_64.whl.metadata (1.5 kB)\n",
            "Requirement already satisfied: six>=1.5 in /usr/local/lib/python3.10/dist-packages (from python-dateutil>=2.7->matplotlib>=3.3.0->ultralytics) (1.16.0)\n",
            "Requirement already satisfied: MarkupSafe>=2.0 in /usr/local/lib/python3.10/dist-packages (from jinja2->torch>=1.8.0->ultralytics) (2.1.5)\n",
            "Requirement already satisfied: mpmath<1.4,>=1.1.0 in /usr/local/lib/python3.10/dist-packages (from sympy->torch>=1.8.0->ultralytics) (1.3.0)\n",
            "Downloading ultralytics-8.2.70-py3-none-any.whl (862 kB)\n",
            "\u001b[2K   \u001b[90m━━━━━━━━━━━━━━━━━━━━━━━━━━━━━━━━━━━━━━━━\u001b[0m \u001b[32m862.6/862.6 kB\u001b[0m \u001b[31m14.7 MB/s\u001b[0m eta \u001b[36m0:00:00\u001b[0m\n",
            "\u001b[?25hUsing cached nvidia_cublas_cu12-12.1.3.1-py3-none-manylinux1_x86_64.whl (410.6 MB)\n",
            "Using cached nvidia_cuda_cupti_cu12-12.1.105-py3-none-manylinux1_x86_64.whl (14.1 MB)\n",
            "Using cached nvidia_cuda_nvrtc_cu12-12.1.105-py3-none-manylinux1_x86_64.whl (23.7 MB)\n",
            "Using cached nvidia_cuda_runtime_cu12-12.1.105-py3-none-manylinux1_x86_64.whl (823 kB)\n",
            "Using cached nvidia_cudnn_cu12-8.9.2.26-py3-none-manylinux1_x86_64.whl (731.7 MB)\n",
            "Using cached nvidia_cufft_cu12-11.0.2.54-py3-none-manylinux1_x86_64.whl (121.6 MB)\n",
            "Using cached nvidia_curand_cu12-10.3.2.106-py3-none-manylinux1_x86_64.whl (56.5 MB)\n",
            "Using cached nvidia_cusolver_cu12-11.4.5.107-py3-none-manylinux1_x86_64.whl (124.2 MB)\n",
            "Using cached nvidia_cusparse_cu12-12.1.0.106-py3-none-manylinux1_x86_64.whl (196.0 MB)\n",
            "Using cached nvidia_nccl_cu12-2.20.5-py3-none-manylinux2014_x86_64.whl (176.2 MB)\n",
            "Using cached nvidia_nvtx_cu12-12.1.105-py3-none-manylinux1_x86_64.whl (99 kB)\n",
            "Downloading ultralytics_thop-2.0.0-py3-none-any.whl (25 kB)\n",
            "Downloading nvidia_nvjitlink_cu12-12.5.82-py3-none-manylinux2014_x86_64.whl (21.3 MB)\n",
            "\u001b[2K   \u001b[90m━━━━━━━━━━━━━━━━━━━━━━━━━━━━━━━━━━━━━━━━\u001b[0m \u001b[32m21.3/21.3 MB\u001b[0m \u001b[31m27.5 MB/s\u001b[0m eta \u001b[36m0:00:00\u001b[0m\n",
            "\u001b[?25hInstalling collected packages: nvidia-nvtx-cu12, nvidia-nvjitlink-cu12, nvidia-nccl-cu12, nvidia-curand-cu12, nvidia-cufft-cu12, nvidia-cuda-runtime-cu12, nvidia-cuda-nvrtc-cu12, nvidia-cuda-cupti-cu12, nvidia-cublas-cu12, nvidia-cusparse-cu12, nvidia-cudnn-cu12, nvidia-cusolver-cu12, ultralytics-thop, ultralytics\n",
            "Successfully installed nvidia-cublas-cu12-12.1.3.1 nvidia-cuda-cupti-cu12-12.1.105 nvidia-cuda-nvrtc-cu12-12.1.105 nvidia-cuda-runtime-cu12-12.1.105 nvidia-cudnn-cu12-8.9.2.26 nvidia-cufft-cu12-11.0.2.54 nvidia-curand-cu12-10.3.2.106 nvidia-cusolver-cu12-11.4.5.107 nvidia-cusparse-cu12-12.1.0.106 nvidia-nccl-cu12-2.20.5 nvidia-nvjitlink-cu12-12.5.82 nvidia-nvtx-cu12-12.1.105 ultralytics-8.2.70 ultralytics-thop-2.0.0\n"
          ]
        }
      ],
      "source": [
        "!pip install ultralytics"
      ]
    },
    {
      "cell_type": "code",
      "execution_count": null,
      "metadata": {
        "collapsed": true,
        "id": "TxKBmh4nXT5n"
      },
      "outputs": [],
      "source": [
        "!import ultralytics\n",
        "\n",
        "!python /content/drive/MyDrive/uysot2/yolov5/detect.py --weights /content/drive/MyDrive/uysot2/model/best.pt --img 640 --conf 0.25 --source /content/drive/MyDrive/uysot2/test_images --project /content/drive/MyDrive/uysot2 --name predictions --save-txt --save-conf"
      ]
    },
    {
      "cell_type": "markdown",
      "metadata": {
        "id": "_hy-OnWp1GMt"
      },
      "source": [
        "## Save the YOLO model to /content/drive/MyDrive/uysot2"
      ]
    },
    {
      "cell_type": "code",
      "execution_count": null,
      "metadata": {
        "id": "7vr6jnK4Tu7F"
      },
      "outputs": [],
      "source": [
        "import shutil\n",
        "import os\n",
        "\n",
        "# Define source and destination paths\n",
        "source_dir = '/content/drive/MyDrive/uysot2/yolov5/runs/train/exp3/weights'\n",
        "dest_dir = '/content/drive/MyDrive/uysot2/model'\n",
        "\n",
        "# Ensure the destination directory exists\n",
        "os.makedirs(dest_dir, exist_ok=True)\n",
        "\n",
        "# Copy all files from the source to the destination directory\n",
        "for filename in os.listdir(source_dir):\n",
        "    full_file_name = os.path.join(source_dir, filename)\n",
        "    if os.path.isfile(full_file_name):\n",
        "        shutil.copy(full_file_name, dest_dir)\n",
        "\n",
        "print(\"Model saved to:\", dest_dir)\n"
      ]
    },
    {
      "cell_type": "markdown",
      "metadata": {
        "id": "IiixioB1YdD8"
      },
      "source": [
        "# Draw images according to predicted coordinates"
      ]
    },
    {
      "cell_type": "code",
      "execution_count": null,
      "metadata": {
        "colab": {
          "base_uri": "https://localhost:8080/"
        },
        "collapsed": true,
        "id": "BB8Z0QJy61xz",
        "outputId": "f95c7cb6-fe05-4f14-ee8f-b87d4e65fb5b"
      },
      "outputs": [
        {
          "name": "stdout",
          "output_type": "stream",
          "text": [
            "Skipping line in /content/drive/MyDrive/uysot/predictions6/labels/240720-081230-9e049641-44ac-482f.txt due to unexpected format: 0 0.421354 0.243981 0.154167 0.230556 0.285285\n",
            "\n",
            "Skipping line in /content/drive/MyDrive/uysot/predictions6/labels/240720-081230-9e049641-44ac-482f.txt due to unexpected format: 0 0.585417 0.241667 0.15625 0.231481 0.513635\n",
            "\n",
            "Skipping line in /content/drive/MyDrive/uysot/predictions6/labels/240720-081230-9e049641-44ac-482f.txt due to unexpected format: 0 0.269531 0.776852 0.146354 0.355556 0.786637\n",
            "\n",
            "Skipping line in /content/drive/MyDrive/uysot/predictions6/labels/240720-081230-9e049641-44ac-482f.txt due to unexpected format: 0 0.109635 0.74213 0.167187 0.341667 0.821214\n",
            "\n",
            "Skipping line in /content/drive/MyDrive/uysot/predictions6/labels/photo_2024-07-27_12-09-31.txt due to unexpected format: 0 0.585156 0.240972 0.15625 0.234722 0.508353\n",
            "\n",
            "Skipping line in /content/drive/MyDrive/uysot/predictions6/labels/photo_2024-07-27_12-09-31.txt due to unexpected format: 0 0.269141 0.775694 0.146094 0.354167 0.785857\n",
            "\n",
            "Skipping line in /content/drive/MyDrive/uysot/predictions6/labels/photo_2024-07-27_12-09-31.txt due to unexpected format: 0 0.109766 0.738194 0.166406 0.3375 0.7985\n",
            "\n",
            "Skipping line in /content/drive/MyDrive/uysot/predictions6/labels/photo_2024-07-31_10-28-16.txt due to unexpected format: 0 0.585156 0.240972 0.15625 0.234722 0.508353\n",
            "\n",
            "Skipping line in /content/drive/MyDrive/uysot/predictions6/labels/photo_2024-07-31_10-28-16.txt due to unexpected format: 0 0.269141 0.775694 0.146094 0.354167 0.785857\n",
            "\n",
            "Skipping line in /content/drive/MyDrive/uysot/predictions6/labels/photo_2024-07-31_10-28-16.txt due to unexpected format: 0 0.109766 0.738194 0.166406 0.3375 0.7985\n",
            "\n",
            "Skipping line in /content/drive/MyDrive/uysot/predictions6/labels/123.txt due to unexpected format: 0 0.513542 0.795833 0.135417 0.208333 0.256236\n",
            "\n",
            "Skipping line in /content/drive/MyDrive/uysot/predictions6/labels/123.txt due to unexpected format: 0 0.0723958 0.462037 0.10625 0.140741 0.328234\n",
            "\n",
            "Skipping line in /content/drive/MyDrive/uysot/predictions6/labels/123.txt due to unexpected format: 0 0.634635 0.385185 0.227604 0.148148 0.475245\n",
            "\n",
            "Skipping line in /content/drive/MyDrive/uysot/predictions6/labels/123.txt due to unexpected format: 0 0.878125 0.119907 0.1875 0.115741 0.476411\n",
            "\n",
            "Skipping line in /content/drive/MyDrive/uysot/predictions6/labels/123.txt due to unexpected format: 0 0.310937 0.396759 0.257292 0.139815 0.496662\n",
            "\n",
            "Skipping line in /content/drive/MyDrive/uysot/predictions6/labels/123.txt due to unexpected format: 0 0.904688 0.790278 0.0864583 0.115741 0.537698\n",
            "\n",
            "Skipping line in /content/drive/MyDrive/uysot/predictions6/labels/123.txt due to unexpected format: 0 0.271875 0.205556 0.155208 0.155556 0.59224\n",
            "\n",
            "Skipping line in /content/drive/MyDrive/uysot/predictions6/labels/123.txt due to unexpected format: 0 0.863021 0.275463 0.166667 0.160185 0.619713\n",
            "\n",
            "Skipping line in /content/drive/MyDrive/uysot/predictions6/labels/123.txt due to unexpected format: 0 0.0609375 0.277315 0.0885417 0.176852 0.62641\n",
            "\n",
            "Skipping line in /content/drive/MyDrive/uysot/predictions6/labels/123.txt due to unexpected format: 0 0.676562 0.208796 0.133333 0.156481 0.641228\n",
            "\n",
            "Skipping line in /content/drive/MyDrive/uysot/predictions6/labels/123.txt due to unexpected format: 0 0.692708 0.818056 0.163542 0.160185 0.73913\n",
            "\n",
            "Skipping line in /content/drive/MyDrive/uysot/predictions6/labels/123.txt due to unexpected format: 0 0.692448 0.633333 0.156771 0.15 0.833431\n",
            "\n",
            "Skipping line in /content/drive/MyDrive/uysot/predictions6/labels/123.txt due to unexpected format: 0 0.482812 0.603704 0.182292 0.105556 0.840969\n",
            "\n",
            "Skipping line in /content/drive/MyDrive/uysot/predictions6/labels/123.txt due to unexpected format: 0 0.270573 0.81713 0.158854 0.165741 0.854201\n",
            "\n",
            "Predictions drawn and saved.\n"
          ]
        }
      ],
      "source": [
        "import os\n",
        "import cv2\n",
        "\n",
        "# Directory paths\n",
        "image_dir = '/content/drive/MyDrive/uysot2/test_images'\n",
        "label_dir = '/content/drive/MyDrive/uysot2/predictions6/labels'\n",
        "output_dir = '/content/drive/MyDrive/uysot2/predictions6/overlay'\n",
        "\n",
        "# Ensure the output directory exists\n",
        "os.makedirs(output_dir, exist_ok=True)\n",
        "\n",
        "def draw_predictions_on_image(img_path, label_path, output_path):\n",
        "    # Load the image\n",
        "    image = cv2.imread(img_path)\n",
        "    img_height, img_width, _ = image.shape\n",
        "\n",
        "    # Load the labels if available\n",
        "    if os.path.exists(label_path):\n",
        "        with open(label_path, 'r') as f:\n",
        "            labels = f.readlines()\n",
        "\n",
        "        for label in labels:\n",
        "            # Extract the bounding box coordinates\n",
        "            parts = label.strip().split()\n",
        "            if len(parts) != 5:\n",
        "                print(f\"Skipping line in {label_path} due to unexpected format: {label}\")\n",
        "                continue\n",
        "\n",
        "            try:\n",
        "                x_center, y_center, width, height = map(float, parts[1:])\n",
        "            except ValueError:\n",
        "                print(f\"Error converting values in {label_path} for line: {label}\")\n",
        "                continue\n",
        "\n",
        "            # Convert YOLO format to pixel coordinates\n",
        "            min_x = int((x_center - width / 2) * img_width)\n",
        "            min_y = int((y_center - height / 2) * img_height)\n",
        "            max_x = int((x_center + width / 2) * img_width)\n",
        "            max_y = int((y_center + height / 2) * img_height)\n",
        "\n",
        "            # Draw bounding box\n",
        "            cv2.rectangle(image, (min_x, min_y), (max_x, max_y), (0, 255, 0), 2)\n",
        "    else:\n",
        "        print(f\"No label file found for {img_path}\")\n",
        "\n",
        "    # Save the output image with predictions drawn\n",
        "    cv2.imwrite(output_path, image)\n",
        "\n",
        "# Iterate over all images and labels\n",
        "for image_file in os.listdir(image_dir):\n",
        "    if image_file.endswith('.png') or image_file.endswith('.jpg'):\n",
        "        img_path = os.path.join(image_dir, image_file)\n",
        "        label_path = os.path.join(label_dir, image_file.replace('.png', '.txt').replace('.jpg', '.txt'))\n",
        "        output_path = os.path.join(output_dir, image_file)\n",
        "\n",
        "        draw_predictions_on_image(img_path, label_path, output_path)\n",
        "\n",
        "print(\"Predictions drawn and saved.\")\n"
      ]
    },
    {
      "cell_type": "code",
      "execution_count": null,
      "metadata": {
        "id": "Z27drEcZ_9MQ"
      },
      "outputs": [],
      "source": []
    }
  ],
  "metadata": {
    "colab": {
      "provenance": [],
      "include_colab_link": true
    },
    "kernelspec": {
      "display_name": "Python 3",
      "name": "python3"
    },
    "language_info": {
      "name": "python"
    }
  },
  "nbformat": 4,
  "nbformat_minor": 0
}