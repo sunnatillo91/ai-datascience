{
  "nbformat": 4,
  "nbformat_minor": 0,
  "metadata": {
    "colab": {
      "provenance": [],
      "authorship_tag": "ABX9TyN2+7OvZ6XEGAX5VwEmNPSN",
      "include_colab_link": true
    },
    "kernelspec": {
      "name": "python3",
      "display_name": "Python 3"
    },
    "language_info": {
      "name": "python"
    }
  },
  "cells": [
    {
      "cell_type": "markdown",
      "metadata": {
        "id": "view-in-github",
        "colab_type": "text"
      },
      "source": [
        "<a href=\"https://colab.research.google.com/github/sunnatillo91/ai-datascience/blob/main/_4_Boolean_indexing.ipynb\" target=\"_parent\"><img src=\"https://colab.research.google.com/assets/colab-badge.svg\" alt=\"Open In Colab\"/></a>"
      ]
    },
    {
      "cell_type": "markdown",
      "source": [
        "Boolean indekslash"
      ],
      "metadata": {
        "id": "kThlADGDtXcP"
      }
    },
    {
      "cell_type": "code",
      "source": [
        "import numpy as np\n"
      ],
      "metadata": {
        "id": "mouLPS95t9dt"
      },
      "execution_count": 2,
      "outputs": []
    },
    {
      "cell_type": "code",
      "execution_count": 3,
      "metadata": {
        "colab": {
          "base_uri": "https://localhost:8080/"
        },
        "id": "TeP6TMJKtPkL",
        "outputId": "61af3067-f261-4741-bb50-092632f65197"
      },
      "outputs": [
        {
          "output_type": "execute_result",
          "data": {
            "text/plain": [
              "array(['Hasan', 'Husan', 'Salim', 'Hasan', 'Olim', 'Hasan', 'Muhammad',\n",
              "       'Umar'], dtype='<U8')"
            ]
          },
          "metadata": {},
          "execution_count": 3
        }
      ],
      "source": [
        "# Ismlar:\n",
        "\n",
        "names = np.array(['Hasan', 'Husan', 'Salim','Hasan', 'Olim', 'Hasan', 'Muhammad', 'Umar'])\n",
        "names"
      ]
    },
    {
      "cell_type": "code",
      "source": [
        "# data\n",
        "data = np.random.randn(8, 4)\n",
        "data"
      ],
      "metadata": {
        "colab": {
          "base_uri": "https://localhost:8080/"
        },
        "id": "V8BCiqZ2x_J6",
        "outputId": "0f1b059d-44b3-47a8-8fba-f98fc0ce1509"
      },
      "execution_count": 4,
      "outputs": [
        {
          "output_type": "execute_result",
          "data": {
            "text/plain": [
              "array([[ 2.05627375, -0.16711296,  0.97976138,  0.26260918],\n",
              "       [ 0.92395825, -1.48872305,  0.36239535, -0.77530265],\n",
              "       [-1.14777548,  0.39391151,  1.36558396, -0.69375908],\n",
              "       [-0.54213973,  1.00521258, -0.41566296,  1.20149731],\n",
              "       [ 0.71642097, -1.32323751, -0.06906236, -0.81480393],\n",
              "       [ 1.08531908, -1.27601366, -1.80714153, -0.84834374],\n",
              "       [ 0.76674499,  1.04684557, -1.81881626,  0.68084702],\n",
              "       [ 0.58721578, -0.3765769 , -1.18718553, -0.33603293]])"
            ]
          },
          "metadata": {},
          "execution_count": 4
        }
      ]
    },
    {
      "cell_type": "code",
      "source": [
        "names == 'Hasan'"
      ],
      "metadata": {
        "colab": {
          "base_uri": "https://localhost:8080/"
        },
        "id": "7fUnHmRgyLBi",
        "outputId": "2c443ae5-5074-42ce-c489-c126ac9ff84f"
      },
      "execution_count": 5,
      "outputs": [
        {
          "output_type": "execute_result",
          "data": {
            "text/plain": [
              "array([ True, False, False,  True, False,  True, False, False])"
            ]
          },
          "metadata": {},
          "execution_count": 5
        }
      ]
    },
    {
      "cell_type": "code",
      "source": [
        "data[names == 'Hasan']  # Hasanga tegishli barcha ma'lumotlarni ajratib olish"
      ],
      "metadata": {
        "colab": {
          "base_uri": "https://localhost:8080/"
        },
        "id": "SUlcqRzvzK_5",
        "outputId": "7cd93cdf-f85b-40d0-9780-35cf1e759e46"
      },
      "execution_count": 6,
      "outputs": [
        {
          "output_type": "execute_result",
          "data": {
            "text/plain": [
              "array([[ 2.05627375, -0.16711296,  0.97976138,  0.26260918],\n",
              "       [-0.54213973,  1.00521258, -0.41566296,  1.20149731],\n",
              "       [ 1.08531908, -1.27601366, -1.80714153, -0.84834374]])"
            ]
          },
          "metadata": {},
          "execution_count": 6
        }
      ]
    },
    {
      "cell_type": "code",
      "source": [
        "data[names == 'Olim']"
      ],
      "metadata": {
        "colab": {
          "base_uri": "https://localhost:8080/"
        },
        "id": "q5jAUftazd7D",
        "outputId": "375e553b-cd9b-4d9a-924d-a16d2b96c308"
      },
      "execution_count": 7,
      "outputs": [
        {
          "output_type": "execute_result",
          "data": {
            "text/plain": [
              "array([[ 0.71642097, -1.32323751, -0.06906236, -0.81480393]])"
            ]
          },
          "metadata": {},
          "execution_count": 7
        }
      ]
    },
    {
      "cell_type": "code",
      "source": [
        "data[names == 'Salim', 2:]  # Salimga tegishli oxirgi ikki ustundagi ma'lumotlarni ajratib olish\n"
      ],
      "metadata": {
        "colab": {
          "base_uri": "https://localhost:8080/"
        },
        "id": "h7ZVMOtgrzRN",
        "outputId": "ce8929cd-e317-40f1-b578-d61896be1d19"
      },
      "execution_count": 8,
      "outputs": [
        {
          "output_type": "execute_result",
          "data": {
            "text/plain": [
              "array([[ 1.36558396, -0.69375908]])"
            ]
          },
          "metadata": {},
          "execution_count": 8
        }
      ]
    },
    {
      "cell_type": "code",
      "source": [
        "data[names == 'Muhammad', 2:4]"
      ],
      "metadata": {
        "colab": {
          "base_uri": "https://localhost:8080/"
        },
        "id": "ekBphTU2sr3Q",
        "outputId": "a04daaf5-7ce8-4b19-aab0-3f483b7376c3"
      },
      "execution_count": 9,
      "outputs": [
        {
          "output_type": "execute_result",
          "data": {
            "text/plain": [
              "array([[-1.81881626,  0.68084702]])"
            ]
          },
          "metadata": {},
          "execution_count": 9
        }
      ]
    },
    {
      "cell_type": "code",
      "source": [
        "data[names != 'Olim']  # (!=) Olimdan tashqari barcha insonlarning ma'lumotlarini ajratib olish"
      ],
      "metadata": {
        "colab": {
          "base_uri": "https://localhost:8080/"
        },
        "id": "RI7-raYddiKQ",
        "outputId": "d1303ee7-4888-46c8-8576-82c5ab92a054"
      },
      "execution_count": 10,
      "outputs": [
        {
          "output_type": "execute_result",
          "data": {
            "text/plain": [
              "array([[ 2.05627375, -0.16711296,  0.97976138,  0.26260918],\n",
              "       [ 0.92395825, -1.48872305,  0.36239535, -0.77530265],\n",
              "       [-1.14777548,  0.39391151,  1.36558396, -0.69375908],\n",
              "       [-0.54213973,  1.00521258, -0.41566296,  1.20149731],\n",
              "       [ 1.08531908, -1.27601366, -1.80714153, -0.84834374],\n",
              "       [ 0.76674499,  1.04684557, -1.81881626,  0.68084702],\n",
              "       [ 0.58721578, -0.3765769 , -1.18718553, -0.33603293]])"
            ]
          },
          "metadata": {},
          "execution_count": 10
        }
      ]
    },
    {
      "cell_type": "code",
      "source": [
        "data[~(names == 'Olim')]  # (~) yuqoridagi cell bilan bir xil vazifani bajaradi"
      ],
      "metadata": {
        "colab": {
          "base_uri": "https://localhost:8080/"
        },
        "id": "W4p53KF_etVs",
        "outputId": "f29477aa-57f8-4347-b742-b966725d4be4"
      },
      "execution_count": 11,
      "outputs": [
        {
          "output_type": "execute_result",
          "data": {
            "text/plain": [
              "array([[ 2.05627375, -0.16711296,  0.97976138,  0.26260918],\n",
              "       [ 0.92395825, -1.48872305,  0.36239535, -0.77530265],\n",
              "       [-1.14777548,  0.39391151,  1.36558396, -0.69375908],\n",
              "       [-0.54213973,  1.00521258, -0.41566296,  1.20149731],\n",
              "       [ 1.08531908, -1.27601366, -1.80714153, -0.84834374],\n",
              "       [ 0.76674499,  1.04684557, -1.81881626,  0.68084702],\n",
              "       [ 0.58721578, -0.3765769 , -1.18718553, -0.33603293]])"
            ]
          },
          "metadata": {},
          "execution_count": 11
        }
      ]
    },
    {
      "cell_type": "code",
      "source": [
        "print(names)\n",
        "print(data)"
      ],
      "metadata": {
        "colab": {
          "base_uri": "https://localhost:8080/"
        },
        "id": "4Vp4Rc8BfCpk",
        "outputId": "bff1fb55-2fc7-48e0-b789-efa87f9202b2"
      },
      "execution_count": 18,
      "outputs": [
        {
          "output_type": "stream",
          "name": "stdout",
          "text": [
            "['Hasan' 'Husan' 'Salim' 'Hasan' 'Olim' 'Hasan' 'Muhammad' 'Umar']\n",
            "[[ 2.05627375 -0.16711296  0.97976138  0.26260918]\n",
            " [ 0.92395825 -1.48872305  0.36239535 -0.77530265]\n",
            " [-1.14777548  0.39391151  1.36558396 -0.69375908]\n",
            " [-0.54213973  1.00521258 -0.41566296  1.20149731]\n",
            " [ 0.71642097 -1.32323751 -0.06906236 -0.81480393]\n",
            " [ 1.08531908 -1.27601366 -1.80714153 -0.84834374]\n",
            " [ 0.76674499  1.04684557 -1.81881626  0.68084702]\n",
            " [ 0.58721578 -0.3765769  -1.18718553 -0.33603293]]\n"
          ]
        }
      ]
    },
    {
      "cell_type": "code",
      "source": [
        "mask = (names == 'Hasan') | (names == 'Husan')  # ikki ismdan biri yoki har ikkalasi\n",
        "mask"
      ],
      "metadata": {
        "colab": {
          "base_uri": "https://localhost:8080/"
        },
        "id": "D9GFcvlIfap1",
        "outputId": "041a2a84-27fe-4e43-b95b-f05d58eb617d"
      },
      "execution_count": 19,
      "outputs": [
        {
          "output_type": "execute_result",
          "data": {
            "text/plain": [
              "array([ True,  True, False,  True, False,  True, False, False])"
            ]
          },
          "metadata": {},
          "execution_count": 19
        }
      ]
    },
    {
      "cell_type": "code",
      "source": [
        "data[mask]  # Hasan va Husanlarga tegishli ma'lumotlarni ajratib olish"
      ],
      "metadata": {
        "colab": {
          "base_uri": "https://localhost:8080/"
        },
        "id": "UacbewK9iRkq",
        "outputId": "19eecfdc-88fa-4fd3-edaa-5f42879a6497"
      },
      "execution_count": 21,
      "outputs": [
        {
          "output_type": "execute_result",
          "data": {
            "text/plain": [
              "array([[ 2.05627375, -0.16711296,  0.97976138,  0.26260918],\n",
              "       [ 0.92395825, -1.48872305,  0.36239535, -0.77530265],\n",
              "       [-0.54213973,  1.00521258, -0.41566296,  1.20149731],\n",
              "       [ 1.08531908, -1.27601366, -1.80714153, -0.84834374]])"
            ]
          },
          "metadata": {},
          "execution_count": 21
        }
      ]
    },
    {
      "cell_type": "code",
      "source": [
        "data[data<0]"
      ],
      "metadata": {
        "colab": {
          "base_uri": "https://localhost:8080/"
        },
        "id": "N8j6Ehe-iUb4",
        "outputId": "4ad98688-8e20-41fc-db94-27e7c8f95358"
      },
      "execution_count": 22,
      "outputs": [
        {
          "output_type": "execute_result",
          "data": {
            "text/plain": [
              "array([-0.16711296, -1.48872305, -0.77530265, -1.14777548, -0.69375908,\n",
              "       -0.54213973, -0.41566296, -1.32323751, -0.06906236, -0.81480393,\n",
              "       -1.27601366, -1.80714153, -0.84834374, -1.81881626, -0.3765769 ,\n",
              "       -1.18718553, -0.33603293])"
            ]
          },
          "metadata": {},
          "execution_count": 22
        }
      ]
    },
    {
      "cell_type": "code",
      "source": [
        "data[data<0] = 0\n",
        "data"
      ],
      "metadata": {
        "colab": {
          "base_uri": "https://localhost:8080/"
        },
        "id": "M5U4PG4YjgL9",
        "outputId": "7bb2cdc3-e81a-4d8f-832b-7338e26981c0"
      },
      "execution_count": 24,
      "outputs": [
        {
          "output_type": "execute_result",
          "data": {
            "text/plain": [
              "array([[2.05627375, 0.        , 0.97976138, 0.26260918],\n",
              "       [0.92395825, 0.        , 0.36239535, 0.        ],\n",
              "       [0.        , 0.39391151, 1.36558396, 0.        ],\n",
              "       [0.        , 1.00521258, 0.        , 1.20149731],\n",
              "       [0.71642097, 0.        , 0.        , 0.        ],\n",
              "       [1.08531908, 0.        , 0.        , 0.        ],\n",
              "       [0.76674499, 1.04684557, 0.        , 0.68084702],\n",
              "       [0.58721578, 0.        , 0.        , 0.        ]])"
            ]
          },
          "metadata": {},
          "execution_count": 24
        }
      ]
    },
    {
      "cell_type": "code",
      "source": [],
      "metadata": {
        "id": "FDUFTCnqjkyr"
      },
      "execution_count": null,
      "outputs": []
    }
  ]
}