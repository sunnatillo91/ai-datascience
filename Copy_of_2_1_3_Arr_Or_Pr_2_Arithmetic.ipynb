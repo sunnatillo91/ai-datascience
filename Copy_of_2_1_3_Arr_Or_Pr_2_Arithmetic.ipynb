{
  "nbformat": 4,
  "nbformat_minor": 0,
  "metadata": {
    "colab": {
      "provenance": [],
      "authorship_tag": "ABX9TyOecsjwAsZbRSLRtUmP1l1R",
      "include_colab_link": true
    },
    "kernelspec": {
      "name": "python3",
      "display_name": "Python 3"
    },
    "language_info": {
      "name": "python"
    }
  },
  "cells": [
    {
      "cell_type": "markdown",
      "metadata": {
        "id": "view-in-github",
        "colab_type": "text"
      },
      "source": [
        "<a href=\"https://colab.research.google.com/github/sunnatillo91/ai-datascience/blob/main/Copy_of_2_1_3_Arr_Or_Pr_2_Arithmetic.ipynb\" target=\"_parent\"><img src=\"https://colab.research.google.com/assets/colab-badge.svg\" alt=\"Open In Colab\"/></a>"
      ]
    },
    {
      "cell_type": "markdown",
      "source": [
        "# Data Science va Sun'iy Intellekt Praktikum\n",
        "Ma'lumotlar tahlili."
      ],
      "metadata": {
        "id": "LveHC_W0TyPF"
      }
    },
    {
      "cell_type": "markdown",
      "source": [
        "\n",
        "2.1. NumPy kutubxonasi bilan ishlash\n",
        "NumPy kutubxonasini chaqirib olish"
      ],
      "metadata": {
        "id": "o82rkvmGT_CA"
      }
    },
    {
      "cell_type": "code",
      "source": [
        "import numpy as np"
      ],
      "metadata": {
        "id": "PudCDjivS4HR"
      },
      "execution_count": 2,
      "outputs": []
    },
    {
      "cell_type": "markdown",
      "source": [
        "2.1.3. Massivga yo'naltirilgan dasturlash"
      ],
      "metadata": {
        "id": "jd6a4SThTCHv"
      }
    },
    {
      "cell_type": "markdown",
      "source": [
        "Arifmetik amallar"
      ],
      "metadata": {
        "id": "u1XIWr6fTGrR"
      }
    },
    {
      "cell_type": "markdown",
      "source": [
        "# Ko'paytirish, bo'lish, qo'shish, ayirish va h.k. amallar"
      ],
      "metadata": {
        "id": "JW5jSULRTLxf"
      }
    },
    {
      "cell_type": "code",
      "source": [
        "# data\n",
        "arr1 = np.arange(6).reshape(2,3) # 0 dan 6 gacha bo'lgan elementlardan tashkil topgan array\n",
        "arr2 = np.arange(6, 12).reshape(2,3) # 6 dan 12 gacha bo'lgan elementlardan tashkil topgan array\n",
        "arr2"
      ],
      "metadata": {
        "id": "tQ0OYRHLTOPd",
        "colab": {
          "base_uri": "https://localhost:8080/"
        },
        "outputId": "d02bd17b-81e2-4c5b-cdbb-472544dc10db"
      },
      "execution_count": 3,
      "outputs": [
        {
          "output_type": "execute_result",
          "data": {
            "text/plain": [
              "array([[ 6,  7,  8],\n",
              "       [ 9, 10, 11]])"
            ]
          },
          "metadata": {},
          "execution_count": 3
        }
      ]
    },
    {
      "cell_type": "code",
      "source": [
        "# Ko'paytirish\n",
        "arr1 * arr2  # arr1 ning elementlarini arr2 ning mos elementlariga ko'paytiradi"
      ],
      "metadata": {
        "id": "vSu86P4DTieb",
        "colab": {
          "base_uri": "https://localhost:8080/"
        },
        "outputId": "cc853805-39ea-4f37-982f-a023c8b0d981"
      },
      "execution_count": 6,
      "outputs": [
        {
          "output_type": "execute_result",
          "data": {
            "text/plain": [
              "array([[ 0,  7, 16],\n",
              "       [27, 40, 55]])"
            ]
          },
          "metadata": {},
          "execution_count": 6
        }
      ]
    },
    {
      "cell_type": "code",
      "source": [
        "# bo'lish\n",
        "arr1 / arr2  # arr1 ning elementlarini arr2 ning mos elementlariga bo'ladi"
      ],
      "metadata": {
        "colab": {
          "base_uri": "https://localhost:8080/"
        },
        "id": "W_PKE-F7T4j7",
        "outputId": "67e57ea2-e2c7-4cc9-8952-3055a135fc46"
      },
      "execution_count": 7,
      "outputs": [
        {
          "output_type": "execute_result",
          "data": {
            "text/plain": [
              "array([[0.        , 0.14285714, 0.25      ],\n",
              "       [0.33333333, 0.4       , 0.45454545]])"
            ]
          },
          "metadata": {},
          "execution_count": 7
        }
      ]
    },
    {
      "cell_type": "code",
      "source": [
        "arr1 + arr2  # arr1 ning elementlarini arr2 ning mos elementlariga qo'shadi"
      ],
      "metadata": {
        "colab": {
          "base_uri": "https://localhost:8080/"
        },
        "id": "6nKniCpeU8tG",
        "outputId": "4fa31e14-c134-4481-8291-a3ae1fd42040"
      },
      "execution_count": 8,
      "outputs": [
        {
          "output_type": "execute_result",
          "data": {
            "text/plain": [
              "array([[ 6,  8, 10],\n",
              "       [12, 14, 16]])"
            ]
          },
          "metadata": {},
          "execution_count": 8
        }
      ]
    },
    {
      "cell_type": "code",
      "source": [
        "# ayirish\n",
        "arr1 - arr2  # arr1 ning elementlarini arr2 ning mos elementlarini ayirish"
      ],
      "metadata": {
        "colab": {
          "base_uri": "https://localhost:8080/"
        },
        "id": "co3xcy0HVl1Q",
        "outputId": "fa777f42-c9cf-42e3-f13e-8bb718268e06"
      },
      "execution_count": 9,
      "outputs": [
        {
          "output_type": "execute_result",
          "data": {
            "text/plain": [
              "array([[-6, -6, -6],\n",
              "       [-6, -6, -6]])"
            ]
          },
          "metadata": {},
          "execution_count": 9
        }
      ]
    },
    {
      "cell_type": "code",
      "source": [
        "# kvadratga oshirish (square)\n",
        "arr1**2"
      ],
      "metadata": {
        "id": "UCQXWST2WHG8",
        "colab": {
          "base_uri": "https://localhost:8080/"
        },
        "outputId": "4f2b157c-84b9-4dcb-ccec-b8cac2fe530b"
      },
      "execution_count": 10,
      "outputs": [
        {
          "output_type": "execute_result",
          "data": {
            "text/plain": [
              "array([[ 0,  1,  4],\n",
              "       [ 9, 16, 25]])"
            ]
          },
          "metadata": {},
          "execution_count": 10
        }
      ]
    },
    {
      "cell_type": "code",
      "source": [
        "# kvadrat ildiz (sqrt)\n",
        "arr2**0.5"
      ],
      "metadata": {
        "colab": {
          "base_uri": "https://localhost:8080/"
        },
        "id": "2-mQHz3UccMG",
        "outputId": "2549b38c-a72a-4abd-de69-e2800bbe3d52"
      },
      "execution_count": 11,
      "outputs": [
        {
          "output_type": "execute_result",
          "data": {
            "text/plain": [
              "array([[2.44948974, 2.64575131, 2.82842712],\n",
              "       [3.        , 3.16227766, 3.31662479]])"
            ]
          },
          "metadata": {},
          "execution_count": 11
        }
      ]
    },
    {
      "cell_type": "code",
      "source": [],
      "metadata": {
        "id": "cJF5PifFckz4"
      },
      "execution_count": null,
      "outputs": []
    }
  ]
}